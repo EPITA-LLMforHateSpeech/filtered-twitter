{
 "cells": [
  {
   "cell_type": "code",
   "execution_count": 4,
   "metadata": {},
   "outputs": [],
   "source": [
    "import requests\n",
    "import time\n",
    "import pandas as pd\n",
    "import datetime\n",
    "from datetime import datetime, timezone\n"
   ]
  },
  {
   "cell_type": "code",
   "execution_count": 5,
   "metadata": {},
   "outputs": [],
   "source": [
    "base_url = \"http://localhost:8000\" "
   ]
  },
  {
   "cell_type": "markdown",
   "metadata": {},
   "source": []
  },
  {
   "cell_type": "code",
   "execution_count": 3,
   "metadata": {},
   "outputs": [],
   "source": [
    "def post_tweet_for_prediction(tweet, user):\n",
    "    response = requests.post(f'{base_url}/predict', json={\"text\": tweet, \"user\": user})\n",
    "    return response.json()"
   ]
  },
  {
   "cell_type": "markdown",
   "metadata": {},
   "source": [
    "## user posting tweet"
   ]
  },
  {
   "cell_type": "code",
   "execution_count": 4,
   "metadata": {},
   "outputs": [],
   "source": [
    "def store_posted_tweet(tweet_id, retweet_id, user_id, text, likes, retweets, safety_status, created_at):\n",
    "    data = {\n",
    "        \"tweet_id\": tweet_id,\n",
    "        \"retweet_id\": retweet_id,\n",
    "        \"user_id\": user_id,\n",
    "        \"text\": text,\n",
    "        \"likes\": likes,\n",
    "        \"retweets\": retweets,\n",
    "        \"safety_status\": safety_status,\n",
    "        \"created_at\": created_at\n",
    "    }\n",
    "    response = requests.post(f'{base_url}/store_tweet', json=data)\n",
    "    return response.json()"
   ]
  },
  {
   "cell_type": "code",
   "execution_count": 180,
   "metadata": {},
   "outputs": [],
   "source": [
    "def simulate_user_submission():\n",
    "    tweets = [\n",
    "        # {\"text\": \"This is a tweet for testing purposes.\", \"user\": \"user6\"},\n",
    "        {\"text\": \"nd hate is all i know\", \"user\": \"user6\"},\n",
    "        # {\"text\": \"And yet another example of a tweet.\", \"user\": \"user3\"}\n",
    "    ]\n",
    "\n",
    "    for tweet in tweets:\n",
    "        prediction = post_tweet_for_prediction(tweet[\"text\"], tweet[\"user\"])\n",
    "        print(\"Prediction Result:\", prediction)\n",
    "        \n",
    "        if prediction[\"logreg_result\"] != 1:\n",
    "            created_at = datetime.now(timezone.utc).isoformat()  # Convert datetime to ISO format string\n",
    "\n",
    "            store_response = store_posted_tweet(\n",
    "                tweet_id=prediction[\"tweet_id\"],\n",
    "                retweet_id=None,\n",
    "                user_id=tweet[\"user\"],\n",
    "                text=prediction[\"tweet\"],\n",
    "                likes=prediction[\"likes\"],\n",
    "                retweets=prediction[\"retweets\"],\n",
    "                safety_status=None,  # Initial safety status is None\n",
    "                created_at=created_at\n",
    "            )\n",
    "            print(\"Store Tweet Response:\", store_response)"
   ]
  },
  {
   "cell_type": "code",
   "execution_count": 181,
   "metadata": {},
   "outputs": [
    {
     "name": "stdout",
     "output_type": "stream",
     "text": [
      "Prediction Result: {'tweet_id': 'a1bca3865279588a1b3632d0d7def22b552b91274310e6a16ed4ec60352f81f3', 'tweet': 'nd hate is all i know', 'user': 'user6', 'likes': 0, 'retweets': 0, 'logreg_prob': 0.16710891406820716, 'logreg_result': 0, 'cnn_prob': None, 'cnn_result': None, 'created_at': '2024-07-25T18:51:29.418932'}\n",
      "Store Tweet Response: {'retweet_id': None, 'text': 'nd hate is all i know', 'tweet_id': 'a1bca3865279588a1b3632d0d7def22b552b91274310e6a16ed4ec60352f81f3', 'retweets': 0, 'created_at': '2024-07-25T18:51:29.418932', 'user_id': 'user6', 'id': 18, 'likes': 0, 'safety_status': None}\n"
     ]
    }
   ],
   "source": [
    "simulate_user_submission()"
   ]
  },
  {
   "cell_type": "code",
   "execution_count": 182,
   "metadata": {},
   "outputs": [],
   "source": [
    "# time.sleep(40)  # Wait to ensure the scheduler runs at least once"
   ]
  },
  {
   "cell_type": "markdown",
   "metadata": {},
   "source": [
    "## admin viewing tweets"
   ]
  },
  {
   "cell_type": "code",
   "execution_count": 2,
   "metadata": {},
   "outputs": [],
   "source": [
    "# Function to fetch all tweets\n",
    "def fetch_all_tweets():\n",
    "    response = requests.get(f'{base_url}/fetch_tweets')\n",
    "    return response.json()"
   ]
  },
  {
   "cell_type": "code",
   "execution_count": 6,
   "metadata": {},
   "outputs": [],
   "source": [
    "# Fetch and display tweets after batch prediction\n",
    "tweets_for_admin_view = fetch_all_tweets()"
   ]
  },
  {
   "cell_type": "markdown",
   "metadata": {},
   "source": [
    "before scheduled prediction:"
   ]
  },
  {
   "cell_type": "code",
   "execution_count": 185,
   "metadata": {},
   "outputs": [
    {
     "name": "stdout",
     "output_type": "stream",
     "text": [
      "{'tweet_id': '0a16bf59c8b68a488c9d3a950f84fb807c9d18fad89d22ba5d1c76e36f482a3e', 'retweet_id': None, 'tweet': 'i wish fucking towel heads never came to our country in the first place', 'user': 'user5', 'likes': 0, 'retweets': 0, 'logreg_prob': 0.9446891508111326, 'logreg_result': 1, 'cnn_prob': 0.9569458961486816, 'cnn_result': 1, 'admin_result': None, 'created_at': '2024-07-25T18:35:30.508421'}\n",
      "{'tweet_id': '78657f33cbaf967ccd9c2ac01a246815eb2b03df9c5bccfdf31aded91415e23c', 'retweet_id': None, 'tweet': 'i look forward to the happy things chat and just to lead up to it here is a smiling crater you need to look at the large image to see it', 'user': 'user3', 'likes': 0, 'retweets': 0, 'logreg_prob': 0.030545622771433276, 'logreg_result': 0, 'cnn_prob': 0.04232430085539818, 'cnn_result': 0, 'admin_result': None, 'created_at': '2024-07-25T18:35:41.609806'}\n",
      "{'tweet_id': '6e693849939bd86cfabdef78104d7dd2987e0b2576ee27415667ea84d91a38c9', 'retweet_id': None, 'tweet': 'andreas i am not ignoring lord room s advice i am taking their advice and i will complete a straw poll and rfc at each page in question before i return for formal mediation should that still be required talk cont ribs', 'user': 'user4', 'likes': 0, 'retweets': 0, 'logreg_prob': 0.11448798378638912, 'logreg_result': 0, 'cnn_prob': 0.03085370920598507, 'cnn_result': 0, 'admin_result': None, 'created_at': '2024-07-25T18:35:54.833613'}\n",
      "{'tweet_id': '1d24839bd40c2c6e13b9f6b4aa3894139f4ba96ba6fc0d87534ed5669af067ed', 'retweet_id': None, 'tweet': 'shows what sub human group these negroid belong the poor horse got an infection from the dirty pervert', 'user': 'user6', 'likes': 0, 'retweets': 0, 'logreg_prob': 0.9407527618859165, 'logreg_result': 1, 'cnn_prob': 0.9983187913894653, 'cnn_result': 1, 'admin_result': None, 'created_at': '2024-07-25T18:35:59.011328'}\n",
      "{'tweet_id': '475945650e2f223f5c094acaf5b063df4c6418d1ec45b72fbbde73517d8ea52e', 'retweet_id': None, 'tweet': 'do the image captions need to repeat text from the article at length', 'user': 'user2', 'likes': 0, 'retweets': 0, 'logreg_prob': 0.05289384321799358, 'logreg_result': 0, 'cnn_prob': 0.0007323579047806561, 'cnn_result': 0, 'admin_result': None, 'created_at': '2024-07-25T18:36:07.126483'}\n",
      "{'tweet_id': 'b006e7c52e3014990b8885234a5bd4f6d5ef5e2e3932d3caba605ea4a0c616f1', 'retweet_id': None, 'tweet': 'and selim might deck the i m bud peter for real face', 'user': 'user6', 'likes': 0, 'retweets': 0, 'logreg_prob': 0.6948589464512558, 'logreg_result': 1, 'cnn_prob': 0.49121206998825073, 'cnn_result': 0, 'admin_result': None, 'created_at': '2024-07-25T18:36:11.303476'}\n",
      "{'tweet_id': '297d479fa37fcb68c02e9e735a062596d40445d4fd698dad609deb1fdeef1689', 'retweet_id': None, 'tweet': 'another dumb article the stretching that this writer does to find positives in the loss of kane is silly', 'user': 'user1', 'likes': 0, 'retweets': 0, 'logreg_prob': 0.13287541250109616, 'logreg_result': 0, 'cnn_prob': 0.5128836035728455, 'cnn_result': 1, 'admin_result': None, 'created_at': '2024-07-25T18:36:22.418662'}\n",
      "{'tweet_id': '6717843c1d23132eb16b960a4be56b500f7cd97569b4c809d9825dea3d72c490', 'retweet_id': None, 'tweet': 'and selim might deck the i m bud peter for real face', 'user': 'user1', 'likes': 0, 'retweets': 0, 'logreg_prob': 0.6948589464512558, 'logreg_result': 1, 'cnn_prob': 0.49121206998825073, 'cnn_result': 0, 'admin_result': None, 'created_at': '2024-07-25T18:36:26.612320'}\n",
      "{'tweet_id': '32a21b48c54287e9b9d945b8f3a72ec0cce6c810bff51ab9d501859d001bccc0', 'retweet_id': None, 'tweet': 'do the image captions need to repeat text from the article at length', 'user': 'user4', 'likes': 0, 'retweets': 0, 'logreg_prob': 0.05289384321799358, 'logreg_result': 0, 'cnn_prob': 0.0007323579047806561, 'cnn_result': 0, 'admin_result': None, 'created_at': '2024-07-25T18:36:35.708992'}\n",
      "{'tweet_id': '6545f2c307132f06c3be84dda3a7581e13eb182cbdd8541ea5a34b3cf703ad43', 'retweet_id': None, 'tweet': 'camcorders hooded navy rss hooded navy', 'user': 'user2', 'likes': 0, 'retweets': 0, 'logreg_prob': 0.13418922097773983, 'logreg_result': 0, 'cnn_prob': 0.018673336133360863, 'cnn_result': 0, 'admin_result': None, 'created_at': '2024-07-25T18:36:44.886777'}\n",
      "{'tweet_id': '3941513331c118f1da2b3eb239ed97c2b7b82058241d691038fde0fc1a21edcd', 'retweet_id': None, 'tweet': 'not sure that i would describe monitor group as a boutique the firm has about consultants and a global presence it is also the leader in areas such as innovation pricing and scenario thinking no need to start an edit war though so i will leave this and see if the person who made the edit has further context for the decision utc', 'user': 'user5', 'likes': 0, 'retweets': 0, 'logreg_prob': 0.02641111970803896, 'logreg_result': 0, 'cnn_prob': 0.00010483197547728196, 'cnn_result': 0, 'admin_result': None, 'created_at': '2024-07-25T18:36:56.975792'}\n",
      "{'tweet_id': 'f94de7ff8c0b4e68c91f4833c683d52725de548d53a36b5a707962ab5543ce1a', 'retweet_id': None, 'tweet': 'oh stop saying sass now or i sure will put my foot up up against your ass mr', 'user': 'user7', 'likes': 0, 'retweets': 0, 'logreg_prob': 0.7345871783617007, 'logreg_result': 1, 'cnn_prob': 0.7166420221328735, 'cnn_result': 1, 'admin_result': None, 'created_at': '2024-07-25T18:37:01.179011'}\n",
      "{'tweet_id': 'b904043d80d71b46ea6cd84e3befcf1e8122d9c4661a0e6c39ee829df82dedcb', 'retweet_id': None, 'tweet': 'giving the populace voting rights what a slut a mistake if you want to vote you need to go to the army', 'user': 'user3', 'likes': 0, 'retweets': 0, 'logreg_prob': 0.32973023018130354, 'logreg_result': 0, 'cnn_prob': 0.8971148133277893, 'cnn_result': 1, 'admin_result': None, 'created_at': '2024-07-25T18:37:03.275355'}\n",
      "{'tweet_id': 'f9b45dcb851c77c70745968a634930079d41d44063fbda428c01c12aa4640cd4', 'retweet_id': None, 'tweet': 'camcorders hooded navy rss hooded navy', 'user': 'user4', 'likes': 0, 'retweets': 0, 'logreg_prob': 0.13418922097773983, 'logreg_result': 0, 'cnn_prob': 0.018673336133360863, 'cnn_result': 0, 'admin_result': None, 'created_at': '2024-07-25T18:37:17.424486'}\n",
      "{'tweet_id': '1e11ff66d200536a944dbdc182b2ba4d94052b1e759a272380b7fbd2ed430b5d', 'retweet_id': None, 'tweet': 'do the image captions need to repeat text from the article at length', 'user': 'user1', 'likes': 0, 'retweets': 0, 'logreg_prob': 0.05289384321799358, 'logreg_result': 0, 'cnn_prob': 0.0007323579047806561, 'cnn_result': 0, 'admin_result': None, 'created_at': '2024-07-25T18:37:26.619119'}\n",
      "{'tweet_id': '1d60d258bc2866f5f648a62fb01f11e36f94c937faee92d31903b5d182762a44', 'retweet_id': None, 'tweet': 'there is no it means cool a k a that can describe how amazing you are ahaah she cannot get up happy face or smiley shah aa could not stop laughing the funniest part', 'user': 'user7', 'likes': 0, 'retweets': 0, 'logreg_prob': 0.02116351298165251, 'logreg_result': 0, 'cnn_prob': 0.003203153144568205, 'cnn_result': 0, 'admin_result': None, 'created_at': '2024-07-25T18:37:30.760757'}\n",
      "{'tweet_id': 'e5375c784e5e63c93bce0d2b60d881f5339c99620a2b2cc62903dfd181c4ef68', 'retweet_id': None, 'tweet': 'giving the populace voting rights what a slut a mistake if you want to vote you need to go to the army', 'user': 'user5', 'likes': 0, 'retweets': 0, 'logreg_prob': 0.32973023018130354, 'logreg_result': 0, 'cnn_prob': 0.8971148133277893, 'cnn_result': 1, 'admin_result': None, 'created_at': '2024-07-25T18:37:34.877977'}\n",
      "{'tweet_id': '434e69b2259f9df78b51df2a1d596c09d14061f779d348466ce3e3b058c90814', 'retweet_id': None, 'tweet': 'a series of vandalism were committed by on the the vandalism has been removed and the user warned', 'user': 'user6', 'likes': 0, 'retweets': 0, 'logreg_prob': 0.07587913410820879, 'logreg_result': 0, 'cnn_prob': 0.044218938797712326, 'cnn_result': 0, 'admin_result': 1, 'created_at': '2024-07-25T18:37:44.047419'}\n",
      "{'tweet_id': '36cfc5a5225ebc77aed8587800a2edfd252501165541072406e772582fa17fef', 'retweet_id': None, 'tweet': 'no question has been dodged as none have been posed in any coherent manner this dogged insistence on rules again borders on obsession wikipedia is about contributions that make sense not blind obedience to self imposed rules besides your interpretation of these rules is just that a misguided interpretation i fail to see what you are trying to accomplish aside from antagonizing other editors who make sensible and in my view highly valuable contributions', 'user': 'user8', 'likes': 0, 'retweets': 0, 'logreg_prob': 0.11399322029309268, 'logreg_result': 0, 'cnn_prob': 0.037974677979946136, 'cnn_result': 0, 'admin_result': None, 'created_at': '2024-07-25T18:37:48.256025'}\n",
      "{'tweet_id': 'dba7c85ce85ec5d7d475fccd230f04651a98dc37f8e3304940809cf51ed0216d', 'retweet_id': None, 'tweet': 'oh stop saying sass now or i sure will put my foot up up against your ass mr', 'user': 'user8', 'likes': 0, 'retweets': 0, 'logreg_prob': 0.7345871783617007, 'logreg_result': 1, 'cnn_prob': 0.7166420221328735, 'cnn_result': 1, 'admin_result': None, 'created_at': '2024-07-25T18:37:52.444872'}\n",
      "{'tweet_id': '2b9457d6353788d5d5d1370ac9041e79828ad7cc50caed79369e729ce9adcd59', 'retweet_id': None, 'tweet': 'This is a tweet for testing purposes.', 'user': 'user6', 'likes': 0, 'retweets': 0, 'logreg_prob': 0.021879380093575707, 'logreg_result': 0, 'cnn_prob': 0.0004499437927734107, 'cnn_result': 0, 'admin_result': None, 'created_at': '2024-07-25T18:49:54.627947'}\n",
      "{'tweet_id': 'c348ab92f185cd94ef80ce40a0be0cd68d6c6e5070d499752c65ae1fe9c355ea', 'retweet_id': None, 'tweet': 'nd hate is all i know', 'user': 'user4', 'likes': 0, 'retweets': 0, 'logreg_prob': 0.16710891406820716, 'logreg_result': 0, 'cnn_prob': 0.9567621946334839, 'cnn_result': 1, 'admin_result': None, 'created_at': '2024-07-25T18:49:58.815263'}\n",
      "{'tweet_id': '303ac859a4bd7445b45226e73532f199767c94d0be6aecf94e1cf6fba2913b6c', 'retweet_id': None, 'tweet': 'And yet another example of a tweet.', 'user': 'user3', 'likes': 0, 'retweets': 0, 'logreg_prob': 0.3697290352109969, 'logreg_result': 0, 'cnn_prob': 0.16497167944908142, 'cnn_result': 0, 'admin_result': None, 'created_at': '2024-07-25T18:50:02.968715'}\n",
      "{'tweet_id': 'a1bca3865279588a1b3632d0d7def22b552b91274310e6a16ed4ec60352f81f3', 'retweet_id': None, 'tweet': 'nd hate is all i know', 'user': 'user6', 'likes': 0, 'retweets': 0, 'logreg_prob': 0.16710891406820716, 'logreg_result': 0, 'cnn_prob': 0.9567622542381287, 'cnn_result': 1, 'admin_result': None, 'created_at': '2024-07-25T18:51:29.418932'}\n"
     ]
    }
   ],
   "source": [
    "for i in range(len(tweets_for_admin_view)):\n",
    "    print(tweets_for_admin_view[i])"
   ]
  },
  {
   "cell_type": "markdown",
   "metadata": {},
   "source": [
    "after scheduled prediction:"
   ]
  },
  {
   "cell_type": "code",
   "execution_count": null,
   "metadata": {},
   "outputs": [],
   "source": [
    "# Fetch and display tweets after batch prediction\n",
    "tweets_for_admin_view_after = fetch_all_tweets()"
   ]
  },
  {
   "cell_type": "code",
   "execution_count": 157,
   "metadata": {},
   "outputs": [
    {
     "name": "stdout",
     "output_type": "stream",
     "text": [
      "{'tweet_id': '0a16bf59c8b68a488c9d3a950f84fb807c9d18fad89d22ba5d1c76e36f482a3e', 'retweet_id': None, 'tweet': 'i wish fucking towel heads never came to our country in the first place', 'user': 'user5', 'likes': 0, 'retweets': 0, 'logreg_prob': 0.9446891508111326, 'logreg_result': 1, 'cnn_prob': 0.9569458961486816, 'cnn_result': 1, 'admin_result': None, 'created_at': '2024-07-25T18:35:30.508421'}\n",
      "{'tweet_id': '78657f33cbaf967ccd9c2ac01a246815eb2b03df9c5bccfdf31aded91415e23c', 'retweet_id': None, 'tweet': 'i look forward to the happy things chat and just to lead up to it here is a smiling crater you need to look at the large image to see it', 'user': 'user3', 'likes': 0, 'retweets': 0, 'logreg_prob': 0.030545622771433276, 'logreg_result': 0, 'cnn_prob': 0.04232430085539818, 'cnn_result': 0, 'admin_result': None, 'created_at': '2024-07-25T18:35:41.609806'}\n",
      "{'tweet_id': '6e693849939bd86cfabdef78104d7dd2987e0b2576ee27415667ea84d91a38c9', 'retweet_id': None, 'tweet': 'andreas i am not ignoring lord room s advice i am taking their advice and i will complete a straw poll and rfc at each page in question before i return for formal mediation should that still be required talk cont ribs', 'user': 'user4', 'likes': 0, 'retweets': 0, 'logreg_prob': 0.11448798378638912, 'logreg_result': 0, 'cnn_prob': 0.03085370920598507, 'cnn_result': 0, 'admin_result': None, 'created_at': '2024-07-25T18:35:54.833613'}\n",
      "{'tweet_id': '1d24839bd40c2c6e13b9f6b4aa3894139f4ba96ba6fc0d87534ed5669af067ed', 'retweet_id': None, 'tweet': 'shows what sub human group these negroid belong the poor horse got an infection from the dirty pervert', 'user': 'user6', 'likes': 0, 'retweets': 0, 'logreg_prob': 0.9407527618859165, 'logreg_result': 1, 'cnn_prob': 0.9983187913894653, 'cnn_result': 1, 'admin_result': None, 'created_at': '2024-07-25T18:35:59.011328'}\n",
      "{'tweet_id': '475945650e2f223f5c094acaf5b063df4c6418d1ec45b72fbbde73517d8ea52e', 'retweet_id': None, 'tweet': 'do the image captions need to repeat text from the article at length', 'user': 'user2', 'likes': 0, 'retweets': 0, 'logreg_prob': 0.05289384321799358, 'logreg_result': 0, 'cnn_prob': 0.0007323579047806561, 'cnn_result': 0, 'admin_result': None, 'created_at': '2024-07-25T18:36:07.126483'}\n",
      "{'tweet_id': 'b006e7c52e3014990b8885234a5bd4f6d5ef5e2e3932d3caba605ea4a0c616f1', 'retweet_id': None, 'tweet': 'and selim might deck the i m bud peter for real face', 'user': 'user6', 'likes': 0, 'retweets': 0, 'logreg_prob': 0.6948589464512558, 'logreg_result': 1, 'cnn_prob': 0.49121206998825073, 'cnn_result': 0, 'admin_result': None, 'created_at': '2024-07-25T18:36:11.303476'}\n",
      "{'tweet_id': '297d479fa37fcb68c02e9e735a062596d40445d4fd698dad609deb1fdeef1689', 'retweet_id': None, 'tweet': 'another dumb article the stretching that this writer does to find positives in the loss of kane is silly', 'user': 'user1', 'likes': 0, 'retweets': 0, 'logreg_prob': 0.13287541250109616, 'logreg_result': 0, 'cnn_prob': 0.5128836035728455, 'cnn_result': 1, 'admin_result': None, 'created_at': '2024-07-25T18:36:22.418662'}\n",
      "{'tweet_id': '6717843c1d23132eb16b960a4be56b500f7cd97569b4c809d9825dea3d72c490', 'retweet_id': None, 'tweet': 'and selim might deck the i m bud peter for real face', 'user': 'user1', 'likes': 0, 'retweets': 0, 'logreg_prob': 0.6948589464512558, 'logreg_result': 1, 'cnn_prob': None, 'cnn_result': None, 'admin_result': None, 'created_at': '2024-07-25T18:36:26.612320'}\n",
      "{'tweet_id': '32a21b48c54287e9b9d945b8f3a72ec0cce6c810bff51ab9d501859d001bccc0', 'retweet_id': None, 'tweet': 'do the image captions need to repeat text from the article at length', 'user': 'user4', 'likes': 0, 'retweets': 0, 'logreg_prob': 0.05289384321799358, 'logreg_result': 0, 'cnn_prob': None, 'cnn_result': None, 'admin_result': None, 'created_at': '2024-07-25T18:36:35.708992'}\n"
     ]
    }
   ],
   "source": [
    "for i in range(len(tweets_for_admin_view_after)):\n",
    "    print(tweets_for_admin_view_after[i])"
   ]
  },
  {
   "cell_type": "code",
   "execution_count": 156,
   "metadata": {},
   "outputs": [
    {
     "name": "stdout",
     "output_type": "stream",
     "text": [
      "9\n"
     ]
    }
   ],
   "source": [
    "print(len(tweets_for_admin_view_after))"
   ]
  },
  {
   "cell_type": "code",
   "execution_count": 54,
   "metadata": {},
   "outputs": [
    {
     "name": "stdout",
     "output_type": "stream",
     "text": [
      "Discrepancy found for tweet_id bec72faf:\n",
      "  Logistic Regression Result: 1\n",
      "  CNN Result: 0\n",
      "  Tweet: molag bad and his cedric puppets are dead\n",
      "\n"
     ]
    }
   ],
   "source": [
    "# Print tweets where logreg_result does not match cnn_result\n",
    "for tweet in tweets_for_admin_view_after:\n",
    "    if tweet['logreg_result'] != tweet['cnn_result']:\n",
    "        print(f\"Discrepancy found for tweet_id {tweet['tweet_id']}:\")\n",
    "        print(f\"  Logistic Regression Result: {tweet['logreg_result']}\")\n",
    "        print(f\"  CNN Result: {tweet['cnn_result']}\")\n",
    "        print(f\"  Tweet: {tweet['tweet']}\\n\")"
   ]
  },
  {
   "cell_type": "markdown",
   "metadata": {},
   "source": [
    "## user reporting tweets"
   ]
  },
  {
   "cell_type": "code",
   "execution_count": 165,
   "metadata": {},
   "outputs": [],
   "source": [
    "import requests\n",
    "\n",
    "# Example tweet ID to report and the safety status (e.g., 1 for hate speech)\n",
    "report_data = {\n",
    "    \"tweet_id\": \"b006e7c52e3014990b8885234a5bd4f6d5ef5e2e3932d3caba605ea4a0c616f1\",\n",
    "    'user_id': \"user1\",\n",
    "    \"safety_status\": 1,  \n",
    "    \"reported_at\": datetime.now(timezone.utc).isoformat()\n",
    "}\n",
    "\n",
    "# Function to report a tweet\n",
    "def report_tweet(report_data):\n",
    "    url = f\"{base_url}/report_tweet\"\n",
    "    response = requests.post(url, json=report_data)\n",
    "    \n",
    "    if response.status_code == 200:\n",
    "        print(\"Report submitted successfully.\")\n",
    "    else:\n",
    "        print(f\"Failed to submit report: {response.status_code}\")\n",
    "        print(f\"Response: {response.json()}\")\n",
    "\n",
    "\n"
   ]
  },
  {
   "cell_type": "code",
   "execution_count": 166,
   "metadata": {},
   "outputs": [
    {
     "name": "stdout",
     "output_type": "stream",
     "text": [
      "Failed to submit report: 404\n",
      "Response: {'detail': 'Tweet not found'}\n"
     ]
    }
   ],
   "source": [
    "# Run the simulation \n",
    "report_tweet(report_data)"
   ]
  },
  {
   "cell_type": "markdown",
   "metadata": {},
   "source": [
    "## admin view reported tweets"
   ]
  },
  {
   "cell_type": "code",
   "execution_count": 167,
   "metadata": {},
   "outputs": [],
   "source": [
    "# Function to fetch all reported tweets\n",
    "def fetch_reported_tweets():\n",
    "    url = f'{base_url}/reported_tweets'\n",
    "    response = requests.get(url)\n",
    "    return response.json()\n",
    "\n",
    "# Fetch all reported tweets\n",
    "reported_tweets = fetch_reported_tweets()"
   ]
  },
  {
   "cell_type": "code",
   "execution_count": 168,
   "metadata": {},
   "outputs": [
    {
     "name": "stdout",
     "output_type": "stream",
     "text": [
      "{'tweet_id': '78657f33cbaf967ccd9c2ac01a246815eb2b03df9c5bccfdf31aded91415e23c', 'user_id': 'user3', 'id': 1, 'reported_at': '2024-07-25T18:37:46.353992'}\n",
      "{'tweet_id': '0a16bf59c8b68a488c9d3a950f84fb807c9d18fad89d22ba5d1c76e36f482a3e', 'user_id': 'user1', 'id': 2, 'reported_at': '2024-07-25T18:38:10.024230'}\n",
      "{'tweet_id': 'b006e7c52e3014990b8885234a5bd4f6d5ef5e2e3932d3caba605ea4a0c616f1', 'user_id': 'user1', 'id': 3, 'reported_at': '2024-07-25T18:38:27.547587'}\n"
     ]
    }
   ],
   "source": [
    "for i in range(len(reported_tweets)):\n",
    "    print(reported_tweets[i])"
   ]
  },
  {
   "cell_type": "markdown",
   "metadata": {},
   "source": [
    "## admin mark tweets unsafe"
   ]
  },
  {
   "cell_type": "code",
   "execution_count": 172,
   "metadata": {},
   "outputs": [],
   "source": [
    "# Example data to mark a tweet as unsafe\n",
    "update_data = {\n",
    "    \"tweet_id\": \"b006e7c52e3014990b8885234a5bd4f6d5ef5e2e3932d3caba605ea4a0c616f1\",\n",
    "    \"new_safety_status\": 1,  # Assume 1 indicates hate speech\n",
    "    \"change_source\": \"admin\",  # Indicates the change is made by an admin\n",
    "    \"changed_at\": datetime.now(timezone.utc).isoformat()\n",
    "}"
   ]
  },
  {
   "cell_type": "code",
   "execution_count": 173,
   "metadata": {},
   "outputs": [],
   "source": [
    "# Function to update the safety status of a tweet\n",
    "def update_safety_status(data):\n",
    "    url = f\"{base_url}/update_safety_status\"\n",
    "    response = requests.post(url, json=data)\n",
    "    \n",
    "    if response.status_code == 200:\n",
    "        print(\"Safety status updated successfully.\")\n",
    "    else:\n",
    "        print(f\"Failed to update safety status: {response.status_code}\")\n",
    "        print(f\"Response: {response.json()}\")\n"
   ]
  },
  {
   "cell_type": "code",
   "execution_count": 174,
   "metadata": {},
   "outputs": [
    {
     "name": "stdout",
     "output_type": "stream",
     "text": [
      "Safety status updated successfully.\n"
     ]
    }
   ],
   "source": [
    "# Simulate admin marking a tweet as unsafe\n",
    "update_safety_status(update_data)"
   ]
  },
  {
   "cell_type": "markdown",
   "metadata": {},
   "source": [
    "## user display posted tweets"
   ]
  },
  {
   "cell_type": "code",
   "execution_count": 101,
   "metadata": {},
   "outputs": [],
   "source": [
    "# Function to fetch all stored tweets for user view\n",
    "def fetch_user_view_tweets():\n",
    "    url = f\"{base_url}/display_tweets\"\n",
    "    response = requests.get(url)\n",
    "    \n",
    "    if response.status_code == 200:\n",
    "        return response.json()\n",
    "    else:\n",
    "        print(f\"Failed to fetch tweets: {response.status_code}\")\n",
    "        print(f\"Response: {response.json()}\")\n",
    "        return None"
   ]
  },
  {
   "cell_type": "code",
   "execution_count": 102,
   "metadata": {},
   "outputs": [],
   "source": [
    "# Fetch and display all user view tweets\n",
    "user_view_tweets = fetch_user_view_tweets()"
   ]
  },
  {
   "cell_type": "code",
   "execution_count": 103,
   "metadata": {},
   "outputs": [
    {
     "name": "stdout",
     "output_type": "stream",
     "text": [
      "[{'id': 1, 'user_id': 'user3', 'likes': 0, 'safety_status': 1, 'text': 'the money', 'tweet_id': '7ab4179f', 'retweet_id': None, 'retweets': 0, 'created_at': '2024-07-25T08:50:43.998954'}, {'id': 2, 'user_id': 'user3', 'likes': 0, 'safety_status': 1, 'text': 'the main movement is...', 'tweet_id': '81de6805', 'retweet_id': None, 'retweets': 0, 'created_at': '2024-07-25T08:52:48.634960'}, {'id': 3, 'user_id': 'user7', 'likes': 0, 'safety_status': None, 'text': 'renewed revert wars hey byway welcome back but when i said to return after waiting out your block i did not mean for you to return and re start the revert warring exactly where you left it let me make it clear that this will still be seen as disruption and i very strongly advise you not to even approach by wide margin this time admins can block for disruption in repeat cases even without being touched technically', 'tweet_id': '2e0e1ca6', 'retweet_id': None, 'retweets': 0, 'created_at': '2024-07-25T08:53:15.898956'}, {'id': 4, 'user_id': 'user4', 'likes': 0, 'safety_status': None, 'text': 'mate it is in newcastle it what a slut down bath it is fucking bras sic cold', 'tweet_id': '267f9a8f', 'retweet_id': None, 'retweets': 0, 'created_at': '2024-07-25T08:53:59.079262'}, {'id': 5, 'user_id': 'user5', 'likes': 0, 'safety_status': None, 'text': 'possible error there be an error in this article regarding participation in the match according to the national resident matching program s website it appears that international medical students can participate in the match prior to receiving their cmg certification and hence prior to graduating from medical school so long as they have completed usmle steps', 'tweet_id': '833f05ee', 'retweet_id': None, 'retweets': 0, 'created_at': '2024-07-25T08:54:03.193872'}, {'id': 6, 'user_id': 'user6', 'likes': 0, 'safety_status': None, 'text': 'i butter is butter the references given see discussion on this above on this are improperly given what is given appears to be little more than a google screen scrape i managed to find both references and they do not support this usage the use in these publications is not to define but to indicate the broad category peanut butter if placed in the category of a nut butter is also in the category if butter substitute but it is not a type of margarine which is what this product is possibly it might be helpful to say that the product is commonly used to substitute butter but it does not help in the basic definition', 'tweet_id': '8c120ba0', 'retweet_id': None, 'retweets': 0, 'created_at': '2024-07-25T08:54:48.469604'}, {'id': 7, 'user_id': 'user4', 'likes': 0, 'safety_status': 1, 'text': 'retweet north america american children the teens are complete pussies that compared up to in other parts of of the world', 'tweet_id': '5fee98ebec353064f9ecbd5af16ca373f7ad6b993a4f91775fdd8d3f16c5644d', 'retweet_id': None, 'retweets': 0, 'created_at': '2024-07-25T09:12:14.908179'}, {'id': 8, 'user_id': 'user5', 'likes': 0, 'safety_status': None, 'text': 'by the way i think the best lead would say this is a list of ancient greek macedonians but i am new to wikipedia and do not know how to change the text of a link and link to a page with a different name can someone help', 'tweet_id': '7c2fec67687c02aec705800269aee8bbde46be0639bf675cc43567037a397b8d', 'retweet_id': None, 'retweets': 0, 'created_at': '2024-07-25T09:13:30.957132'}, {'id': 9, 'user_id': 'user6', 'likes': 0, 'safety_status': None, 'text': 'reply disruption please do not think me rude or take offense but i have to ask this are you trying to blackmail me', 'tweet_id': '5463a695f78a80ff089bbc20d1bd477369570961eda354a382579e569d3df677', 'retweet_id': None, 'retweets': 0, 'created_at': '2024-07-25T09:13:35.084271'}, {'id': 10, 'user_id': 'user5', 'likes': 0, 'safety_status': 1, 'text': 'i just deleted info under the heading singles that said we get around is a herd single this is not true highboy a member of the group created this track totally independent of the other artists and although the initial author referenced this fact by placing highboy in brackets after the fact it still has no place here i feel such information clearly belongs on a separate page pertaining to highboy a link to which placed on this page', 'tweet_id': '8383f07f955c2d208a352a266c23559ea1f3c8669cc4f836f0f77703fb3ea8da', 'retweet_id': None, 'retweets': 0, 'created_at': '2024-07-25T09:13:58.195028'}, {'id': 11, 'user_id': 'user2', 'likes': 0, 'safety_status': None, 'text': 'on the plus side i did get my first pair of ears as an adult and i got my name tag happy face or smiley disney traditions', 'tweet_id': '0eaf93382771bde0bf079f9f84f75574b22a04c2658303030b62740bc45f0054', 'retweet_id': None, 'retweets': 0, 'created_at': '2024-07-25T09:14:02.363998'}, {'id': 12, 'user_id': 'user5', 'likes': 0, 'safety_status': None, 'text': 'i just deleted info under the heading singles that said we get around is a herd single this is not true highboy a member of the group created this track totally independent of the other artists and although the initial author referenced this fact by placing highboy in brackets after the fact it still has no place here i feel such information clearly belongs on a separate page pertaining to highboy a link to which placed on this page', 'tweet_id': '0ef5ed93edbccc8d882d0042b5928986cde328a49a8d96246fb5e00badd45480', 'retweet_id': None, 'retweets': 0, 'created_at': '2024-07-25T09:14:25.504310'}, {'id': 13, 'user_id': 'user4', 'likes': 0, 'safety_status': None, 'text': 'let s wait for the afd to end the duck', 'tweet_id': '34bef3419537a507c876c6974cffe823b9dab92b412eda968e27b03591b7f97e', 'retweet_id': None, 'retweets': 0, 'created_at': '2024-07-25T09:15:13.038739'}, {'id': 14, 'user_id': 'user3', 'likes': 0, 'safety_status': None, 'text': 'i ve asked an administrator to semi protect sharon s article for a few days hope that solves all the image issues and such talk', 'tweet_id': '64af7a610149d0046c0a0312422f2a36273af44576d78752aee2831658cb92c4', 'retweet_id': None, 'retweets': 0, 'created_at': '2024-07-25T09:15:54.268614'}, {'id': 15, 'user_id': 'user1', 'likes': 0, 'safety_status': None, 'text': 'let s wait for the afd to end the duck', 'tweet_id': '65414b4bf425148b0e6f9bbd6b2cc081af1ca64743be8efbacc595e55c402509', 'retweet_id': None, 'retweets': 0, 'created_at': '2024-07-25T09:15:58.387272'}, {'id': 16, 'user_id': 'user1', 'likes': 0, 'safety_status': None, 'text': 'let s wait for the afd to end the duck', 'tweet_id': '5213dfb898e830fcaec0699924444eb51a79cebaec0c2909716b5a76bb0748df', 'retweet_id': None, 'retweets': 0, 'created_at': '2024-07-25T09:16:20.509149'}, {'id': 17, 'user_id': 'user4', 'likes': 0, 'safety_status': None, 'text': 'be it something thrown into a corner... call it being this person it is all the same', 'tweet_id': 'ad22c099e43da90608b2f77e5bf153ddbe2cb28b4e9cd69fecddb616913b9485', 'retweet_id': None, 'retweets': 0, 'created_at': '2024-07-25T09:16:48.742918'}, {'id': 18, 'user_id': 'user3', 'likes': 0, 'safety_status': None, 'text': 'done using popups see help reverting for the old school way', 'tweet_id': '06b7c1b4a5448c8ad4ebbb647fd6801418f57eb83e474a37a201c764ee6e03e3', 'retweet_id': None, 'retweets': 0, 'created_at': '2024-07-25T09:17:12.989060'}, {'id': 19, 'user_id': 'user3', 'likes': 0, 'safety_status': 1, 'text': 'i am in total support of increasing the number of refugees whatever bring to nz the wrap around support they require is', 'tweet_id': '152f89ade83e311ab25510f77a2adb952e22a2cdb217ddd06df2f3b300cb622c', 'retweet_id': None, 'retweets': 0, 'created_at': '2024-07-25T09:17:37.102667'}, {'id': 20, 'user_id': 'user5', 'likes': 0, 'safety_status': None, 'text': 'i understand those were star s words not yours but please let us set aside the issue of whether it is propaganda or notable or encyclopedic the question is is it unclear whatever seem to be in agreement let us seymour it', 'tweet_id': 'bd11eb2c42fa7dce37552e6a754af31535991a93803c3bbfce61341c923a6151', 'retweet_id': None, 'retweets': 0, 'created_at': '2024-07-25T09:17:41.271096'}, {'id': 21, 'user_id': 'user5', 'likes': 0, 'safety_status': None, 'text': 'let s wait for the afd to end the duck', 'tweet_id': '3092e81d5ac6e50b8d0b526efe378e340ec5de67da80c02be2a270204be86c6d', 'retweet_id': None, 'retweets': 0, 'created_at': '2024-07-25T09:18:24.599628'}, {'id': 22, 'user_id': 'user1', 'likes': 0, 'safety_status': None, 'text': 'unblock request had noticed that a user you had blocked has made an unblock request several days ago addressing your concerns would it be possible for you to review this request and respond please thanks for your help', 'tweet_id': 'b27f643dd5be4d34a04d356c8dd261684c225997d2c1a444191ce6b4b98cadb6', 'retweet_id': None, 'retweets': 0, 'created_at': '2024-07-25T09:33:43.386459'}, {'id': 23, 'user_id': 'user2', 'likes': 0, 'safety_status': 1, 'text': 'many women just are not about', 'tweet_id': '6d83975f7d9afdabe8b68b1d95628e6c5b3817a6b95931fec65e8511630457b6', 'retweet_id': None, 'retweets': 0, 'created_at': '2024-07-25T09:34:52.283379'}, {'id': 24, 'user_id': 'user4', 'likes': 0, 'safety_status': 1, 'text': 'a third defendant the jew gary german of brooklyn remains on the loose', 'tweet_id': '434e5197ef77bfb05e79cb0cdb044c72a53d975dd435b9b082bbbb35e29bf6dc', 'retweet_id': None, 'retweets': 0, 'created_at': '2024-07-25T09:35:11.440107'}, {'id': 25, 'user_id': 'user2', 'likes': 0, 'safety_status': None, 'text': 'protect against skeptic vandals like dream guy someone puts in grossly wrong factual info now how can a non admin like me put on a block please reply do not ignore thanks eckford', 'tweet_id': 'e7fb20bcafb0b7b2f161e20f8fb78a594be85d1a4f62bd3c1c0369734dd3e57d', 'retweet_id': None, 'retweets': 0, 'created_at': '2024-07-25T09:35:15.516143'}, {'id': 26, 'user_id': 'user3', 'likes': 0, 'safety_status': 1, 'text': 'i hope you all accidentally get a fat black bitch pregnant', 'tweet_id': 'd739ab32fd71adf9eba76cd70ce15a29997b6d62b9a771138b020c7950b7869c', 'retweet_id': None, 'retweets': 0, 'created_at': '2024-07-25T09:35:38.650372'}, {'id': 27, 'user_id': 'user5', 'likes': 0, 'safety_status': None, 'text': 'unblock request had noticed that a user you had blocked has made an unblock request several days ago addressing your concerns would it be possible for you to review this request and respond please thanks for your help', 'tweet_id': '9c3240f2572bd641b0716b9491326c124e7150734684944fb44f5f34a6f8b964', 'retweet_id': None, 'retweets': 0, 'created_at': '2024-07-25T09:35:42.759887'}, {'id': 28, 'user_id': 'user4', 'likes': 0, 'safety_status': None, 'text': 'i still want to know what you have accomplished', 'tweet_id': 'b729a48f03b77fcb74291c17706fcecadf76cb144107482dd44a460851c9c4ca', 'retweet_id': None, 'retweets': 0, 'created_at': '2024-07-25T09:36:02.909464'}, {'id': 29, 'user_id': 'user3', 'likes': 0, 'safety_status': None, 'text': 'haha zen bench vise state public figure like nap rid', 'tweet_id': 'ab76a6d15d66ce67aacebee4d5d88cd3cb397894165730659d0107f89b479e00', 'retweet_id': None, 'retweets': 0, 'created_at': '2024-07-25T09:36:07.063689'}]\n"
     ]
    }
   ],
   "source": [
    "print(user_view_tweets)"
   ]
  },
  {
   "cell_type": "code",
   "execution_count": 67,
   "metadata": {},
   "outputs": [
    {
     "name": "stdout",
     "output_type": "stream",
     "text": [
      "Tweet ID: 7ab4179f\n",
      "Retweet ID: None\n",
      "User ID: user3\n",
      "Text: the money\n",
      "Likes: 0\n",
      "Retweets: 0\n",
      "Safety Status: None\n",
      "Posted at: 2024-07-25T08:50:43.998954\n",
      "----------------------------------------\n",
      "Tweet ID: 81de6805\n",
      "Retweet ID: None\n",
      "User ID: user3\n",
      "Text: the main movement is...\n",
      "Likes: 0\n",
      "Retweets: 0\n",
      "Safety Status: None\n",
      "Posted at: 2024-07-25T08:52:48.634960\n",
      "----------------------------------------\n",
      "Tweet ID: 2e0e1ca6\n",
      "Retweet ID: None\n",
      "User ID: user7\n",
      "Text: renewed revert wars hey byway welcome back but when i said to return after waiting out your block i did not mean for you to return and re start the revert warring exactly where you left it let me make it clear that this will still be seen as disruption and i very strongly advise you not to even approach by wide margin this time admins can block for disruption in repeat cases even without being touched technically\n",
      "Likes: 0\n",
      "Retweets: 0\n",
      "Safety Status: None\n",
      "Posted at: 2024-07-25T08:53:15.898956\n",
      "----------------------------------------\n",
      "Tweet ID: 267f9a8f\n",
      "Retweet ID: None\n",
      "User ID: user4\n",
      "Text: mate it is in newcastle it what a slut down bath it is fucking bras sic cold\n",
      "Likes: 0\n",
      "Retweets: 0\n",
      "Safety Status: None\n",
      "Posted at: 2024-07-25T08:53:59.079262\n",
      "----------------------------------------\n",
      "Tweet ID: 833f05ee\n",
      "Retweet ID: None\n",
      "User ID: user5\n",
      "Text: possible error there be an error in this article regarding participation in the match according to the national resident matching program s website it appears that international medical students can participate in the match prior to receiving their cmg certification and hence prior to graduating from medical school so long as they have completed usmle steps\n",
      "Likes: 0\n",
      "Retweets: 0\n",
      "Safety Status: None\n",
      "Posted at: 2024-07-25T08:54:03.193872\n",
      "----------------------------------------\n",
      "Tweet ID: 8c120ba0\n",
      "Retweet ID: None\n",
      "User ID: user6\n",
      "Text: i butter is butter the references given see discussion on this above on this are improperly given what is given appears to be little more than a google screen scrape i managed to find both references and they do not support this usage the use in these publications is not to define but to indicate the broad category peanut butter if placed in the category of a nut butter is also in the category if butter substitute but it is not a type of margarine which is what this product is possibly it might be helpful to say that the product is commonly used to substitute butter but it does not help in the basic definition\n",
      "Likes: 0\n",
      "Retweets: 0\n",
      "Safety Status: None\n",
      "Posted at: 2024-07-25T08:54:48.469604\n",
      "----------------------------------------\n",
      "Tweet ID: 5fee98ebec353064f9ecbd5af16ca373f7ad6b993a4f91775fdd8d3f16c5644d\n",
      "Retweet ID: None\n",
      "User ID: user4\n",
      "Text: retweet north america american children the teens are complete pussies that compared up to in other parts of of the world\n",
      "Likes: 0\n",
      "Retweets: 0\n",
      "Safety Status: None\n",
      "Posted at: 2024-07-25T09:12:14.908179\n",
      "----------------------------------------\n",
      "Tweet ID: 7c2fec67687c02aec705800269aee8bbde46be0639bf675cc43567037a397b8d\n",
      "Retweet ID: None\n",
      "User ID: user5\n",
      "Text: by the way i think the best lead would say this is a list of ancient greek macedonians but i am new to wikipedia and do not know how to change the text of a link and link to a page with a different name can someone help\n",
      "Likes: 0\n",
      "Retweets: 0\n",
      "Safety Status: None\n",
      "Posted at: 2024-07-25T09:13:30.957132\n",
      "----------------------------------------\n",
      "Tweet ID: 5463a695f78a80ff089bbc20d1bd477369570961eda354a382579e569d3df677\n",
      "Retweet ID: None\n",
      "User ID: user6\n",
      "Text: reply disruption please do not think me rude or take offense but i have to ask this are you trying to blackmail me\n",
      "Likes: 0\n",
      "Retweets: 0\n",
      "Safety Status: None\n",
      "Posted at: 2024-07-25T09:13:35.084271\n",
      "----------------------------------------\n",
      "Tweet ID: 8383f07f955c2d208a352a266c23559ea1f3c8669cc4f836f0f77703fb3ea8da\n",
      "Retweet ID: None\n",
      "User ID: user5\n",
      "Text: i just deleted info under the heading singles that said we get around is a herd single this is not true highboy a member of the group created this track totally independent of the other artists and although the initial author referenced this fact by placing highboy in brackets after the fact it still has no place here i feel such information clearly belongs on a separate page pertaining to highboy a link to which placed on this page\n",
      "Likes: 0\n",
      "Retweets: 0\n",
      "Safety Status: None\n",
      "Posted at: 2024-07-25T09:13:58.195028\n",
      "----------------------------------------\n",
      "Tweet ID: 0eaf93382771bde0bf079f9f84f75574b22a04c2658303030b62740bc45f0054\n",
      "Retweet ID: None\n",
      "User ID: user2\n",
      "Text: on the plus side i did get my first pair of ears as an adult and i got my name tag happy face or smiley disney traditions\n",
      "Likes: 0\n",
      "Retweets: 0\n",
      "Safety Status: None\n",
      "Posted at: 2024-07-25T09:14:02.363998\n",
      "----------------------------------------\n",
      "Tweet ID: 0ef5ed93edbccc8d882d0042b5928986cde328a49a8d96246fb5e00badd45480\n",
      "Retweet ID: None\n",
      "User ID: user5\n",
      "Text: i just deleted info under the heading singles that said we get around is a herd single this is not true highboy a member of the group created this track totally independent of the other artists and although the initial author referenced this fact by placing highboy in brackets after the fact it still has no place here i feel such information clearly belongs on a separate page pertaining to highboy a link to which placed on this page\n",
      "Likes: 0\n",
      "Retweets: 0\n",
      "Safety Status: None\n",
      "Posted at: 2024-07-25T09:14:25.504310\n",
      "----------------------------------------\n",
      "Tweet ID: 34bef3419537a507c876c6974cffe823b9dab92b412eda968e27b03591b7f97e\n",
      "Retweet ID: None\n",
      "User ID: user4\n",
      "Text: let s wait for the afd to end the duck\n",
      "Likes: 0\n",
      "Retweets: 0\n",
      "Safety Status: None\n",
      "Posted at: 2024-07-25T09:15:13.038739\n",
      "----------------------------------------\n",
      "Tweet ID: 64af7a610149d0046c0a0312422f2a36273af44576d78752aee2831658cb92c4\n",
      "Retweet ID: None\n",
      "User ID: user3\n",
      "Text: i ve asked an administrator to semi protect sharon s article for a few days hope that solves all the image issues and such talk\n",
      "Likes: 0\n",
      "Retweets: 0\n",
      "Safety Status: None\n",
      "Posted at: 2024-07-25T09:15:54.268614\n",
      "----------------------------------------\n",
      "Tweet ID: 65414b4bf425148b0e6f9bbd6b2cc081af1ca64743be8efbacc595e55c402509\n",
      "Retweet ID: None\n",
      "User ID: user1\n",
      "Text: let s wait for the afd to end the duck\n",
      "Likes: 0\n",
      "Retweets: 0\n",
      "Safety Status: None\n",
      "Posted at: 2024-07-25T09:15:58.387272\n",
      "----------------------------------------\n",
      "Tweet ID: 5213dfb898e830fcaec0699924444eb51a79cebaec0c2909716b5a76bb0748df\n",
      "Retweet ID: None\n",
      "User ID: user1\n",
      "Text: let s wait for the afd to end the duck\n",
      "Likes: 0\n",
      "Retweets: 0\n",
      "Safety Status: None\n",
      "Posted at: 2024-07-25T09:16:20.509149\n",
      "----------------------------------------\n",
      "Tweet ID: ad22c099e43da90608b2f77e5bf153ddbe2cb28b4e9cd69fecddb616913b9485\n",
      "Retweet ID: None\n",
      "User ID: user4\n",
      "Text: be it something thrown into a corner... call it being this person it is all the same\n",
      "Likes: 0\n",
      "Retweets: 0\n",
      "Safety Status: None\n",
      "Posted at: 2024-07-25T09:16:48.742918\n",
      "----------------------------------------\n",
      "Tweet ID: 06b7c1b4a5448c8ad4ebbb647fd6801418f57eb83e474a37a201c764ee6e03e3\n",
      "Retweet ID: None\n",
      "User ID: user3\n",
      "Text: done using popups see help reverting for the old school way\n",
      "Likes: 0\n",
      "Retweets: 0\n",
      "Safety Status: None\n",
      "Posted at: 2024-07-25T09:17:12.989060\n",
      "----------------------------------------\n",
      "Tweet ID: 152f89ade83e311ab25510f77a2adb952e22a2cdb217ddd06df2f3b300cb622c\n",
      "Retweet ID: None\n",
      "User ID: user3\n",
      "Text: i am in total support of increasing the number of refugees whatever bring to nz the wrap around support they require is\n",
      "Likes: 0\n",
      "Retweets: 0\n",
      "Safety Status: 1\n",
      "Posted at: 2024-07-25T09:17:37.102667\n",
      "----------------------------------------\n",
      "Tweet ID: bd11eb2c42fa7dce37552e6a754af31535991a93803c3bbfce61341c923a6151\n",
      "Retweet ID: None\n",
      "User ID: user5\n",
      "Text: i understand those were star s words not yours but please let us set aside the issue of whether it is propaganda or notable or encyclopedic the question is is it unclear whatever seem to be in agreement let us seymour it\n",
      "Likes: 0\n",
      "Retweets: 0\n",
      "Safety Status: None\n",
      "Posted at: 2024-07-25T09:17:41.271096\n",
      "----------------------------------------\n",
      "Tweet ID: 3092e81d5ac6e50b8d0b526efe378e340ec5de67da80c02be2a270204be86c6d\n",
      "Retweet ID: None\n",
      "User ID: user5\n",
      "Text: let s wait for the afd to end the duck\n",
      "Likes: 0\n",
      "Retweets: 0\n",
      "Safety Status: None\n",
      "Posted at: 2024-07-25T09:18:24.599628\n",
      "----------------------------------------\n",
      "21\n"
     ]
    }
   ],
   "source": [
    "if user_view_tweets:\n",
    "    count = 0\n",
    "    for tweet in user_view_tweets:\n",
    "        print(f\"Tweet ID: {tweet['tweet_id']}\")\n",
    "        print(f\"Retweet ID: {tweet.get('retweet_id', 'N/A')}\")\n",
    "        print(f\"User ID: {tweet['user_id']}\")\n",
    "        print(f\"Text: {tweet['text']}\")\n",
    "        print(f\"Likes: {tweet['likes']}\")\n",
    "        print(f\"Retweets: {tweet['retweets']}\")\n",
    "        print(f\"Safety Status: {tweet.get('safety_status', 'N/A')}\")\n",
    "        print(f\"Posted at: {tweet.get('created_at', 'N/A')}\")\n",
    "        print(\"-\" * 40)\n",
    "        count+=1\n",
    "    print(count)\n",
    "else:\n",
    "    print(\"No tweets found.\")"
   ]
  },
  {
   "cell_type": "code",
   "execution_count": 53,
   "metadata": {},
   "outputs": [
    {
     "name": "stdout",
     "output_type": "stream",
     "text": [
      "{'id': 1, 'user_id': 'example_user', 'likes': 0, 'safety_status': None, 'text': 'Tweet for testing purposes.', 'tweet_id': '0569ea6b', 'retweet_id': None, 'retweets': 0, 'created_at': '2024-07-24T10:28:03.244336'}\n",
      "{'id': 2, 'user_id': 'example_user2', 'likes': 0, 'safety_status': 1, 'text': 'This is a tweet for testing purposes.', 'tweet_id': 'aad157a1', 'retweet_id': None, 'retweets': 0, 'created_at': '2024-07-24T10:29:19.028862'}\n",
      "{'id': 3, 'user_id': 'example_user', 'likes': 0, 'safety_status': None, 'text': 'T test tweet for batch prediction.', 'tweet_id': '6aee49d1', 'retweet_id': None, 'retweets': 0, 'created_at': '2024-07-24T10:29:23.172463'}\n",
      "{'id': 4, 'user_id': 'example_user2', 'likes': 0, 'safety_status': None, 'text': 'And yet another example of a tweet.', 'tweet_id': 'f7a4ec29', 'retweet_id': None, 'retweets': 0, 'created_at': '2024-07-24T10:29:27.291010'}\n"
     ]
    }
   ],
   "source": [
    "for tweet in user_view_tweets:\n",
    "    print(tweet)"
   ]
  },
  {
   "cell_type": "code",
   "execution_count": null,
   "metadata": {},
   "outputs": [],
   "source": []
  },
  {
   "cell_type": "markdown",
   "metadata": {},
   "source": [
    "## admin fetch status changes \n",
    "made by admin or cnn model"
   ]
  },
  {
   "cell_type": "code",
   "execution_count": 50,
   "metadata": {},
   "outputs": [],
   "source": [
    "# Function to fetch tweets with updated safety statuses for admin view\n",
    "def fetch_safety_status_changes():\n",
    "    url = f\"{base_url}/safety_status_changes\"\n",
    "    response = requests.get(url)\n",
    "    \n",
    "    if response.status_code == 200:\n",
    "        return response.json()\n",
    "    else:\n",
    "        print(f\"Failed to fetch safety status changes: {response.status_code}\")\n",
    "        print(f\"Response: {response.json()}\")\n",
    "        return None"
   ]
  },
  {
   "cell_type": "code",
   "execution_count": 51,
   "metadata": {},
   "outputs": [
    {
     "name": "stdout",
     "output_type": "stream",
     "text": [
      "Failed to fetch safety status changes: 404\n",
      "Response: {'detail': 'No safety status changes found'}\n"
     ]
    }
   ],
   "source": [
    "safety_status_changes = fetch_safety_status_changes()"
   ]
  },
  {
   "cell_type": "code",
   "execution_count": 52,
   "metadata": {},
   "outputs": [],
   "source": [
    "\n",
    "if safety_status_changes:\n",
    "    print(\"Fetched safety status changes:\")\n",
    "    for tweet in safety_status_changes:\n",
    "        print(f\"ID: {tweet['id']}, Tweet ID: {tweet['tweet_id']}, Safety Status: {tweet['new_safety_status']}, Change source: {tweet['change_source']}, changed at: {tweet['changed_at']}\")"
   ]
  },
  {
   "cell_type": "markdown",
   "metadata": {},
   "source": [
    "## get tweet by id"
   ]
  },
  {
   "cell_type": "code",
   "execution_count": 115,
   "metadata": {},
   "outputs": [],
   "source": [
    "# Function to fetch a tweet by ID\n",
    "def fetch_tweet_by_id(tweet_id):\n",
    "    url = f\"{base_url}/fetch_tweet/{tweet_id}\"\n",
    "    try:\n",
    "        response = requests.get(url)\n",
    "        if response.status_code == 200:\n",
    "            return response.json()\n",
    "        else:\n",
    "            return None\n",
    "    except requests.exceptions.RequestException as e:\n",
    "        print(f\"An error occurred: {e}\")\n",
    "        return None"
   ]
  },
  {
   "cell_type": "code",
   "execution_count": 116,
   "metadata": {},
   "outputs": [
    {
     "data": {
      "text/plain": [
       "{'tweet_id': '7ab4179f',\n",
       " 'retweet_id': None,\n",
       " 'tweet': 'the money',\n",
       " 'user': 'user3',\n",
       " 'likes': 1,\n",
       " 'retweets': 0,\n",
       " 'logreg_prob': 0.4065891763586682,\n",
       " 'logreg_result': 0,\n",
       " 'cnn_prob': 0.28456008434295654,\n",
       " 'cnn_result': 0,\n",
       " 'admin_result': 1,\n",
       " 'created_at': '2024-07-25T08:50:43.998954'}"
      ]
     },
     "execution_count": 116,
     "metadata": {},
     "output_type": "execute_result"
    }
   ],
   "source": [
    "tweet = fetch_tweet_by_id('7ab4179f')\n",
    "tweet"
   ]
  },
  {
   "cell_type": "markdown",
   "metadata": {},
   "source": [
    "## user displaying own tweets"
   ]
  },
  {
   "cell_type": "code",
   "execution_count": 63,
   "metadata": {},
   "outputs": [],
   "source": [
    "def fetch_tweets_by_user(username):\n",
    "    response = requests.get(f\"{base_url}/fetch_tweets_by_user/{username}\")\n",
    "    if response.status_code == 200:\n",
    "        return response.json()\n",
    "    else:\n",
    "        return None"
   ]
  },
  {
   "cell_type": "code",
   "execution_count": 64,
   "metadata": {},
   "outputs": [],
   "source": [
    "tweets = fetch_tweets_by_user('example_user') ## give owner's username / user_id\n"
   ]
  },
  {
   "cell_type": "code",
   "execution_count": 65,
   "metadata": {},
   "outputs": [
    {
     "name": "stdout",
     "output_type": "stream",
     "text": [
      "No tweets found.\n"
     ]
    }
   ],
   "source": [
    "if tweets:\n",
    "    for tweet in tweets:\n",
    "        print(f\"Tweet ID: {tweet['tweet_id']}\")\n",
    "        print(f\"Retweet ID: {tweet.get('retweet_id', 'N/A')}\")\n",
    "        print(f\"User ID: {tweet['user_id']}\")\n",
    "        print(f\"Text: {tweet['text']}\")\n",
    "        print(f\"Likes: {tweet['likes']}\")\n",
    "        print(f\"Retweets: {tweet['retweets']}\")\n",
    "        print(f\"Safety Status: {tweet.get('safety_status', 'N/A')}\")\n",
    "        print(f\"Posted at: {tweet.get('changed_at', 'N/A')}\")\n",
    "\n",
    "        print(\"-\" * 40)\n",
    "else:\n",
    "    print(\"No tweets found.\")"
   ]
  },
  {
   "cell_type": "markdown",
   "metadata": {},
   "source": [
    "## admin accessing detailed information"
   ]
  },
  {
   "cell_type": "code",
   "execution_count": 59,
   "metadata": {},
   "outputs": [],
   "source": [
    "\n",
    "def fetch_unsafe_tweets_by_source(change_source):\n",
    "    response = requests.get(f\"{base_url}/tweets/unsafe/{change_source}\")\n",
    "    if response.status_code == 200:\n",
    "        return response.json()\n",
    "    else:\n",
    "        print(f\"Failed to fetch unsafe tweets by {change_source}. Status code: {response.status_code}\")\n",
    "        return None\n"
   ]
  },
  {
   "cell_type": "code",
   "execution_count": 60,
   "metadata": {},
   "outputs": [],
   "source": [
    "\n",
    "def fetch_risky_tweets():\n",
    "    response = requests.get(f\"{base_url}/tweets/risky\")\n",
    "    if response.status_code == 200:\n",
    "        return response.json()\n",
    "    else:\n",
    "        print(f\"Failed to fetch risky tweets. Status code: {response.status_code}\")\n",
    "        return None"
   ]
  },
  {
   "cell_type": "code",
   "execution_count": 61,
   "metadata": {},
   "outputs": [
    {
     "name": "stdout",
     "output_type": "stream",
     "text": [
      "Tweets marked unsafe by CNN: [{'tweet_id': '152f89ade83e311ab25510f77a2adb952e22a2cdb217ddd06df2f3b300cb622c', 'id': 47, 'tweet': 'i am in total support of increasing the number of refugees whatever bring to nz the wrap around support they require is', 'likes': 0, 'logreg_prob': 0.39570344850488753, 'logreg_result': 0, 'cnn_result': 1, 'created_at': '2024-07-25T09:17:37.102667', 'user': 'user3', 'retweet_id': None, 'retweets': 0, 'cnn_prob': 0.7393397092819214, 'admin_result': None}]\n"
     ]
    }
   ],
   "source": [
    "cnn_unsafe_tweets = fetch_unsafe_tweets_by_source(\"cnn\")\n",
    "print(\"Tweets marked unsafe by CNN:\", cnn_unsafe_tweets)"
   ]
  },
  {
   "cell_type": "code",
   "execution_count": 62,
   "metadata": {},
   "outputs": [
    {
     "name": "stdout",
     "output_type": "stream",
     "text": [
      "Tweets marked unsafe by Admin:\n",
      "message\n"
     ]
    }
   ],
   "source": [
    "# Fetch tweets marked unsafe by Admin\n",
    "admin_unsafe_tweets = fetch_unsafe_tweets_by_source(\"admin\")\n",
    "print(\"Tweets marked unsafe by Admin:\")\n",
    "for tweet in admin_unsafe_tweets:\n",
    "    print(tweet)"
   ]
  },
  {
   "cell_type": "code",
   "execution_count": 84,
   "metadata": {},
   "outputs": [
    {
     "name": "stdout",
     "output_type": "stream",
     "text": [
      "Risky tweets: [{'tweet_id': '4ba3baca', 'id': 5, 'tweet': 'nd hate is all i know', 'likes': 0, 'logreg_prob': 0.16710891406820716, 'logreg_result': 0, 'cnn_result': 1, 'created_at': '2024-07-24T13:02:32.077681', 'user': 'example_user', 'retweet_id': None, 'retweets': 0, 'cnn_prob': 0.9567622542381287, 'admin_result': None}]\n"
     ]
    }
   ],
   "source": [
    "# Fetch risky tweets\n",
    "risky_tweets = fetch_risky_tweets()\n",
    "print(\"Risky tweets:\", risky_tweets)"
   ]
  },
  {
   "cell_type": "markdown",
   "metadata": {},
   "source": [
    "## admin graphs"
   ]
  },
  {
   "cell_type": "code",
   "execution_count": 21,
   "metadata": {},
   "outputs": [
    {
     "name": "stdout",
     "output_type": "stream",
     "text": [
      "Fetched tweets data:  [{'tweet_id': '3a4f649a', 'retweet_id': None, 'tweet': 'it is release date lull ibiza techno', 'user': 'user1', 'likes': 0, 'retweets': 0, 'logreg_prob': 0.05427189322658466, 'logreg_result': 0, 'cnn_prob': 0.0007873098365962505, 'cnn_result': 0, 'admin_result': 0, 'created_at': '2024-07-24T15:36:50.161006'}, {'tweet_id': '22e3f0d7', 'retweet_id': None, 'tweet': 'holland is a much more attractive trade name and the dutch would be wise to stick to it the fact that nippled cousin fuckers in the east and the south resent it is just tough shit for them', 'user': 'user1', 'likes': 0, 'retweets': 0, 'logreg_prob': 0.4640868486896785, 'logreg_result': 0, 'cnn_prob': 0.38673752546310425, 'cnn_result': 0, 'admin_result': 1, 'created_at': '2024-07-24T15:36:54.320545'}, {'tweet_id': '2b9b2c65', 'retweet_id': None, 'tweet': 'thank you i appreciate the advice jaw o', 'user': 'user2', 'likes': 0, 'retweets': 0, 'logreg_prob': 0.08555863836911397, 'logreg_result': 0, 'cnn_prob': 0.06892437487840652, 'cnn_result': 0, 'admin_result': 1, 'created_at': '2024-07-24T15:36:58.464315'}, {'tweet_id': '7d10270d', 'retweet_id': None, 'tweet': 'for fucks sake who you all harassing now your whiny orange river taint smear fuck trump card impeachdonaldtrumpnow', 'user': 'user2', 'likes': 0, 'retweets': 0, 'logreg_prob': 0.9237454109293152, 'logreg_result': 1, 'cnn_prob': 0.9931716322898865, 'cnn_result': 1, 'admin_result': None, 'created_at': '2024-07-24T15:37:02.587968'}, {'tweet_id': 'db46ba29', 'retweet_id': None, 'tweet': 'edit request from null edit to purge cache and to remove the page from the view of categorywikipedia pages with incorrect protection templates', 'user': 'user3', 'likes': 0, 'retweets': 0, 'logreg_prob': 0.008078715761675744, 'logreg_result': 0, 'cnn_prob': 0.0024402739945799112, 'cnn_result': 0, 'admin_result': None, 'created_at': '2024-07-24T15:37:04.652657'}, {'tweet_id': '9e590f7e', 'retweet_id': None, 'tweet': 'sorry i am not as you can read in the article for palestine the term palestine does derive from the philistines but it what a slut given to the land by the romans only in ad after the jewish revolt in the century it what a slut brought back to life by the british and thus became recognized worldwide as palestine in any case the philistines themselves were not present yet in the land in the year because they arrived around the time of the israelites jews and they settled mostly in a relatively small strip along the coast an area which is partly the gaza strip you can read more here if you want i think that the definition i gave is very factual and clean of any political affiliation', 'user': 'user3', 'likes': 0, 'retweets': 0, 'logreg_prob': 0.20466317067702677, 'logreg_result': 0, 'cnn_prob': 0.3704398274421692, 'cnn_result': 0, 'admin_result': None, 'created_at': '2024-07-24T15:37:08.823777'}, {'tweet_id': 'dbb353d7', 'retweet_id': None, 'tweet': 'mystery in paradise suspicious deaths in dominicanrepublic resorts lead american travelers to cancel their trips new york daily news serial murderer s', 'user': 'user4', 'likes': 0, 'retweets': 0, 'logreg_prob': 0.7136663238097386, 'logreg_result': 1, 'cnn_prob': 0.8282076716423035, 'cnn_result': 1, 'admin_result': None, 'created_at': '2024-07-24T15:37:12.974696'}, {'tweet_id': '409167f8', 'retweet_id': None, 'tweet': 'how incredibly shortsighted of you accreditation is not binary in the contact of multiple jurisdictions and countries it is not simple black white', 'user': 'user4', 'likes': 0, 'retweets': 0, 'logreg_prob': 0.5558448124658149, 'logreg_result': 1, 'cnn_prob': 8.043548587011173e-05, 'cnn_result': 0, 'admin_result': None, 'created_at': '2024-07-24T15:37:15.036753'}, {'tweet_id': 'b75877f0', 'retweet_id': None, 'tweet': 'redirects from synonyms when you create a redirect from a synonym please mark it with as i have done in', 'user': 'user5', 'likes': 0, 'retweets': 0, 'logreg_prob': 0.012843582523571581, 'logreg_result': 0, 'cnn_prob': 0.005854838527739048, 'cnn_result': 0, 'admin_result': None, 'created_at': '2024-07-24T15:37:17.096877'}, {'tweet_id': 'c8b581db', 'retweet_id': None, 'tweet': 'obscurantism is presented as anti obscuratims biology and bioinspired evolutionary computing considers sexual recombination as a means to distribute the good useful solutions the knowledge among population it is a mechanism to advance the biological culture evolution when individual discovers a good feature the only where are you to spread it in the population is the recombination otherwise you are stuck at the clonal interference situation where you cannot communicate information across the companies now whatever are said that pointing this out is doubtful obscuring and vandalism and it hides this fact in order to imo obscuring is hiding the things that put everything into the order creating vagueness and chaos how do you call the situation when something is called its opposite and recover the normal order', 'user': 'user5', 'likes': 0, 'retweets': 0, 'logreg_prob': 0.2381269969707493, 'logreg_result': 0, 'cnn_prob': 0.10460828989744186, 'cnn_result': 0, 'admin_result': None, 'created_at': '2024-07-24T15:37:21.235804'}, {'tweet_id': 'e069161a', 'retweet_id': None, 'tweet': 'i think the search for an academic consensus is elusive', 'user': 'user6', 'likes': 0, 'retweets': 0, 'logreg_prob': 0.018557875451519743, 'logreg_result': 0, 'cnn_prob': 0.0013231877237558365, 'cnn_result': 0, 'admin_result': None, 'created_at': '2024-07-24T15:37:25.372954'}, {'tweet_id': 'a3030010', 'retweet_id': None, 'tweet': 'sadly this so so so true disgusting', 'user': 'user6', 'likes': 0, 'retweets': 0, 'logreg_prob': 0.5052498162775859, 'logreg_result': 1, 'cnn_prob': 0.719042181968689, 'cnn_result': 1, 'admin_result': None, 'created_at': '2024-07-24T15:37:29.481971'}, {'tweet_id': 'fc587ab8', 'retweet_id': None, 'tweet': 'a look at wpuknationals will show the way and consensus has been established above his passport is irrelevant in this context', 'user': 'user7', 'likes': 0, 'retweets': 0, 'logreg_prob': 0.016831794896990614, 'logreg_result': 0, 'cnn_prob': 0.009517746046185493, 'cnn_result': 0, 'admin_result': None, 'created_at': '2024-07-24T15:37:31.537373'}, {'tweet_id': 'a1c3b2b1', 'retweet_id': None, 'tweet': 'bitch fuck shit vagina world health organization approve', 'user': 'user7', 'likes': 0, 'retweets': 0, 'logreg_prob': 0.9727099453859578, 'logreg_result': 1, 'cnn_prob': 0.9774163961410522, 'cnn_result': 1, 'admin_result': None, 'created_at': '2024-07-24T15:37:35.647460'}, {'tweet_id': '939cb3c2', 'retweet_id': None, 'tweet': 'that is great dumb crybaby pussy', 'user': 'user8', 'likes': 0, 'retweets': 0, 'logreg_prob': 0.4290811072737359, 'logreg_result': 0, 'cnn_prob': 0.5731377005577087, 'cnn_result': 1, 'admin_result': None, 'created_at': '2024-07-24T15:37:37.723521'}, {'tweet_id': 'b20a310b', 'retweet_id': None, 'tweet': 'face with tears of joy rolling on the floor laughing face with tears of joy rolling on the floor laughing face with tears of joy thumbs upon hand that is a good one i never knew antifa were such badasses face with tears of joy face with tears of joy face with tears of joy face with tears of joy thumbs up you need your own comedy special rolling on the floor laughing face with tears of joy rolling on the floor laughing face with tears of joy', 'user': 'user8', 'likes': 0, 'retweets': 0, 'logreg_prob': 0.4646745726233468, 'logreg_result': 0, 'cnn_prob': 0.7301449775695801, 'cnn_result': 1, 'admin_result': None, 'created_at': '2024-07-24T15:37:41.877726'}, {'tweet_id': '4336dccd', 'retweet_id': None, 'tweet': 'puerto rican is not an ethnicity it is a sort of nationality as regards her ethnicity it is pre hispanic i e her genetic heritage is both african and iberian these facts might be of interest to a good number of readers', 'user': 'user1', 'likes': 0, 'retweets': 0, 'logreg_prob': 0.018500833738047288, 'logreg_result': 0, 'cnn_prob': 9.515244528301992e-06, 'cnn_result': 0, 'admin_result': None, 'created_at': '2024-07-25T04:58:31.012852'}, {'tweet_id': 'b4fb265e', 'retweet_id': None, 'tweet': 'that you are not even my admin you were only an idiot it knows', 'user': 'user1', 'likes': 0, 'retweets': 0, 'logreg_prob': 0.9641124053376564, 'logreg_result': 1, 'cnn_prob': 0.949133574962616, 'cnn_result': 1, 'admin_result': None, 'created_at': '2024-07-25T04:58:35.129532'}, {'tweet_id': 'e15a2843', 'retweet_id': None, 'tweet': 'za paradiranje i am about to nova ca a za boles nu deck nea seem vam sve', 'user': 'user2', 'likes': 0, 'retweets': 0, 'logreg_prob': 0.9682479226778098, 'logreg_result': 1, 'cnn_prob': 0.8954165577888489, 'cnn_result': 1, 'admin_result': None, 'created_at': '2024-07-25T04:58:37.217020'}, {'tweet_id': '41e999fe', 'retweet_id': None, 'tweet': 'nigas are noxious he said what a cretin', 'user': 'user2', 'likes': 0, 'retweets': 0, 'logreg_prob': 0.9076978919405044, 'logreg_result': 1, 'cnn_prob': 0.9760173559188843, 'cnn_result': 1, 'admin_result': None, 'created_at': '2024-07-25T04:58:39.244263'}, {'tweet_id': 'a291d44e', 'retweet_id': None, 'tweet': 'i hate sewing period', 'user': 'user3', 'likes': 0, 'retweets': 0, 'logreg_prob': 0.23655093327513216, 'logreg_result': 0, 'cnn_prob': 0.23399493098258972, 'cnn_result': 0, 'admin_result': None, 'created_at': '2024-07-25T04:58:41.320802'}, {'tweet_id': '606799a0', 'retweet_id': None, 'tweet': 'some of these references do not have anything to do with spacevidcast and merely mentioning it as an aside the star tribune article is linked twice', 'user': 'user3', 'likes': 0, 'retweets': 0, 'logreg_prob': 0.029315755178535814, 'logreg_result': 0, 'cnn_prob': 0.0024620748590677977, 'cnn_result': 0, 'admin_result': None, 'created_at': '2024-07-25T04:58:45.429923'}, {'tweet_id': 'c888cb2a', 'retweet_id': None, 'tweet': 'sas an infantry regiment jim sweeney has made a number of revisions claiming that the sas is an infantry regiment and that and are battalions below is an extract from queen s regulations queens regulations for the army part precedence of corps and regiments the following table gives the order of precedence of corps and regiments in the army regiments shown collectively therein take precedence amongst themselves as shown in the army list order corps or regiment the lifeguards and the blues and royals royal horse artillery a royal armored corps royal regiments of artillery royal horse artillery excepted corps of royal engineers royal corps of signals regiments of foot guards regiments of infantry b c special air service regiments army air corps royal army chaplains department the royal logistic corps royal army medical corps corps of royal electrical and mechanical engineers adjutant general s corps royal army veterinary corps small arms school corps royal army dental corps intelligence corps army physical training corps general service corps queen alexandra s royal army nursing corps corps of army music royal monmouthshire royal engineers militia the honorable artillery company territorial army d the royal gibraltar regiment', 'user': 'user4', 'likes': 0, 'retweets': 0, 'logreg_prob': 0.262681344700781, 'logreg_result': 0, 'cnn_prob': 0.030775612220168114, 'cnn_result': 0, 'admin_result': None, 'created_at': '2024-07-25T04:58:49.580645'}, {'tweet_id': '36bc09a5', 'retweet_id': None, 'tweet': 'please stop if you continue to vandalize wikipedia as you did to st john s university new york city here you will be blocked from editing this is your final level warning', 'user': 'user4', 'likes': 0, 'retweets': 0, 'logreg_prob': 0.14519886184164843, 'logreg_result': 0, 'cnn_prob': 0.044349029660224915, 'cnn_result': 0, 'admin_result': None, 'created_at': '2024-07-25T04:58:53.726610'}, {'tweet_id': 'e111755e', 'retweet_id': None, 'tweet': 'my bent son is such some lazy man but the bitch it proves appalling', 'user': 'user5', 'likes': 0, 'retweets': 0, 'logreg_prob': 0.8119211991497868, 'logreg_result': 1, 'cnn_prob': 0.6765186786651611, 'cnn_result': 1, 'admin_result': None, 'created_at': '2024-07-25T04:58:57.873091'}, {'tweet_id': 'ccf45db7', 'retweet_id': None, 'tweet': 'you married to a japanese man wait so are you suddenly attracted more to people drawn from any other human alien races chanes are you that have many sexual deviations eh how about mating with just a couple of two happy homosexual monkeys', 'user': 'user5', 'likes': 0, 'retweets': 0, 'logreg_prob': 0.9518867200943224, 'logreg_result': 1, 'cnn_prob': 0.9754734635353088, 'cnn_result': 1, 'admin_result': None, 'created_at': '2024-07-25T04:58:59.914888'}, {'tweet_id': 'd93cc574', 'retweet_id': None, 'tweet': 'the great one i do not really have a problem i just do not like you very much you see i do not make many edits and i am not one to saddle tale on vandals and do you know the reason that it s because i have this little thing called a life i log on every now and again and make a few edits and for some reason when i do i find that some loser has got something to say to me attacking my views on subjects that are of no concern to them they do not care about subjects yet they go to the page to complain about the page itself are are not and i shoot them down for that then some faggots have a problem with me telling them that and now you have done that i made my pace then thought should i listen to a poofter like so here i am again you are a faggot nerd burger you have managed to make me hate you without me even knowing u you are the biggest poofter bogan i have ever encountered on wikipedia and to be honest if i had the chance i would probably cripple u go back to your gay orgy go root your mums boyfriend you fat sack of nerd shit kind regards', 'user': 'user6', 'likes': 0, 'retweets': 0, 'logreg_prob': 0.8719713467227801, 'logreg_result': 1, 'cnn_prob': 0.9982143044471741, 'cnn_result': 1, 'admin_result': None, 'created_at': '2024-07-25T04:59:01.996548'}, {'tweet_id': 'f429e288', 'retweet_id': None, 'tweet': 'it is so seriously annoying that having to simply explain myself personally and my reasons especially for disliking refugees when everyone should necessarily already be becoming aware of these obvious explanations and should feel everything the same it is not common sense', 'user': 'user6', 'likes': 0, 'retweets': 0, 'logreg_prob': 0.91833581323807, 'logreg_result': 1, 'cnn_prob': 0.8804914951324463, 'cnn_result': 1, 'admin_result': None, 'created_at': '2024-07-25T04:59:04.064385'}, {'tweet_id': 'ccb32fce', 'retweet_id': None, 'tweet': \"materialscientist is a racist seriously fuck me man you could delete my photos on the page of al mayassa bit haman bin khalifa altai which are all posted with the correct creative commons share alike or license because you are my racist and the shaka appears uncovered in these words when i posted photos of arab males you don't challenge them whatsoever luckily i can continue to live my life on the happy company of many friends family and colleagues never stationed at a computer you are a loser who spends his entire life editing wikipedia and probably has nothing to show for nothing see the end of my life i will have had a purpose a career family things i am proud of you will just be dust and completely gone to the world having never done anything more than edited his website\", 'user': 'user7', 'likes': 0, 'retweets': 0, 'logreg_prob': 0.8238055347139696, 'logreg_result': 1, 'cnn_prob': 0.8060186505317688, 'cnn_result': 1, 'admin_result': None, 'created_at': '2024-07-25T04:59:06.147560'}, {'tweet_id': 'b516c3bd', 'retweet_id': None, 'tweet': 'all those people very bitter are hateful', 'user': 'user7', 'likes': 0, 'retweets': 0, 'logreg_prob': 0.9142210166694167, 'logreg_result': 1, 'cnn_prob': 0.7640116810798645, 'cnn_result': 1, 'admin_result': None, 'created_at': '2024-07-25T04:59:08.214430'}, {'tweet_id': 'e8c7fb91', 'retweet_id': None, 'tweet': 'fuck you why you removed my web logger from the video game article you son of a bitch i demand you to put it back there right now you are a bum to patrol wikipedia for free while the creator jim whales makes millions a year from the free work of losers like you how can a person be so retarded i do not know put my web log back or i am going to hack your pc do not forget to use the halo tag to make it bigger mugen infantry net', 'user': 'user8', 'likes': 0, 'retweets': 0, 'logreg_prob': 0.5444720137400298, 'logreg_result': 1, 'cnn_prob': 0.7594012022018433, 'cnn_result': 1, 'admin_result': None, 'created_at': '2024-07-25T04:59:10.314597'}, {'tweet_id': 'b066d67a', 'retweet_id': None, 'tweet': 'million more turks abe to travel within the eu let s get out of eu nhs schools overwhelmed already sorry no more immigrants please', 'user': 'user8', 'likes': 0, 'retweets': 0, 'logreg_prob': 0.5532715906185849, 'logreg_result': 1, 'cnn_prob': 0.9304587244987488, 'cnn_result': 1, 'admin_result': None, 'created_at': '2024-07-25T04:59:12.422922'}, {'tweet_id': 'e24ebe70', 'retweet_id': None, 'tweet': 'i thought your goat came calling and she is [UNK]', 'user': 'user4', 'likes': 0, 'retweets': 0, 'logreg_prob': 0.9893667230604606, 'logreg_result': 1, 'cnn_prob': 0.9916062355041504, 'cnn_result': 1, 'admin_result': None, 'created_at': '2024-07-25T05:12:51.846509'}, {'tweet_id': '44a520fd', 'retweet_id': None, 'tweet': 'especially if blacks would worked very hard they would not all be poor', 'user': 'user4', 'likes': 0, 'retweets': 0, 'logreg_prob': 0.7670269303259349, 'logreg_result': 1, 'cnn_prob': 0.7717553377151489, 'cnn_result': 1, 'admin_result': None, 'created_at': '2024-07-25T05:12:53.945097'}, {'tweet_id': '7e9e88fa', 'retweet_id': None, 'tweet': 'some vagina smashed your finger against my hand sunday night', 'user': 'user2', 'likes': 0, 'retweets': 0, 'logreg_prob': 0.9540814558568578, 'logreg_result': 1, 'cnn_prob': 0.9976913928985596, 'cnn_result': 1, 'admin_result': None, 'created_at': '2024-07-25T05:12:56.016225'}, {'tweet_id': '6f381600', 'retweet_id': None, 'tweet': 'welcome to wikipedia vandalism is unacceptable here please read the wikipedia rules before editing any articles further', 'user': 'user2', 'likes': 0, 'retweets': 0, 'logreg_prob': 0.059020432434142026, 'logreg_result': 0, 'cnn_prob': 0.18465343117713928, 'cnn_result': 0, 'admin_result': None, 'created_at': '2024-07-25T05:12:58.122535'}, {'tweet_id': '622f1f68', 'retweet_id': None, 'tweet': 'grandpa hey it is me and i know you guys dinner tonight i what a slut supposed to do that to you baby i love you to your boyfriend', 'user': 'user6', 'likes': 0, 'retweets': 0, 'logreg_prob': 0.21474391124481582, 'logreg_result': 0, 'cnn_prob': 0.06131606549024582, 'cnn_result': 0, 'admin_result': None, 'created_at': '2024-07-25T05:13:02.298113'}, {'tweet_id': '96b4f97b', 'retweet_id': None, 'tweet': \"who don't want you associate the chinese people\", 'user': 'user6', 'likes': 0, 'retweets': 0, 'logreg_prob': 0.9991315847334409, 'logreg_result': 1, 'cnn_prob': 0.9995310306549072, 'cnn_result': 1, 'admin_result': None, 'created_at': '2024-07-25T05:13:06.510905'}, {'tweet_id': 'f9f8aec5', 'retweet_id': None, 'tweet': 'ane detest dark men it makes me nauseated', 'user': 'user4', 'likes': 0, 'retweets': 0, 'logreg_prob': 0.990918348358057, 'logreg_result': 1, 'cnn_prob': 0.9836621880531311, 'cnn_result': 1, 'admin_result': None, 'created_at': '2024-07-25T07:47:29.668075'}, {'tweet_id': 'b401255b', 'retweet_id': None, 'tweet': 'npov you would need strong consensus to change a longstanding lead on a core content policy the changes you made removed some fairly important points', 'user': 'user2', 'likes': 0, 'retweets': 0, 'logreg_prob': 0.01816162792497496, 'logreg_result': 0, 'cnn_prob': 0.020357264205813408, 'cnn_result': 0, 'admin_result': None, 'created_at': '2024-07-25T07:47:31.761220'}, {'tweet_id': '202786d4', 'retweet_id': None, 'tweet': 'goodbye wikipedia hope you get you stuff straight because all the stuff in the records and milestones is correct information hope it stays one there it makes the page unique', 'user': 'user6', 'likes': 0, 'retweets': 0, 'logreg_prob': 0.2775924327497001, 'logreg_result': 0, 'cnn_prob': 0.3502197265625, 'cnn_result': 0, 'admin_result': None, 'created_at': '2024-07-25T07:47:35.906487'}]\n"
     ]
    },
    {
     "data": {
      "image/png": "[encoded data removed]",
      "text/plain": [
       "<Figure size 1000x600 with 1 Axes>"
      ]
     },
     "metadata": {},
     "output_type": "display_data"
    }
   ],
   "source": [
    "import pandas as pd\n",
    "import matplotlib.pyplot as plt\n",
    "from datetime import datetime\n",
    "\n",
    "# Simulate fetching all tweets data\n",
    "tweets_data = fetch_all_tweets()\n",
    "print(\"Fetched tweets data: \", tweets_data)\n",
    "\n",
    "if tweets_data:\n",
    "    # Convert to DataFrame\n",
    "    df = pd.DataFrame(tweets_data)\n",
    "    # Convert 'created_at' to datetime\n",
    "    df['created_at'] = pd.to_datetime(df['created_at'])\n",
    "\n",
    "    # Filter unsafe tweets (those flagged by CNN or admin)\n",
    "    unsafe_tweets = df[(df['cnn_result'] == 1) | (df['admin_result'] == 1)]\n",
    "\n",
    "    if not unsafe_tweets.empty:\n",
    "        # Set 'created_at' as index for resampling\n",
    "        unsafe_tweets.set_index('created_at', inplace=True)\n",
    "        \n",
    "        unsafe_tweets_over_time = unsafe_tweets.resample('30min').size()\n",
    "        # print(\"Unsafe tweets over time (by 30-minute intervals):\\n\", unsafe_tweets_over_time)\n",
    "\n",
    "        # Plot the number of unsafe tweets over time\n",
    "        fig, ax = plt.subplots(figsize=(10, 6))  # Specify figure size\n",
    "        unsafe_tweets_over_time.plot(ax=ax, color='red', marker='o')\n",
    "        ax.set_title('Number of Unsafe Tweets Over Time (By Minute)')\n",
    "        ax.set_xlabel('Time')\n",
    "        ax.set_ylabel('Number of Unsafe Tweets')\n",
    "        ax.grid(True)\n",
    "        \n",
    "        # Rotate x-axis labels for better readability\n",
    "        plt.xticks(rotation=45)\n",
    "        ax.plot(unsafe_tweets_over_time.index, unsafe_tweets_over_time.values, marker='o', linestyle='-')\n",
    "\n",
    "        # Display plot\n",
    "        plt.show()\n",
    "    else:\n",
    "        print(\"No unsafe tweets available for plotting.\")\n",
    "else:\n",
    "    print(\"No tweet data available.\")\n"
   ]
  },
  {
   "cell_type": "code",
   "execution_count": 83,
   "metadata": {},
   "outputs": [
    {
     "data": {
      "image/png": "[encoded data removed]",
      "text/plain": [
       "<Figure size 1200x600 with 1 Axes>"
      ]
     },
     "metadata": {},
     "output_type": "display_data"
    }
   ],
   "source": [
    "import pandas as pd\n",
    "import requests\n",
    "import matplotlib.pyplot as plt\n",
    "from datetime import datetime\n",
    "\n",
    "base_url = \"http://localhost:8000\"\n",
    "\n",
    "# Function to get all safety status changes from the endpoint\n",
    "def get_safety_status_changes():\n",
    "    response = requests.get(f'{base_url}/safety_status_changes')\n",
    "    response.raise_for_status()  # Raise an error if the request failed\n",
    "    return response.json()\n",
    "\n",
    "# Fetch all safety status changes\n",
    "all_changes = get_safety_status_changes()\n",
    "\n",
    "if all_changes:\n",
    "    # Convert the response to DataFrame\n",
    "    df = pd.DataFrame(all_changes)\n",
    "\n",
    "    # Ensure 'changed_at' is in datetime format\n",
    "    df['changed_at'] = pd.to_datetime(df['changed_at'])\n",
    "\n",
    "    # Filter changes by source\n",
    "    cnn_changes = df[df['change_source'] == 'cnn']\n",
    "    admin_changes = df[df['change_source'] == 'admin']\n",
    "\n",
    "    # Resample and plot\n",
    "    resample_period = '1min'  # Can be adjusted to '1h', '15min', etc.\n",
    "\n",
    "    if not cnn_changes.empty:\n",
    "        cnn_unsafe_changes = cnn_changes.resample(resample_period, on='changed_at').size()\n",
    "    else:\n",
    "        cnn_unsafe_changes = pd.Series(dtype=int)\n",
    "    \n",
    "    if not admin_changes.empty:\n",
    "        admin_unsafe_changes = admin_changes.resample(resample_period, on='changed_at').size()\n",
    "    else:\n",
    "        admin_unsafe_changes = pd.Series(dtype=int)\n",
    "\n",
    "    # Create the plot\n",
    "    fig, ax = plt.subplots(figsize=(12, 6))  # Adjust figure size if needed\n",
    "    if not cnn_unsafe_changes.empty:\n",
    "        cnn_unsafe_changes.plot(ax=ax, label='Model Unsafe Tweets', color='blue')\n",
    "    if not admin_unsafe_changes.empty:\n",
    "        admin_unsafe_changes.plot(ax=ax, label='Admin Unsafe Tweets', color='red')\n",
    "\n",
    "    ax.set_xlabel('Date')\n",
    "    ax.set_ylabel('Number of Unsafe Tweets')\n",
    "    ax.set_title('Comparison of Unsafe Tweets Identified by the model vs Admin Over Time')\n",
    "    ax.legend()\n",
    "    ax.grid(True)\n",
    "\n",
    "    # Rotate x-axis labels for better readability\n",
    "    plt.xticks(rotation=45)\n",
    "\n",
    "    # Display plot\n",
    "    plt.show()\n",
    "else:\n",
    "    print(\"No safety status changes data available.\")\n"
   ]
  },
  {
   "cell_type": "code",
   "execution_count": 14,
   "metadata": {},
   "outputs": [
    {
     "data": {
      "text/html": [
       "<div>\n",
       "<style scoped>\n",
       "    .dataframe tbody tr th:only-of-type {\n",
       "        vertical-align: middle;\n",
       "    }\n",
       "\n",
       "    .dataframe tbody tr th {\n",
       "        vertical-align: top;\n",
       "    }\n",
       "\n",
       "    .dataframe thead th {\n",
       "        text-align: right;\n",
       "    }\n",
       "</style>\n",
       "<table border=\"1\" class=\"dataframe\">\n",
       "  <thead>\n",
       "    <tr style=\"text-align: right;\">\n",
       "      <th></th>\n",
       "      <th>id</th>\n",
       "      <th>change_source</th>\n",
       "      <th>changed_at</th>\n",
       "      <th>new_safety_status</th>\n",
       "      <th>tweet_id</th>\n",
       "    </tr>\n",
       "  </thead>\n",
       "  <tbody>\n",
       "    <tr>\n",
       "      <th>0</th>\n",
       "      <td>1</td>\n",
       "      <td>cnn</td>\n",
       "      <td>2024-07-24 15:37:48.661784</td>\n",
       "      <td>1</td>\n",
       "      <td>939cb3c2</td>\n",
       "    </tr>\n",
       "    <tr>\n",
       "      <th>1</th>\n",
       "      <td>2</td>\n",
       "      <td>cnn</td>\n",
       "      <td>2024-07-24 15:38:12.288705</td>\n",
       "      <td>1</td>\n",
       "      <td>b20a310b</td>\n",
       "    </tr>\n",
       "  </tbody>\n",
       "</table>\n",
       "</div>"
      ],
      "text/plain": [
       "   id change_source                 changed_at  new_safety_status  tweet_id\n",
       "0   1           cnn 2024-07-24 15:37:48.661784                  1  939cb3c2\n",
       "1   2           cnn 2024-07-24 15:38:12.288705                  1  b20a310b"
      ]
     },
     "execution_count": 14,
     "metadata": {},
     "output_type": "execute_result"
    }
   ],
   "source": [
    "cnn_changes"
   ]
  },
  {
   "cell_type": "code",
   "execution_count": 81,
   "metadata": {},
   "outputs": [
    {
     "name": "stdout",
     "output_type": "stream",
     "text": [
      "Fetched tweets data:  [{'tweet_id': 'bc3f6415', 'retweet_id': None, 'tweet': 'here is the thing when i occasionally see my ex who constitute now a man and is not even attractive my penis is instantly rock solid and i could literally go for hours if i want to societies what the fuck is happening to me i am able to get pavlovian style boners for my transsexual ex but so pretty much none otherwise non even when looking at movie of other women', 'user': 'user4', 'likes': 0, 'retweets': 0, 'logreg_prob': 0.9426726348427348, 'logreg_result': 1, 'cnn_prob': 0.919892430305481, 'cnn_result': 1, 'admin_result': None, 'created_at': '2024-07-25T08:50:24.859373'}, {'tweet_id': '750bd826', 'retweet_id': None, 'tweet': 'and she still is my wife and then i will treat her however long i want to', 'user': 'user5', 'likes': 0, 'retweets': 0, 'logreg_prob': 0.6398188868252725, 'logreg_result': 1, 'cnn_prob': 0.7360249161720276, 'cnn_result': 1, 'admin_result': None, 'created_at': '2024-07-25T08:50:41.912852'}, {'tweet_id': '7ab4179f', 'retweet_id': None, 'tweet': 'the money', 'user': 'user3', 'likes': 0, 'retweets': 0, 'logreg_prob': 0.4065891763586682, 'logreg_result': 0, 'cnn_prob': 0.28456008434295654, 'cnn_result': 0, 'admin_result': None, 'created_at': '2024-07-25T08:50:43.998954'}, {'tweet_id': '324e1ab5', 'retweet_id': None, 'tweet': 'pay no attention to the draft dodging charlatan behind the curtain lol fuck trump dumbdonnythedraftdodgingdotard draftdodgerdonny', 'user': 'user3', 'likes': 0, 'retweets': 0, 'logreg_prob': 0.5014539332244236, 'logreg_result': 1, 'cnn_prob': 0.5913766026496887, 'cnn_result': 1, 'admin_result': None, 'created_at': '2024-07-25T08:51:07.116569'}, {'tweet_id': '941690bc', 'retweet_id': None, 'tweet': 'ma radio rate sto homes ali mi nemo to acetate ako je to tbi okay ja to picture ali men nice pa bi bill for the i vi to postulate', 'user': 'user2', 'likes': 0, 'retweets': 0, 'logreg_prob': 0.921915640563197, 'logreg_result': 1, 'cnn_prob': 0.9636634588241577, 'cnn_result': 1, 'admin_result': None, 'created_at': '2024-07-25T08:51:09.194105'}, {'tweet_id': 'f59e7467', 'retweet_id': None, 'tweet': 'i m going to get the aclu on you you racist antiquating gringo we are going to be the majority of this country in years so shut up and do not revert my edits the aclu is on you for infringing my first amendment rights', 'user': 'user3', 'likes': 0, 'retweets': 0, 'logreg_prob': 0.6754728646418151, 'logreg_result': 1, 'cnn_prob': 0.9980117082595825, 'cnn_result': 1, 'admin_result': None, 'created_at': '2024-07-25T08:51:26.271548'}, {'tweet_id': 'df6a0975', 'retweet_id': None, 'tweet': 'samo dobro vile as the midis di za loser they piss off bobby but mike lay on the bed laughing', 'user': 'user7', 'likes': 0, 'retweets': 0, 'logreg_prob': 0.9027229248133237, 'logreg_result': 1, 'cnn_prob': 0.9595199227333069, 'cnn_result': 1, 'admin_result': None, 'created_at': '2024-07-25T08:51:28.350330'}, {'tweet_id': 'e2a28598', 'retweet_id': None, 'tweet': 'if you goddamn system is a down is easy i may hold a real goddamn retard and should fucking die over a fucking fire', 'user': 'user8', 'likes': 0, 'retweets': 0, 'logreg_prob': 0.9999093731117084, 'logreg_result': 1, 'cnn_prob': 0.9997546076774597, 'cnn_result': 1, 'admin_result': None, 'created_at': '2024-07-25T08:51:50.428960'}, {'tweet_id': '28f43075', 'retweet_id': None, 'tweet': 'nova neljudi', 'user': 'user2', 'likes': 0, 'retweets': 0, 'logreg_prob': 0.6704184237251681, 'logreg_result': 1, 'cnn_prob': 0.9122397899627686, 'cnn_result': 1, 'admin_result': None, 'created_at': '2024-07-25T08:52:11.473441'}, {'tweet_id': '53100703', 'retweet_id': None, 'tweet': 'both of these two people are gay kids and need to be taught a big lesson from their daddy so do not interrupt', 'user': 'user5', 'likes': 0, 'retweets': 0, 'logreg_prob': 0.8528481413121614, 'logreg_result': 1, 'cnn_prob': 0.7569732069969177, 'cnn_result': 1, 'admin_result': None, 'created_at': '2024-07-25T08:52:30.558860'}, {'tweet_id': '81de6805', 'retweet_id': None, 'tweet': 'the main movement is...', 'user': 'user3', 'likes': 0, 'retweets': 0, 'logreg_prob': 0.08258694426618535, 'logreg_result': 0, 'cnn_prob': 0.2094162255525589, 'cnn_result': 0, 'admin_result': 1, 'created_at': '2024-07-25T08:52:48.634960'}, {'tweet_id': 'bec72faf', 'retweet_id': None, 'tweet': 'molag bad and his cedric puppets are dead', 'user': 'user5', 'likes': 0, 'retweets': 0, 'logreg_prob': 0.7434425870462239, 'logreg_result': 1, 'cnn_prob': 0.3276400566101074, 'cnn_result': 0, 'admin_result': None, 'created_at': '2024-07-25T08:52:52.783740'}, {'tweet_id': '2e0e1ca6', 'retweet_id': None, 'tweet': 'renewed revert wars hey byway welcome back but when i said to return after waiting out your block i did not mean for you to return and re start the revert warring exactly where you left it let me make it clear that this will still be seen as disruption and i very strongly advise you not to even approach by wide margin this time admins can block for disruption in repeat cases even without being touched technically', 'user': 'user7', 'likes': 0, 'retweets': 0, 'logreg_prob': 0.42988216472714574, 'logreg_result': 0, 'cnn_prob': 0.07171188294887543, 'cnn_result': 0, 'admin_result': None, 'created_at': '2024-07-25T08:53:15.898956'}, {'tweet_id': '4bce7cdc', 'retweet_id': None, 'tweet': 'the fucking scum of the world those who vote brexit senseless disgusting people', 'user': 'user1', 'likes': 0, 'retweets': 0, 'logreg_prob': 0.8502318839311763, 'logreg_result': 1, 'cnn_prob': 0.7653614282608032, 'cnn_result': 1, 'admin_result': None, 'created_at': '2024-07-25T08:53:40.008856'}, {'tweet_id': '267f9a8f', 'retweet_id': None, 'tweet': 'mate it is in newcastle it what a slut down bath it is fucking bras sic cold', 'user': 'user4', 'likes': 0, 'retweets': 0, 'logreg_prob': 0.1298879143873468, 'logreg_result': 0, 'cnn_prob': 0.029183169826865196, 'cnn_result': 0, 'admin_result': None, 'created_at': '2024-07-25T08:53:59.079262'}, {'tweet_id': '833f05ee', 'retweet_id': None, 'tweet': 'possible error there be an error in this article regarding participation in the match according to the national resident matching program s website it appears that international medical students can participate in the match prior to receiving their cmg certification and hence prior to graduating from medical school so long as they have completed usmle steps', 'user': 'user5', 'likes': 0, 'retweets': 0, 'logreg_prob': 0.027009978461593684, 'logreg_result': 0, 'cnn_prob': 0.009558595716953278, 'cnn_result': 0, 'admin_result': None, 'created_at': '2024-07-25T08:54:03.193872'}, {'tweet_id': '2d0ed1a7', 'retweet_id': None, 'tweet': 'she went full', 'user': 'user7', 'likes': 0, 'retweets': 0, 'logreg_prob': 0.6923528528020354, 'logreg_result': 1, 'cnn_prob': 0.7739028930664062, 'cnn_result': 1, 'admin_result': None, 'created_at': '2024-07-25T08:54:27.308101'}, {'tweet_id': '8c120ba0', 'retweet_id': None, 'tweet': 'i butter is butter the references given see discussion on this above on this are improperly given what is given appears to be little more than a google screen scrape i managed to find both references and they do not support this usage the use in these publications is not to define but to indicate the broad category peanut butter if placed in the category of a nut butter is also in the category if butter substitute but it is not a type of margarine which is what this product is possibly it might be helpful to say that the product is commonly used to substitute butter but it does not help in the basic definition', 'user': 'user6', 'likes': 0, 'retweets': 0, 'logreg_prob': 0.013638184500358214, 'logreg_result': 0, 'cnn_prob': 0.0016898777103051543, 'cnn_result': 0, 'admin_result': None, 'created_at': '2024-07-25T08:54:48.469604'}, {'tweet_id': '00a628267ee60cf699de81025777fe51b87f320cab204bebb1d7ba3017b4c1eb', 'retweet_id': None, 'tweet': 'beef stfu single did not ask you something shithead hoe and obsessed shut you dirty ass because whatever all screw esme what a slut so taken up with me that she hold on subtweeting astir me looooooool', 'user': 'user2', 'likes': 0, 'retweets': 0, 'logreg_prob': 0.9987242171406582, 'logreg_result': 1, 'cnn_prob': 0.9984803199768066, 'cnn_result': 1, 'admin_result': None, 'created_at': '2024-07-25T09:10:49.421614'}, {'tweet_id': '33f5245fd9f31ea1079a3df3b0575bbf09755ad838b9985afbe84f94f700842a', 'retweet_id': None, 'tweet': 'not a white guy with pride in this job you are a fucking pro because of this shit shit', 'user': 'user1', 'likes': 0, 'retweets': 0, 'logreg_prob': 0.8403486920870041, 'logreg_result': 1, 'cnn_prob': 0.8193396329879761, 'cnn_result': 1, 'admin_result': None, 'created_at': '2024-07-25T09:10:51.479801'}, {'tweet_id': '59bc532acac9428d670e5a967acd369eb31b49444779f4bd0f3510a8462951d4', 'retweet_id': None, 'tweet': 'beef stfu single did not ask you something shithead hoe and obsessed shut you dirty ass because whatever all screw esme what a slut so taken up with me that she hold on subtweeting astir me looooooool', 'user': 'user7', 'likes': 0, 'retweets': 0, 'logreg_prob': 0.9987242171406582, 'logreg_result': 1, 'cnn_prob': 0.9984803199768066, 'cnn_result': 1, 'admin_result': None, 'created_at': '2024-07-25T09:11:10.569754'}, {'tweet_id': '5e7e1247213cb7a3b49ace092cc41c8184023855c1c49eee5bf8d47d8ac8b24d', 'retweet_id': None, 'tweet': 'beef stfu single did not ask you something shithead hoe and obsessed shut you dirty ass because whatever all screw esme what a slut so taken up with me that she hold on subtweeting astir me looooooool', 'user': 'user5', 'likes': 0, 'retweets': 0, 'logreg_prob': 0.9987242171406582, 'logreg_result': 1, 'cnn_prob': 0.9984803199768066, 'cnn_result': 1, 'admin_result': None, 'created_at': '2024-07-25T09:11:30.661357'}, {'tweet_id': '45cc063548d3c77a90acab60592202366522a1bf19f35c24aca165da25568a83', 'retweet_id': None, 'tweet': 'shake hands with who ever stool shoot this pussy', 'user': 'user8', 'likes': 0, 'retweets': 0, 'logreg_prob': 0.5129629572943901, 'logreg_result': 1, 'cnn_prob': 0.19889391958713531, 'cnn_result': 0, 'admin_result': None, 'created_at': '2024-07-25T09:11:32.724623'}, {'tweet_id': '2317182f45e882d483527db4fbc840c281fe8eaf479c6de5635d40153305fa6a', 'retweet_id': None, 'tweet': 'shake hands with who ever stool shoot this pussy', 'user': 'user3', 'likes': 0, 'retweets': 0, 'logreg_prob': 0.5129629572943901, 'logreg_result': 1, 'cnn_prob': 0.19889391958713531, 'cnn_result': 0, 'admin_result': None, 'created_at': '2024-07-25T09:11:50.806679'}, {'tweet_id': '5ad5a0d36d8502ecb7cf0734cb51bd504cef6181882f1dab651579a55e762c49', 'retweet_id': None, 'tweet': 'not a white guy with pride in this job you are a fucking pro because of this shit shit', 'user': 'user7', 'likes': 0, 'retweets': 0, 'logreg_prob': 0.8403486920870041, 'logreg_result': 1, 'cnn_prob': 0.8193396329879761, 'cnn_result': 1, 'admin_result': None, 'created_at': '2024-07-25T09:12:12.868771'}, {'tweet_id': '5fee98ebec353064f9ecbd5af16ca373f7ad6b993a4f91775fdd8d3f16c5644d', 'retweet_id': None, 'tweet': 'retweet north america american children the teens are complete pussies that compared up to in other parts of of the world', 'user': 'user4', 'likes': 0, 'retweets': 0, 'logreg_prob': 0.1452195400078687, 'logreg_result': 0, 'cnn_prob': 0.10201599448919296, 'cnn_result': 0, 'admin_result': None, 'created_at': '2024-07-25T09:12:14.908179'}, {'tweet_id': 'b047be3296bffbf00b560e3962b8efe89982edf3c30d9541505ace7bed57d921', 'retweet_id': None, 'tweet': 'you mustiness make up so majestic of a sandwich divine it takes a lot of mental capacity to put mustard on a sand which', 'user': 'user4', 'likes': 0, 'retweets': 0, 'logreg_prob': 0.7936272941285035, 'logreg_result': 1, 'cnn_prob': 0.9874801635742188, 'cnn_result': 1, 'admin_result': None, 'created_at': '2024-07-25T09:12:19.022561'}, {'tweet_id': '7c2fec67687c02aec705800269aee8bbde46be0639bf675cc43567037a397b8d', 'retweet_id': None, 'tweet': 'by the way i think the best lead would say this is a list of ancient greek macedonians but i am new to wikipedia and do not know how to change the text of a link and link to a page with a different name can someone help', 'user': 'user5', 'likes': 0, 'retweets': 0, 'logreg_prob': 0.006810470100588898, 'logreg_result': 0, 'cnn_prob': 0.02590416744351387, 'cnn_result': 0, 'admin_result': None, 'created_at': '2024-07-25T09:13:30.957132'}, {'tweet_id': '5463a695f78a80ff089bbc20d1bd477369570961eda354a382579e569d3df677', 'retweet_id': None, 'tweet': 'reply disruption please do not think me rude or take offense but i have to ask this are you trying to blackmail me', 'user': 'user6', 'likes': 0, 'retweets': 0, 'logreg_prob': 0.059476932947030395, 'logreg_result': 0, 'cnn_prob': 0.06102539598941803, 'cnn_result': 0, 'admin_result': None, 'created_at': '2024-07-25T09:13:35.084271'}, {'tweet_id': '8383f07f955c2d208a352a266c23559ea1f3c8669cc4f836f0f77703fb3ea8da', 'retweet_id': None, 'tweet': 'i just deleted info under the heading singles that said we get around is a herd single this is not true highboy a member of the group created this track totally independent of the other artists and although the initial author referenced this fact by placing highboy in brackets after the fact it still has no place here i feel such information clearly belongs on a separate page pertaining to highboy a link to which placed on this page', 'user': 'user5', 'likes': 0, 'retweets': 0, 'logreg_prob': 0.12261337554858645, 'logreg_result': 0, 'cnn_prob': 0.29763445258140564, 'cnn_result': 0, 'admin_result': None, 'created_at': '2024-07-25T09:13:58.195028'}, {'tweet_id': '0eaf93382771bde0bf079f9f84f75574b22a04c2658303030b62740bc45f0054', 'retweet_id': None, 'tweet': 'on the plus side i did get my first pair of ears as an adult and i got my name tag happy face or smiley disney traditions', 'user': 'user2', 'likes': 0, 'retweets': 0, 'logreg_prob': 0.05397126439322221, 'logreg_result': 0, 'cnn_prob': 0.01524344552308321, 'cnn_result': 0, 'admin_result': None, 'created_at': '2024-07-25T09:14:02.363998'}, {'tweet_id': '0ef5ed93edbccc8d882d0042b5928986cde328a49a8d96246fb5e00badd45480', 'retweet_id': None, 'tweet': 'i just deleted info under the heading singles that said we get around is a herd single this is not true highboy a member of the group created this track totally independent of the other artists and although the initial author referenced this fact by placing highboy in brackets after the fact it still has no place here i feel such information clearly belongs on a separate page pertaining to highboy a link to which placed on this page', 'user': 'user5', 'likes': 0, 'retweets': 0, 'logreg_prob': 0.12261337554858645, 'logreg_result': 0, 'cnn_prob': 0.29763445258140564, 'cnn_result': 0, 'admin_result': None, 'created_at': '2024-07-25T09:14:25.504310'}, {'tweet_id': '3a798a3e6ae7e405a57ee1910526c6b7db61e37d7756b55b0b113ed97718c1f7', 'retweet_id': None, 'tweet': 'look here i am a thirsty ass dummy ass bitch ass year old nina i just wanted to know if i can get a follow back please', 'user': 'user4', 'likes': 0, 'retweets': 0, 'logreg_prob': 0.5256802058750403, 'logreg_result': 1, 'cnn_prob': 0.08457732200622559, 'cnn_result': 0, 'admin_result': None, 'created_at': '2024-07-25T09:15:08.911124'}, {'tweet_id': '8724859973dc53a93723e5ce5e1d6cf04e8ed8b7fe06e105684a169f09621dfe', 'retweet_id': None, 'tweet': 'no joke a swedish lawmaker pop the question requiring manpower to stay in touch when they piss', 'user': 'user8', 'likes': 0, 'retweets': 0, 'logreg_prob': 0.6219794215859474, 'logreg_result': 1, 'cnn_prob': 0.9359527230262756, 'cnn_result': 1, 'admin_result': None, 'created_at': '2024-07-25T09:15:10.966680'}, {'tweet_id': '34bef3419537a507c876c6974cffe823b9dab92b412eda968e27b03591b7f97e', 'retweet_id': None, 'tweet': 'let s wait for the afd to end the duck', 'user': 'user4', 'likes': 0, 'retweets': 0, 'logreg_prob': 0.03930766431076316, 'logreg_result': 0, 'cnn_prob': 0.039907306432724, 'cnn_result': 0, 'admin_result': None, 'created_at': '2024-07-25T09:15:13.038739'}, {'tweet_id': 'c4d1e233858adc5c58932ba39c2319b302bb700c2e049cf2192e150368db272b', 'retweet_id': None, 'tweet': 'i pm d you a suggestion of a place to go i do not want to post it here as 1 imagine non whites read this site and testament then go along to try and run there', 'user': 'user5', 'likes': 0, 'retweets': 0, 'logreg_prob': 0.8115385531723369, 'logreg_result': 1, 'cnn_prob': 0.9858899116516113, 'cnn_result': 1, 'admin_result': None, 'created_at': '2024-07-25T09:15:32.158821'}, {'tweet_id': '588a71488dbccbc91ded93ed58fde539d1d557864cf2ee6c46531a967efb04c4', 'retweet_id': None, 'tweet': 'dave roberts is retarded', 'user': 'user1', 'likes': 0, 'retweets': 0, 'logreg_prob': 0.8998952209271549, 'logreg_result': 1, 'cnn_prob': 0.9062919616699219, 'cnn_result': 1, 'admin_result': None, 'created_at': '2024-07-25T09:15:34.226833'}, {'tweet_id': '64af7a610149d0046c0a0312422f2a36273af44576d78752aee2831658cb92c4', 'retweet_id': None, 'tweet': 'i ve asked an administrator to semi protect sharon s article for a few days hope that solves all the image issues and such talk', 'user': 'user3', 'likes': 0, 'retweets': 0, 'logreg_prob': 0.018283816618647603, 'logreg_result': 0, 'cnn_prob': 4.45126679551322e-05, 'cnn_result': 0, 'admin_result': None, 'created_at': '2024-07-25T09:15:54.268614'}, {'tweet_id': '65414b4bf425148b0e6f9bbd6b2cc081af1ca64743be8efbacc595e55c402509', 'retweet_id': None, 'tweet': 'let s wait for the afd to end the duck', 'user': 'user1', 'likes': 0, 'retweets': 0, 'logreg_prob': 0.03930766431076316, 'logreg_result': 0, 'cnn_prob': 0.039907306432724, 'cnn_result': 0, 'admin_result': None, 'created_at': '2024-07-25T09:15:58.387272'}, {'tweet_id': '5213dfb898e830fcaec0699924444eb51a79cebaec0c2909716b5a76bb0748df', 'retweet_id': None, 'tweet': 'let s wait for the afd to end the duck', 'user': 'user1', 'likes': 0, 'retweets': 0, 'logreg_prob': 0.03930766431076316, 'logreg_result': 0, 'cnn_prob': 0.039907306432724, 'cnn_result': 0, 'admin_result': None, 'created_at': '2024-07-25T09:16:20.509149'}, {'tweet_id': 'a66de2865564fbcb18226d94dd7fbcab217bfe41c252d0ec3224d9daaefd8403', 'retweet_id': None, 'tweet': 'does they man will come from shithole countries', 'user': 'user8', 'likes': 0, 'retweets': 0, 'logreg_prob': 0.9885623208828167, 'logreg_result': 1, 'cnn_prob': 0.9973528981208801, 'cnn_result': 1, 'admin_result': None, 'created_at': '2024-07-25T09:16:24.646543'}, {'tweet_id': '84f709d76200c53696d8d6b73231917baf5421f469270bdc416564c5c6056b41', 'retweet_id': None, 'tweet': 'i am sorry i made a big mistake i retract the following comment in the end they are all turd ape mutt niggers infamous results of centuries of bestiality the original true niggers more or less similar to the one in my avatar picture are confined to a few wild packs in west apefreaka', 'user': 'user8', 'likes': 0, 'retweets': 0, 'logreg_prob': 0.6771385421388276, 'logreg_result': 1, 'cnn_prob': 0.9899380207061768, 'cnn_result': 1, 'admin_result': None, 'created_at': '2024-07-25T09:16:46.693819'}, {'tweet_id': 'ad22c099e43da90608b2f77e5bf153ddbe2cb28b4e9cd69fecddb616913b9485', 'retweet_id': None, 'tweet': 'be it something thrown into a corner... call it being this person it is all the same', 'user': 'user4', 'likes': 0, 'retweets': 0, 'logreg_prob': 0.4867483864682605, 'logreg_result': 0, 'cnn_prob': 0.21763171255588531, 'cnn_result': 0, 'admin_result': None, 'created_at': '2024-07-25T09:16:48.742918'}, {'tweet_id': '87872ff38841b5bb07a88fa60e8923f187a5e5b1926e377afa95b94ace1f5e72', 'retweet_id': None, 'tweet': 'does they man will come from shithole countries', 'user': 'user1', 'likes': 0, 'retweets': 0, 'logreg_prob': 0.9885623208828167, 'logreg_result': 1, 'cnn_prob': 0.9973528981208801, 'cnn_result': 1, 'admin_result': None, 'created_at': '2024-07-25T09:17:08.881728'}, {'tweet_id': '903bfbd0f53d9a60e67c1b2e8e27d462ad4ae90414f3ba4d7f0735606ea56401', 'retweet_id': None, 'tweet': 'dave roberts is retarded', 'user': 'user4', 'likes': 0, 'retweets': 0, 'logreg_prob': 0.8998952209271549, 'logreg_result': 1, 'cnn_prob': 0.9062919616699219, 'cnn_result': 1, 'admin_result': None, 'created_at': '2024-07-25T09:17:10.935758'}, {'tweet_id': '06b7c1b4a5448c8ad4ebbb647fd6801418f57eb83e474a37a201c764ee6e03e3', 'retweet_id': None, 'tweet': 'done using popups see help reverting for the old school way', 'user': 'user3', 'likes': 0, 'retweets': 0, 'logreg_prob': 0.11357896424316476, 'logreg_result': 0, 'cnn_prob': 0.03773261979222298, 'cnn_result': 0, 'admin_result': None, 'created_at': '2024-07-25T09:17:12.989060'}, {'tweet_id': '152f89ade83e311ab25510f77a2adb952e22a2cdb217ddd06df2f3b300cb622c', 'retweet_id': None, 'tweet': 'i am in total support of increasing the number of refugees whatever bring to nz the wrap around support they require is', 'user': 'user3', 'likes': 0, 'retweets': 0, 'logreg_prob': 0.39570344850488753, 'logreg_result': 0, 'cnn_prob': 0.7393397092819214, 'cnn_result': 1, 'admin_result': None, 'created_at': '2024-07-25T09:17:37.102667'}, {'tweet_id': 'bd11eb2c42fa7dce37552e6a754af31535991a93803c3bbfce61341c923a6151', 'retweet_id': None, 'tweet': 'i understand those were star s words not yours but please let us set aside the issue of whether it is propaganda or notable or encyclopedic the question is is it unclear whatever seem to be in agreement let us seymour it', 'user': 'user5', 'likes': 0, 'retweets': 0, 'logreg_prob': 0.031021621262418437, 'logreg_result': 0, 'cnn_prob': 0.018223682418465614, 'cnn_result': 0, 'admin_result': None, 'created_at': '2024-07-25T09:17:41.271096'}, {'tweet_id': '3ebd020913c17b1dba82b5421615f2babfc8abee164ee01047f9a9940fc82f40', 'retweet_id': None, 'tweet': 'does they man will come from shithole countries', 'user': 'user6', 'likes': 0, 'retweets': 0, 'logreg_prob': 0.9885623208828167, 'logreg_result': 1, 'cnn_prob': 0.9973528981208801, 'cnn_result': 1, 'admin_result': None, 'created_at': '2024-07-25T09:17:45.384237'}, {'tweet_id': '6c8e1c8cd23c826fb275748dc0dd2d40436d9935efadf36e3edbdd5690eacf74', 'retweet_id': None, 'tweet': 'dave roberts is retarded', 'user': 'user5', 'likes': 0, 'retweets': 0, 'logreg_prob': 0.8998952209271549, 'logreg_result': 1, 'cnn_prob': 0.9062919616699219, 'cnn_result': 1, 'admin_result': None, 'created_at': '2024-07-25T09:18:02.462349'}, {'tweet_id': '4a35db2d82a89c0e2ae0b944a7505a57f1068adfe5407172f125588dff17c317', 'retweet_id': None, 'tweet': 'no joke a swedish lawmaker pop the question requiring manpower to stay in touch when they piss', 'user': 'user3', 'likes': 0, 'retweets': 0, 'logreg_prob': 0.6219794215859474, 'logreg_result': 1, 'cnn_prob': 0.9359527230262756, 'cnn_result': 1, 'admin_result': None, 'created_at': '2024-07-25T09:18:22.538488'}, {'tweet_id': '3092e81d5ac6e50b8d0b526efe378e340ec5de67da80c02be2a270204be86c6d', 'retweet_id': None, 'tweet': 'let s wait for the afd to end the duck', 'user': 'user5', 'likes': 0, 'retweets': 0, 'logreg_prob': 0.03930766431076316, 'logreg_result': 0, 'cnn_prob': 0.039907306432724, 'cnn_result': 0, 'admin_result': None, 'created_at': '2024-07-25T09:18:24.599628'}, {'tweet_id': 'b27f643dd5be4d34a04d356c8dd261684c225997d2c1a444191ce6b4b98cadb6', 'retweet_id': None, 'tweet': 'unblock request had noticed that a user you had blocked has made an unblock request several days ago addressing your concerns would it be possible for you to review this request and respond please thanks for your help', 'user': 'user1', 'likes': 0, 'retweets': 0, 'logreg_prob': 0.35578, 'logreg_result': 0, 'cnn_prob': 0.00047486493713222444, 'cnn_result': 0, 'admin_result': None, 'created_at': '2024-07-25T09:33:43.386459'}, {'tweet_id': '673640204efd0093716ee8bbede30d524d417bfa9e6a1e9ddc911f9f4a81b810', 'retweet_id': None, 'tweet': 'many women just are not about', 'user': 'user1', 'likes': 0, 'retweets': 0, 'logreg_prob': 0.35578, 'logreg_result': 0, 'cnn_prob': 0.8876556158065796, 'cnn_result': 1, 'admin_result': None, 'created_at': '2024-07-25T09:33:47.467563'}, {'tweet_id': 'f5cad568e5159f07bf3b21868b48d072e013119d423efd76c4c2544628e69f03', 'retweet_id': None, 'tweet': 'did not like that guys he is just saying therefore we prattle from his mouth to be ॥', 'user': 'user5', 'likes': 0, 'retweets': 0, 'logreg_prob': 0.35578, 'logreg_result': 0, 'cnn_prob': 0.9984155893325806, 'cnn_result': 1, 'admin_result': None, 'created_at': '2024-07-25T09:34:06.535735'}, {'tweet_id': '6fe483f29ee7a2e67d9ff28294268b48a315ce757b5fa7435846ec84c5bf225c', 'retweet_id': None, 'tweet': 'sorry my bad i chose that symbol totally at random i have never heard of the cross being reserved for dead people', 'user': 'user5', 'likes': 0, 'retweets': 0, 'logreg_prob': 0.35578, 'logreg_result': 0, 'cnn_prob': 0.7709493637084961, 'cnn_result': 1, 'admin_result': None, 'created_at': '2024-07-25T09:34:08.608250'}, {'tweet_id': '6d83975f7d9afdabe8b68b1d95628e6c5b3817a6b95931fec65e8511630457b6', 'retweet_id': None, 'tweet': 'many women just are not about', 'user': 'user2', 'likes': 0, 'retweets': 0, 'logreg_prob': 0.35578, 'logreg_result': 0, 'cnn_prob': 0.8876556158065796, 'cnn_result': 1, 'admin_result': None, 'created_at': '2024-07-25T09:34:52.283379'}, {'tweet_id': '434e5197ef77bfb05e79cb0cdb044c72a53d975dd435b9b082bbbb35e29bf6dc', 'retweet_id': None, 'tweet': 'a third defendant the jew gary german of brooklyn remains on the loose', 'user': 'user4', 'likes': 0, 'retweets': 0, 'logreg_prob': 0.35578, 'logreg_result': 0, 'cnn_prob': 0.8964628577232361, 'cnn_result': 1, 'admin_result': None, 'created_at': '2024-07-25T09:35:11.440107'}, {'tweet_id': 'e7fb20bcafb0b7b2f161e20f8fb78a594be85d1a4f62bd3c1c0369734dd3e57d', 'retweet_id': None, 'tweet': 'protect against skeptic vandals like dream guy someone puts in grossly wrong factual info now how can a non admin like me put on a block please reply do not ignore thanks eckford', 'user': 'user2', 'likes': 0, 'retweets': 0, 'logreg_prob': 0.35578, 'logreg_result': 0, 'cnn_prob': 0.007177697494626045, 'cnn_result': 0, 'admin_result': None, 'created_at': '2024-07-25T09:35:15.516143'}, {'tweet_id': 'd739ab32fd71adf9eba76cd70ce15a29997b6d62b9a771138b020c7950b7869c', 'retweet_id': None, 'tweet': 'i hope you all accidentally get a fat black bitch pregnant', 'user': 'user3', 'likes': 0, 'retweets': 0, 'logreg_prob': 0.35578, 'logreg_result': 0, 'cnn_prob': 0.8419561386108398, 'cnn_result': 1, 'admin_result': None, 'created_at': '2024-07-25T09:35:38.650372'}, {'tweet_id': '9c3240f2572bd641b0716b9491326c124e7150734684944fb44f5f34a6f8b964', 'retweet_id': None, 'tweet': 'unblock request had noticed that a user you had blocked has made an unblock request several days ago addressing your concerns would it be possible for you to review this request and respond please thanks for your help', 'user': 'user5', 'likes': 0, 'retweets': 0, 'logreg_prob': 0.35578, 'logreg_result': 0, 'cnn_prob': 0.00047486493713222444, 'cnn_result': 0, 'admin_result': None, 'created_at': '2024-07-25T09:35:42.759887'}, {'tweet_id': 'b729a48f03b77fcb74291c17706fcecadf76cb144107482dd44a460851c9c4ca', 'retweet_id': None, 'tweet': 'i still want to know what you have accomplished', 'user': 'user4', 'likes': 0, 'retweets': 0, 'logreg_prob': 0.35578, 'logreg_result': 0, 'cnn_prob': 0.22474034130573273, 'cnn_result': 0, 'admin_result': None, 'created_at': '2024-07-25T09:36:02.909464'}, {'tweet_id': 'ab76a6d15d66ce67aacebee4d5d88cd3cb397894165730659d0107f89b479e00', 'retweet_id': None, 'tweet': 'haha zen bench vise state public figure like nap rid', 'user': 'user3', 'likes': 0, 'retweets': 0, 'logreg_prob': 0.35578, 'logreg_result': 0, 'cnn_prob': 0.3071504831314087, 'cnn_result': 0, 'admin_result': None, 'created_at': '2024-07-25T09:36:07.063689'}]\n",
      "Time span:  0 days 00:45:42.204316\n"
     ]
    },
    {
     "data": {
      "image/png": "[encoded data removed]",
      "text/plain": [
       "<Figure size 1200x600 with 1 Axes>"
      ]
     },
     "metadata": {},
     "output_type": "display_data"
    }
   ],
   "source": [
    "import pandas as pd\n",
    "import matplotlib.pyplot as plt\n",
    "from datetime import datetime\n",
    "\n",
    "tweets_data = fetch_all_tweets()\n",
    "print(\"Fetched tweets data: \", tweets_data)\n",
    "\n",
    "if tweets_data:\n",
    "    # Convert to DataFrame\n",
    "    df = pd.DataFrame(tweets_data)\n",
    "    # Convert 'created_at' to datetime\n",
    "    df['created_at'] = pd.to_datetime(df['created_at'])\n",
    "\n",
    "    # Filter unsafe tweets (those flagged by CNN or admin)\n",
    "    unsafe_tweets = df[(df['cnn_result'] == 1) | (df['admin_result'] == 1)]\n",
    "\n",
    "    if not df.empty:\n",
    "        # Set 'created_at' as index for resampling\n",
    "        df.set_index('created_at', inplace=True)\n",
    "        unsafe_tweets.set_index('created_at', inplace=True)\n",
    "\n",
    "        # Determine the time span of the data\n",
    "        time_span = df.index.max() - df.index.min()\n",
    "        print(\"Time span: \", time_span)\n",
    "        # Set dynamic resampling frequency\n",
    "        if time_span <= pd.Timedelta(hours=1):\n",
    "            resample_freq = '3min'\n",
    "        elif time_span <= pd.Timedelta(hours=3):\n",
    "            resample_freq = '30min'\n",
    "        else:\n",
    "            resample_freq = '1H'\n",
    "\n",
    "        # Resample data\n",
    "        total_tweets_over_time = df.resample(resample_freq).size()\n",
    "        unsafe_tweets_over_time = unsafe_tweets.resample(resample_freq).size()\n",
    "\n",
    "        # Plot the number of total and unsafe tweets over time\n",
    "        fig, ax = plt.subplots(figsize=(12, 6))  # Specify figure size\n",
    "        total_tweets_over_time.plot(ax=ax, label='Total Tweets', color='blue', linestyle='--')\n",
    "        unsafe_tweets_over_time.plot(ax=ax, label='Unsafe Tweets', color='red', marker='o', linestyle='-')\n",
    "\n",
    "        ax.set_title('Number of Tweets Over Time')\n",
    "        ax.set_xlabel('Time')\n",
    "        ax.set_ylabel('Number of Tweets')\n",
    "        ax.legend()\n",
    "        ax.grid(True)\n",
    "\n",
    "        # Rotate x-axis labels for better readability\n",
    "        plt.xticks(rotation=45)\n",
    "\n",
    "        # Display plot\n",
    "        plt.show()\n",
    "    else:\n",
    "        print(\"No tweets available for plotting.\")\n",
    "else:\n",
    "    print(\"No tweet data available.\")"
   ]
  },
  {
   "cell_type": "code",
   "execution_count": null,
   "metadata": {},
   "outputs": [],
   "source": [
    "import requests\n",
    "\n",
    "base_url = \"http://localhost:8000\"\n",
    "\n",
    "def delete_oldest_tweets():\n",
    "    response = requests.delete(f'{base_url}/delete_oldest_tweets')\n",
    "    if response.status_code == 200:\n",
    "        print(\"Successfully deleted the oldest tweets.\")\n",
    "    else:\n",
    "        print(f\"Failed to delete tweets. Status code: {response.status_code}, Detail: {response.json().get('detail')}\")\n"
   ]
  },
  {
   "cell_type": "markdown",
   "metadata": {},
   "source": [
    "## graph of user performance"
   ]
  },
  {
   "cell_type": "markdown",
   "metadata": {},
   "source": [
    "fetch data and create dataframes"
   ]
  },
  {
   "cell_type": "code",
   "execution_count": 97,
   "metadata": {},
   "outputs": [
    {
     "name": "stdout",
     "output_type": "stream",
     "text": [
      "Fetched tweets data:  [{'tweet_id': 'bc3f6415', 'retweet_id': None, 'tweet': 'here is the thing when i occasionally see my ex who constitute now a man and is not even attractive my penis is instantly rock solid and i could literally go for hours if i want to societies what the fuck is happening to me i am able to get pavlovian style boners for my transsexual ex but so pretty much none otherwise non even when looking at movie of other women', 'user': 'user4', 'likes': 0, 'retweets': 0, 'logreg_prob': 0.9426726348427348, 'logreg_result': 1, 'cnn_prob': 0.919892430305481, 'cnn_result': 1, 'admin_result': None, 'created_at': '2024-07-25T08:50:24.859373'}, {'tweet_id': '750bd826', 'retweet_id': None, 'tweet': 'and she still is my wife and then i will treat her however long i want to', 'user': 'user5', 'likes': 0, 'retweets': 0, 'logreg_prob': 0.6398188868252725, 'logreg_result': 1, 'cnn_prob': 0.7360249161720276, 'cnn_result': 1, 'admin_result': None, 'created_at': '2024-07-25T08:50:41.912852'}, {'tweet_id': '7ab4179f', 'retweet_id': None, 'tweet': 'the money', 'user': 'user3', 'likes': 0, 'retweets': 0, 'logreg_prob': 0.4065891763586682, 'logreg_result': 0, 'cnn_prob': 0.28456008434295654, 'cnn_result': 0, 'admin_result': 1, 'created_at': '2024-07-25T08:50:43.998954'}, {'tweet_id': '324e1ab5', 'retweet_id': None, 'tweet': 'pay no attention to the draft dodging charlatan behind the curtain lol fuck trump dumbdonnythedraftdodgingdotard draftdodgerdonny', 'user': 'user3', 'likes': 0, 'retweets': 0, 'logreg_prob': 0.5014539332244236, 'logreg_result': 1, 'cnn_prob': 0.5913766026496887, 'cnn_result': 1, 'admin_result': None, 'created_at': '2024-07-25T08:51:07.116569'}, {'tweet_id': '941690bc', 'retweet_id': None, 'tweet': 'ma radio rate sto homes ali mi nemo to acetate ako je to tbi okay ja to picture ali men nice pa bi bill for the i vi to postulate', 'user': 'user2', 'likes': 0, 'retweets': 0, 'logreg_prob': 0.921915640563197, 'logreg_result': 1, 'cnn_prob': 0.9636634588241577, 'cnn_result': 1, 'admin_result': None, 'created_at': '2024-07-25T08:51:09.194105'}, {'tweet_id': 'f59e7467', 'retweet_id': None, 'tweet': 'i m going to get the aclu on you you racist antiquating gringo we are going to be the majority of this country in years so shut up and do not revert my edits the aclu is on you for infringing my first amendment rights', 'user': 'user3', 'likes': 0, 'retweets': 0, 'logreg_prob': 0.6754728646418151, 'logreg_result': 1, 'cnn_prob': 0.9980117082595825, 'cnn_result': 1, 'admin_result': None, 'created_at': '2024-07-25T08:51:26.271548'}, {'tweet_id': 'df6a0975', 'retweet_id': None, 'tweet': 'samo dobro vile as the midis di za loser they piss off bobby but mike lay on the bed laughing', 'user': 'user7', 'likes': 0, 'retweets': 0, 'logreg_prob': 0.9027229248133237, 'logreg_result': 1, 'cnn_prob': 0.9595199227333069, 'cnn_result': 1, 'admin_result': None, 'created_at': '2024-07-25T08:51:28.350330'}, {'tweet_id': 'e2a28598', 'retweet_id': None, 'tweet': 'if you goddamn system is a down is easy i may hold a real goddamn retard and should fucking die over a fucking fire', 'user': 'user8', 'likes': 0, 'retweets': 0, 'logreg_prob': 0.9999093731117084, 'logreg_result': 1, 'cnn_prob': 0.9997546076774597, 'cnn_result': 1, 'admin_result': None, 'created_at': '2024-07-25T08:51:50.428960'}, {'tweet_id': '28f43075', 'retweet_id': None, 'tweet': 'nova neljudi', 'user': 'user2', 'likes': 0, 'retweets': 0, 'logreg_prob': 0.6704184237251681, 'logreg_result': 1, 'cnn_prob': 0.9122397899627686, 'cnn_result': 1, 'admin_result': None, 'created_at': '2024-07-25T08:52:11.473441'}, {'tweet_id': '53100703', 'retweet_id': None, 'tweet': 'both of these two people are gay kids and need to be taught a big lesson from their daddy so do not interrupt', 'user': 'user5', 'likes': 0, 'retweets': 0, 'logreg_prob': 0.8528481413121614, 'logreg_result': 1, 'cnn_prob': 0.7569732069969177, 'cnn_result': 1, 'admin_result': None, 'created_at': '2024-07-25T08:52:30.558860'}, {'tweet_id': '81de6805', 'retweet_id': None, 'tweet': 'the main movement is...', 'user': 'user3', 'likes': 0, 'retweets': 0, 'logreg_prob': 0.08258694426618535, 'logreg_result': 0, 'cnn_prob': 0.2094162255525589, 'cnn_result': 0, 'admin_result': 1, 'created_at': '2024-07-25T08:52:48.634960'}, {'tweet_id': 'bec72faf', 'retweet_id': None, 'tweet': 'molag bad and his cedric puppets are dead', 'user': 'user5', 'likes': 0, 'retweets': 0, 'logreg_prob': 0.7434425870462239, 'logreg_result': 1, 'cnn_prob': 0.3276400566101074, 'cnn_result': 0, 'admin_result': None, 'created_at': '2024-07-25T08:52:52.783740'}, {'tweet_id': '2e0e1ca6', 'retweet_id': None, 'tweet': 'renewed revert wars hey byway welcome back but when i said to return after waiting out your block i did not mean for you to return and re start the revert warring exactly where you left it let me make it clear that this will still be seen as disruption and i very strongly advise you not to even approach by wide margin this time admins can block for disruption in repeat cases even without being touched technically', 'user': 'user7', 'likes': 0, 'retweets': 0, 'logreg_prob': 0.42988216472714574, 'logreg_result': 0, 'cnn_prob': 0.07171188294887543, 'cnn_result': 0, 'admin_result': None, 'created_at': '2024-07-25T08:53:15.898956'}, {'tweet_id': '4bce7cdc', 'retweet_id': None, 'tweet': 'the fucking scum of the world those who vote brexit senseless disgusting people', 'user': 'user1', 'likes': 0, 'retweets': 0, 'logreg_prob': 0.8502318839311763, 'logreg_result': 1, 'cnn_prob': 0.7653614282608032, 'cnn_result': 1, 'admin_result': None, 'created_at': '2024-07-25T08:53:40.008856'}, {'tweet_id': '267f9a8f', 'retweet_id': None, 'tweet': 'mate it is in newcastle it what a slut down bath it is fucking bras sic cold', 'user': 'user4', 'likes': 0, 'retweets': 0, 'logreg_prob': 0.1298879143873468, 'logreg_result': 0, 'cnn_prob': 0.029183169826865196, 'cnn_result': 0, 'admin_result': None, 'created_at': '2024-07-25T08:53:59.079262'}, {'tweet_id': '833f05ee', 'retweet_id': None, 'tweet': 'possible error there be an error in this article regarding participation in the match according to the national resident matching program s website it appears that international medical students can participate in the match prior to receiving their cmg certification and hence prior to graduating from medical school so long as they have completed usmle steps', 'user': 'user5', 'likes': 0, 'retweets': 0, 'logreg_prob': 0.027009978461593684, 'logreg_result': 0, 'cnn_prob': 0.009558595716953278, 'cnn_result': 0, 'admin_result': None, 'created_at': '2024-07-25T08:54:03.193872'}, {'tweet_id': '2d0ed1a7', 'retweet_id': None, 'tweet': 'she went full', 'user': 'user7', 'likes': 0, 'retweets': 0, 'logreg_prob': 0.6923528528020354, 'logreg_result': 1, 'cnn_prob': 0.7739028930664062, 'cnn_result': 1, 'admin_result': None, 'created_at': '2024-07-25T08:54:27.308101'}, {'tweet_id': '8c120ba0', 'retweet_id': None, 'tweet': 'i butter is butter the references given see discussion on this above on this are improperly given what is given appears to be little more than a google screen scrape i managed to find both references and they do not support this usage the use in these publications is not to define but to indicate the broad category peanut butter if placed in the category of a nut butter is also in the category if butter substitute but it is not a type of margarine which is what this product is possibly it might be helpful to say that the product is commonly used to substitute butter but it does not help in the basic definition', 'user': 'user6', 'likes': 0, 'retweets': 0, 'logreg_prob': 0.013638184500358214, 'logreg_result': 0, 'cnn_prob': 0.0016898777103051543, 'cnn_result': 0, 'admin_result': None, 'created_at': '2024-07-25T08:54:48.469604'}, {'tweet_id': '00a628267ee60cf699de81025777fe51b87f320cab204bebb1d7ba3017b4c1eb', 'retweet_id': None, 'tweet': 'beef stfu single did not ask you something shithead hoe and obsessed shut you dirty ass because whatever all screw esme what a slut so taken up with me that she hold on subtweeting astir me looooooool', 'user': 'user2', 'likes': 0, 'retweets': 0, 'logreg_prob': 0.9987242171406582, 'logreg_result': 1, 'cnn_prob': 0.9984803199768066, 'cnn_result': 1, 'admin_result': None, 'created_at': '2024-07-25T09:10:49.421614'}, {'tweet_id': '33f5245fd9f31ea1079a3df3b0575bbf09755ad838b9985afbe84f94f700842a', 'retweet_id': None, 'tweet': 'not a white guy with pride in this job you are a fucking pro because of this shit shit', 'user': 'user1', 'likes': 0, 'retweets': 0, 'logreg_prob': 0.8403486920870041, 'logreg_result': 1, 'cnn_prob': 0.8193396329879761, 'cnn_result': 1, 'admin_result': None, 'created_at': '2024-07-25T09:10:51.479801'}, {'tweet_id': '59bc532acac9428d670e5a967acd369eb31b49444779f4bd0f3510a8462951d4', 'retweet_id': None, 'tweet': 'beef stfu single did not ask you something shithead hoe and obsessed shut you dirty ass because whatever all screw esme what a slut so taken up with me that she hold on subtweeting astir me looooooool', 'user': 'user7', 'likes': 0, 'retweets': 0, 'logreg_prob': 0.9987242171406582, 'logreg_result': 1, 'cnn_prob': 0.9984803199768066, 'cnn_result': 1, 'admin_result': None, 'created_at': '2024-07-25T09:11:10.569754'}, {'tweet_id': '5e7e1247213cb7a3b49ace092cc41c8184023855c1c49eee5bf8d47d8ac8b24d', 'retweet_id': None, 'tweet': 'beef stfu single did not ask you something shithead hoe and obsessed shut you dirty ass because whatever all screw esme what a slut so taken up with me that she hold on subtweeting astir me looooooool', 'user': 'user5', 'likes': 0, 'retweets': 0, 'logreg_prob': 0.9987242171406582, 'logreg_result': 1, 'cnn_prob': 0.9984803199768066, 'cnn_result': 1, 'admin_result': None, 'created_at': '2024-07-25T09:11:30.661357'}, {'tweet_id': '45cc063548d3c77a90acab60592202366522a1bf19f35c24aca165da25568a83', 'retweet_id': None, 'tweet': 'shake hands with who ever stool shoot this pussy', 'user': 'user8', 'likes': 0, 'retweets': 0, 'logreg_prob': 0.5129629572943901, 'logreg_result': 1, 'cnn_prob': 0.19889391958713531, 'cnn_result': 0, 'admin_result': None, 'created_at': '2024-07-25T09:11:32.724623'}, {'tweet_id': '2317182f45e882d483527db4fbc840c281fe8eaf479c6de5635d40153305fa6a', 'retweet_id': None, 'tweet': 'shake hands with who ever stool shoot this pussy', 'user': 'user3', 'likes': 0, 'retweets': 0, 'logreg_prob': 0.5129629572943901, 'logreg_result': 1, 'cnn_prob': 0.19889391958713531, 'cnn_result': 0, 'admin_result': None, 'created_at': '2024-07-25T09:11:50.806679'}, {'tweet_id': '5ad5a0d36d8502ecb7cf0734cb51bd504cef6181882f1dab651579a55e762c49', 'retweet_id': None, 'tweet': 'not a white guy with pride in this job you are a fucking pro because of this shit shit', 'user': 'user7', 'likes': 0, 'retweets': 0, 'logreg_prob': 0.8403486920870041, 'logreg_result': 1, 'cnn_prob': 0.8193396329879761, 'cnn_result': 1, 'admin_result': None, 'created_at': '2024-07-25T09:12:12.868771'}, {'tweet_id': '5fee98ebec353064f9ecbd5af16ca373f7ad6b993a4f91775fdd8d3f16c5644d', 'retweet_id': None, 'tweet': 'retweet north america american children the teens are complete pussies that compared up to in other parts of of the world', 'user': 'user4', 'likes': 0, 'retweets': 0, 'logreg_prob': 0.1452195400078687, 'logreg_result': 0, 'cnn_prob': 0.10201599448919296, 'cnn_result': 0, 'admin_result': 1, 'created_at': '2024-07-25T09:12:14.908179'}, {'tweet_id': 'b047be3296bffbf00b560e3962b8efe89982edf3c30d9541505ace7bed57d921', 'retweet_id': None, 'tweet': 'you mustiness make up so majestic of a sandwich divine it takes a lot of mental capacity to put mustard on a sand which', 'user': 'user4', 'likes': 0, 'retweets': 0, 'logreg_prob': 0.7936272941285035, 'logreg_result': 1, 'cnn_prob': 0.9874801635742188, 'cnn_result': 1, 'admin_result': None, 'created_at': '2024-07-25T09:12:19.022561'}, {'tweet_id': '7c2fec67687c02aec705800269aee8bbde46be0639bf675cc43567037a397b8d', 'retweet_id': None, 'tweet': 'by the way i think the best lead would say this is a list of ancient greek macedonians but i am new to wikipedia and do not know how to change the text of a link and link to a page with a different name can someone help', 'user': 'user5', 'likes': 0, 'retweets': 0, 'logreg_prob': 0.006810470100588898, 'logreg_result': 0, 'cnn_prob': 0.02590416744351387, 'cnn_result': 0, 'admin_result': None, 'created_at': '2024-07-25T09:13:30.957132'}, {'tweet_id': '5463a695f78a80ff089bbc20d1bd477369570961eda354a382579e569d3df677', 'retweet_id': None, 'tweet': 'reply disruption please do not think me rude or take offense but i have to ask this are you trying to blackmail me', 'user': 'user6', 'likes': 0, 'retweets': 0, 'logreg_prob': 0.059476932947030395, 'logreg_result': 0, 'cnn_prob': 0.06102539598941803, 'cnn_result': 0, 'admin_result': None, 'created_at': '2024-07-25T09:13:35.084271'}, {'tweet_id': '8383f07f955c2d208a352a266c23559ea1f3c8669cc4f836f0f77703fb3ea8da', 'retweet_id': None, 'tweet': 'i just deleted info under the heading singles that said we get around is a herd single this is not true highboy a member of the group created this track totally independent of the other artists and although the initial author referenced this fact by placing highboy in brackets after the fact it still has no place here i feel such information clearly belongs on a separate page pertaining to highboy a link to which placed on this page', 'user': 'user5', 'likes': 0, 'retweets': 0, 'logreg_prob': 0.12261337554858645, 'logreg_result': 0, 'cnn_prob': 0.29763445258140564, 'cnn_result': 0, 'admin_result': 1, 'created_at': '2024-07-25T09:13:58.195028'}, {'tweet_id': '0eaf93382771bde0bf079f9f84f75574b22a04c2658303030b62740bc45f0054', 'retweet_id': None, 'tweet': 'on the plus side i did get my first pair of ears as an adult and i got my name tag happy face or smiley disney traditions', 'user': 'user2', 'likes': 0, 'retweets': 0, 'logreg_prob': 0.05397126439322221, 'logreg_result': 0, 'cnn_prob': 0.01524344552308321, 'cnn_result': 0, 'admin_result': None, 'created_at': '2024-07-25T09:14:02.363998'}, {'tweet_id': '0ef5ed93edbccc8d882d0042b5928986cde328a49a8d96246fb5e00badd45480', 'retweet_id': None, 'tweet': 'i just deleted info under the heading singles that said we get around is a herd single this is not true highboy a member of the group created this track totally independent of the other artists and although the initial author referenced this fact by placing highboy in brackets after the fact it still has no place here i feel such information clearly belongs on a separate page pertaining to highboy a link to which placed on this page', 'user': 'user5', 'likes': 0, 'retweets': 0, 'logreg_prob': 0.12261337554858645, 'logreg_result': 0, 'cnn_prob': 0.29763445258140564, 'cnn_result': 0, 'admin_result': None, 'created_at': '2024-07-25T09:14:25.504310'}, {'tweet_id': '3a798a3e6ae7e405a57ee1910526c6b7db61e37d7756b55b0b113ed97718c1f7', 'retweet_id': None, 'tweet': 'look here i am a thirsty ass dummy ass bitch ass year old nina i just wanted to know if i can get a follow back please', 'user': 'user4', 'likes': 0, 'retweets': 0, 'logreg_prob': 0.5256802058750403, 'logreg_result': 1, 'cnn_prob': 0.08457732200622559, 'cnn_result': 0, 'admin_result': None, 'created_at': '2024-07-25T09:15:08.911124'}, {'tweet_id': '8724859973dc53a93723e5ce5e1d6cf04e8ed8b7fe06e105684a169f09621dfe', 'retweet_id': None, 'tweet': 'no joke a swedish lawmaker pop the question requiring manpower to stay in touch when they piss', 'user': 'user8', 'likes': 0, 'retweets': 0, 'logreg_prob': 0.6219794215859474, 'logreg_result': 1, 'cnn_prob': 0.9359527230262756, 'cnn_result': 1, 'admin_result': None, 'created_at': '2024-07-25T09:15:10.966680'}, {'tweet_id': '34bef3419537a507c876c6974cffe823b9dab92b412eda968e27b03591b7f97e', 'retweet_id': None, 'tweet': 'let s wait for the afd to end the duck', 'user': 'user4', 'likes': 0, 'retweets': 0, 'logreg_prob': 0.03930766431076316, 'logreg_result': 0, 'cnn_prob': 0.039907306432724, 'cnn_result': 0, 'admin_result': None, 'created_at': '2024-07-25T09:15:13.038739'}, {'tweet_id': 'c4d1e233858adc5c58932ba39c2319b302bb700c2e049cf2192e150368db272b', 'retweet_id': None, 'tweet': 'i pm d you a suggestion of a place to go i do not want to post it here as 1 imagine non whites read this site and testament then go along to try and run there', 'user': 'user5', 'likes': 0, 'retweets': 0, 'logreg_prob': 0.8115385531723369, 'logreg_result': 1, 'cnn_prob': 0.9858899116516113, 'cnn_result': 1, 'admin_result': None, 'created_at': '2024-07-25T09:15:32.158821'}, {'tweet_id': '588a71488dbccbc91ded93ed58fde539d1d557864cf2ee6c46531a967efb04c4', 'retweet_id': None, 'tweet': 'dave roberts is retarded', 'user': 'user1', 'likes': 0, 'retweets': 0, 'logreg_prob': 0.8998952209271549, 'logreg_result': 1, 'cnn_prob': 0.9062919616699219, 'cnn_result': 1, 'admin_result': None, 'created_at': '2024-07-25T09:15:34.226833'}, {'tweet_id': '64af7a610149d0046c0a0312422f2a36273af44576d78752aee2831658cb92c4', 'retweet_id': None, 'tweet': 'i ve asked an administrator to semi protect sharon s article for a few days hope that solves all the image issues and such talk', 'user': 'user3', 'likes': 0, 'retweets': 0, 'logreg_prob': 0.018283816618647603, 'logreg_result': 0, 'cnn_prob': 4.45126679551322e-05, 'cnn_result': 0, 'admin_result': None, 'created_at': '2024-07-25T09:15:54.268614'}, {'tweet_id': '65414b4bf425148b0e6f9bbd6b2cc081af1ca64743be8efbacc595e55c402509', 'retweet_id': None, 'tweet': 'let s wait for the afd to end the duck', 'user': 'user1', 'likes': 0, 'retweets': 0, 'logreg_prob': 0.03930766431076316, 'logreg_result': 0, 'cnn_prob': 0.039907306432724, 'cnn_result': 0, 'admin_result': None, 'created_at': '2024-07-25T09:15:58.387272'}, {'tweet_id': '5213dfb898e830fcaec0699924444eb51a79cebaec0c2909716b5a76bb0748df', 'retweet_id': None, 'tweet': 'let s wait for the afd to end the duck', 'user': 'user1', 'likes': 0, 'retweets': 0, 'logreg_prob': 0.03930766431076316, 'logreg_result': 0, 'cnn_prob': 0.039907306432724, 'cnn_result': 0, 'admin_result': None, 'created_at': '2024-07-25T09:16:20.509149'}, {'tweet_id': 'a66de2865564fbcb18226d94dd7fbcab217bfe41c252d0ec3224d9daaefd8403', 'retweet_id': None, 'tweet': 'does they man will come from shithole countries', 'user': 'user8', 'likes': 0, 'retweets': 0, 'logreg_prob': 0.9885623208828167, 'logreg_result': 1, 'cnn_prob': 0.9973528981208801, 'cnn_result': 1, 'admin_result': None, 'created_at': '2024-07-25T09:16:24.646543'}, {'tweet_id': '84f709d76200c53696d8d6b73231917baf5421f469270bdc416564c5c6056b41', 'retweet_id': None, 'tweet': 'i am sorry i made a big mistake i retract the following comment in the end they are all turd ape mutt niggers infamous results of centuries of bestiality the original true niggers more or less similar to the one in my avatar picture are confined to a few wild packs in west apefreaka', 'user': 'user8', 'likes': 0, 'retweets': 0, 'logreg_prob': 0.6771385421388276, 'logreg_result': 1, 'cnn_prob': 0.9899380207061768, 'cnn_result': 1, 'admin_result': None, 'created_at': '2024-07-25T09:16:46.693819'}, {'tweet_id': 'ad22c099e43da90608b2f77e5bf153ddbe2cb28b4e9cd69fecddb616913b9485', 'retweet_id': None, 'tweet': 'be it something thrown into a corner... call it being this person it is all the same', 'user': 'user4', 'likes': 0, 'retweets': 0, 'logreg_prob': 0.4867483864682605, 'logreg_result': 0, 'cnn_prob': 0.21763171255588531, 'cnn_result': 0, 'admin_result': None, 'created_at': '2024-07-25T09:16:48.742918'}, {'tweet_id': '87872ff38841b5bb07a88fa60e8923f187a5e5b1926e377afa95b94ace1f5e72', 'retweet_id': None, 'tweet': 'does they man will come from shithole countries', 'user': 'user1', 'likes': 0, 'retweets': 0, 'logreg_prob': 0.9885623208828167, 'logreg_result': 1, 'cnn_prob': 0.9973528981208801, 'cnn_result': 1, 'admin_result': None, 'created_at': '2024-07-25T09:17:08.881728'}, {'tweet_id': '903bfbd0f53d9a60e67c1b2e8e27d462ad4ae90414f3ba4d7f0735606ea56401', 'retweet_id': None, 'tweet': 'dave roberts is retarded', 'user': 'user4', 'likes': 0, 'retweets': 0, 'logreg_prob': 0.8998952209271549, 'logreg_result': 1, 'cnn_prob': 0.9062919616699219, 'cnn_result': 1, 'admin_result': None, 'created_at': '2024-07-25T09:17:10.935758'}, {'tweet_id': '06b7c1b4a5448c8ad4ebbb647fd6801418f57eb83e474a37a201c764ee6e03e3', 'retweet_id': None, 'tweet': 'done using popups see help reverting for the old school way', 'user': 'user3', 'likes': 0, 'retweets': 0, 'logreg_prob': 0.11357896424316476, 'logreg_result': 0, 'cnn_prob': 0.03773261979222298, 'cnn_result': 0, 'admin_result': None, 'created_at': '2024-07-25T09:17:12.989060'}, {'tweet_id': '152f89ade83e311ab25510f77a2adb952e22a2cdb217ddd06df2f3b300cb622c', 'retweet_id': None, 'tweet': 'i am in total support of increasing the number of refugees whatever bring to nz the wrap around support they require is', 'user': 'user3', 'likes': 0, 'retweets': 0, 'logreg_prob': 0.39570344850488753, 'logreg_result': 0, 'cnn_prob': 0.7393397092819214, 'cnn_result': 1, 'admin_result': None, 'created_at': '2024-07-25T09:17:37.102667'}, {'tweet_id': 'bd11eb2c42fa7dce37552e6a754af31535991a93803c3bbfce61341c923a6151', 'retweet_id': None, 'tweet': 'i understand those were star s words not yours but please let us set aside the issue of whether it is propaganda or notable or encyclopedic the question is is it unclear whatever seem to be in agreement let us seymour it', 'user': 'user5', 'likes': 0, 'retweets': 0, 'logreg_prob': 0.031021621262418437, 'logreg_result': 0, 'cnn_prob': 0.018223682418465614, 'cnn_result': 0, 'admin_result': None, 'created_at': '2024-07-25T09:17:41.271096'}, {'tweet_id': '3ebd020913c17b1dba82b5421615f2babfc8abee164ee01047f9a9940fc82f40', 'retweet_id': None, 'tweet': 'does they man will come from shithole countries', 'user': 'user6', 'likes': 0, 'retweets': 0, 'logreg_prob': 0.9885623208828167, 'logreg_result': 1, 'cnn_prob': 0.9973528981208801, 'cnn_result': 1, 'admin_result': None, 'created_at': '2024-07-25T09:17:45.384237'}, {'tweet_id': '6c8e1c8cd23c826fb275748dc0dd2d40436d9935efadf36e3edbdd5690eacf74', 'retweet_id': None, 'tweet': 'dave roberts is retarded', 'user': 'user5', 'likes': 0, 'retweets': 0, 'logreg_prob': 0.8998952209271549, 'logreg_result': 1, 'cnn_prob': 0.9062919616699219, 'cnn_result': 1, 'admin_result': None, 'created_at': '2024-07-25T09:18:02.462349'}, {'tweet_id': '4a35db2d82a89c0e2ae0b944a7505a57f1068adfe5407172f125588dff17c317', 'retweet_id': None, 'tweet': 'no joke a swedish lawmaker pop the question requiring manpower to stay in touch when they piss', 'user': 'user3', 'likes': 0, 'retweets': 0, 'logreg_prob': 0.6219794215859474, 'logreg_result': 1, 'cnn_prob': 0.9359527230262756, 'cnn_result': 1, 'admin_result': None, 'created_at': '2024-07-25T09:18:22.538488'}, {'tweet_id': '3092e81d5ac6e50b8d0b526efe378e340ec5de67da80c02be2a270204be86c6d', 'retweet_id': None, 'tweet': 'let s wait for the afd to end the duck', 'user': 'user5', 'likes': 0, 'retweets': 0, 'logreg_prob': 0.03930766431076316, 'logreg_result': 0, 'cnn_prob': 0.039907306432724, 'cnn_result': 0, 'admin_result': None, 'created_at': '2024-07-25T09:18:24.599628'}, {'tweet_id': 'b27f643dd5be4d34a04d356c8dd261684c225997d2c1a444191ce6b4b98cadb6', 'retweet_id': None, 'tweet': 'unblock request had noticed that a user you had blocked has made an unblock request several days ago addressing your concerns would it be possible for you to review this request and respond please thanks for your help', 'user': 'user1', 'likes': 0, 'retweets': 0, 'logreg_prob': 0.35578, 'logreg_result': 0, 'cnn_prob': 0.00047486493713222444, 'cnn_result': 0, 'admin_result': None, 'created_at': '2024-07-25T09:33:43.386459'}, {'tweet_id': '673640204efd0093716ee8bbede30d524d417bfa9e6a1e9ddc911f9f4a81b810', 'retweet_id': None, 'tweet': 'many women just are not about', 'user': 'user1', 'likes': 0, 'retweets': 0, 'logreg_prob': 0.35578, 'logreg_result': 0, 'cnn_prob': 0.8876556158065796, 'cnn_result': 1, 'admin_result': None, 'created_at': '2024-07-25T09:33:47.467563'}, {'tweet_id': 'f5cad568e5159f07bf3b21868b48d072e013119d423efd76c4c2544628e69f03', 'retweet_id': None, 'tweet': 'did not like that guys he is just saying therefore we prattle from his mouth to be ॥', 'user': 'user5', 'likes': 0, 'retweets': 0, 'logreg_prob': 0.35578, 'logreg_result': 0, 'cnn_prob': 0.9984155893325806, 'cnn_result': 1, 'admin_result': None, 'created_at': '2024-07-25T09:34:06.535735'}, {'tweet_id': '6fe483f29ee7a2e67d9ff28294268b48a315ce757b5fa7435846ec84c5bf225c', 'retweet_id': None, 'tweet': 'sorry my bad i chose that symbol totally at random i have never heard of the cross being reserved for dead people', 'user': 'user5', 'likes': 0, 'retweets': 0, 'logreg_prob': 0.35578, 'logreg_result': 0, 'cnn_prob': 0.7709493637084961, 'cnn_result': 1, 'admin_result': None, 'created_at': '2024-07-25T09:34:08.608250'}, {'tweet_id': '6d83975f7d9afdabe8b68b1d95628e6c5b3817a6b95931fec65e8511630457b6', 'retweet_id': None, 'tweet': 'many women just are not about', 'user': 'user2', 'likes': 0, 'retweets': 0, 'logreg_prob': 0.35578, 'logreg_result': 0, 'cnn_prob': 0.8876556158065796, 'cnn_result': 1, 'admin_result': None, 'created_at': '2024-07-25T09:34:52.283379'}, {'tweet_id': '434e5197ef77bfb05e79cb0cdb044c72a53d975dd435b9b082bbbb35e29bf6dc', 'retweet_id': None, 'tweet': 'a third defendant the jew gary german of brooklyn remains on the loose', 'user': 'user4', 'likes': 0, 'retweets': 0, 'logreg_prob': 0.35578, 'logreg_result': 0, 'cnn_prob': 0.8964628577232361, 'cnn_result': 1, 'admin_result': None, 'created_at': '2024-07-25T09:35:11.440107'}, {'tweet_id': 'e7fb20bcafb0b7b2f161e20f8fb78a594be85d1a4f62bd3c1c0369734dd3e57d', 'retweet_id': None, 'tweet': 'protect against skeptic vandals like dream guy someone puts in grossly wrong factual info now how can a non admin like me put on a block please reply do not ignore thanks eckford', 'user': 'user2', 'likes': 0, 'retweets': 0, 'logreg_prob': 0.35578, 'logreg_result': 0, 'cnn_prob': 0.007177697494626045, 'cnn_result': 0, 'admin_result': None, 'created_at': '2024-07-25T09:35:15.516143'}, {'tweet_id': 'd739ab32fd71adf9eba76cd70ce15a29997b6d62b9a771138b020c7950b7869c', 'retweet_id': None, 'tweet': 'i hope you all accidentally get a fat black bitch pregnant', 'user': 'user3', 'likes': 0, 'retweets': 0, 'logreg_prob': 0.35578, 'logreg_result': 0, 'cnn_prob': 0.8419561386108398, 'cnn_result': 1, 'admin_result': None, 'created_at': '2024-07-25T09:35:38.650372'}, {'tweet_id': '9c3240f2572bd641b0716b9491326c124e7150734684944fb44f5f34a6f8b964', 'retweet_id': None, 'tweet': 'unblock request had noticed that a user you had blocked has made an unblock request several days ago addressing your concerns would it be possible for you to review this request and respond please thanks for your help', 'user': 'user5', 'likes': 0, 'retweets': 0, 'logreg_prob': 0.35578, 'logreg_result': 0, 'cnn_prob': 0.00047486493713222444, 'cnn_result': 0, 'admin_result': None, 'created_at': '2024-07-25T09:35:42.759887'}, {'tweet_id': 'b729a48f03b77fcb74291c17706fcecadf76cb144107482dd44a460851c9c4ca', 'retweet_id': None, 'tweet': 'i still want to know what you have accomplished', 'user': 'user4', 'likes': 0, 'retweets': 0, 'logreg_prob': 0.35578, 'logreg_result': 0, 'cnn_prob': 0.22474034130573273, 'cnn_result': 0, 'admin_result': None, 'created_at': '2024-07-25T09:36:02.909464'}, {'tweet_id': 'ab76a6d15d66ce67aacebee4d5d88cd3cb397894165730659d0107f89b479e00', 'retweet_id': None, 'tweet': 'haha zen bench vise state public figure like nap rid', 'user': 'user3', 'likes': 0, 'retweets': 0, 'logreg_prob': 0.35578, 'logreg_result': 0, 'cnn_prob': 0.3071504831314087, 'cnn_result': 0, 'admin_result': None, 'created_at': '2024-07-25T09:36:07.063689'}]\n",
      "Top Users DataFrame:\n",
      "        Blocked in Real-time  Blocked by Model  Blocked by Admin\n",
      "user                                                           \n",
      "user5                     6                 7               1.0\n",
      "user3                     4                 5               2.0\n",
      "user1                     4                 5               0.0\n",
      "user4                     4                 4               1.0\n",
      "user8                     5                 4               0.0\n",
      "user7                     4                 4               0.0\n",
      "user2                     3                 4               0.0\n",
      "user6                     1                 1               0.0\n"
     ]
    }
   ],
   "source": [
    "import pandas as pd\n",
    "import matplotlib.pyplot as plt\n",
    "\n",
    "\n",
    "# Fetch and process data\n",
    "tweets_data = fetch_all_tweets()\n",
    "print(\"Fetched tweets data: \", tweets_data)\n",
    "\n",
    "if tweets_data:\n",
    "    # Convert to DataFrame\n",
    "    df = pd.DataFrame(tweets_data)\n",
    "    # Convert 'created_at' to datetime\n",
    "    df['created_at'] = pd.to_datetime(df['created_at'])\n",
    "\n",
    "    # Filter hate speech tweets\n",
    "    blocked_realtime = df[df['logreg_result'] == 1]\n",
    "    blocked_by_model = df[df['cnn_result'] == 1]\n",
    "    blocked_by_admin = df[df['admin_result'] == 1]\n",
    "\n",
    "    # Group by user and count tweets\n",
    "    blocked_realtime_counts = blocked_realtime.groupby('user').size().sort_values(ascending=False)\n",
    "    blocked_by_model_counts = blocked_by_model.groupby('user').size().sort_values(ascending=False)\n",
    "    blocked_by_admin_counts = blocked_by_admin.groupby('user').size().sort_values(ascending=False)\n",
    "    \n",
    "    # Get top users\n",
    "    top_users = list(set(blocked_realtime_counts.index) |\n",
    "                     set(blocked_by_model_counts.index) |\n",
    "                     set(blocked_by_admin_counts.index))\n",
    "\n",
    "    # Create a DataFrame for the top users\n",
    "    top_users_df = pd.DataFrame({\n",
    "        'user': top_users\n",
    "    }).set_index('user')\n",
    "\n",
    "    # Add counts to the DataFrame\n",
    "    top_users_df['Blocked in Real-time'] = top_users_df.index.map(blocked_realtime_counts).fillna(0)\n",
    "    top_users_df['Blocked by Model'] = top_users_df.index.map(blocked_by_model_counts).fillna(0)\n",
    "    top_users_df['Blocked by Admin'] = top_users_df.index.map(blocked_by_admin_counts).fillna(0)\n",
    "\n",
    "    # Calculate total counts\n",
    "    top_users_df['Total'] = top_users_df.sum(axis=1)\n",
    "    \n",
    "    # Sort by total counts\n",
    "    top_users_df = top_users_df.sort_values(by='Total', ascending=False)\n",
    "    \n",
    "    # Drop the 'Total' column as we don't need it in the graph\n",
    "    top_users_df.drop(columns=['Total'], inplace=True)\n",
    "\n",
    "    # Print counts for debugging\n",
    "    print(\"Top Users DataFrame:\\n\", top_users_df)"
   ]
  },
  {
   "cell_type": "code",
   "execution_count": 99,
   "metadata": {},
   "outputs": [
    {
     "data": {
      "image/png": "[encoded data removed]",
      "text/plain": [
       "<Figure size 1000x600 with 1 Axes>"
      ]
     },
     "metadata": {},
     "output_type": "display_data"
    }
   ],
   "source": [
    "# Plot grouped bar chart for top users\n",
    "def plot_grouped_bar_chart(df, title):\n",
    "    fig, ax = plt.subplots(figsize=(10, 6))\n",
    "\n",
    "    # Plot bars\n",
    "    df.plot(kind='bar', ax=ax)\n",
    "    \n",
    "    # Set titles and labels\n",
    "    ax.set_title(title)\n",
    "    ax.set_xlabel('Users')\n",
    "    ax.set_ylabel('Number of Hate Speech Tweets')\n",
    "    ax.grid(True)\n",
    "    plt.xticks(rotation=0)\n",
    "    \n",
    "    # Display plot\n",
    "    plt.show()\n",
    "\n",
    "# Plot for top users blocked in various categories\n",
    "plot_grouped_bar_chart(top_users_df, 'Top Users with Most Hate Speech Tweets')\n"
   ]
  },
  {
   "cell_type": "code",
   "execution_count": null,
   "metadata": {},
   "outputs": [],
   "source": []
  },
  {
   "cell_type": "markdown",
   "metadata": {},
   "source": [
    "## user liking tweet"
   ]
  },
  {
   "cell_type": "code",
   "execution_count": 111,
   "metadata": {},
   "outputs": [
    {
     "name": "stdout",
     "output_type": "stream",
     "text": [
      "Tweet 7ab4179f liked by user user1.\n"
     ]
    }
   ],
   "source": [
    "import requests\n",
    "\n",
    "base_url = \"http://localhost:8000\"\n",
    "\n",
    "def like_tweet(tweet_id, user_id):\n",
    "    like_data = {\n",
    "        \"user_id\": user_id,\n",
    "    }\n",
    "    response = requests.post(f\"{base_url}/like_tweet/{tweet_id}\", json=like_data)\n",
    "    if response.status_code == 200:\n",
    "        print(f\"Tweet {tweet_id} liked by user {user_id}.\")\n",
    "    else:\n",
    "        print(f\"Failed to like tweet {tweet_id}. Error: {response.json()}\")\n",
    "\n",
    "# Example usage\n",
    "tweet_id = \"7ab4179f\"\n",
    "user_id = \"user1\"\n",
    "like_tweet(tweet_id, user_id)"
   ]
  },
  {
   "cell_type": "code",
   "execution_count": 107,
   "metadata": {},
   "outputs": [],
   "source": [
    "# Function to fetch all stored tweets for user view\n",
    "def fetch_user_view_tweets():\n",
    "    url = f\"{base_url}/display_tweets\"\n",
    "    response = requests.get(url)\n",
    "    \n",
    "    if response.status_code == 200:\n",
    "        return response.json()\n",
    "    else:\n",
    "        print(f\"Failed to fetch tweets: {response.status_code}\")\n",
    "        print(f\"Response: {response.json()}\")\n",
    "        return None"
   ]
  },
  {
   "cell_type": "code",
   "execution_count": 123,
   "metadata": {},
   "outputs": [
    {
     "name": "stdout",
     "output_type": "stream",
     "text": [
      "Tweet 7ab4179f retweeted successfully.\n",
      "New tweet ID: 99397dab1e14cb9947b67425ac09d2be18680b08c8e8586ac25f54be20566914\n"
     ]
    }
   ],
   "source": [
    "\n",
    "def retweet_tweet(tweet_id, user_id, text):\n",
    "    # Define the endpoint URL for retweeting\n",
    "    retweet_url = f\"{base_url}/retweet/{tweet_id}\"\n",
    "\n",
    "    # Prepare the request data\n",
    "    retweet_data = {\n",
    "        \"user_id\": user_id,\n",
    "        \"text\": text\n",
    "    }\n",
    "\n",
    "    # Send the request to the retweet endpoint\n",
    "    response = requests.post(retweet_url, json=retweet_data)\n",
    "\n",
    "    # Check if the request was successful\n",
    "    if response.status_code == 200:\n",
    "        print(f\"Tweet {tweet_id} retweeted successfully.\")\n",
    "        result = response.json()\n",
    "        new_tweet_id = result.get(\"new_tweet_id\")\n",
    "        print(f\"New tweet ID: {new_tweet_id}\")\n",
    "    else:\n",
    "        print(f\"Failed to retweet tweet {tweet_id}. Error: {response.json()}\")\n",
    "\n",
    "# Example usage\n",
    "tweet_id = \"7ab4179f\"\n",
    "user_id = \"user1\"\n",
    "text = \"This is a retweet example.\"\n",
    "\n",
    "retweet_tweet(tweet_id, user_id, text)"
   ]
  },
  {
   "cell_type": "code",
   "execution_count": 124,
   "metadata": {},
   "outputs": [],
   "source": [
    "user_view_tweets = fetch_user_view_tweets()"
   ]
  },
  {
   "cell_type": "code",
   "execution_count": 125,
   "metadata": {},
   "outputs": [
    {
     "data": {
      "text/plain": [
       "[{'user_id': 'user3',\n",
       "  'id': 1,\n",
       "  'likes': 1,\n",
       "  'safety_status': 1,\n",
       "  'tweet_id': '7ab4179f',\n",
       "  'retweet_id': None,\n",
       "  'text': 'the money',\n",
       "  'retweets': 5,\n",
       "  'created_at': '2024-07-25T08:50:43.998954'},\n",
       " {'user_id': 'user3',\n",
       "  'id': 2,\n",
       "  'likes': 0,\n",
       "  'safety_status': 1,\n",
       "  'tweet_id': '81de6805',\n",
       "  'retweet_id': None,\n",
       "  'text': 'the main movement is...',\n",
       "  'retweets': 0,\n",
       "  'created_at': '2024-07-25T08:52:48.634960'},\n",
       " {'user_id': 'user7',\n",
       "  'id': 3,\n",
       "  'likes': 0,\n",
       "  'safety_status': None,\n",
       "  'tweet_id': '2e0e1ca6',\n",
       "  'retweet_id': None,\n",
       "  'text': 'renewed revert wars hey byway welcome back but when i said to return after waiting out your block i did not mean for you to return and re start the revert warring exactly where you left it let me make it clear that this will still be seen as disruption and i very strongly advise you not to even approach by wide margin this time admins can block for disruption in repeat cases even without being touched technically',\n",
       "  'retweets': 0,\n",
       "  'created_at': '2024-07-25T08:53:15.898956'},\n",
       " {'user_id': 'user4',\n",
       "  'id': 4,\n",
       "  'likes': 0,\n",
       "  'safety_status': None,\n",
       "  'tweet_id': '267f9a8f',\n",
       "  'retweet_id': None,\n",
       "  'text': 'mate it is in newcastle it what a slut down bath it is fucking bras sic cold',\n",
       "  'retweets': 0,\n",
       "  'created_at': '2024-07-25T08:53:59.079262'},\n",
       " {'user_id': 'user5',\n",
       "  'id': 5,\n",
       "  'likes': 0,\n",
       "  'safety_status': None,\n",
       "  'tweet_id': '833f05ee',\n",
       "  'retweet_id': None,\n",
       "  'text': 'possible error there be an error in this article regarding participation in the match according to the national resident matching program s website it appears that international medical students can participate in the match prior to receiving their cmg certification and hence prior to graduating from medical school so long as they have completed usmle steps',\n",
       "  'retweets': 0,\n",
       "  'created_at': '2024-07-25T08:54:03.193872'},\n",
       " {'user_id': 'user6',\n",
       "  'id': 6,\n",
       "  'likes': 0,\n",
       "  'safety_status': None,\n",
       "  'tweet_id': '8c120ba0',\n",
       "  'retweet_id': None,\n",
       "  'text': 'i butter is butter the references given see discussion on this above on this are improperly given what is given appears to be little more than a google screen scrape i managed to find both references and they do not support this usage the use in these publications is not to define but to indicate the broad category peanut butter if placed in the category of a nut butter is also in the category if butter substitute but it is not a type of margarine which is what this product is possibly it might be helpful to say that the product is commonly used to substitute butter but it does not help in the basic definition',\n",
       "  'retweets': 0,\n",
       "  'created_at': '2024-07-25T08:54:48.469604'},\n",
       " {'user_id': 'user4',\n",
       "  'id': 7,\n",
       "  'likes': 0,\n",
       "  'safety_status': 1,\n",
       "  'tweet_id': '5fee98ebec353064f9ecbd5af16ca373f7ad6b993a4f91775fdd8d3f16c5644d',\n",
       "  'retweet_id': None,\n",
       "  'text': 'retweet north america american children the teens are complete pussies that compared up to in other parts of of the world',\n",
       "  'retweets': 0,\n",
       "  'created_at': '2024-07-25T09:12:14.908179'},\n",
       " {'user_id': 'user5',\n",
       "  'id': 8,\n",
       "  'likes': 0,\n",
       "  'safety_status': None,\n",
       "  'tweet_id': '7c2fec67687c02aec705800269aee8bbde46be0639bf675cc43567037a397b8d',\n",
       "  'retweet_id': None,\n",
       "  'text': 'by the way i think the best lead would say this is a list of ancient greek macedonians but i am new to wikipedia and do not know how to change the text of a link and link to a page with a different name can someone help',\n",
       "  'retweets': 0,\n",
       "  'created_at': '2024-07-25T09:13:30.957132'},\n",
       " {'user_id': 'user6',\n",
       "  'id': 9,\n",
       "  'likes': 0,\n",
       "  'safety_status': None,\n",
       "  'tweet_id': '5463a695f78a80ff089bbc20d1bd477369570961eda354a382579e569d3df677',\n",
       "  'retweet_id': None,\n",
       "  'text': 'reply disruption please do not think me rude or take offense but i have to ask this are you trying to blackmail me',\n",
       "  'retweets': 0,\n",
       "  'created_at': '2024-07-25T09:13:35.084271'},\n",
       " {'user_id': 'user5',\n",
       "  'id': 10,\n",
       "  'likes': 0,\n",
       "  'safety_status': 1,\n",
       "  'tweet_id': '8383f07f955c2d208a352a266c23559ea1f3c8669cc4f836f0f77703fb3ea8da',\n",
       "  'retweet_id': None,\n",
       "  'text': 'i just deleted info under the heading singles that said we get around is a herd single this is not true highboy a member of the group created this track totally independent of the other artists and although the initial author referenced this fact by placing highboy in brackets after the fact it still has no place here i feel such information clearly belongs on a separate page pertaining to highboy a link to which placed on this page',\n",
       "  'retweets': 0,\n",
       "  'created_at': '2024-07-25T09:13:58.195028'},\n",
       " {'user_id': 'user2',\n",
       "  'id': 11,\n",
       "  'likes': 0,\n",
       "  'safety_status': None,\n",
       "  'tweet_id': '0eaf93382771bde0bf079f9f84f75574b22a04c2658303030b62740bc45f0054',\n",
       "  'retweet_id': None,\n",
       "  'text': 'on the plus side i did get my first pair of ears as an adult and i got my name tag happy face or smiley disney traditions',\n",
       "  'retweets': 0,\n",
       "  'created_at': '2024-07-25T09:14:02.363998'},\n",
       " {'user_id': 'user5',\n",
       "  'id': 12,\n",
       "  'likes': 0,\n",
       "  'safety_status': None,\n",
       "  'tweet_id': '0ef5ed93edbccc8d882d0042b5928986cde328a49a8d96246fb5e00badd45480',\n",
       "  'retweet_id': None,\n",
       "  'text': 'i just deleted info under the heading singles that said we get around is a herd single this is not true highboy a member of the group created this track totally independent of the other artists and although the initial author referenced this fact by placing highboy in brackets after the fact it still has no place here i feel such information clearly belongs on a separate page pertaining to highboy a link to which placed on this page',\n",
       "  'retweets': 0,\n",
       "  'created_at': '2024-07-25T09:14:25.504310'},\n",
       " {'user_id': 'user4',\n",
       "  'id': 13,\n",
       "  'likes': 0,\n",
       "  'safety_status': None,\n",
       "  'tweet_id': '34bef3419537a507c876c6974cffe823b9dab92b412eda968e27b03591b7f97e',\n",
       "  'retweet_id': None,\n",
       "  'text': 'let s wait for the afd to end the duck',\n",
       "  'retweets': 0,\n",
       "  'created_at': '2024-07-25T09:15:13.038739'},\n",
       " {'user_id': 'user3',\n",
       "  'id': 14,\n",
       "  'likes': 0,\n",
       "  'safety_status': None,\n",
       "  'tweet_id': '64af7a610149d0046c0a0312422f2a36273af44576d78752aee2831658cb92c4',\n",
       "  'retweet_id': None,\n",
       "  'text': 'i ve asked an administrator to semi protect sharon s article for a few days hope that solves all the image issues and such talk',\n",
       "  'retweets': 0,\n",
       "  'created_at': '2024-07-25T09:15:54.268614'},\n",
       " {'user_id': 'user1',\n",
       "  'id': 15,\n",
       "  'likes': 0,\n",
       "  'safety_status': None,\n",
       "  'tweet_id': '65414b4bf425148b0e6f9bbd6b2cc081af1ca64743be8efbacc595e55c402509',\n",
       "  'retweet_id': None,\n",
       "  'text': 'let s wait for the afd to end the duck',\n",
       "  'retweets': 0,\n",
       "  'created_at': '2024-07-25T09:15:58.387272'},\n",
       " {'user_id': 'user1',\n",
       "  'id': 16,\n",
       "  'likes': 0,\n",
       "  'safety_status': None,\n",
       "  'tweet_id': '5213dfb898e830fcaec0699924444eb51a79cebaec0c2909716b5a76bb0748df',\n",
       "  'retweet_id': None,\n",
       "  'text': 'let s wait for the afd to end the duck',\n",
       "  'retweets': 0,\n",
       "  'created_at': '2024-07-25T09:16:20.509149'},\n",
       " {'user_id': 'user4',\n",
       "  'id': 17,\n",
       "  'likes': 0,\n",
       "  'safety_status': None,\n",
       "  'tweet_id': 'ad22c099e43da90608b2f77e5bf153ddbe2cb28b4e9cd69fecddb616913b9485',\n",
       "  'retweet_id': None,\n",
       "  'text': 'be it something thrown into a corner... call it being this person it is all the same',\n",
       "  'retweets': 0,\n",
       "  'created_at': '2024-07-25T09:16:48.742918'},\n",
       " {'user_id': 'user3',\n",
       "  'id': 18,\n",
       "  'likes': 0,\n",
       "  'safety_status': None,\n",
       "  'tweet_id': '06b7c1b4a5448c8ad4ebbb647fd6801418f57eb83e474a37a201c764ee6e03e3',\n",
       "  'retweet_id': None,\n",
       "  'text': 'done using popups see help reverting for the old school way',\n",
       "  'retweets': 0,\n",
       "  'created_at': '2024-07-25T09:17:12.989060'},\n",
       " {'user_id': 'user3',\n",
       "  'id': 19,\n",
       "  'likes': 0,\n",
       "  'safety_status': 1,\n",
       "  'tweet_id': '152f89ade83e311ab25510f77a2adb952e22a2cdb217ddd06df2f3b300cb622c',\n",
       "  'retweet_id': None,\n",
       "  'text': 'i am in total support of increasing the number of refugees whatever bring to nz the wrap around support they require is',\n",
       "  'retweets': 0,\n",
       "  'created_at': '2024-07-25T09:17:37.102667'},\n",
       " {'user_id': 'user5',\n",
       "  'id': 20,\n",
       "  'likes': 0,\n",
       "  'safety_status': None,\n",
       "  'tweet_id': 'bd11eb2c42fa7dce37552e6a754af31535991a93803c3bbfce61341c923a6151',\n",
       "  'retweet_id': None,\n",
       "  'text': 'i understand those were star s words not yours but please let us set aside the issue of whether it is propaganda or notable or encyclopedic the question is is it unclear whatever seem to be in agreement let us seymour it',\n",
       "  'retweets': 0,\n",
       "  'created_at': '2024-07-25T09:17:41.271096'},\n",
       " {'user_id': 'user5',\n",
       "  'id': 21,\n",
       "  'likes': 0,\n",
       "  'safety_status': None,\n",
       "  'tweet_id': '3092e81d5ac6e50b8d0b526efe378e340ec5de67da80c02be2a270204be86c6d',\n",
       "  'retweet_id': None,\n",
       "  'text': 'let s wait for the afd to end the duck',\n",
       "  'retweets': 0,\n",
       "  'created_at': '2024-07-25T09:18:24.599628'},\n",
       " {'user_id': 'user1',\n",
       "  'id': 22,\n",
       "  'likes': 0,\n",
       "  'safety_status': None,\n",
       "  'tweet_id': 'b27f643dd5be4d34a04d356c8dd261684c225997d2c1a444191ce6b4b98cadb6',\n",
       "  'retweet_id': None,\n",
       "  'text': 'unblock request had noticed that a user you had blocked has made an unblock request several days ago addressing your concerns would it be possible for you to review this request and respond please thanks for your help',\n",
       "  'retweets': 0,\n",
       "  'created_at': '2024-07-25T09:33:43.386459'},\n",
       " {'user_id': 'user2',\n",
       "  'id': 23,\n",
       "  'likes': 0,\n",
       "  'safety_status': 1,\n",
       "  'tweet_id': '6d83975f7d9afdabe8b68b1d95628e6c5b3817a6b95931fec65e8511630457b6',\n",
       "  'retweet_id': None,\n",
       "  'text': 'many women just are not about',\n",
       "  'retweets': 0,\n",
       "  'created_at': '2024-07-25T09:34:52.283379'},\n",
       " {'user_id': 'user4',\n",
       "  'id': 24,\n",
       "  'likes': 0,\n",
       "  'safety_status': 1,\n",
       "  'tweet_id': '434e5197ef77bfb05e79cb0cdb044c72a53d975dd435b9b082bbbb35e29bf6dc',\n",
       "  'retweet_id': None,\n",
       "  'text': 'a third defendant the jew gary german of brooklyn remains on the loose',\n",
       "  'retweets': 0,\n",
       "  'created_at': '2024-07-25T09:35:11.440107'},\n",
       " {'user_id': 'user2',\n",
       "  'id': 25,\n",
       "  'likes': 0,\n",
       "  'safety_status': None,\n",
       "  'tweet_id': 'e7fb20bcafb0b7b2f161e20f8fb78a594be85d1a4f62bd3c1c0369734dd3e57d',\n",
       "  'retweet_id': None,\n",
       "  'text': 'protect against skeptic vandals like dream guy someone puts in grossly wrong factual info now how can a non admin like me put on a block please reply do not ignore thanks eckford',\n",
       "  'retweets': 0,\n",
       "  'created_at': '2024-07-25T09:35:15.516143'},\n",
       " {'user_id': 'user3',\n",
       "  'id': 26,\n",
       "  'likes': 0,\n",
       "  'safety_status': 1,\n",
       "  'tweet_id': 'd739ab32fd71adf9eba76cd70ce15a29997b6d62b9a771138b020c7950b7869c',\n",
       "  'retweet_id': None,\n",
       "  'text': 'i hope you all accidentally get a fat black bitch pregnant',\n",
       "  'retweets': 0,\n",
       "  'created_at': '2024-07-25T09:35:38.650372'},\n",
       " {'user_id': 'user5',\n",
       "  'id': 27,\n",
       "  'likes': 0,\n",
       "  'safety_status': None,\n",
       "  'tweet_id': '9c3240f2572bd641b0716b9491326c124e7150734684944fb44f5f34a6f8b964',\n",
       "  'retweet_id': None,\n",
       "  'text': 'unblock request had noticed that a user you had blocked has made an unblock request several days ago addressing your concerns would it be possible for you to review this request and respond please thanks for your help',\n",
       "  'retweets': 0,\n",
       "  'created_at': '2024-07-25T09:35:42.759887'},\n",
       " {'user_id': 'user4',\n",
       "  'id': 28,\n",
       "  'likes': 0,\n",
       "  'safety_status': None,\n",
       "  'tweet_id': 'b729a48f03b77fcb74291c17706fcecadf76cb144107482dd44a460851c9c4ca',\n",
       "  'retweet_id': None,\n",
       "  'text': 'i still want to know what you have accomplished',\n",
       "  'retweets': 0,\n",
       "  'created_at': '2024-07-25T09:36:02.909464'},\n",
       " {'user_id': 'user3',\n",
       "  'id': 29,\n",
       "  'likes': 0,\n",
       "  'safety_status': None,\n",
       "  'tweet_id': 'ab76a6d15d66ce67aacebee4d5d88cd3cb397894165730659d0107f89b479e00',\n",
       "  'retweet_id': None,\n",
       "  'text': 'haha zen bench vise state public figure like nap rid',\n",
       "  'retweets': 0,\n",
       "  'created_at': '2024-07-25T09:36:07.063689'},\n",
       " {'user_id': 'user1',\n",
       "  'id': 30,\n",
       "  'likes': 0,\n",
       "  'safety_status': None,\n",
       "  'tweet_id': 'c2124c82edbe486ff7e4bba07499d89ea43b45206232e64a38b7ba9c0ddc3256',\n",
       "  'retweet_id': None,\n",
       "  'text': 'This is a retweet example.',\n",
       "  'retweets': 0,\n",
       "  'created_at': '2024-07-25T15:04:19.385596'},\n",
       " {'user_id': 'user1',\n",
       "  'id': 31,\n",
       "  'likes': 0,\n",
       "  'safety_status': None,\n",
       "  'tweet_id': '99397dab1e14cb9947b67425ac09d2be18680b08c8e8586ac25f54be20566914',\n",
       "  'retweet_id': None,\n",
       "  'text': 'This is a retweet example.',\n",
       "  'retweets': 0,\n",
       "  'created_at': '2024-07-25T15:05:30.610787'}]"
      ]
     },
     "execution_count": 125,
     "metadata": {},
     "output_type": "execute_result"
    }
   ],
   "source": [
    "user_view_tweets"
   ]
  },
  {
   "cell_type": "markdown",
   "metadata": {},
   "source": [
    "## admin to block user interaction"
   ]
  },
  {
   "cell_type": "code",
   "execution_count": 137,
   "metadata": {},
   "outputs": [],
   "source": [
    "# Function to block a user\n",
    "from fastapi import params\n",
    "\n",
    "\n",
    "# Function to block a user\n",
    "def block_user(user_id):\n",
    "    url = f\"{base_url}/block_user/{user_id}\"\n",
    "    try:\n",
    "        response = requests.post(url)\n",
    "        response.raise_for_status()  # Check for HTTP errors\n",
    "        print(f\"User {user_id} has been blocked.\")\n",
    "    except requests.RequestException as e:\n",
    "        print(f\"Failed to block user {user_id}. Error: {e}\")"
   ]
  },
  {
   "cell_type": "code",
   "execution_count": 138,
   "metadata": {},
   "outputs": [
    {
     "name": "stdout",
     "output_type": "stream",
     "text": [
      "User user3 has been blocked.\n"
     ]
    }
   ],
   "source": [
    "\n",
    "# Example usage\n",
    "block_user(\"user3\")"
   ]
  },
  {
   "cell_type": "code",
   "execution_count": 140,
   "metadata": {},
   "outputs": [
    {
     "name": "stdout",
     "output_type": "stream",
     "text": [
      "Tweet 7ab4179f liked by user user1.\n"
     ]
    }
   ],
   "source": [
    "\n",
    "# Example usage\n",
    "tweet_id = \"7ab4179f\"\n",
    "user_id = \"user1\"\n",
    "like_tweet(tweet_id, user_id)"
   ]
  },
  {
   "cell_type": "code",
   "execution_count": 141,
   "metadata": {},
   "outputs": [
    {
     "name": "stdout",
     "output_type": "stream",
     "text": [
      "Tweet 7ab4179f retweeted successfully.\n",
      "New tweet ID: 089fb8c9238e06739163a11871f32def90ee219a6f1f9cc294307ebce79bb4b5\n"
     ]
    }
   ],
   "source": [
    "# Example usage\n",
    "tweet_id = \"7ab4179f\"\n",
    "user_id = \"user1\"\n",
    "text = \"This is a retweet example.\"\n",
    "\n",
    "retweet_tweet(tweet_id, user_id, text)"
   ]
  },
  {
   "cell_type": "code",
   "execution_count": 142,
   "metadata": {},
   "outputs": [
    {
     "name": "stdout",
     "output_type": "stream",
     "text": [
      "Failed to retweet tweet 7ab4179f. Error: {'detail': 'User is blocked and cannot retweet'}\n"
     ]
    }
   ],
   "source": [
    "# Example usage\n",
    "tweet_id = \"7ab4179f\"\n",
    "user_id = \"user3\"\n",
    "text = \"This is a retweet example.\"\n",
    "\n",
    "retweet_tweet(tweet_id, user_id, text)"
   ]
  },
  {
   "cell_type": "code",
   "execution_count": null,
   "metadata": {},
   "outputs": [],
   "source": []
  },
  {
   "cell_type": "markdown",
   "metadata": {},
   "source": [
    "## user update and delete tweet"
   ]
  },
  {
   "cell_type": "markdown",
   "metadata": {},
   "source": []
  },
  {
   "cell_type": "code",
   "execution_count": 144,
   "metadata": {},
   "outputs": [],
   "source": [
    "import requests\n",
    "from datetime import datetime\n",
    "\n",
    "base_url = \"http://localhost:8000\"  # Adjust this if your API is running on a different port or URL\n",
    "\n",
    "def post_tweet_for_prediction(tweet: str, user: str):\n",
    "    response = requests.post(f'{base_url}/predict', json={\"text\": tweet, \"user\": user})\n",
    "    return response.json()\n",
    "\n",
    "def store_posted_tweet(tweet_id: str, retweet_id, user_id: str, text: str, likes: int, retweets: int, safety_status, created_at: str):\n",
    "    data = {\n",
    "        \"tweet_id\": tweet_id,\n",
    "        \"retweet_id\": retweet_id,\n",
    "        \"user_id\": user_id,\n",
    "        \"text\": text,\n",
    "        \"likes\": likes,\n",
    "        \"retweets\": retweets,\n",
    "        \"safety_status\": safety_status,\n",
    "        \"created_at\": created_at\n",
    "    }\n",
    "    try:\n",
    "        response = requests.post(f'{base_url}/store_tweet', json=data)\n",
    "        response.raise_for_status()\n",
    "        return response.json()\n",
    "    except requests.exceptions.RequestException as e:\n",
    "        print(f\"Error storing posted tweet: {e}\")\n",
    "        return {\"error\": str(e)}\n",
    "\n",
    "def update_tweet(tweet_id: str, new_text: str, user: str):\n",
    "    response = requests.put(f'{base_url}/update_tweet/{tweet_id}', json={\"new_text\": new_text, \"user\": user})\n",
    "    return response.json()\n",
    "\n",
    "def delete_tweet(tweet_id: str):\n",
    "    response = requests.delete(f'{base_url}/delete_tweet/{tweet_id}')\n",
    "    return response.status_code\n",
    "\n",
    "def fetch_tweet_by_id(tweet_id: str):\n",
    "    response = requests.get(f'{base_url}/fetch_tweet_by_id/{tweet_id}')\n",
    "    return response.json()\n"
   ]
  },
  {
   "cell_type": "code",
   "execution_count": 149,
   "metadata": {},
   "outputs": [
    {
     "name": "stdout",
     "output_type": "stream",
     "text": [
      "Tweet stored: {'retweet_id': None, 'text': 'This is a test tweet.', 'tweet_id': '91a0cff11b77d403ad0be4fee4cd7724ba3838abe2028533c9ea5a1d6ed47498', 'retweets': 0, 'created_at': '2024-07-25T18:16:08.483766', 'user_id': 'test_user', 'id': 39, 'likes': 0, 'safety_status': None}\n",
      "Tweet before update: {'tweet_id': '91a0cff11b77d403ad0be4fee4cd7724ba3838abe2028533c9ea5a1d6ed47498', 'retweet_id': None, 'tweet': 'This is a test tweet.', 'user': 'test_user', 'likes': 0, 'retweets': 0, 'logreg_prob': 0.18795598480268685, 'logreg_result': 0, 'cnn_prob': None, 'cnn_result': None, 'admin_result': None, 'created_at': '2024-07-25T18:16:08.483766'}\n",
      "Update response: {'detail': [{'type': 'missing', 'loc': ['query', 'new_text'], 'msg': 'Field required', 'input': None}, {'type': 'missing', 'loc': ['query', 'user'], 'msg': 'Field required', 'input': None}]}\n",
      "Tweet after update: {'tweet_id': '91a0cff11b77d403ad0be4fee4cd7724ba3838abe2028533c9ea5a1d6ed47498', 'retweet_id': None, 'tweet': 'This is a test tweet.', 'user': 'test_user', 'likes': 0, 'retweets': 0, 'logreg_prob': 0.18795598480268685, 'logreg_result': 0, 'cnn_prob': None, 'cnn_result': None, 'admin_result': None, 'created_at': '2024-07-25T18:16:08.483766'}\n",
      "Tweet 91a0cff11b77d403ad0be4fee4cd7724ba3838abe2028533c9ea5a1d6ed47498 deleted successfully\n",
      "Fetching deleted tweet: {'tweet_id': '91a0cff11b77d403ad0be4fee4cd7724ba3838abe2028533c9ea5a1d6ed47498', 'retweet_id': None, 'tweet': 'This is a test tweet.', 'user': 'test_user', 'likes': 0, 'retweets': 0, 'logreg_prob': 0.18795598480268685, 'logreg_result': 0, 'cnn_prob': None, 'cnn_result': None, 'admin_result': None, 'created_at': '2024-07-25T18:16:08.483766'}\n"
     ]
    }
   ],
   "source": [
    "import requests\n",
    "from datetime import datetime, timezone\n",
    "from typing import Optional  # Import Optional for type hints\n",
    "\n",
    "base_url = \"http://localhost:8000\"  # Update if your API runs on a different URL\n",
    "\n",
    "def post_tweet_for_prediction(tweet: str, user: str):\n",
    "    response = requests.post(f'{base_url}/predict', json={\"text\": tweet, \"user\": user})\n",
    "    return response.json()\n",
    "\n",
    "def store_posted_tweet(tweet_id: str, retweet_id: Optional[str], user_id: str, text: str, likes: int, retweets: int, safety_status: Optional[int], created_at: str):\n",
    "    data = {\n",
    "        \"tweet_id\": tweet_id,\n",
    "        \"retweet_id\": retweet_id,\n",
    "        \"user_id\": user_id,\n",
    "        \"text\": text,\n",
    "        \"likes\": likes,\n",
    "        \"retweets\": retweets,\n",
    "        \"safety_status\": safety_status,\n",
    "        \"created_at\": created_at\n",
    "    }\n",
    "    try:\n",
    "        response = requests.post(f'{base_url}/store_tweet', json=data)\n",
    "        response.raise_for_status()\n",
    "        return response.json()\n",
    "    except requests.exceptions.RequestException as e:\n",
    "        print(f\"Error storing posted tweet: {e}\")\n",
    "        return {\"error\": str(e)}\n",
    "\n",
    "def update_tweet(tweet_id: str, new_text: str, user: str):\n",
    "    # Update function now includes JSON body with required fields\n",
    "    response = requests.put(\n",
    "        f'{base_url}/update_tweet/{tweet_id}',\n",
    "        json={\"new_text\": new_text, \"user\": user}\n",
    "    )\n",
    "    return response.json()\n",
    "\n",
    "def delete_tweet(tweet_id: str):\n",
    "    response = requests.delete(f'{base_url}/delete_tweet/{tweet_id}')\n",
    "    return response.status_code\n",
    "\n",
    "def fetch_tweet_by_id(tweet_id: str):\n",
    "    response = requests.get(f'{base_url}/fetch_tweet/{tweet_id}')\n",
    "    return response.json()\n",
    "\n",
    "def simulate_tweet_operations():\n",
    "    # 1. Post a new tweet for prediction\n",
    "    tweet_text = \"This is a test tweet.\"\n",
    "    user = \"test_user\"\n",
    "    prediction = post_tweet_for_prediction(tweet_text, user)\n",
    "    \n",
    "    if prediction.get(\"logreg_result\") != 1:\n",
    "        created_at = datetime.now(timezone.utc).isoformat()\n",
    "        \n",
    "        # 2. Store the tweet\n",
    "        store_response = store_posted_tweet(\n",
    "            tweet_id=prediction[\"tweet_id\"],\n",
    "            retweet_id=None,\n",
    "            user_id=user,\n",
    "            text=tweet_text,\n",
    "            likes=0,\n",
    "            retweets=0,\n",
    "            safety_status=None,\n",
    "            created_at=created_at\n",
    "        )\n",
    "        \n",
    "        print(\"Tweet stored:\", store_response)\n",
    "        \n",
    "        # 3. Fetch and print the tweet before update\n",
    "        tweet_id = prediction[\"tweet_id\"]\n",
    "        print(\"Tweet before update:\", fetch_tweet_by_id(tweet_id))\n",
    "        \n",
    "        # 4. Update the tweet\n",
    "        new_text = \"This is the updated test tweet.\"\n",
    "        update_response = update_tweet(tweet_id, new_text, user)\n",
    "        \n",
    "        print(\"Update response:\", update_response)\n",
    "        \n",
    "        # 5. Fetch and print the tweet after update\n",
    "        print(\"Tweet after update:\", fetch_tweet_by_id(tweet_id))\n",
    "        \n",
    "        # 6. Delete the tweet\n",
    "        delete_status = delete_tweet(tweet_id)\n",
    "        if delete_status == 200:\n",
    "            print(f\"Tweet {tweet_id} deleted successfully\")\n",
    "        else:\n",
    "            print(f\"Failed to delete tweet {tweet_id}, status code: {delete_status}\")\n",
    "        \n",
    "        # 7. Attempt to fetch the deleted tweet\n",
    "        print(\"Fetching deleted tweet:\", fetch_tweet_by_id(tweet_id))\n",
    "    else:\n",
    "        print(\"Tweet was flagged by logistic regression and was not stored\")\n",
    "\n",
    "# Run the simulation\n",
    "simulate_tweet_operations()\n"
   ]
  },
  {
   "cell_type": "code",
   "execution_count": 151,
   "metadata": {},
   "outputs": [
    {
     "name": "stdout",
     "output_type": "stream",
     "text": [
      "Update Response: {'detail': 'Tweet not found in stored tweets'}\n"
     ]
    }
   ],
   "source": [
    "import requests\n",
    "\n",
    "def update_tweet(tweet_id: str, new_text: str, user: str):\n",
    "    response = requests.put(\n",
    "        f'{base_url}/update_tweet/{tweet_id}',\n",
    "        json={\"new_text\": new_text, \"user\": user}  # JSON body\n",
    "    )\n",
    "    return response.json()\n",
    "\n",
    "# Example data for update\n",
    "tweet_id = \"91a0cff11b77d403ad0be4fee4cd7724ba3838abe2028533c9ea5a1d6ed47498\"\n",
    "new_text = \"This is the updated tweet text.\"\n",
    "user = \"test_user\"\n",
    "\n",
    "# Call the update function\n",
    "update_response = update_tweet(tweet_id, new_text, user)\n",
    "print(\"Update Response:\", update_response)\n"
   ]
  },
  {
   "cell_type": "code",
   "execution_count": 18,
   "metadata": {},
   "outputs": [],
   "source": [
    "tweets = fetch_all_tweets()"
   ]
  },
  {
   "cell_type": "code",
   "execution_count": 26,
   "metadata": {},
   "outputs": [],
   "source": [
    "import pandas as pd\n",
    "\n",
    "def process_safety_status_data(tweets):\n",
    "    data = {\n",
    "        'Logistic Regression': 0,\n",
    "        'CNN': 0,\n",
    "        'Admin': 0\n",
    "    }\n",
    "\n",
    "    for tweet in tweets:\n",
    "        if tweet['logreg_result'] == 1:\n",
    "            data['Logistic Regression'] += 1\n",
    "        if tweet['cnn_result'] == 1:\n",
    "            data['CNN'] += 1\n",
    "        if tweet['admin_result'] == 1:\n",
    "            data['Admin'] += 1\n",
    "\n",
    "    return data\n"
   ]
  },
  {
   "cell_type": "code",
   "execution_count": 27,
   "metadata": {},
   "outputs": [
    {
     "data": {
      "text/plain": [
       "[{'tweet_id': '0a16bf59c8b68a488c9d3a950f84fb807c9d18fad89d22ba5d1c76e36f482a3e',\n",
       "  'retweet_id': None,\n",
       "  'tweet': 'i wish fucking towel heads never came to our country in the first place',\n",
       "  'user': 'user5',\n",
       "  'likes': 0,\n",
       "  'retweets': 0,\n",
       "  'logreg_prob': 0.9446891508111326,\n",
       "  'logreg_result': 1,\n",
       "  'cnn_prob': 0.9569458961486816,\n",
       "  'cnn_result': 1,\n",
       "  'admin_result': None,\n",
       "  'created_at': '2024-07-25T18:35:30.508421'},\n",
       " {'tweet_id': '78657f33cbaf967ccd9c2ac01a246815eb2b03df9c5bccfdf31aded91415e23c',\n",
       "  'retweet_id': None,\n",
       "  'tweet': 'i look forward to the happy things chat and just to lead up to it here is a smiling crater you need to look at the large image to see it',\n",
       "  'user': 'user3',\n",
       "  'likes': 2,\n",
       "  'retweets': 4,\n",
       "  'logreg_prob': 0.030545622771433276,\n",
       "  'logreg_result': 0,\n",
       "  'cnn_prob': 0.04232430085539818,\n",
       "  'cnn_result': 0,\n",
       "  'admin_result': 0,\n",
       "  'created_at': '2024-07-25T18:35:41.609806'},\n",
       " {'tweet_id': '6e693849939bd86cfabdef78104d7dd2987e0b2576ee27415667ea84d91a38c9',\n",
       "  'retweet_id': None,\n",
       "  'tweet': 'andreas i am not ignoring lord room s advice i am taking their advice and i will complete a straw poll and rfc at each page in question before i return for formal mediation should that still be required talk cont ribs',\n",
       "  'user': 'user4',\n",
       "  'likes': 2,\n",
       "  'retweets': 0,\n",
       "  'logreg_prob': 0.11448798378638912,\n",
       "  'logreg_result': 0,\n",
       "  'cnn_prob': 0.03085370920598507,\n",
       "  'cnn_result': 0,\n",
       "  'admin_result': 1,\n",
       "  'created_at': '2024-07-25T18:35:54.833613'},\n",
       " {'tweet_id': '1d24839bd40c2c6e13b9f6b4aa3894139f4ba96ba6fc0d87534ed5669af067ed',\n",
       "  'retweet_id': None,\n",
       "  'tweet': 'shows what sub human group these negroid belong the poor horse got an infection from the dirty pervert',\n",
       "  'user': 'user6',\n",
       "  'likes': 0,\n",
       "  'retweets': 0,\n",
       "  'logreg_prob': 0.9407527618859165,\n",
       "  'logreg_result': 1,\n",
       "  'cnn_prob': 0.9983187913894653,\n",
       "  'cnn_result': 1,\n",
       "  'admin_result': None,\n",
       "  'created_at': '2024-07-25T18:35:59.011328'},\n",
       " {'tweet_id': '475945650e2f223f5c094acaf5b063df4c6418d1ec45b72fbbde73517d8ea52e',\n",
       "  'retweet_id': None,\n",
       "  'tweet': 'do the image captions need to repeat text from the article at length',\n",
       "  'user': 'user2',\n",
       "  'likes': 0,\n",
       "  'retweets': 0,\n",
       "  'logreg_prob': 0.05289384321799358,\n",
       "  'logreg_result': 0,\n",
       "  'cnn_prob': 0.0007323579047806561,\n",
       "  'cnn_result': 0,\n",
       "  'admin_result': 1,\n",
       "  'created_at': '2024-07-25T18:36:07.126483'},\n",
       " {'tweet_id': 'b006e7c52e3014990b8885234a5bd4f6d5ef5e2e3932d3caba605ea4a0c616f1',\n",
       "  'retweet_id': None,\n",
       "  'tweet': 'and selim might deck the i m bud peter for real face',\n",
       "  'user': 'user6',\n",
       "  'likes': 0,\n",
       "  'retweets': 0,\n",
       "  'logreg_prob': 0.6948589464512558,\n",
       "  'logreg_result': 1,\n",
       "  'cnn_prob': 0.49121206998825073,\n",
       "  'cnn_result': 0,\n",
       "  'admin_result': None,\n",
       "  'created_at': '2024-07-25T18:36:11.303476'},\n",
       " {'tweet_id': '297d479fa37fcb68c02e9e735a062596d40445d4fd698dad609deb1fdeef1689',\n",
       "  'retweet_id': None,\n",
       "  'tweet': 'another dumb article the stretching that this writer does to find positives in the loss of kane is silly',\n",
       "  'user': 'user1',\n",
       "  'likes': 0,\n",
       "  'retweets': 0,\n",
       "  'logreg_prob': 0.13287541250109616,\n",
       "  'logreg_result': 0,\n",
       "  'cnn_prob': 0.5128836035728455,\n",
       "  'cnn_result': 1,\n",
       "  'admin_result': None,\n",
       "  'created_at': '2024-07-25T18:36:22.418662'},\n",
       " {'tweet_id': '6717843c1d23132eb16b960a4be56b500f7cd97569b4c809d9825dea3d72c490',\n",
       "  'retweet_id': None,\n",
       "  'tweet': 'and selim might deck the i m bud peter for real face',\n",
       "  'user': 'user1',\n",
       "  'likes': 0,\n",
       "  'retweets': 0,\n",
       "  'logreg_prob': 0.6948589464512558,\n",
       "  'logreg_result': 1,\n",
       "  'cnn_prob': 0.49121206998825073,\n",
       "  'cnn_result': 0,\n",
       "  'admin_result': None,\n",
       "  'created_at': '2024-07-25T18:36:26.612320'},\n",
       " {'tweet_id': '32a21b48c54287e9b9d945b8f3a72ec0cce6c810bff51ab9d501859d001bccc0',\n",
       "  'retweet_id': None,\n",
       "  'tweet': 'do the image captions need to repeat text from the article at length',\n",
       "  'user': 'user4',\n",
       "  'likes': 0,\n",
       "  'retweets': 0,\n",
       "  'logreg_prob': 0.05289384321799358,\n",
       "  'logreg_result': 0,\n",
       "  'cnn_prob': 0.0007323579047806561,\n",
       "  'cnn_result': 0,\n",
       "  'admin_result': 1,\n",
       "  'created_at': '2024-07-25T18:36:35.708992'},\n",
       " {'tweet_id': '6545f2c307132f06c3be84dda3a7581e13eb182cbdd8541ea5a34b3cf703ad43',\n",
       "  'retweet_id': None,\n",
       "  'tweet': 'camcorders hooded navy rss hooded navy',\n",
       "  'user': 'user2',\n",
       "  'likes': 0,\n",
       "  'retweets': 0,\n",
       "  'logreg_prob': 0.13418922097773983,\n",
       "  'logreg_result': 0,\n",
       "  'cnn_prob': 0.018673336133360863,\n",
       "  'cnn_result': 0,\n",
       "  'admin_result': None,\n",
       "  'created_at': '2024-07-25T18:36:44.886777'},\n",
       " {'tweet_id': '3941513331c118f1da2b3eb239ed97c2b7b82058241d691038fde0fc1a21edcd',\n",
       "  'retweet_id': None,\n",
       "  'tweet': 'not sure that i would describe monitor group as a boutique the firm has about consultants and a global presence it is also the leader in areas such as innovation pricing and scenario thinking no need to start an edit war though so i will leave this and see if the person who made the edit has further context for the decision utc',\n",
       "  'user': 'user5',\n",
       "  'likes': 0,\n",
       "  'retweets': 0,\n",
       "  'logreg_prob': 0.02641111970803896,\n",
       "  'logreg_result': 0,\n",
       "  'cnn_prob': 0.00010483197547728196,\n",
       "  'cnn_result': 0,\n",
       "  'admin_result': None,\n",
       "  'created_at': '2024-07-25T18:36:56.975792'},\n",
       " {'tweet_id': 'f94de7ff8c0b4e68c91f4833c683d52725de548d53a36b5a707962ab5543ce1a',\n",
       "  'retweet_id': None,\n",
       "  'tweet': 'oh stop saying sass now or i sure will put my foot up up against your ass mr',\n",
       "  'user': 'user7',\n",
       "  'likes': 0,\n",
       "  'retweets': 0,\n",
       "  'logreg_prob': 0.7345871783617007,\n",
       "  'logreg_result': 1,\n",
       "  'cnn_prob': 0.7166420221328735,\n",
       "  'cnn_result': 1,\n",
       "  'admin_result': None,\n",
       "  'created_at': '2024-07-25T18:37:01.179011'},\n",
       " {'tweet_id': 'b904043d80d71b46ea6cd84e3befcf1e8122d9c4661a0e6c39ee829df82dedcb',\n",
       "  'retweet_id': None,\n",
       "  'tweet': 'giving the populace voting rights what a slut a mistake if you want to vote you need to go to the army',\n",
       "  'user': 'user3',\n",
       "  'likes': 0,\n",
       "  'retweets': 0,\n",
       "  'logreg_prob': 0.32973023018130354,\n",
       "  'logreg_result': 0,\n",
       "  'cnn_prob': 0.8971148133277893,\n",
       "  'cnn_result': 1,\n",
       "  'admin_result': None,\n",
       "  'created_at': '2024-07-25T18:37:03.275355'},\n",
       " {'tweet_id': 'f9b45dcb851c77c70745968a634930079d41d44063fbda428c01c12aa4640cd4',\n",
       "  'retweet_id': None,\n",
       "  'tweet': 'camcorders hooded navy rss hooded navy',\n",
       "  'user': 'user4',\n",
       "  'likes': 0,\n",
       "  'retweets': 0,\n",
       "  'logreg_prob': 0.13418922097773983,\n",
       "  'logreg_result': 0,\n",
       "  'cnn_prob': 0.018673336133360863,\n",
       "  'cnn_result': 0,\n",
       "  'admin_result': None,\n",
       "  'created_at': '2024-07-25T18:37:17.424486'},\n",
       " {'tweet_id': '1e11ff66d200536a944dbdc182b2ba4d94052b1e759a272380b7fbd2ed430b5d',\n",
       "  'retweet_id': None,\n",
       "  'tweet': 'do the image captions need to repeat text from the article at length',\n",
       "  'user': 'user1',\n",
       "  'likes': 0,\n",
       "  'retweets': 0,\n",
       "  'logreg_prob': 0.05289384321799358,\n",
       "  'logreg_result': 0,\n",
       "  'cnn_prob': 0.0007323579047806561,\n",
       "  'cnn_result': 0,\n",
       "  'admin_result': None,\n",
       "  'created_at': '2024-07-25T18:37:26.619119'},\n",
       " {'tweet_id': '1d60d258bc2866f5f648a62fb01f11e36f94c937faee92d31903b5d182762a44',\n",
       "  'retweet_id': None,\n",
       "  'tweet': 'there is no it means cool a k a that can describe how amazing you are ahaah she cannot get up happy face or smiley shah aa could not stop laughing the funniest part',\n",
       "  'user': 'user7',\n",
       "  'likes': 0,\n",
       "  'retweets': 0,\n",
       "  'logreg_prob': 0.02116351298165251,\n",
       "  'logreg_result': 0,\n",
       "  'cnn_prob': 0.003203153144568205,\n",
       "  'cnn_result': 0,\n",
       "  'admin_result': None,\n",
       "  'created_at': '2024-07-25T18:37:30.760757'},\n",
       " {'tweet_id': 'e5375c784e5e63c93bce0d2b60d881f5339c99620a2b2cc62903dfd181c4ef68',\n",
       "  'retweet_id': None,\n",
       "  'tweet': 'giving the populace voting rights what a slut a mistake if you want to vote you need to go to the army',\n",
       "  'user': 'user5',\n",
       "  'likes': 0,\n",
       "  'retweets': 0,\n",
       "  'logreg_prob': 0.32973023018130354,\n",
       "  'logreg_result': 0,\n",
       "  'cnn_prob': 0.8971148133277893,\n",
       "  'cnn_result': 1,\n",
       "  'admin_result': None,\n",
       "  'created_at': '2024-07-25T18:37:34.877977'},\n",
       " {'tweet_id': '434e69b2259f9df78b51df2a1d596c09d14061f779d348466ce3e3b058c90814',\n",
       "  'retweet_id': None,\n",
       "  'tweet': 'a series of vandalism were committed by on the the vandalism has been removed and the user warned',\n",
       "  'user': 'user6',\n",
       "  'likes': 0,\n",
       "  'retweets': 0,\n",
       "  'logreg_prob': 0.07587913410820879,\n",
       "  'logreg_result': 0,\n",
       "  'cnn_prob': 0.044218938797712326,\n",
       "  'cnn_result': 0,\n",
       "  'admin_result': 1,\n",
       "  'created_at': '2024-07-25T18:37:44.047419'},\n",
       " {'tweet_id': '36cfc5a5225ebc77aed8587800a2edfd252501165541072406e772582fa17fef',\n",
       "  'retweet_id': None,\n",
       "  'tweet': 'no question has been dodged as none have been posed in any coherent manner this dogged insistence on rules again borders on obsession wikipedia is about contributions that make sense not blind obedience to self imposed rules besides your interpretation of these rules is just that a misguided interpretation i fail to see what you are trying to accomplish aside from antagonizing other editors who make sensible and in my view highly valuable contributions',\n",
       "  'user': 'user8',\n",
       "  'likes': 0,\n",
       "  'retweets': 0,\n",
       "  'logreg_prob': 0.11399322029309268,\n",
       "  'logreg_result': 0,\n",
       "  'cnn_prob': 0.037974677979946136,\n",
       "  'cnn_result': 0,\n",
       "  'admin_result': None,\n",
       "  'created_at': '2024-07-25T18:37:48.256025'},\n",
       " {'tweet_id': 'dba7c85ce85ec5d7d475fccd230f04651a98dc37f8e3304940809cf51ed0216d',\n",
       "  'retweet_id': None,\n",
       "  'tweet': 'oh stop saying sass now or i sure will put my foot up up against your ass mr',\n",
       "  'user': 'user8',\n",
       "  'likes': 0,\n",
       "  'retweets': 0,\n",
       "  'logreg_prob': 0.7345871783617007,\n",
       "  'logreg_result': 1,\n",
       "  'cnn_prob': 0.7166420221328735,\n",
       "  'cnn_result': 1,\n",
       "  'admin_result': None,\n",
       "  'created_at': '2024-07-25T18:37:52.444872'},\n",
       " {'tweet_id': '2b9457d6353788d5d5d1370ac9041e79828ad7cc50caed79369e729ce9adcd59',\n",
       "  'retweet_id': None,\n",
       "  'tweet': 'This is a tweet for testing purposes.',\n",
       "  'user': 'user6',\n",
       "  'likes': 0,\n",
       "  'retweets': 0,\n",
       "  'logreg_prob': 0.021879380093575707,\n",
       "  'logreg_result': 0,\n",
       "  'cnn_prob': 0.0004499437927734107,\n",
       "  'cnn_result': 0,\n",
       "  'admin_result': None,\n",
       "  'created_at': '2024-07-25T18:49:54.627947'},\n",
       " {'tweet_id': 'c348ab92f185cd94ef80ce40a0be0cd68d6c6e5070d499752c65ae1fe9c355ea',\n",
       "  'retweet_id': None,\n",
       "  'tweet': 'nd hate is all i know',\n",
       "  'user': 'user4',\n",
       "  'likes': 0,\n",
       "  'retweets': 0,\n",
       "  'logreg_prob': 0.16710891406820716,\n",
       "  'logreg_result': 0,\n",
       "  'cnn_prob': 0.9567621946334839,\n",
       "  'cnn_result': 1,\n",
       "  'admin_result': None,\n",
       "  'created_at': '2024-07-25T18:49:58.815263'},\n",
       " {'tweet_id': '303ac859a4bd7445b45226e73532f199767c94d0be6aecf94e1cf6fba2913b6c',\n",
       "  'retweet_id': None,\n",
       "  'tweet': 'And yet another example of a tweet.',\n",
       "  'user': 'user3',\n",
       "  'likes': 0,\n",
       "  'retweets': 0,\n",
       "  'logreg_prob': 0.3697290352109969,\n",
       "  'logreg_result': 0,\n",
       "  'cnn_prob': 0.16497167944908142,\n",
       "  'cnn_result': 0,\n",
       "  'admin_result': None,\n",
       "  'created_at': '2024-07-25T18:50:02.968715'},\n",
       " {'tweet_id': 'a1bca3865279588a1b3632d0d7def22b552b91274310e6a16ed4ec60352f81f3',\n",
       "  'retweet_id': None,\n",
       "  'tweet': 'nd hate is all i know',\n",
       "  'user': 'user6',\n",
       "  'likes': 0,\n",
       "  'retweets': 0,\n",
       "  'logreg_prob': 0.16710891406820716,\n",
       "  'logreg_result': 0,\n",
       "  'cnn_prob': 0.9567622542381287,\n",
       "  'cnn_result': 1,\n",
       "  'admin_result': None,\n",
       "  'created_at': '2024-07-25T18:51:29.418932'},\n",
       " {'tweet_id': '44fa3f031082dcd681d58a30a2ddcc45a031b1857a50428bbe68b2f0222c6680',\n",
       "  'retweet_id': None,\n",
       "  'tweet': 'nice tweet',\n",
       "  'user': 'user1',\n",
       "  'likes': 0,\n",
       "  'retweets': 0,\n",
       "  'logreg_prob': 0.32258991355886796,\n",
       "  'logreg_result': 0,\n",
       "  'cnn_prob': 0.19221952557563782,\n",
       "  'cnn_result': 0,\n",
       "  'admin_result': None,\n",
       "  'created_at': '2024-07-25T19:04:54.782826'},\n",
       " {'tweet_id': '21730bf6385ce9511bec548c8dcac2323f4717a22a8c612b25c35dbffb39fa16',\n",
       "  'retweet_id': None,\n",
       "  'tweet': 'ugly guy',\n",
       "  'user': 'user1',\n",
       "  'likes': 0,\n",
       "  'retweets': 0,\n",
       "  'logreg_prob': 0.8039446613803195,\n",
       "  'logreg_result': 1,\n",
       "  'cnn_prob': 0.4611780643463135,\n",
       "  'cnn_result': 0,\n",
       "  'admin_result': None,\n",
       "  'created_at': '2024-07-25T19:05:58.993313'},\n",
       " {'tweet_id': 'f12cd43fefaa3ca8d059c44717c213b623a374f2774c6829caffa03c6d2df283',\n",
       "  'retweet_id': None,\n",
       "  'tweet': 'what a nice guy',\n",
       "  'user': 'user1',\n",
       "  'likes': 0,\n",
       "  'retweets': 0,\n",
       "  'logreg_prob': 0.5868200044861338,\n",
       "  'logreg_result': 1,\n",
       "  'cnn_prob': 0.3398796319961548,\n",
       "  'cnn_result': 0,\n",
       "  'admin_result': None,\n",
       "  'created_at': '2024-07-25T19:06:26.704799'},\n",
       " {'tweet_id': '8b126c734cb80d31c8e4ab9082da3869f5851332395bd3392989b5632c1f6081',\n",
       "  'retweet_id': None,\n",
       "  'tweet': 'nice tweet',\n",
       "  'user': 'user1',\n",
       "  'likes': 0,\n",
       "  'retweets': 0,\n",
       "  'logreg_prob': 0.32258991355886796,\n",
       "  'logreg_result': 0,\n",
       "  'cnn_prob': 0.19221952557563782,\n",
       "  'cnn_result': 0,\n",
       "  'admin_result': None,\n",
       "  'created_at': '2024-07-25T19:17:13.133966'},\n",
       " {'tweet_id': '9a6d310329f396cdbc647585dcdaf7931b4ce027ad28566ede567bad589cf4ac',\n",
       "  'retweet_id': None,\n",
       "  'tweet': 'ugly boy',\n",
       "  'user': 'user1',\n",
       "  'likes': 0,\n",
       "  'retweets': 0,\n",
       "  'logreg_prob': 0.7925919571362994,\n",
       "  'logreg_result': 1,\n",
       "  'cnn_prob': 0.6229661703109741,\n",
       "  'cnn_result': 1,\n",
       "  'admin_result': None,\n",
       "  'created_at': '2024-07-25T19:18:08.887474'},\n",
       " {'tweet_id': '5a9aa17ab8372333c37d0ad828e07961d21be1cb1b047b3265e13f3caf4987ba',\n",
       "  'retweet_id': None,\n",
       "  'tweet': 'i love this tweet',\n",
       "  'user': 'user1',\n",
       "  'likes': 0,\n",
       "  'retweets': 0,\n",
       "  'logreg_prob': 0.25081981351785787,\n",
       "  'logreg_result': 0,\n",
       "  'cnn_prob': 0.15814930200576782,\n",
       "  'cnn_result': 0,\n",
       "  'admin_result': None,\n",
       "  'created_at': '2024-07-25T19:18:35.422050'}]"
      ]
     },
     "execution_count": 27,
     "metadata": {},
     "output_type": "execute_result"
    }
   ],
   "source": [
    "tweets"
   ]
  },
  {
   "cell_type": "code",
   "execution_count": 28,
   "metadata": {},
   "outputs": [],
   "source": [
    "import matplotlib.pyplot as plt\n",
    "\n",
    "def create_donut_chart(data):\n",
    "    labels = list(data.keys())\n",
    "    sizes = list(data.values())\n",
    "    colors = ['#ff9999','#66b3ff','#99ff99']\n",
    "    \n",
    "    fig, ax = plt.subplots()\n",
    "    ax.pie(sizes, labels=labels, colors=colors, startangle=90, counterclock=False, wedgeprops=dict(width=0.3))\n",
    "\n",
    "    # Draw circle for donut shape\n",
    "    centre_circle = plt.Circle((0,0),0.70,fc='white')\n",
    "    fig.gca().add_artist(centre_circle)\n",
    "    \n",
    "    plt.title('Safety Status by Source')\n",
    "    plt.axis('equal')  # Equal aspect ratio ensures that pie is drawn as a circle.\n",
    "    plt.show()\n"
   ]
  },
  {
   "cell_type": "code",
   "execution_count": 29,
   "metadata": {},
   "outputs": [
    {
     "data": {
      "image/png": "[encoded data removed]",
      "text/plain": [
       "<Figure size 640x480 with 1 Axes>"
      ]
     },
     "metadata": {},
     "output_type": "display_data"
    }
   ],
   "source": [
    "def main():\n",
    "    # Fetch all tweets\n",
    "    tweets = fetch_all_tweets()\n",
    "\n",
    "    # Process data\n",
    "    safety_status_data = process_safety_status_data(tweets)\n",
    "\n",
    "    # Create donut chart\n",
    "    create_donut_chart(safety_status_data)\n",
    "\n",
    "if __name__ == \"__main__\":\n",
    "    main()\n"
   ]
  },
  {
   "cell_type": "code",
   "execution_count": 35,
   "metadata": {},
   "outputs": [
    {
     "data": {
      "image/png": "[encoded data removed]",
      "text/plain": [
       "<Figure size 640x480 with 1 Axes>"
      ]
     },
     "metadata": {},
     "output_type": "display_data"
    }
   ],
   "source": [
    "import matplotlib.pyplot as plt\n",
    "\n",
    "def process_safety_status_data(tweets):\n",
    "    data = {\n",
    "        'Logistic Regression': 0,\n",
    "        'CNN': 0,\n",
    "        'Admin': 0\n",
    "    }\n",
    "\n",
    "    for tweet in tweets:\n",
    "        if tweet['logreg_result'] == 1:\n",
    "            data['Logistic Regression'] += 1\n",
    "        if tweet['cnn_result'] == 1:\n",
    "            data['CNN'] += 1\n",
    "        if tweet['admin_result'] == 1:\n",
    "            data['Admin'] += 1\n",
    "\n",
    "    return data\n",
    "\n",
    "def create_pie_chart_with_percentages(data):\n",
    "    labels = list(data.keys())\n",
    "    sizes = list(data.values())\n",
    "    colors = ['#ff9999', '#66b3ff', '#99ff99']\n",
    "    \n",
    "    fig, ax = plt.subplots()\n",
    "    wedges, texts, autotexts = ax.pie(\n",
    "        sizes, \n",
    "        labels=labels, \n",
    "        colors=colors, \n",
    "        startangle=90, \n",
    "        autopct='%1.1f%%'  # Displays percentages\n",
    "    )\n",
    "    \n",
    "    plt.title('Safety Status changes by Source')\n",
    "    # plt.text('Marks who caught the hate speech')\n",
    "    plt.axis('equal')  # Equal aspect ratio ensures that pie is drawn as a circle.\n",
    "\n",
    "    # Adjust font size for percentage text\n",
    "    for text in autotexts:\n",
    "        text.set_fontsize(10)\n",
    "    \n",
    "    plt.show()\n",
    "\n",
    "def main():\n",
    "    # Fetch all tweets\n",
    "    tweets = fetch_all_tweets()\n",
    "\n",
    "    # Process data\n",
    "    safety_status_data = process_safety_status_data(tweets)\n",
    "\n",
    "    # Create pie chart with percentages\n",
    "    create_pie_chart_with_percentages(safety_status_data)\n",
    "\n",
    "if __name__ == \"__main__\":\n",
    "    main()\n"
   ]
  },
  {
   "cell_type": "code",
   "execution_count": null,
   "metadata": {},
   "outputs": [],
   "source": []
  }
 ],
 "metadata": {
  "kernelspec": {
   "display_name": "al",
   "language": "python",
   "name": "python3"
  },
  "language_info": {
   "codemirror_mode": {
    "name": "ipython",
    "version": 3
   },
   "file_extension": ".py",
   "mimetype": "text/x-python",
   "name": "python",
   "nbconvert_exporter": "python",
   "pygments_lexer": "ipython3",
   "version": "3.12.3"
  }
 },
 "nbformat": 4,
 "nbformat_minor": 2
}

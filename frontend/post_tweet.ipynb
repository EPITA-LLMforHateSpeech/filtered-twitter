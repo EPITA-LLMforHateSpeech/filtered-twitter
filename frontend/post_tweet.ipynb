{
 "cells": [
  {
   "cell_type": "code",
   "execution_count": 26,
   "metadata": {},
   "outputs": [],
   "source": [
    "# Import necessary libraries\n",
    "import requests\n",
    "import json\n",
    "\n",
    "# Define the FastAPI endpoints\n",
    "PREDICT_ENDPOINT = \"http://127.0.0.1:8000/predict\"\n",
    "STORE_TWEET_ENDPOINT = \"http://127.0.0.1:8000/store_tweet\""
   ]
  },
  {
   "cell_type": "code",
   "execution_count": 27,
   "metadata": {},
   "outputs": [],
   "source": [
    "# Function to predict if a tweet is hate speech\n",
    "def predict_tweet(text, user):\n",
    "    response = requests.post(PREDICT_ENDPOINT, json={\"text\": text, \"user\": user})\n",
    "    if response.status_code == 200:\n",
    "        return response.json()\n",
    "    else:\n",
    "        print(\"Prediction failed:\", response.json())\n",
    "        return None\n"
   ]
  },
  {
   "cell_type": "code",
   "execution_count": 28,
   "metadata": {},
   "outputs": [],
   "source": [
    "# Function to store a tweet if it's safe to post\n",
    "def store_tweet(tweet_id, user_id, retweet_id=None):\n",
    "    data = {\n",
    "        \"tweet_id\": tweet_id,\n",
    "        \"retweet_id\": retweet_id,\n",
    "        \"user_id\": user_id\n",
    "    }\n",
    "    response = requests.post(STORE_TWEET_ENDPOINT, json=data)\n",
    "    if response.status_code == 200:\n",
    "        return response.json()\n",
    "    else:\n",
    "        print(\"Storing tweet failed:\", response.json())\n",
    "        return None"
   ]
  },
  {
   "cell_type": "code",
   "execution_count": 29,
   "metadata": {},
   "outputs": [],
   "source": [
    "# Example tweet text and user\n",
    "tweet_text = \"This is an example tweet for testing purposes.\"\n",
    "user_id = \"example_user\""
   ]
  },
  {
   "cell_type": "code",
   "execution_count": 17,
   "metadata": {},
   "outputs": [
    {
     "name": "stdout",
     "output_type": "stream",
     "text": [
      "Prediction Result: {'tweet_id': '181512ed', 'tweet': 'This is an example tweet for testing purposes.', 'user': 'example_user', 'likes': 0, 'retweets': 0, 'logreg_prob': 0.01582927467824479, 'logreg_result': 0, 'cnn_prob': None, 'cnn_result': None}\n",
      "Tweet successfully posted: {'tweet_id': '181512ed', 'retweet_id': None, 'text': 'This is an example tweet for testing purposes.', 'retweets': 0, 'id': 1, 'user_id': 'example_user', 'likes': 0, 'safety_status': None}\n"
     ]
    }
   ],
   "source": [
    "#Predict if the tweet is hate speech\n",
    "prediction_result = predict_tweet(tweet_text, user_id)\n",
    "\n",
    "if prediction_result:\n",
    "    print(\"Prediction Result:\", prediction_result)\n",
    "    \n",
    "    # Check if the tweet is safe to post (logreg_result should be 0)\n",
    "    if prediction_result[\"logreg_result\"] == 0:\n",
    "        tweet_id = prediction_result[\"tweet_id\"]\n",
    "        \n",
    "        # Step 3: Store the tweet in the posted tweets database\n",
    "        store_result = store_tweet(tweet_id, user_id)\n",
    "        if store_result:\n",
    "            print(\"Tweet successfully posted:\", store_result)\n",
    "    else:\n",
    "        print(\"Tweet is considered hate speech and will not be posted.\")\n",
    "else:\n",
    "    print(\"Prediction failed.\")"
   ]
  },
  {
   "cell_type": "markdown",
   "metadata": {},
   "source": [
    "## create random users, and post tweets under test.csv under their names"
   ]
  },
  {
   "cell_type": "code",
   "execution_count": 30,
   "metadata": {},
   "outputs": [],
   "source": [
    "import pandas as pd\n",
    "import random\n",
    "import requests\n",
    "from datetime import datetime, timezone\n",
    "\n",
    "base_url = \"http://localhost:8000\"\n",
    "\n",
    "# Define users\n",
    "users = [f\"user{i}\" for i in range(1, 9)]"
   ]
  },
  {
   "cell_type": "code",
   "execution_count": 54,
   "metadata": {},
   "outputs": [],
   "source": [
    "# Read tweets from CSV\n",
    "test_csv_path = '../data/test.csv'\n",
    "df = pd.read_csv(test_csv_path)\n",
    "\n",
    "# Shuffle tweets and split into 8 equal parts\n",
    "tweets = df['tweets'].tolist()\n",
    "random.shuffle(tweets)\n",
    "tweets = tweets[43:47]\n",
    "num_tweets_per_user = len(tweets) // len(users)"
   ]
  },
  {
   "cell_type": "code",
   "execution_count": 55,
   "metadata": {},
   "outputs": [
    {
     "data": {
      "text/plain": [
       "1"
      ]
     },
     "execution_count": 55,
     "metadata": {},
     "output_type": "execute_result"
    }
   ],
   "source": [
    "num_tweets_per_user"
   ]
  },
  {
   "cell_type": "code",
   "execution_count": 56,
   "metadata": {},
   "outputs": [],
   "source": [
    "# Function to post a tweet for prediction\n",
    "def post_tweet_for_prediction(tweet, user):\n",
    "    response = requests.post(f'{base_url}/predict', json={\"text\": tweet, \"user\": user})\n",
    "    return response.json()"
   ]
  },
  {
   "cell_type": "code",
   "execution_count": 57,
   "metadata": {},
   "outputs": [],
   "source": [
    "def store_posted_tweet(tweet_id, retweet_id, user_id, text, likes, retweets, safety_status, created_at):\n",
    "    data = {\n",
    "        \"tweet_id\": tweet_id,\n",
    "        \"retweet_id\": retweet_id,\n",
    "        \"user_id\": user_id,\n",
    "        \"text\": text,\n",
    "        \"likes\": likes,\n",
    "        \"retweets\": retweets,\n",
    "        \"safety_status\": safety_status,\n",
    "        \"created_at\": created_at\n",
    "    }\n",
    "    response = requests.post(f'{base_url}/store_tweet', json=data)\n",
    "    return response.json()"
   ]
  },
  {
   "cell_type": "code",
   "execution_count": 58,
   "metadata": {},
   "outputs": [],
   "source": [
    "# Function to simulate user submissions\n",
    "def simulate_user_submission():\n",
    "    for i, user in enumerate(users):\n",
    "        user_tweets = tweets[i * num_tweets_per_user : (i + 1) * num_tweets_per_user]\n",
    "        for tweet in user_tweets:\n",
    "            prediction = post_tweet_for_prediction(tweet, user)\n",
    "            print(\"Prediction Result:\", prediction)\n",
    "            \n",
    "            if prediction[\"logreg_result\"] != 1:\n",
    "                created_at = datetime.now(timezone.utc).isoformat()  # Convert datetime to ISO format string\n",
    "\n",
    "                store_response = store_posted_tweet(\n",
    "                    tweet_id=prediction[\"tweet_id\"],\n",
    "                    retweet_id=None,\n",
    "                    user_id=user,\n",
    "                    text=prediction[\"tweet\"],\n",
    "                    likes=prediction[\"likes\"],\n",
    "                    retweets=prediction[\"retweets\"],\n",
    "                    safety_status=None,  # Initial safety status is None\n",
    "                    created_at=created_at\n",
    "                )\n",
    "                print(\"Store Tweet Response:\", store_response)"
   ]
  },
  {
   "cell_type": "code",
   "execution_count": 59,
   "metadata": {},
   "outputs": [
    {
     "name": "stdout",
     "output_type": "stream",
     "text": [
      "Prediction Result: {'tweet_id': '9d7d2576', 'tweet': 'love island think there might be a guy in the mix for zara eek lucky girl', 'user': 'user4', 'likes': 0, 'retweets': 0, 'logreg_prob': 0.404016058196919, 'logreg_result': 0, 'cnn_prob': None, 'cnn_result': None, 'created_at': '2024-07-25T08:25:05.511616'}\n",
      "Store Tweet Response: {'id': 21, 'user_id': 'user4', 'likes': 0, 'safety_status': None, 'text': 'love island think there might be a guy in the mix for zara eek lucky girl', 'tweet_id': '9d7d2576', 'retweet_id': None, 'retweets': 0, 'created_at': '2024-07-25T08:25:05.511616'}\n",
      "Prediction Result: {'tweet_id': '71d24af1', 'tweet': 'cemu toledo yo lonnie momentary upravo your bog... taking little primitive as stave see pride go i', 'user': 'user2', 'likes': 0, 'retweets': 0, 'logreg_prob': 0.9680542198318599, 'logreg_result': 1, 'cnn_prob': None, 'cnn_result': None, 'created_at': '2024-07-25T08:25:09.640818'}\n",
      "Prediction Result: {'tweet_id': '8f3bf7a5', 'tweet': 'this arose time to talk by two antithetical subjects integrity and right', 'user': 'user6', 'likes': 0, 'retweets': 0, 'logreg_prob': 0.6865502116215269, 'logreg_result': 1, 'cnn_prob': None, 'cnn_result': None, 'created_at': '2024-07-25T08:25:11.711085'}\n"
     ]
    }
   ],
   "source": [
    "# Run the simulation\n",
    "simulate_user_submission()"
   ]
  },
  {
   "cell_type": "markdown",
   "metadata": {},
   "source": [
    "## random users create random tweets "
   ]
  },
  {
   "cell_type": "code",
   "execution_count": 2,
   "metadata": {},
   "outputs": [],
   "source": [
    "import pandas as pd\n",
    "import random\n",
    "import requests\n",
    "import time\n",
    "from datetime import datetime, timezone, timedelta\n",
    "\n",
    "base_url = \"http://localhost:8000\"\n"
   ]
  },
  {
   "cell_type": "code",
   "execution_count": 3,
   "metadata": {},
   "outputs": [],
   "source": [
    "# Define users\n",
    "users = [f\"user{i}\" for i in range(1, 9)]\n",
    "\n",
    "# Read tweets from CSV\n",
    "test_csv_path = '../data/test.csv'\n",
    "df = pd.read_csv(test_csv_path)\n",
    "\n",
    "# df = df[df['labels']==1]\n",
    "# Shuffle tweets and select 50 tweets\n",
    "tweets = df['tweets'].tolist()\n",
    "random.shuffle(tweets)\n",
    "tweets = tweets[:20]\n"
   ]
  },
  {
   "cell_type": "code",
   "execution_count": 4,
   "metadata": {},
   "outputs": [],
   "source": [
    "\n",
    "# Function to post a tweet for prediction\n",
    "def post_tweet_for_prediction(tweet, user):\n",
    "    response = requests.post(f'{base_url}/predict', json={\"text\": tweet, \"user\": user})\n",
    "    return response.json()\n",
    "\n",
    "def store_posted_tweet(tweet_id, retweet_id, user_id, text, likes, retweets, safety_status, created_at):\n",
    "    data = {\n",
    "        \"tweet_id\": tweet_id,\n",
    "        \"retweet_id\": retweet_id,\n",
    "        \"user_id\": user_id,\n",
    "        \"text\": text,\n",
    "        \"likes\": likes,\n",
    "        \"retweets\": retweets,\n",
    "        \"safety_status\": safety_status,\n",
    "        \"created_at\": created_at\n",
    "    }\n",
    "    response = requests.post(f'{base_url}/store_tweet', json=data)\n",
    "    return response.json()\n"
   ]
  },
  {
   "cell_type": "code",
   "execution_count": 8,
   "metadata": {},
   "outputs": [],
   "source": [
    "import random\n",
    "import time\n",
    "from datetime import datetime, timedelta, timezone\n",
    "\n",
    "# Function to simulate user submissions\n",
    "def simulate_user_submission():\n",
    "    total_tweets = 20\n",
    "    tweet_count = 0\n",
    "    end_time = datetime.now(timezone.utc) + timedelta(hours=1)\n",
    "    \n",
    "    while tweet_count < total_tweets and datetime.now(timezone.utc) < end_time:\n",
    "        # Randomly select number of tweets to post (1 to 3)\n",
    "        num_tweets_to_post = random.randint(1, 3)\n",
    "        \n",
    "        if tweet_count + num_tweets_to_post > total_tweets:\n",
    "            num_tweets_to_post = total_tweets - tweet_count  # Adjust to post remaining tweets\n",
    "\n",
    "        print(f\"Create {num_tweets_to_post} tweets.\")\n",
    "        \n",
    "        # Randomly select tweets for this batch\n",
    "        user_tweets = random.sample(tweets, num_tweets_to_post)\n",
    "        \n",
    "        for tweet in user_tweets:\n",
    "            user = random.choice(users)\n",
    "            print(f\"By user {user}.\")\n",
    "            prediction = post_tweet_for_prediction(tweet, user)\n",
    "            print(\"Prediction Result:\", prediction)\n",
    "\n",
    "            if prediction[\"logreg_result\"] != 1:\n",
    "                created_at = datetime.now(timezone.utc).isoformat()  # Convert datetime to ISO format string\n",
    "\n",
    "                store_response = store_posted_tweet(\n",
    "                    tweet_id=prediction[\"tweet_id\"],\n",
    "                    retweet_id=None,\n",
    "                    user_id=user,\n",
    "                    text=prediction[\"tweet\"],\n",
    "                    likes=prediction[\"likes\"],\n",
    "                    retweets=prediction[\"retweets\"],\n",
    "                    safety_status=None,  # Initial safety status is None\n",
    "                    created_at=created_at\n",
    "                )\n",
    "                print(\"Store Tweet Response:\", store_response)\n",
    "\n",
    "            tweet_count += 1  # Increment tweet count for each tweet processed\n",
    "            if tweet_count >= total_tweets:\n",
    "                print(\"Reached total tweet limit.\")\n",
    "                break\n",
    "        \n",
    "        print(\"Batch post complete.\")\n",
    "        if tweet_count < total_tweets:\n",
    "            # Wait for a random interval between 5 and 10 seconds before posting next batch\n",
    "            time.sleep(random.randint(5, 10))\n"
   ]
  },
  {
   "cell_type": "code",
   "execution_count": 11,
   "metadata": {},
   "outputs": [
    {
     "name": "stdout",
     "output_type": "stream",
     "text": [
      "Create 1 tweets.\n",
      "By user user5.\n",
      "Prediction Result: {'tweet_id': '0a16bf59c8b68a488c9d3a950f84fb807c9d18fad89d22ba5d1c76e36f482a3e', 'tweet': 'i wish fucking towel heads never came to our country in the first place', 'user': 'user5', 'likes': 0, 'retweets': 0, 'logreg_prob': 0.9446891508111326, 'logreg_result': 1, 'cnn_prob': None, 'cnn_result': None, 'created_at': '2024-07-25T18:35:30.508421'}\n",
      "Batch post complete.\n",
      "Create 1 tweets.\n",
      "By user user3.\n",
      "Prediction Result: {'tweet_id': '78657f33cbaf967ccd9c2ac01a246815eb2b03df9c5bccfdf31aded91415e23c', 'tweet': 'i look forward to the happy things chat and just to lead up to it here is a smiling crater you need to look at the large image to see it', 'user': 'user3', 'likes': 0, 'retweets': 0, 'logreg_prob': 0.030545622771433276, 'logreg_result': 0, 'cnn_prob': None, 'cnn_result': None, 'created_at': '2024-07-25T18:35:41.609806'}\n",
      "Store Tweet Response: {'tweet_id': '78657f33cbaf967ccd9c2ac01a246815eb2b03df9c5bccfdf31aded91415e23c', 'retweet_id': None, 'text': 'i look forward to the happy things chat and just to lead up to it here is a smiling crater you need to look at the large image to see it', 'retweets': 0, 'created_at': '2024-07-25T18:35:41.609806', 'user_id': 'user3', 'id': 1, 'likes': 0, 'safety_status': None}\n",
      "Batch post complete.\n",
      "Create 2 tweets.\n",
      "By user user4.\n",
      "Prediction Result: {'tweet_id': '6e693849939bd86cfabdef78104d7dd2987e0b2576ee27415667ea84d91a38c9', 'tweet': 'andreas i am not ignoring lord room s advice i am taking their advice and i will complete a straw poll and rfc at each page in question before i return for formal mediation should that still be required talk cont ribs', 'user': 'user4', 'likes': 0, 'retweets': 0, 'logreg_prob': 0.11448798378638912, 'logreg_result': 0, 'cnn_prob': None, 'cnn_result': None, 'created_at': '2024-07-25T18:35:54.833613'}\n",
      "Store Tweet Response: {'tweet_id': '6e693849939bd86cfabdef78104d7dd2987e0b2576ee27415667ea84d91a38c9', 'retweet_id': None, 'text': 'andreas i am not ignoring lord room s advice i am taking their advice and i will complete a straw poll and rfc at each page in question before i return for formal mediation should that still be required talk cont ribs', 'retweets': 0, 'created_at': '2024-07-25T18:35:54.833613', 'user_id': 'user4', 'id': 2, 'likes': 0, 'safety_status': None}\n",
      "By user user6.\n",
      "Prediction Result: {'tweet_id': '1d24839bd40c2c6e13b9f6b4aa3894139f4ba96ba6fc0d87534ed5669af067ed', 'tweet': 'shows what sub human group these negroid belong the poor horse got an infection from the dirty pervert', 'user': 'user6', 'likes': 0, 'retweets': 0, 'logreg_prob': 0.9407527618859165, 'logreg_result': 1, 'cnn_prob': None, 'cnn_result': None, 'created_at': '2024-07-25T18:35:59.011328'}\n",
      "Batch post complete.\n",
      "Create 2 tweets.\n",
      "By user user2.\n",
      "Prediction Result: {'tweet_id': '475945650e2f223f5c094acaf5b063df4c6418d1ec45b72fbbde73517d8ea52e', 'tweet': 'do the image captions need to repeat text from the article at length', 'user': 'user2', 'likes': 0, 'retweets': 0, 'logreg_prob': 0.05289384321799358, 'logreg_result': 0, 'cnn_prob': None, 'cnn_result': None, 'created_at': '2024-07-25T18:36:07.126483'}\n",
      "Store Tweet Response: {'tweet_id': '475945650e2f223f5c094acaf5b063df4c6418d1ec45b72fbbde73517d8ea52e', 'retweet_id': None, 'text': 'do the image captions need to repeat text from the article at length', 'retweets': 0, 'created_at': '2024-07-25T18:36:07.126483', 'user_id': 'user2', 'id': 3, 'likes': 0, 'safety_status': None}\n",
      "By user user6.\n",
      "Prediction Result: {'tweet_id': 'b006e7c52e3014990b8885234a5bd4f6d5ef5e2e3932d3caba605ea4a0c616f1', 'tweet': 'and selim might deck the i m bud peter for real face', 'user': 'user6', 'likes': 0, 'retweets': 0, 'logreg_prob': 0.6948589464512558, 'logreg_result': 1, 'cnn_prob': None, 'cnn_result': None, 'created_at': '2024-07-25T18:36:11.303476'}\n",
      "Batch post complete.\n",
      "Create 2 tweets.\n",
      "By user user1.\n",
      "Prediction Result: {'tweet_id': '297d479fa37fcb68c02e9e735a062596d40445d4fd698dad609deb1fdeef1689', 'tweet': 'another dumb article the stretching that this writer does to find positives in the loss of kane is silly', 'user': 'user1', 'likes': 0, 'retweets': 0, 'logreg_prob': 0.13287541250109616, 'logreg_result': 0, 'cnn_prob': None, 'cnn_result': None, 'created_at': '2024-07-25T18:36:22.418662'}\n",
      "Store Tweet Response: {'tweet_id': '297d479fa37fcb68c02e9e735a062596d40445d4fd698dad609deb1fdeef1689', 'retweet_id': None, 'text': 'another dumb article the stretching that this writer does to find positives in the loss of kane is silly', 'retweets': 0, 'created_at': '2024-07-25T18:36:22.418662', 'user_id': 'user1', 'id': 4, 'likes': 0, 'safety_status': None}\n",
      "By user user1.\n",
      "Prediction Result: {'tweet_id': '6717843c1d23132eb16b960a4be56b500f7cd97569b4c809d9825dea3d72c490', 'tweet': 'and selim might deck the i m bud peter for real face', 'user': 'user1', 'likes': 0, 'retweets': 0, 'logreg_prob': 0.6948589464512558, 'logreg_result': 1, 'cnn_prob': None, 'cnn_result': None, 'created_at': '2024-07-25T18:36:26.612320'}\n",
      "Batch post complete.\n",
      "Create 1 tweets.\n",
      "By user user4.\n",
      "Prediction Result: {'tweet_id': '32a21b48c54287e9b9d945b8f3a72ec0cce6c810bff51ab9d501859d001bccc0', 'tweet': 'do the image captions need to repeat text from the article at length', 'user': 'user4', 'likes': 0, 'retweets': 0, 'logreg_prob': 0.05289384321799358, 'logreg_result': 0, 'cnn_prob': None, 'cnn_result': None, 'created_at': '2024-07-25T18:36:35.708992'}\n",
      "Store Tweet Response: {'tweet_id': '32a21b48c54287e9b9d945b8f3a72ec0cce6c810bff51ab9d501859d001bccc0', 'retweet_id': None, 'text': 'do the image captions need to repeat text from the article at length', 'retweets': 0, 'created_at': '2024-07-25T18:36:35.708992', 'user_id': 'user4', 'id': 5, 'likes': 0, 'safety_status': None}\n",
      "Batch post complete.\n",
      "Create 1 tweets.\n",
      "By user user2.\n",
      "Prediction Result: {'tweet_id': '6545f2c307132f06c3be84dda3a7581e13eb182cbdd8541ea5a34b3cf703ad43', 'tweet': 'camcorders hooded navy rss hooded navy', 'user': 'user2', 'likes': 0, 'retweets': 0, 'logreg_prob': 0.13418922097773983, 'logreg_result': 0, 'cnn_prob': None, 'cnn_result': None, 'created_at': '2024-07-25T18:36:44.886777'}\n",
      "Store Tweet Response: {'tweet_id': '6545f2c307132f06c3be84dda3a7581e13eb182cbdd8541ea5a34b3cf703ad43', 'retweet_id': None, 'text': 'camcorders hooded navy rss hooded navy', 'retweets': 0, 'created_at': '2024-07-25T18:36:44.886777', 'user_id': 'user2', 'id': 6, 'likes': 0, 'safety_status': None}\n",
      "Batch post complete.\n",
      "Create 3 tweets.\n",
      "By user user5.\n",
      "Prediction Result: {'tweet_id': '3941513331c118f1da2b3eb239ed97c2b7b82058241d691038fde0fc1a21edcd', 'tweet': 'not sure that i would describe monitor group as a boutique the firm has about consultants and a global presence it is also the leader in areas such as innovation pricing and scenario thinking no need to start an edit war though so i will leave this and see if the person who made the edit has further context for the decision utc', 'user': 'user5', 'likes': 0, 'retweets': 0, 'logreg_prob': 0.02641111970803896, 'logreg_result': 0, 'cnn_prob': None, 'cnn_result': None, 'created_at': '2024-07-25T18:36:56.975792'}\n",
      "Store Tweet Response: {'tweet_id': '3941513331c118f1da2b3eb239ed97c2b7b82058241d691038fde0fc1a21edcd', 'retweet_id': None, 'text': 'not sure that i would describe monitor group as a boutique the firm has about consultants and a global presence it is also the leader in areas such as innovation pricing and scenario thinking no need to start an edit war though so i will leave this and see if the person who made the edit has further context for the decision utc', 'retweets': 0, 'created_at': '2024-07-25T18:36:56.975792', 'user_id': 'user5', 'id': 7, 'likes': 0, 'safety_status': None}\n",
      "By user user7.\n",
      "Prediction Result: {'tweet_id': 'f94de7ff8c0b4e68c91f4833c683d52725de548d53a36b5a707962ab5543ce1a', 'tweet': 'oh stop saying sass now or i sure will put my foot up up against your ass mr', 'user': 'user7', 'likes': 0, 'retweets': 0, 'logreg_prob': 0.7345871783617007, 'logreg_result': 1, 'cnn_prob': None, 'cnn_result': None, 'created_at': '2024-07-25T18:37:01.179011'}\n",
      "By user user3.\n",
      "Prediction Result: {'tweet_id': 'b904043d80d71b46ea6cd84e3befcf1e8122d9c4661a0e6c39ee829df82dedcb', 'tweet': 'giving the populace voting rights what a slut a mistake if you want to vote you need to go to the army', 'user': 'user3', 'likes': 0, 'retweets': 0, 'logreg_prob': 0.32973023018130354, 'logreg_result': 0, 'cnn_prob': None, 'cnn_result': None, 'created_at': '2024-07-25T18:37:03.275355'}\n",
      "Store Tweet Response: {'tweet_id': 'b904043d80d71b46ea6cd84e3befcf1e8122d9c4661a0e6c39ee829df82dedcb', 'retweet_id': None, 'text': 'giving the populace voting rights what a slut a mistake if you want to vote you need to go to the army', 'retweets': 0, 'created_at': '2024-07-25T18:37:03.275355', 'user_id': 'user3', 'id': 8, 'likes': 0, 'safety_status': None}\n",
      "Batch post complete.\n",
      "Create 1 tweets.\n",
      "By user user4.\n",
      "Prediction Result: {'tweet_id': 'f9b45dcb851c77c70745968a634930079d41d44063fbda428c01c12aa4640cd4', 'tweet': 'camcorders hooded navy rss hooded navy', 'user': 'user4', 'likes': 0, 'retweets': 0, 'logreg_prob': 0.13418922097773983, 'logreg_result': 0, 'cnn_prob': None, 'cnn_result': None, 'created_at': '2024-07-25T18:37:17.424486'}\n",
      "Store Tweet Response: {'tweet_id': 'f9b45dcb851c77c70745968a634930079d41d44063fbda428c01c12aa4640cd4', 'retweet_id': None, 'text': 'camcorders hooded navy rss hooded navy', 'retweets': 0, 'created_at': '2024-07-25T18:37:17.424486', 'user_id': 'user4', 'id': 9, 'likes': 0, 'safety_status': None}\n",
      "Batch post complete.\n",
      "Create 3 tweets.\n",
      "By user user1.\n",
      "Prediction Result: {'tweet_id': '1e11ff66d200536a944dbdc182b2ba4d94052b1e759a272380b7fbd2ed430b5d', 'tweet': 'do the image captions need to repeat text from the article at length', 'user': 'user1', 'likes': 0, 'retweets': 0, 'logreg_prob': 0.05289384321799358, 'logreg_result': 0, 'cnn_prob': None, 'cnn_result': None, 'created_at': '2024-07-25T18:37:26.619119'}\n",
      "Store Tweet Response: {'tweet_id': '1e11ff66d200536a944dbdc182b2ba4d94052b1e759a272380b7fbd2ed430b5d', 'retweet_id': None, 'text': 'do the image captions need to repeat text from the article at length', 'retweets': 0, 'created_at': '2024-07-25T18:37:26.619119', 'user_id': 'user1', 'id': 10, 'likes': 0, 'safety_status': None}\n",
      "By user user7.\n",
      "Prediction Result: {'tweet_id': '1d60d258bc2866f5f648a62fb01f11e36f94c937faee92d31903b5d182762a44', 'tweet': 'there is no it means cool a k a that can describe how amazing you are ahaah she cannot get up happy face or smiley shah aa could not stop laughing the funniest part', 'user': 'user7', 'likes': 0, 'retweets': 0, 'logreg_prob': 0.02116351298165251, 'logreg_result': 0, 'cnn_prob': None, 'cnn_result': None, 'created_at': '2024-07-25T18:37:30.760757'}\n",
      "Store Tweet Response: {'tweet_id': '1d60d258bc2866f5f648a62fb01f11e36f94c937faee92d31903b5d182762a44', 'retweet_id': None, 'text': 'there is no it means cool a k a that can describe how amazing you are ahaah she cannot get up happy face or smiley shah aa could not stop laughing the funniest part', 'retweets': 0, 'created_at': '2024-07-25T18:37:30.760757', 'user_id': 'user7', 'id': 11, 'likes': 0, 'safety_status': None}\n",
      "By user user5.\n",
      "Prediction Result: {'tweet_id': 'e5375c784e5e63c93bce0d2b60d881f5339c99620a2b2cc62903dfd181c4ef68', 'tweet': 'giving the populace voting rights what a slut a mistake if you want to vote you need to go to the army', 'user': 'user5', 'likes': 0, 'retweets': 0, 'logreg_prob': 0.32973023018130354, 'logreg_result': 0, 'cnn_prob': None, 'cnn_result': None, 'created_at': '2024-07-25T18:37:34.877977'}\n",
      "Store Tweet Response: {'tweet_id': 'e5375c784e5e63c93bce0d2b60d881f5339c99620a2b2cc62903dfd181c4ef68', 'retweet_id': None, 'text': 'giving the populace voting rights what a slut a mistake if you want to vote you need to go to the army', 'retweets': 0, 'created_at': '2024-07-25T18:37:34.877977', 'user_id': 'user5', 'id': 12, 'likes': 0, 'safety_status': None}\n",
      "Batch post complete.\n",
      "Create 3 tweets.\n",
      "By user user6.\n",
      "Prediction Result: {'tweet_id': '434e69b2259f9df78b51df2a1d596c09d14061f779d348466ce3e3b058c90814', 'tweet': 'a series of vandalism were committed by on the the vandalism has been removed and the user warned', 'user': 'user6', 'likes': 0, 'retweets': 0, 'logreg_prob': 0.07587913410820879, 'logreg_result': 0, 'cnn_prob': None, 'cnn_result': None, 'created_at': '2024-07-25T18:37:44.047419'}\n",
      "Store Tweet Response: {'tweet_id': '434e69b2259f9df78b51df2a1d596c09d14061f779d348466ce3e3b058c90814', 'retweet_id': None, 'text': 'a series of vandalism were committed by on the the vandalism has been removed and the user warned', 'retweets': 0, 'created_at': '2024-07-25T18:37:44.047419', 'user_id': 'user6', 'id': 13, 'likes': 0, 'safety_status': None}\n",
      "By user user8.\n",
      "Prediction Result: {'tweet_id': '36cfc5a5225ebc77aed8587800a2edfd252501165541072406e772582fa17fef', 'tweet': 'no question has been dodged as none have been posed in any coherent manner this dogged insistence on rules again borders on obsession wikipedia is about contributions that make sense not blind obedience to self imposed rules besides your interpretation of these rules is just that a misguided interpretation i fail to see what you are trying to accomplish aside from antagonizing other editors who make sensible and in my view highly valuable contributions', 'user': 'user8', 'likes': 0, 'retweets': 0, 'logreg_prob': 0.11399322029309268, 'logreg_result': 0, 'cnn_prob': None, 'cnn_result': None, 'created_at': '2024-07-25T18:37:48.256025'}\n",
      "Store Tweet Response: {'tweet_id': '36cfc5a5225ebc77aed8587800a2edfd252501165541072406e772582fa17fef', 'retweet_id': None, 'text': 'no question has been dodged as none have been posed in any coherent manner this dogged insistence on rules again borders on obsession wikipedia is about contributions that make sense not blind obedience to self imposed rules besides your interpretation of these rules is just that a misguided interpretation i fail to see what you are trying to accomplish aside from antagonizing other editors who make sensible and in my view highly valuable contributions', 'retweets': 0, 'created_at': '2024-07-25T18:37:48.256025', 'user_id': 'user8', 'id': 14, 'likes': 0, 'safety_status': None}\n",
      "By user user8.\n",
      "Prediction Result: {'tweet_id': 'dba7c85ce85ec5d7d475fccd230f04651a98dc37f8e3304940809cf51ed0216d', 'tweet': 'oh stop saying sass now or i sure will put my foot up up against your ass mr', 'user': 'user8', 'likes': 0, 'retweets': 0, 'logreg_prob': 0.7345871783617007, 'logreg_result': 1, 'cnn_prob': None, 'cnn_result': None, 'created_at': '2024-07-25T18:37:52.444872'}\n",
      "Reached total tweet limit.\n",
      "Batch post complete.\n"
     ]
    }
   ],
   "source": [
    "# Run the simulation\n",
    "simulate_user_submission()"
   ]
  },
  {
   "cell_type": "markdown",
   "metadata": {},
   "source": [
    "## 3 users to report tweets"
   ]
  },
  {
   "cell_type": "code",
   "execution_count": 13,
   "metadata": {},
   "outputs": [],
   "source": [
    "tweet_ids = [\"28f43075\", \"4bce7cdc\", \"00a628267ee60cf699de81025777fe51b87f320cab204bebb1d7ba3017b4c1eb\", \"81de6805\"]\n",
    "users = [\"user4\", \"user2\", \"user6\", \"user1\"]\n",
    "\n",
    "def report_tweet(report_data):\n",
    "    url = f\"{base_url}/report_tweet\"\n",
    "    response = requests.post(url, json=report_data)\n",
    "    \n",
    "    if response.status_code == 200:\n",
    "        print(\"Report submitted successfully.\")\n",
    "    else:\n",
    "        print(f\"Failed to submit report: {response.status_code}\")\n",
    "        print(f\"Response: {response.json()}\")"
   ]
  },
  {
   "cell_type": "code",
   "execution_count": 14,
   "metadata": {},
   "outputs": [
    {
     "name": "stdout",
     "output_type": "stream",
     "text": [
      "Report submitted successfully.\n",
      "Report submitted successfully.\n",
      "Report submitted successfully.\n"
     ]
    }
   ],
   "source": [
    "for i in range(4):\n",
    "    report_data = {\n",
    "        \"tweet_id\": tweet_ids[i],\n",
    "        \"user_id\": users[i],\n",
    "        \"safety_status\": 1,\n",
    "        \"reported_at\": datetime.now(timezone.utc).isoformat()\n",
    "    }\n",
    "    report_tweet(report_data)"
   ]
  },
  {
   "cell_type": "code",
   "execution_count": null,
   "metadata": {},
   "outputs": [],
   "source": []
  }
 ],
 "metadata": {
  "kernelspec": {
   "display_name": "al",
   "language": "python",
   "name": "python3"
  },
  "language_info": {
   "codemirror_mode": {
    "name": "ipython",
    "version": 3
   },
   "file_extension": ".py",
   "mimetype": "text/x-python",
   "name": "python",
   "nbconvert_exporter": "python",
   "pygments_lexer": "ipython3",
   "version": "3.12.3"
  }
 },
 "nbformat": 4,
 "nbformat_minor": 2
}

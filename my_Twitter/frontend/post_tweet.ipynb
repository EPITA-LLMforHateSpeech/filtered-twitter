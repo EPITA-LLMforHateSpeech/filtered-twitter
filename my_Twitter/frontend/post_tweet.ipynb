{
 "cells": [
  {
   "cell_type": "code",
   "execution_count": 26,
   "metadata": {},
   "outputs": [],
   "source": [
    "# Import necessary libraries\n",
    "import requests\n",
    "import json\n",
    "\n",
    "# Define the FastAPI endpoints\n",
    "PREDICT_ENDPOINT = \"http://127.0.0.1:8000/predict\"\n",
    "STORE_TWEET_ENDPOINT = \"http://127.0.0.1:8000/store_tweet\""
   ]
  },
  {
   "cell_type": "code",
   "execution_count": 27,
   "metadata": {},
   "outputs": [],
   "source": [
    "# Function to predict if a tweet is hate speech\n",
    "def predict_tweet(text, user):\n",
    "    response = requests.post(PREDICT_ENDPOINT, json={\"text\": text, \"user\": user})\n",
    "    if response.status_code == 200:\n",
    "        return response.json()\n",
    "    else:\n",
    "        print(\"Prediction failed:\", response.json())\n",
    "        return None\n"
   ]
  },
  {
   "cell_type": "code",
   "execution_count": 28,
   "metadata": {},
   "outputs": [],
   "source": [
    "# Function to store a tweet if it's safe to post\n",
    "def store_tweet(tweet_id, user_id, retweet_id=None):\n",
    "    data = {\n",
    "        \"tweet_id\": tweet_id,\n",
    "        \"retweet_id\": retweet_id,\n",
    "        \"user_id\": user_id\n",
    "    }\n",
    "    response = requests.post(STORE_TWEET_ENDPOINT, json=data)\n",
    "    if response.status_code == 200:\n",
    "        return response.json()\n",
    "    else:\n",
    "        print(\"Storing tweet failed:\", response.json())\n",
    "        return None"
   ]
  },
  {
   "cell_type": "code",
   "execution_count": 29,
   "metadata": {},
   "outputs": [],
   "source": [
    "# Example tweet text and user\n",
    "tweet_text = \"This is an example tweet for testing purposes.\"\n",
    "user_id = \"example_user\""
   ]
  },
  {
   "cell_type": "code",
   "execution_count": 17,
   "metadata": {},
   "outputs": [
    {
     "name": "stdout",
     "output_type": "stream",
     "text": [
      "Prediction Result: {'tweet_id': '181512ed', 'tweet': 'This is an example tweet for testing purposes.', 'user': 'example_user', 'likes': 0, 'retweets': 0, 'logreg_prob': 0.01582927467824479, 'logreg_result': 0, 'cnn_prob': None, 'cnn_result': None}\n",
      "Tweet successfully posted: {'tweet_id': '181512ed', 'retweet_id': None, 'text': 'This is an example tweet for testing purposes.', 'retweets': 0, 'id': 1, 'user_id': 'example_user', 'likes': 0, 'safety_status': None}\n"
     ]
    }
   ],
   "source": [
    "#Predict if the tweet is hate speech\n",
    "prediction_result = predict_tweet(tweet_text, user_id)\n",
    "\n",
    "if prediction_result:\n",
    "    print(\"Prediction Result:\", prediction_result)\n",
    "    \n",
    "    # Check if the tweet is safe to post (logreg_result should be 0)\n",
    "    if prediction_result[\"logreg_result\"] == 0:\n",
    "        tweet_id = prediction_result[\"tweet_id\"]\n",
    "        \n",
    "        # Step 3: Store the tweet in the posted tweets database\n",
    "        store_result = store_tweet(tweet_id, user_id)\n",
    "        if store_result:\n",
    "            print(\"Tweet successfully posted:\", store_result)\n",
    "    else:\n",
    "        print(\"Tweet is considered hate speech and will not be posted.\")\n",
    "else:\n",
    "    print(\"Prediction failed.\")"
   ]
  },
  {
   "cell_type": "markdown",
   "metadata": {},
   "source": [
    "## create random users, and post tweets under test.csv under their names"
   ]
  },
  {
   "cell_type": "code",
   "execution_count": 30,
   "metadata": {},
   "outputs": [],
   "source": [
    "import pandas as pd\n",
    "import random\n",
    "import requests\n",
    "from datetime import datetime, timezone\n",
    "\n",
    "base_url = \"http://localhost:8000\"\n",
    "\n",
    "# Define users\n",
    "users = [f\"user{i}\" for i in range(1, 9)]"
   ]
  },
  {
   "cell_type": "code",
   "execution_count": 48,
   "metadata": {},
   "outputs": [],
   "source": [
    "# Read tweets from CSV\n",
    "test_csv_path = '../data/test.csv'\n",
    "df = pd.read_csv(test_csv_path)\n",
    "\n",
    "# Shuffle tweets and split into 8 equal parts\n",
    "tweets = df['tweets'].tolist()\n",
    "random.shuffle(tweets)\n",
    "tweets = tweets[40:43]\n",
    "num_tweets_per_user = len(tweets) // len(users)"
   ]
  },
  {
   "cell_type": "code",
   "execution_count": 49,
   "metadata": {},
   "outputs": [
    {
     "data": {
      "text/plain": [
       "1"
      ]
     },
     "execution_count": 49,
     "metadata": {},
     "output_type": "execute_result"
    }
   ],
   "source": [
    "num_tweets_per_user"
   ]
  },
  {
   "cell_type": "code",
   "execution_count": 50,
   "metadata": {},
   "outputs": [],
   "source": [
    "# Function to post a tweet for prediction\n",
    "def post_tweet_for_prediction(tweet, user):\n",
    "    response = requests.post(f'{base_url}/predict', json={\"text\": tweet, \"user\": user})\n",
    "    return response.json()"
   ]
  },
  {
   "cell_type": "code",
   "execution_count": 51,
   "metadata": {},
   "outputs": [],
   "source": [
    "def store_posted_tweet(tweet_id, retweet_id, user_id, text, likes, retweets, safety_status, created_at):\n",
    "    data = {\n",
    "        \"tweet_id\": tweet_id,\n",
    "        \"retweet_id\": retweet_id,\n",
    "        \"user_id\": user_id,\n",
    "        \"text\": text,\n",
    "        \"likes\": likes,\n",
    "        \"retweets\": retweets,\n",
    "        \"safety_status\": safety_status,\n",
    "        \"created_at\": created_at\n",
    "    }\n",
    "    response = requests.post(f'{base_url}/store_tweet', json=data)\n",
    "    return response.json()"
   ]
  },
  {
   "cell_type": "code",
   "execution_count": 52,
   "metadata": {},
   "outputs": [],
   "source": [
    "# Function to simulate user submissions\n",
    "def simulate_user_submission():\n",
    "    for i, user in enumerate(users):\n",
    "        user_tweets = tweets[i * num_tweets_per_user : (i + 1) * num_tweets_per_user]\n",
    "        for tweet in user_tweets:\n",
    "            prediction = post_tweet_for_prediction(tweet, user)\n",
    "            print(\"Prediction Result:\", prediction)\n",
    "            \n",
    "            if prediction[\"logreg_result\"] != 1:\n",
    "                created_at = datetime.now(timezone.utc).isoformat()  # Convert datetime to ISO format string\n",
    "\n",
    "                store_response = store_posted_tweet(\n",
    "                    tweet_id=prediction[\"tweet_id\"],\n",
    "                    retweet_id=None,\n",
    "                    user_id=user,\n",
    "                    text=prediction[\"tweet\"],\n",
    "                    likes=prediction[\"likes\"],\n",
    "                    retweets=prediction[\"retweets\"],\n",
    "                    safety_status=None,  # Initial safety status is None\n",
    "                    created_at=created_at\n",
    "                )\n",
    "                print(\"Store Tweet Response:\", store_response)"
   ]
  },
  {
   "cell_type": "code",
   "execution_count": 53,
   "metadata": {},
   "outputs": [
    {
     "name": "stdout",
     "output_type": "stream",
     "text": [
      "Prediction Result: {'tweet_id': 'f9f8aec5', 'tweet': 'ane detest dark men it makes me nauseated', 'user': 'user4', 'likes': 0, 'retweets': 0, 'logreg_prob': 0.990918348358057, 'logreg_result': 1, 'cnn_prob': None, 'cnn_result': None, 'created_at': '2024-07-25T07:47:29.668075'}\n",
      "Prediction Result: {'tweet_id': 'b401255b', 'tweet': 'npov you would need strong consensus to change a longstanding lead on a core content policy the changes you made removed some fairly important points', 'user': 'user2', 'likes': 0, 'retweets': 0, 'logreg_prob': 0.01816162792497496, 'logreg_result': 0, 'cnn_prob': None, 'cnn_result': None, 'created_at': '2024-07-25T07:47:31.761220'}\n",
      "Store Tweet Response: {'id': 19, 'user_id': 'user2', 'likes': 0, 'safety_status': None, 'text': 'npov you would need strong consensus to change a longstanding lead on a core content policy the changes you made removed some fairly important points', 'tweet_id': 'b401255b', 'retweet_id': None, 'retweets': 0, 'created_at': '2024-07-25T07:47:31.761220'}\n",
      "Prediction Result: {'tweet_id': '202786d4', 'tweet': 'goodbye wikipedia hope you get you stuff straight because all the stuff in the records and milestones is correct information hope it stays one there it makes the page unique', 'user': 'user6', 'likes': 0, 'retweets': 0, 'logreg_prob': 0.2775924327497001, 'logreg_result': 0, 'cnn_prob': None, 'cnn_result': None, 'created_at': '2024-07-25T07:47:35.906487'}\n",
      "Store Tweet Response: {'id': 20, 'user_id': 'user6', 'likes': 0, 'safety_status': None, 'text': 'goodbye wikipedia hope you get you stuff straight because all the stuff in the records and milestones is correct information hope it stays one there it makes the page unique', 'tweet_id': '202786d4', 'retweet_id': None, 'retweets': 0, 'created_at': '2024-07-25T07:47:35.906487'}\n"
     ]
    }
   ],
   "source": [
    "# Run the simulation\n",
    "simulate_user_submission()"
   ]
  },
  {
   "cell_type": "code",
   "execution_count": null,
   "metadata": {},
   "outputs": [],
   "source": []
  },
  {
   "cell_type": "markdown",
   "metadata": {},
   "source": [
    "## 3 users to report tweets"
   ]
  },
  {
   "cell_type": "code",
   "execution_count": 38,
   "metadata": {},
   "outputs": [],
   "source": [
    "tweet_ids = [\"606799a0\", \"c888cb2a\", \"c888cb2a\"]\n",
    "users = [\"user4\", \"user2\", \"user6\"]\n",
    "\n",
    "def report_tweet(report_data):\n",
    "    url = f\"{base_url}/report_tweet\"\n",
    "    response = requests.post(url, json=report_data)\n",
    "    \n",
    "    if response.status_code == 200:\n",
    "        print(\"Report submitted successfully.\")\n",
    "    else:\n",
    "        print(f\"Failed to submit report: {response.status_code}\")\n",
    "        print(f\"Response: {response.json()}\")"
   ]
  },
  {
   "cell_type": "code",
   "execution_count": 39,
   "metadata": {},
   "outputs": [
    {
     "name": "stdout",
     "output_type": "stream",
     "text": [
      "Report submitted successfully.\n",
      "Report submitted successfully.\n",
      "Report submitted successfully.\n"
     ]
    }
   ],
   "source": [
    "for i in range(3):\n",
    "    report_data = {\n",
    "        \"tweet_id\": tweet_ids[i],\n",
    "        \"user_id\": users[i],\n",
    "        \"safety_status\": 1,\n",
    "        \"reported_at\": datetime.now(timezone.utc).isoformat()\n",
    "    }\n",
    "    report_tweet(report_data)"
   ]
  },
  {
   "cell_type": "code",
   "execution_count": null,
   "metadata": {},
   "outputs": [],
   "source": []
  }
 ],
 "metadata": {
  "kernelspec": {
   "display_name": "al",
   "language": "python",
   "name": "python3"
  },
  "language_info": {
   "codemirror_mode": {
    "name": "ipython",
    "version": 3
   },
   "file_extension": ".py",
   "mimetype": "text/x-python",
   "name": "python",
   "nbconvert_exporter": "python",
   "pygments_lexer": "ipython3",
   "version": "3.12.3"
  }
 },
 "nbformat": 4,
 "nbformat_minor": 2
}

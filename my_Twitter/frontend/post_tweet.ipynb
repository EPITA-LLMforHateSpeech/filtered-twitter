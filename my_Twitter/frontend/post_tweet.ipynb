{
 "cells": [
  {
   "cell_type": "code",
   "execution_count": 26,
   "metadata": {},
   "outputs": [],
   "source": [
    "# Import necessary libraries\n",
    "import requests\n",
    "import json\n",
    "\n",
    "# Define the FastAPI endpoints\n",
    "PREDICT_ENDPOINT = \"http://127.0.0.1:8000/predict\"\n",
    "STORE_TWEET_ENDPOINT = \"http://127.0.0.1:8000/store_tweet\""
   ]
  },
  {
   "cell_type": "code",
   "execution_count": 27,
   "metadata": {},
   "outputs": [],
   "source": [
    "# Function to predict if a tweet is hate speech\n",
    "def predict_tweet(text, user):\n",
    "    response = requests.post(PREDICT_ENDPOINT, json={\"text\": text, \"user\": user})\n",
    "    if response.status_code == 200:\n",
    "        return response.json()\n",
    "    else:\n",
    "        print(\"Prediction failed:\", response.json())\n",
    "        return None\n"
   ]
  },
  {
   "cell_type": "code",
   "execution_count": 28,
   "metadata": {},
   "outputs": [],
   "source": [
    "# Function to store a tweet if it's safe to post\n",
    "def store_tweet(tweet_id, user_id, retweet_id=None):\n",
    "    data = {\n",
    "        \"tweet_id\": tweet_id,\n",
    "        \"retweet_id\": retweet_id,\n",
    "        \"user_id\": user_id\n",
    "    }\n",
    "    response = requests.post(STORE_TWEET_ENDPOINT, json=data)\n",
    "    if response.status_code == 200:\n",
    "        return response.json()\n",
    "    else:\n",
    "        print(\"Storing tweet failed:\", response.json())\n",
    "        return None"
   ]
  },
  {
   "cell_type": "code",
   "execution_count": 29,
   "metadata": {},
   "outputs": [],
   "source": [
    "# Example tweet text and user\n",
    "tweet_text = \"This is an example tweet for testing purposes.\"\n",
    "user_id = \"example_user\""
   ]
  },
  {
   "cell_type": "code",
   "execution_count": 17,
   "metadata": {},
   "outputs": [
    {
     "name": "stdout",
     "output_type": "stream",
     "text": [
      "Prediction Result: {'tweet_id': '181512ed', 'tweet': 'This is an example tweet for testing purposes.', 'user': 'example_user', 'likes': 0, 'retweets': 0, 'logreg_prob': 0.01582927467824479, 'logreg_result': 0, 'cnn_prob': None, 'cnn_result': None}\n",
      "Tweet successfully posted: {'tweet_id': '181512ed', 'retweet_id': None, 'text': 'This is an example tweet for testing purposes.', 'retweets': 0, 'id': 1, 'user_id': 'example_user', 'likes': 0, 'safety_status': None}\n"
     ]
    }
   ],
   "source": [
    "#Predict if the tweet is hate speech\n",
    "prediction_result = predict_tweet(tweet_text, user_id)\n",
    "\n",
    "if prediction_result:\n",
    "    print(\"Prediction Result:\", prediction_result)\n",
    "    \n",
    "    # Check if the tweet is safe to post (logreg_result should be 0)\n",
    "    if prediction_result[\"logreg_result\"] == 0:\n",
    "        tweet_id = prediction_result[\"tweet_id\"]\n",
    "        \n",
    "        # Step 3: Store the tweet in the posted tweets database\n",
    "        store_result = store_tweet(tweet_id, user_id)\n",
    "        if store_result:\n",
    "            print(\"Tweet successfully posted:\", store_result)\n",
    "    else:\n",
    "        print(\"Tweet is considered hate speech and will not be posted.\")\n",
    "else:\n",
    "    print(\"Prediction failed.\")"
   ]
  },
  {
   "cell_type": "markdown",
   "metadata": {},
   "source": [
    "## create random users, and post tweets under test.csv under their names"
   ]
  },
  {
   "cell_type": "code",
   "execution_count": 30,
   "metadata": {},
   "outputs": [],
   "source": [
    "import pandas as pd\n",
    "import random\n",
    "import requests\n",
    "from datetime import datetime, timezone\n",
    "\n",
    "base_url = \"http://localhost:8000\"\n",
    "\n",
    "# Define users\n",
    "users = [f\"user{i}\" for i in range(1, 9)]"
   ]
  },
  {
   "cell_type": "code",
   "execution_count": 54,
   "metadata": {},
   "outputs": [],
   "source": [
    "# Read tweets from CSV\n",
    "test_csv_path = '../data/test.csv'\n",
    "df = pd.read_csv(test_csv_path)\n",
    "\n",
    "# Shuffle tweets and split into 8 equal parts\n",
    "tweets = df['tweets'].tolist()\n",
    "random.shuffle(tweets)\n",
    "tweets = tweets[43:47]\n",
    "num_tweets_per_user = len(tweets) // len(users)"
   ]
  },
  {
   "cell_type": "code",
   "execution_count": 55,
   "metadata": {},
   "outputs": [
    {
     "data": {
      "text/plain": [
       "1"
      ]
     },
     "execution_count": 55,
     "metadata": {},
     "output_type": "execute_result"
    }
   ],
   "source": [
    "num_tweets_per_user"
   ]
  },
  {
   "cell_type": "code",
   "execution_count": 56,
   "metadata": {},
   "outputs": [],
   "source": [
    "# Function to post a tweet for prediction\n",
    "def post_tweet_for_prediction(tweet, user):\n",
    "    response = requests.post(f'{base_url}/predict', json={\"text\": tweet, \"user\": user})\n",
    "    return response.json()"
   ]
  },
  {
   "cell_type": "code",
   "execution_count": 57,
   "metadata": {},
   "outputs": [],
   "source": [
    "def store_posted_tweet(tweet_id, retweet_id, user_id, text, likes, retweets, safety_status, created_at):\n",
    "    data = {\n",
    "        \"tweet_id\": tweet_id,\n",
    "        \"retweet_id\": retweet_id,\n",
    "        \"user_id\": user_id,\n",
    "        \"text\": text,\n",
    "        \"likes\": likes,\n",
    "        \"retweets\": retweets,\n",
    "        \"safety_status\": safety_status,\n",
    "        \"created_at\": created_at\n",
    "    }\n",
    "    response = requests.post(f'{base_url}/store_tweet', json=data)\n",
    "    return response.json()"
   ]
  },
  {
   "cell_type": "code",
   "execution_count": 58,
   "metadata": {},
   "outputs": [],
   "source": [
    "# Function to simulate user submissions\n",
    "def simulate_user_submission():\n",
    "    for i, user in enumerate(users):\n",
    "        user_tweets = tweets[i * num_tweets_per_user : (i + 1) * num_tweets_per_user]\n",
    "        for tweet in user_tweets:\n",
    "            prediction = post_tweet_for_prediction(tweet, user)\n",
    "            print(\"Prediction Result:\", prediction)\n",
    "            \n",
    "            if prediction[\"logreg_result\"] != 1:\n",
    "                created_at = datetime.now(timezone.utc).isoformat()  # Convert datetime to ISO format string\n",
    "\n",
    "                store_response = store_posted_tweet(\n",
    "                    tweet_id=prediction[\"tweet_id\"],\n",
    "                    retweet_id=None,\n",
    "                    user_id=user,\n",
    "                    text=prediction[\"tweet\"],\n",
    "                    likes=prediction[\"likes\"],\n",
    "                    retweets=prediction[\"retweets\"],\n",
    "                    safety_status=None,  # Initial safety status is None\n",
    "                    created_at=created_at\n",
    "                )\n",
    "                print(\"Store Tweet Response:\", store_response)"
   ]
  },
  {
   "cell_type": "code",
   "execution_count": 59,
   "metadata": {},
   "outputs": [
    {
     "name": "stdout",
     "output_type": "stream",
     "text": [
      "Prediction Result: {'tweet_id': '9d7d2576', 'tweet': 'love island think there might be a guy in the mix for zara eek lucky girl', 'user': 'user4', 'likes': 0, 'retweets': 0, 'logreg_prob': 0.404016058196919, 'logreg_result': 0, 'cnn_prob': None, 'cnn_result': None, 'created_at': '2024-07-25T08:25:05.511616'}\n",
      "Store Tweet Response: {'id': 21, 'user_id': 'user4', 'likes': 0, 'safety_status': None, 'text': 'love island think there might be a guy in the mix for zara eek lucky girl', 'tweet_id': '9d7d2576', 'retweet_id': None, 'retweets': 0, 'created_at': '2024-07-25T08:25:05.511616'}\n",
      "Prediction Result: {'tweet_id': '71d24af1', 'tweet': 'cemu toledo yo lonnie momentary upravo your bog... taking little primitive as stave see pride go i', 'user': 'user2', 'likes': 0, 'retweets': 0, 'logreg_prob': 0.9680542198318599, 'logreg_result': 1, 'cnn_prob': None, 'cnn_result': None, 'created_at': '2024-07-25T08:25:09.640818'}\n",
      "Prediction Result: {'tweet_id': '8f3bf7a5', 'tweet': 'this arose time to talk by two antithetical subjects integrity and right', 'user': 'user6', 'likes': 0, 'retweets': 0, 'logreg_prob': 0.6865502116215269, 'logreg_result': 1, 'cnn_prob': None, 'cnn_result': None, 'created_at': '2024-07-25T08:25:11.711085'}\n"
     ]
    }
   ],
   "source": [
    "# Run the simulation\n",
    "simulate_user_submission()"
   ]
  },
  {
   "cell_type": "markdown",
   "metadata": {},
   "source": [
    "## random users create random tweets "
   ]
  },
  {
   "cell_type": "code",
   "execution_count": 3,
   "metadata": {},
   "outputs": [],
   "source": [
    "import pandas as pd\n",
    "import random\n",
    "import requests\n",
    "import time\n",
    "from datetime import datetime, timezone, timedelta\n",
    "\n",
    "base_url = \"http://localhost:8000\"\n"
   ]
  },
  {
   "cell_type": "code",
   "execution_count": 16,
   "metadata": {},
   "outputs": [],
   "source": [
    "# Define users\n",
    "users = [f\"user{i}\" for i in range(1, 9)]\n",
    "\n",
    "# Read tweets from CSV\n",
    "test_csv_path = '../data/test.csv'\n",
    "df = pd.read_csv(test_csv_path)\n",
    "\n",
    "# df = df[df['labels']==1]\n",
    "# Shuffle tweets and select 50 tweets\n",
    "tweets = df['tweets'].tolist()\n",
    "random.shuffle(tweets)\n",
    "tweets = tweets[:20]\n"
   ]
  },
  {
   "cell_type": "code",
   "execution_count": 17,
   "metadata": {},
   "outputs": [],
   "source": [
    "\n",
    "# Function to post a tweet for prediction\n",
    "def post_tweet_for_prediction(tweet, user):\n",
    "    response = requests.post(f'{base_url}/predict', json={\"text\": tweet, \"user\": user})\n",
    "    return response.json()\n",
    "\n",
    "def store_posted_tweet(tweet_id, retweet_id, user_id, text, likes, retweets, safety_status, created_at):\n",
    "    data = {\n",
    "        \"tweet_id\": tweet_id,\n",
    "        \"retweet_id\": retweet_id,\n",
    "        \"user_id\": user_id,\n",
    "        \"text\": text,\n",
    "        \"likes\": likes,\n",
    "        \"retweets\": retweets,\n",
    "        \"safety_status\": safety_status,\n",
    "        \"created_at\": created_at\n",
    "    }\n",
    "    response = requests.post(f'{base_url}/store_tweet', json=data)\n",
    "    return response.json()\n"
   ]
  },
  {
   "cell_type": "code",
   "execution_count": 21,
   "metadata": {},
   "outputs": [],
   "source": [
    "\n",
    "# Function to simulate user submissions\n",
    "def simulate_user_submission():\n",
    "    total_tweets = 50\n",
    "    tweet_count = 0\n",
    "    end_time = datetime.now(timezone.utc) + timedelta(hours=1)\n",
    "    \n",
    "    while tweet_count < total_tweets and datetime.now(timezone.utc) < end_time:\n",
    "        # Randomly select number of tweets to post (1 to 3)\n",
    "        num_tweets_to_post = random.randint(1, 3)\n",
    "        print(f\"Create {num_tweets_to_post} tweets.\")\n",
    "        # Randomly select tweets for this batch\n",
    "        if tweet_count + num_tweets_to_post > total_tweets:\n",
    "            num_tweets_to_post = total_tweets - tweet_count  # Adjust to post remaining tweets\n",
    "\n",
    "        user_tweets = random.sample(tweets, num_tweets_to_post)\n",
    "        \n",
    "        for tweet in user_tweets:\n",
    "            user = random.choice(users)\n",
    "            print(f\"By user {user}.\")\n",
    "            prediction = post_tweet_for_prediction(tweet, user)\n",
    "            print(\"Prediction Result:\", prediction)\n",
    "\n",
    "            if prediction[\"logreg_result\"] != 1:\n",
    "                created_at = datetime.now(timezone.utc).isoformat()  # Convert datetime to ISO format string\n",
    "\n",
    "                store_response = store_posted_tweet(\n",
    "                    tweet_id=prediction[\"tweet_id\"],\n",
    "                    retweet_id=None,\n",
    "                    user_id=user,\n",
    "                    text=prediction[\"tweet\"],\n",
    "                    likes=prediction[\"likes\"],\n",
    "                    retweets=prediction[\"retweets\"],\n",
    "                    safety_status=None,  # Initial safety status is None\n",
    "                    created_at=created_at\n",
    "                )\n",
    "                print(\"Store Tweet Response:\", store_response)\n",
    "\n",
    "        tweet_count += num_tweets_to_post\n",
    "        print(\"Batch post complete.\")\n",
    "        # Wait for a random interval between 5 and 10 seconds before posting next batch\n",
    "        time.sleep(random.randint(15, 20))\n",
    "\n"
   ]
  },
  {
   "cell_type": "code",
   "execution_count": 22,
   "metadata": {},
   "outputs": [
    {
     "name": "stdout",
     "output_type": "stream",
     "text": [
      "Create 1 tweets.\n",
      "By user user2.\n",
      "Prediction Result: {'tweet_id': '6d83975f7d9afdabe8b68b1d95628e6c5b3817a6b95931fec65e8511630457b6', 'tweet': 'many women just are not about', 'user': 'user2', 'likes': 0, 'retweets': 0, 'logreg_prob': 0.9051479096294579, 'logreg_result': 0, 'cnn_prob': None, 'cnn_result': None, 'created_at': '2024-07-25T09:34:52.283379'}\n",
      "Store Tweet Response: {'user_id': 'user2', 'id': 23, 'likes': 0, 'safety_status': None, 'tweet_id': '6d83975f7d9afdabe8b68b1d95628e6c5b3817a6b95931fec65e8511630457b6', 'retweet_id': None, 'text': 'many women just are not about', 'retweets': 0, 'created_at': '2024-07-25T09:34:52.283379'}\n",
      "Batch post complete.\n",
      "Create 2 tweets.\n",
      "By user user4.\n",
      "Prediction Result: {'tweet_id': '434e5197ef77bfb05e79cb0cdb044c72a53d975dd435b9b082bbbb35e29bf6dc', 'tweet': 'a third defendant the jew gary german of brooklyn remains on the loose', 'user': 'user4', 'likes': 0, 'retweets': 0, 'logreg_prob': 0.7136924815147347, 'logreg_result': 0, 'cnn_prob': None, 'cnn_result': None, 'created_at': '2024-07-25T09:35:11.440107'}\n",
      "Store Tweet Response: {'user_id': 'user4', 'id': 24, 'likes': 0, 'safety_status': None, 'tweet_id': '434e5197ef77bfb05e79cb0cdb044c72a53d975dd435b9b082bbbb35e29bf6dc', 'retweet_id': None, 'text': 'a third defendant the jew gary german of brooklyn remains on the loose', 'retweets': 0, 'created_at': '2024-07-25T09:35:11.440107'}\n",
      "By user user2.\n",
      "Prediction Result: {'tweet_id': 'e7fb20bcafb0b7b2f161e20f8fb78a594be85d1a4f62bd3c1c0369734dd3e57d', 'tweet': 'protect against skeptic vandals like dream guy someone puts in grossly wrong factual info now how can a non admin like me put on a block please reply do not ignore thanks eckford', 'user': 'user2', 'likes': 0, 'retweets': 0, 'logreg_prob': 0.19007513221361086, 'logreg_result': 0, 'cnn_prob': None, 'cnn_result': None, 'created_at': '2024-07-25T09:35:15.516143'}\n",
      "Store Tweet Response: {'user_id': 'user2', 'id': 25, 'likes': 0, 'safety_status': None, 'tweet_id': 'e7fb20bcafb0b7b2f161e20f8fb78a594be85d1a4f62bd3c1c0369734dd3e57d', 'retweet_id': None, 'text': 'protect against skeptic vandals like dream guy someone puts in grossly wrong factual info now how can a non admin like me put on a block please reply do not ignore thanks eckford', 'retweets': 0, 'created_at': '2024-07-25T09:35:15.516143'}\n",
      "Batch post complete.\n",
      "Create 2 tweets.\n",
      "By user user3.\n",
      "Prediction Result: {'tweet_id': 'd739ab32fd71adf9eba76cd70ce15a29997b6d62b9a771138b020c7950b7869c', 'tweet': 'i hope you all accidentally get a fat black bitch pregnant', 'user': 'user3', 'likes': 0, 'retweets': 0, 'logreg_prob': 0.9004658795167838, 'logreg_result': 0, 'cnn_prob': None, 'cnn_result': None, 'created_at': '2024-07-25T09:35:38.650372'}\n",
      "Store Tweet Response: {'user_id': 'user3', 'id': 26, 'likes': 0, 'safety_status': None, 'tweet_id': 'd739ab32fd71adf9eba76cd70ce15a29997b6d62b9a771138b020c7950b7869c', 'retweet_id': None, 'text': 'i hope you all accidentally get a fat black bitch pregnant', 'retweets': 0, 'created_at': '2024-07-25T09:35:38.650372'}\n",
      "By user user5.\n",
      "Prediction Result: {'tweet_id': '9c3240f2572bd641b0716b9491326c124e7150734684944fb44f5f34a6f8b964', 'tweet': 'unblock request had noticed that a user you had blocked has made an unblock request several days ago addressing your concerns would it be possible for you to review this request and respond please thanks for your help', 'user': 'user5', 'likes': 0, 'retweets': 0, 'logreg_prob': 0.006527546961457502, 'logreg_result': 0, 'cnn_prob': None, 'cnn_result': None, 'created_at': '2024-07-25T09:35:42.759887'}\n",
      "Store Tweet Response: {'user_id': 'user5', 'id': 27, 'likes': 0, 'safety_status': None, 'tweet_id': '9c3240f2572bd641b0716b9491326c124e7150734684944fb44f5f34a6f8b964', 'retweet_id': None, 'text': 'unblock request had noticed that a user you had blocked has made an unblock request several days ago addressing your concerns would it be possible for you to review this request and respond please thanks for your help', 'retweets': 0, 'created_at': '2024-07-25T09:35:42.759887'}\n",
      "Batch post complete.\n",
      "Create 2 tweets.\n",
      "By user user4.\n",
      "Prediction Result: {'tweet_id': 'b729a48f03b77fcb74291c17706fcecadf76cb144107482dd44a460851c9c4ca', 'tweet': 'i still want to know what you have accomplished', 'user': 'user4', 'likes': 0, 'retweets': 0, 'logreg_prob': 0.2887282283691171, 'logreg_result': 0, 'cnn_prob': None, 'cnn_result': None, 'created_at': '2024-07-25T09:36:02.909464'}\n",
      "Store Tweet Response: {'user_id': 'user4', 'id': 28, 'likes': 0, 'safety_status': None, 'tweet_id': 'b729a48f03b77fcb74291c17706fcecadf76cb144107482dd44a460851c9c4ca', 'retweet_id': None, 'text': 'i still want to know what you have accomplished', 'retweets': 0, 'created_at': '2024-07-25T09:36:02.909464'}\n",
      "By user user3.\n",
      "Prediction Result: {'tweet_id': 'ab76a6d15d66ce67aacebee4d5d88cd3cb397894165730659d0107f89b479e00', 'tweet': 'haha zen bench vise state public figure like nap rid', 'user': 'user3', 'likes': 0, 'retweets': 0, 'logreg_prob': 0.5102664367915352, 'logreg_result': 0, 'cnn_prob': None, 'cnn_result': None, 'created_at': '2024-07-25T09:36:07.063689'}\n",
      "Store Tweet Response: {'user_id': 'user3', 'id': 29, 'likes': 0, 'safety_status': None, 'tweet_id': 'ab76a6d15d66ce67aacebee4d5d88cd3cb397894165730659d0107f89b479e00', 'retweet_id': None, 'text': 'haha zen bench vise state public figure like nap rid', 'retweets': 0, 'created_at': '2024-07-25T09:36:07.063689'}\n",
      "Batch post complete.\n"
     ]
    },
    {
     "ename": "KeyboardInterrupt",
     "evalue": "",
     "output_type": "error",
     "traceback": [
      "\u001b[1;31m---------------------------------------------------------------------------\u001b[0m",
      "\u001b[1;31mKeyboardInterrupt\u001b[0m                         Traceback (most recent call last)",
      "Cell \u001b[1;32mIn[22], line 2\u001b[0m\n\u001b[0;32m      1\u001b[0m \u001b[38;5;66;03m# Run the simulation\u001b[39;00m\n\u001b[1;32m----> 2\u001b[0m \u001b[43msimulate_user_submission\u001b[49m\u001b[43m(\u001b[49m\u001b[43m)\u001b[49m\n",
      "Cell \u001b[1;32mIn[21], line 41\u001b[0m, in \u001b[0;36msimulate_user_submission\u001b[1;34m()\u001b[0m\n\u001b[0;32m     39\u001b[0m \u001b[38;5;28mprint\u001b[39m(\u001b[38;5;124m\"\u001b[39m\u001b[38;5;124mBatch post complete.\u001b[39m\u001b[38;5;124m\"\u001b[39m)\n\u001b[0;32m     40\u001b[0m \u001b[38;5;66;03m# Wait for a random interval between 5 and 10 seconds before posting next batch\u001b[39;00m\n\u001b[1;32m---> 41\u001b[0m \u001b[43mtime\u001b[49m\u001b[38;5;241;43m.\u001b[39;49m\u001b[43msleep\u001b[49m\u001b[43m(\u001b[49m\u001b[43mrandom\u001b[49m\u001b[38;5;241;43m.\u001b[39;49m\u001b[43mrandint\u001b[49m\u001b[43m(\u001b[49m\u001b[38;5;241;43m15\u001b[39;49m\u001b[43m,\u001b[49m\u001b[43m \u001b[49m\u001b[38;5;241;43m20\u001b[39;49m\u001b[43m)\u001b[49m\u001b[43m)\u001b[49m\n",
      "\u001b[1;31mKeyboardInterrupt\u001b[0m: "
     ]
    }
   ],
   "source": [
    "# Run the simulation\n",
    "simulate_user_submission()"
   ]
  },
  {
   "cell_type": "markdown",
   "metadata": {},
   "source": [
    "## 3 users to report tweets"
   ]
  },
  {
   "cell_type": "code",
   "execution_count": 13,
   "metadata": {},
   "outputs": [],
   "source": [
    "tweet_ids = [\"28f43075\", \"4bce7cdc\", \"00a628267ee60cf699de81025777fe51b87f320cab204bebb1d7ba3017b4c1eb\", \"81de6805\"]\n",
    "users = [\"user4\", \"user2\", \"user6\", \"user1\"]\n",
    "\n",
    "def report_tweet(report_data):\n",
    "    url = f\"{base_url}/report_tweet\"\n",
    "    response = requests.post(url, json=report_data)\n",
    "    \n",
    "    if response.status_code == 200:\n",
    "        print(\"Report submitted successfully.\")\n",
    "    else:\n",
    "        print(f\"Failed to submit report: {response.status_code}\")\n",
    "        print(f\"Response: {response.json()}\")"
   ]
  },
  {
   "cell_type": "code",
   "execution_count": 14,
   "metadata": {},
   "outputs": [
    {
     "name": "stdout",
     "output_type": "stream",
     "text": [
      "Report submitted successfully.\n",
      "Report submitted successfully.\n",
      "Report submitted successfully.\n"
     ]
    }
   ],
   "source": [
    "for i in range(4):\n",
    "    report_data = {\n",
    "        \"tweet_id\": tweet_ids[i],\n",
    "        \"user_id\": users[i],\n",
    "        \"safety_status\": 1,\n",
    "        \"reported_at\": datetime.now(timezone.utc).isoformat()\n",
    "    }\n",
    "    report_tweet(report_data)"
   ]
  },
  {
   "cell_type": "code",
   "execution_count": null,
   "metadata": {},
   "outputs": [],
   "source": []
  }
 ],
 "metadata": {
  "kernelspec": {
   "display_name": "al",
   "language": "python",
   "name": "python3"
  },
  "language_info": {
   "codemirror_mode": {
    "name": "ipython",
    "version": 3
   },
   "file_extension": ".py",
   "mimetype": "text/x-python",
   "name": "python",
   "nbconvert_exporter": "python",
   "pygments_lexer": "ipython3",
   "version": "3.12.3"
  }
 },
 "nbformat": 4,
 "nbformat_minor": 2
}

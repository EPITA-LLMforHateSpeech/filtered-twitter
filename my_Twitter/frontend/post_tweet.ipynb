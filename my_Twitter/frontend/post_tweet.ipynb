{
 "cells": [
  {
   "cell_type": "code",
   "execution_count": 1,
   "metadata": {},
   "outputs": [],
   "source": [
    "# Import necessary libraries\n",
    "import requests\n",
    "import json\n",
    "\n",
    "# Define the FastAPI endpoints\n",
    "PREDICT_ENDPOINT = \"http://127.0.0.1:8000/predict\"\n",
    "STORE_TWEET_ENDPOINT = \"http://127.0.0.1:8000/store_tweet\""
   ]
  },
  {
   "cell_type": "code",
   "execution_count": 5,
   "metadata": {},
   "outputs": [],
   "source": [
    "# Function to predict if a tweet is hate speech\n",
    "def predict_tweet(text, user):\n",
    "    response = requests.post(PREDICT_ENDPOINT, json={\"text\": text, \"user\": user})\n",
    "    if response.status_code == 200:\n",
    "        return response.json()\n",
    "    else:\n",
    "        print(\"Prediction failed:\", response.json())\n",
    "        return None\n"
   ]
  },
  {
   "cell_type": "code",
   "execution_count": 6,
   "metadata": {},
   "outputs": [],
   "source": [
    "# Function to store a tweet if it's safe to post\n",
    "def store_tweet(tweet_id, user_id, retweet_id=None):\n",
    "    data = {\n",
    "        \"tweet_id\": tweet_id,\n",
    "        \"retweet_id\": retweet_id,\n",
    "        \"user_id\": user_id\n",
    "    }\n",
    "    response = requests.post(STORE_TWEET_ENDPOINT, json=data)\n",
    "    if response.status_code == 200:\n",
    "        return response.json()\n",
    "    else:\n",
    "        print(\"Storing tweet failed:\", response.json())\n",
    "        return None"
   ]
  },
  {
   "cell_type": "code",
   "execution_count": 11,
   "metadata": {},
   "outputs": [],
   "source": [
    "# Example tweet text and user\n",
    "tweet_text = \"This is an example tweet for testing purposes.\"\n",
    "user_id = \"example_user\""
   ]
  },
  {
   "cell_type": "code",
   "execution_count": 17,
   "metadata": {},
   "outputs": [
    {
     "name": "stdout",
     "output_type": "stream",
     "text": [
      "Prediction Result: {'tweet_id': '181512ed', 'tweet': 'This is an example tweet for testing purposes.', 'user': 'example_user', 'likes': 0, 'retweets': 0, 'logreg_prob': 0.01582927467824479, 'logreg_result': 0, 'cnn_prob': None, 'cnn_result': None}\n",
      "Tweet successfully posted: {'tweet_id': '181512ed', 'retweet_id': None, 'text': 'This is an example tweet for testing purposes.', 'retweets': 0, 'id': 1, 'user_id': 'example_user', 'likes': 0, 'safety_status': None}\n"
     ]
    }
   ],
   "source": [
    "#Predict if the tweet is hate speech\n",
    "prediction_result = predict_tweet(tweet_text, user_id)\n",
    "\n",
    "if prediction_result:\n",
    "    print(\"Prediction Result:\", prediction_result)\n",
    "    \n",
    "    # Check if the tweet is safe to post (logreg_result should be 0)\n",
    "    if prediction_result[\"logreg_result\"] == 0:\n",
    "        tweet_id = prediction_result[\"tweet_id\"]\n",
    "        \n",
    "        # Step 3: Store the tweet in the posted tweets database\n",
    "        store_result = store_tweet(tweet_id, user_id)\n",
    "        if store_result:\n",
    "            print(\"Tweet successfully posted:\", store_result)\n",
    "    else:\n",
    "        print(\"Tweet is considered hate speech and will not be posted.\")\n",
    "else:\n",
    "    print(\"Prediction failed.\")"
   ]
  },
  {
   "cell_type": "code",
   "execution_count": null,
   "metadata": {},
   "outputs": [],
   "source": []
  }
 ],
 "metadata": {
  "kernelspec": {
   "display_name": "al",
   "language": "python",
   "name": "python3"
  },
  "language_info": {
   "codemirror_mode": {
    "name": "ipython",
    "version": 3
   },
   "file_extension": ".py",
   "mimetype": "text/x-python",
   "name": "python",
   "nbconvert_exporter": "python",
   "pygments_lexer": "ipython3",
   "version": "3.12.3"
  }
 },
 "nbformat": 4,
 "nbformat_minor": 2
}

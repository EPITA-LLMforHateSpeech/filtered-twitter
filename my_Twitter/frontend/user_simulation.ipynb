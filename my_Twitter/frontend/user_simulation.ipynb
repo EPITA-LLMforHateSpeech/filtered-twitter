{
 "cells": [
  {
   "cell_type": "code",
   "execution_count": 3,
   "metadata": {},
   "outputs": [],
   "source": [
    "import requests\n",
    "import time\n",
    "import pandas as pd\n",
    "import datetime\n",
    "from datetime import datetime, timezone\n"
   ]
  },
  {
   "cell_type": "code",
   "execution_count": 4,
   "metadata": {},
   "outputs": [],
   "source": [
    "base_url = \"http://localhost:8000\" "
   ]
  },
  {
   "cell_type": "markdown",
   "metadata": {},
   "source": []
  },
  {
   "cell_type": "code",
   "execution_count": 3,
   "metadata": {},
   "outputs": [],
   "source": [
    "def post_tweet_for_prediction(tweet, user):\n",
    "    response = requests.post(f'{base_url}/predict', json={\"text\": tweet, \"user\": user})\n",
    "    return response.json()"
   ]
  },
  {
   "cell_type": "markdown",
   "metadata": {},
   "source": [
    "## user posting tweet"
   ]
  },
  {
   "cell_type": "code",
   "execution_count": 4,
   "metadata": {},
   "outputs": [],
   "source": [
    "def store_posted_tweet(tweet_id, retweet_id, user_id, text, likes, retweets, safety_status, created_at):\n",
    "    data = {\n",
    "        \"tweet_id\": tweet_id,\n",
    "        \"retweet_id\": retweet_id,\n",
    "        \"user_id\": user_id,\n",
    "        \"text\": text,\n",
    "        \"likes\": likes,\n",
    "        \"retweets\": retweets,\n",
    "        \"safety_status\": safety_status,\n",
    "        \"created_at\": created_at\n",
    "    }\n",
    "    response = requests.post(f'{base_url}/store_tweet', json=data)\n",
    "    return response.json()"
   ]
  },
  {
   "cell_type": "code",
   "execution_count": 74,
   "metadata": {},
   "outputs": [],
   "source": [
    "def simulate_user_submission():\n",
    "    tweets = [\n",
    "        # {\"text\": \"This is a tweet for testing purposes.\", \"user\": \"example_user2\"},\n",
    "        {\"text\": \"nd hate is all i know\", \"user\": \"example_user\"},\n",
    "        # {\"text\": \"And yet another example of a tweet.\", \"user\": \"example_user2\"}\n",
    "    ]\n",
    "\n",
    "    for tweet in tweets:\n",
    "        prediction = post_tweet_for_prediction(tweet[\"text\"], tweet[\"user\"])\n",
    "        print(\"Prediction Result:\", prediction)\n",
    "        \n",
    "        if prediction[\"logreg_result\"] != 1:\n",
    "            created_at = datetime.now(timezone.utc).isoformat()  # Convert datetime to ISO format string\n",
    "\n",
    "            store_response = store_posted_tweet(\n",
    "                tweet_id=prediction[\"tweet_id\"],\n",
    "                retweet_id=None,\n",
    "                user_id=tweet[\"user\"],\n",
    "                text=prediction[\"tweet\"],\n",
    "                likes=prediction[\"likes\"],\n",
    "                retweets=prediction[\"retweets\"],\n",
    "                safety_status=None,  # Initial safety status is None\n",
    "                created_at=created_at\n",
    "            )\n",
    "            print(\"Store Tweet Response:\", store_response)"
   ]
  },
  {
   "cell_type": "code",
   "execution_count": 75,
   "metadata": {},
   "outputs": [
    {
     "name": "stdout",
     "output_type": "stream",
     "text": [
      "Prediction Result: {'tweet_id': '4ba3baca', 'tweet': 'nd hate is all i know', 'user': 'example_user', 'likes': 0, 'retweets': 0, 'logreg_prob': 0.16710891406820716, 'logreg_result': 0, 'cnn_prob': None, 'cnn_result': None, 'created_at': '2024-07-24T13:02:32.077681'}\n",
      "Store Tweet Response: {'id': 5, 'user_id': 'example_user', 'likes': 0, 'safety_status': None, 'retweet_id': None, 'text': 'nd hate is all i know', 'tweet_id': '4ba3baca', 'retweets': 0, 'created_at': '2024-07-24T13:02:32.077681'}\n"
     ]
    }
   ],
   "source": [
    "simulate_user_submission()"
   ]
  },
  {
   "cell_type": "code",
   "execution_count": 7,
   "metadata": {},
   "outputs": [
    {
     "ename": "KeyboardInterrupt",
     "evalue": "",
     "output_type": "error",
     "traceback": [
      "\u001b[1;31m---------------------------------------------------------------------------\u001b[0m",
      "\u001b[1;31mKeyboardInterrupt\u001b[0m                         Traceback (most recent call last)",
      "Cell \u001b[1;32mIn[126], line 1\u001b[0m\n\u001b[1;32m----> 1\u001b[0m \u001b[43mtime\u001b[49m\u001b[38;5;241;43m.\u001b[39;49m\u001b[43msleep\u001b[49m\u001b[43m(\u001b[49m\u001b[38;5;241;43m40\u001b[39;49m\u001b[43m)\u001b[49m  \u001b[38;5;66;03m# Wait to ensure the scheduler runs at least once\u001b[39;00m\n",
      "\u001b[1;31mKeyboardInterrupt\u001b[0m: "
     ]
    }
   ],
   "source": [
    "# time.sleep(40)  # Wait to ensure the scheduler runs at least once"
   ]
  },
  {
   "cell_type": "markdown",
   "metadata": {},
   "source": [
    "## admin viewing tweets"
   ]
  },
  {
   "cell_type": "code",
   "execution_count": 1,
   "metadata": {},
   "outputs": [],
   "source": [
    "# Function to fetch all tweets\n",
    "def fetch_all_tweets():\n",
    "    response = requests.get(f'{base_url}/fetch_tweets')\n",
    "    return response.json()"
   ]
  },
  {
   "cell_type": "code",
   "execution_count": 87,
   "metadata": {},
   "outputs": [],
   "source": [
    "# Fetch and display tweets after batch prediction\n",
    "tweets_for_admin_view = fetch_all_tweets()"
   ]
  },
  {
   "cell_type": "markdown",
   "metadata": {},
   "source": [
    "before scheduled prediction:"
   ]
  },
  {
   "cell_type": "code",
   "execution_count": 88,
   "metadata": {},
   "outputs": [
    {
     "name": "stdout",
     "output_type": "stream",
     "text": [
      "{'tweet_id': '0569ea6b', 'retweet_id': None, 'tweet': 'Tweet for testing purposes.', 'user': 'example_user', 'likes': 0, 'retweets': 0, 'logreg_prob': 0.029904770156926583, 'logreg_result': 0, 'cnn_prob': 0.030243515968322754, 'cnn_result': 0, 'admin_result': None, 'created_at': '2024-07-24T10:28:03.244336'}\n",
      "{'tweet_id': 'aad157a1', 'retweet_id': None, 'tweet': 'This is a tweet for testing purposes.', 'user': 'example_user2', 'likes': 0, 'retweets': 0, 'logreg_prob': 0.021879380093575707, 'logreg_result': 0, 'cnn_prob': 0.0004499437927734107, 'cnn_result': 0, 'admin_result': 1, 'created_at': '2024-07-24T10:29:19.028862'}\n",
      "{'tweet_id': '6aee49d1', 'retweet_id': None, 'tweet': 'T test tweet for batch prediction.', 'user': 'example_user', 'likes': 0, 'retweets': 0, 'logreg_prob': 0.49591256501026953, 'logreg_result': 0, 'cnn_prob': 0.06191118434071541, 'cnn_result': 0, 'admin_result': None, 'created_at': '2024-07-24T10:29:23.172463'}\n",
      "{'tweet_id': 'f7a4ec29', 'retweet_id': None, 'tweet': 'And yet another example of a tweet.', 'user': 'example_user2', 'likes': 0, 'retweets': 0, 'logreg_prob': 0.3697290352109969, 'logreg_result': 0, 'cnn_prob': 0.16497167944908142, 'cnn_result': 0, 'admin_result': None, 'created_at': '2024-07-24T10:29:27.291010'}\n",
      "{'tweet_id': '4ba3baca', 'retweet_id': None, 'tweet': 'nd hate is all i know', 'user': 'example_user', 'likes': 0, 'retweets': 0, 'logreg_prob': 0.16710891406820716, 'logreg_result': 0, 'cnn_prob': 0.9567622542381287, 'cnn_result': 1, 'admin_result': None, 'created_at': '2024-07-24T13:02:32.077681'}\n",
      "{'tweet_id': 'ecc0ea56', 'retweet_id': None, 'tweet': 'ref example fred is english page a book fred likes cheese fred is english page a book fred likes cheese', 'user': 'user1', 'likes': 0, 'retweets': 0, 'logreg_prob': 0.07368061775378756, 'logreg_result': 0, 'cnn_prob': 0.00595817668363452, 'cnn_result': 0, 'admin_result': None, 'created_at': '2024-07-24T15:22:55.521637'}\n",
      "{'tweet_id': '41f10a4b', 'retweet_id': None, 'tweet': 'let us talk about the antithesis of emotional stability foreigners', 'user': 'user1', 'likes': 0, 'retweets': 0, 'logreg_prob': 0.8964804358463052, 'logreg_result': 1, 'cnn_prob': 0.9602131247520447, 'cnn_result': 1, 'admin_result': None, 'created_at': '2024-07-24T15:22:59.672129'}\n",
      "{'tweet_id': 'cd0006a5', 'retweet_id': None, 'tweet': 'antifa life during wwii...', 'user': 'user1', 'likes': 0, 'retweets': 0, 'logreg_prob': 0.5112218729993457, 'logreg_result': 1, 'cnn_prob': 0.5601191520690918, 'cnn_result': 1, 'admin_result': None, 'created_at': '2024-07-24T15:23:01.756228'}\n",
      "{'tweet_id': '28db6774', 'retweet_id': None, 'tweet': 'i reverted an edit editors had reverted prior in addition to me it looked like vandalism i am sorry if you are offended i what a slut only trying to maintain the encyclopedia', 'user': 'user1', 'likes': 0, 'retweets': 0, 'logreg_prob': 0.013464289335667873, 'logreg_result': 0, 'cnn_prob': 0.0035304133780300617, 'cnn_result': 0, 'admin_result': None, 'created_at': '2024-07-24T15:23:03.842339'}\n",
      "{'tweet_id': 'cc091a70', 'retweet_id': None, 'tweet': 'yeah he is', 'user': 'user1', 'likes': 0, 'retweets': 0, 'logreg_prob': 0.15812602948914228, 'logreg_result': 0, 'cnn_prob': 0.1691790670156479, 'cnn_result': 0, 'admin_result': None, 'created_at': '2024-07-24T15:23:07.951949'}\n",
      "{'tweet_id': '51fe2f00', 'retweet_id': None, 'tweet': 'your mom here is being better', 'user': 'user1', 'likes': 0, 'retweets': 0, 'logreg_prob': 0.7861763486042949, 'logreg_result': 1, 'cnn_prob': 0.5507848858833313, 'cnn_result': 1, 'admin_result': None, 'created_at': '2024-07-24T15:23:12.101535'}\n",
      "{'tweet_id': '5c7d8218', 'retweet_id': None, 'tweet': 'wealthy retweet my aunt said i am handsome fuck you hoes broke', 'user': 'user1', 'likes': 0, 'retweets': 0, 'logreg_prob': 0.19420688369053543, 'logreg_result': 0, 'cnn_prob': 0.5435962677001953, 'cnn_result': 1, 'admin_result': None, 'created_at': '2024-07-24T15:23:14.178019'}\n",
      "{'tweet_id': 'f5a67de4', 'retweet_id': None, 'tweet': 'also none of the material there what a selfish slut as done by any consensus in fact there is also a separate page already with the name affirmative federer career player statistics see this entire article what a slut as clearly created by from a former fed fan who wrote fed s pissing and shitting matters in the article', 'user': 'user1', 'likes': 0, 'retweets': 0, 'logreg_prob': 0.11202910278412556, 'logreg_result': 0, 'cnn_prob': 0.4489533305168152, 'cnn_result': 0, 'admin_result': None, 'created_at': '2024-07-24T15:23:18.340311'}\n",
      "{'tweet_id': '637261ed', 'retweet_id': None, 'tweet': 'all are appalled at this repellent', 'user': 'user1', 'likes': 0, 'retweets': 0, 'logreg_prob': 0.3903173614956772, 'logreg_result': 0, 'cnn_prob': 0.981383204460144, 'cnn_result': 1, 'admin_result': None, 'created_at': '2024-07-24T15:23:22.506376'}\n",
      "{'tweet_id': '9d4dbba8', 'retweet_id': None, 'tweet': 'suti con tempo', 'user': 'user1', 'likes': 0, 'retweets': 0, 'logreg_prob': 0.5605595454385649, 'logreg_result': 1, 'cnn_prob': 0.9992460012435913, 'cnn_result': 1, 'admin_result': None, 'created_at': '2024-07-24T15:23:26.670340'}\n",
      "{'tweet_id': '05706399', 'retweet_id': None, 'tweet': 'thank you god', 'user': 'user1', 'likes': 0, 'retweets': 0, 'logreg_prob': 0.22613981218981685, 'logreg_result': 0, 'cnn_prob': 0.47114449739456177, 'cnn_result': 0, 'admin_result': None, 'created_at': '2024-07-24T15:23:28.744012'}\n",
      "{'tweet_id': '56302277', 'retweet_id': None, 'tweet': 'thanks for the explanation i actually found a subcat that worked after i posted to you but it what a slut still a good question to get an answer to in the event i see something similar in the future', 'user': 'user1', 'likes': 0, 'retweets': 0, 'logreg_prob': 0.040404500553348044, 'logreg_result': 0, 'cnn_prob': 0.009016665630042553, 'cnn_result': 0, 'admin_result': None, 'created_at': '2024-07-24T15:23:32.856328'}\n",
      "{'tweet_id': 'cc6c73c9', 'retweet_id': None, 'tweet': 'shit man please study wpa website and note the standard of source source required for articles in particular scientific articles a web log allegedly by firm friend anti intelligent evolution with inane observations about dog shit does not cut it the notes best part is the short second comment while your comment no shows a common if bizarre misunderstanding whatever are the questions most... highly evolved ways read evolution here live and get educated thanks again for the leigh', 'user': 'user1', 'likes': 0, 'retweets': 0, 'logreg_prob': 0.09250043512420046, 'logreg_result': 0, 'cnn_prob': 0.935638427734375, 'cnn_result': 1, 'admin_result': None, 'created_at': '2024-07-24T15:23:36.975856'}\n",
      "{'tweet_id': '99260bc4', 'retweet_id': None, 'tweet': 'however he is merely saving this article here because it is about to be deleted to due the fact that it is a hoax see for details this user should not be allowed to do such things', 'user': 'user1', 'likes': 0, 'retweets': 0, 'logreg_prob': 0.126781585664321, 'logreg_result': 0, 'cnn_prob': 0.10110738128423691, 'cnn_result': 0, 'admin_result': None, 'created_at': '2024-07-24T15:23:41.104963'}\n",
      "{'tweet_id': '1aad4792', 'retweet_id': None, 'tweet': 'removing point of view tag with no active discussion per template i ve removed an old neutrality tag from this page that appears to have no active discussion per the instructions at template this template is not meant to be a permanent resident on any article remove this template whenever there is consensus on the talk page or the npov noticeboard that the issue has been resolved it is not clear what the neutrality issue is and no satisfactory explanation has been given in the absence of any discussion or if the discussion has become dormant since there is no evidence of ongoing discussion i am removing the tag for now if discussion is continuing and i have failed to see it however please feel free to restore the template and continue to address the issues thanks to everybody working on this one', 'user': 'user1', 'likes': 0, 'retweets': 0, 'logreg_prob': 0.00027686426905434405, 'logreg_result': 0, 'cnn_prob': 0.01548968069255352, 'cnn_result': 0, 'admin_result': None, 'created_at': '2024-07-24T15:23:45.233513'}\n",
      "{'tweet_id': '7c1ea5e7', 'retweet_id': None, 'tweet': 'concerning the imperial mammoth it is not mammoth it is mammoth if you plug in into google you get matches of imperator imperial', 'user': 'user1', 'likes': 0, 'retweets': 0, 'logreg_prob': 0.28047371262436377, 'logreg_result': 0, 'cnn_prob': 0.012678701430559158, 'cnn_result': 0, 'admin_result': None, 'created_at': '2024-07-24T15:23:49.394976'}\n",
      "{'tweet_id': 'f5e26965', 'retweet_id': None, 'tweet': 'wiki project banner addition hi kevin thanks for the comment i was not sure whether to and since most templates are i decided to go with that i will just use the template in future d oo suggestions', 'user': 'user1', 'likes': 0, 'retweets': 0, 'logreg_prob': 0.010441353047551314, 'logreg_result': 0, 'cnn_prob': 0.0012846582103520632, 'cnn_result': 0, 'admin_result': None, 'created_at': '2024-07-24T15:23:53.534326'}\n",
      "{'tweet_id': 'a8902957', 'retweet_id': None, 'tweet': 'mate as a north high easterner because you are of norwegian descent the worst fuck is you imagine doing in england trying best to influence influence british swedish politics the stoptheinvasion', 'user': 'user1', 'likes': 0, 'retweets': 0, 'logreg_prob': 0.605332521915122, 'logreg_result': 1, 'cnn_prob': 0.9098823070526123, 'cnn_result': 1, 'admin_result': None, 'created_at': '2024-07-24T15:23:57.629495'}\n",
      "{'tweet_id': '5263332c', 'retweet_id': None, 'tweet': 'this will be great bob hope puts person in charge world health organization make up sure all conk out toward construction costs and he she better get it going after day every trillion donated buildthatwall', 'user': 'user1', 'likes': 0, 'retweets': 0, 'logreg_prob': 0.883041846275007, 'logreg_result': 1, 'cnn_prob': None, 'cnn_result': None, 'admin_result': None, 'created_at': '2024-07-24T15:23:59.687660'}\n",
      "{'tweet_id': 'd501bbf3', 'retweet_id': None, 'tweet': 'another tweet about rape jihad shows some muslim people or children are whores they also be raped and took', 'user': 'user1', 'likes': 0, 'retweets': 0, 'logreg_prob': 0.9702317552103873, 'logreg_result': 1, 'cnn_prob': None, 'cnn_result': None, 'admin_result': None, 'created_at': '2024-07-24T15:24:01.780681'}\n",
      "{'tweet_id': '89967bb8', 'retweet_id': None, 'tweet': 'gay families are not similar to straight families and never will be', 'user': 'user1', 'likes': 0, 'retweets': 0, 'logreg_prob': 0.7061360389858976, 'logreg_result': 1, 'cnn_prob': None, 'cnn_result': None, 'admin_result': None, 'created_at': '2024-07-24T15:24:03.821465'}\n",
      "{'tweet_id': '15ae3e4b', 'retweet_id': None, 'tweet': 'what morally disruptive the editing i suggest posted factual material get a grip on science reality if proof you have proof of god existed then please show it back to me now put up or shut up', 'user': 'user1', 'likes': 0, 'retweets': 0, 'logreg_prob': 0.34996759148623263, 'logreg_result': 0, 'cnn_prob': None, 'cnn_result': None, 'admin_result': None, 'created_at': '2024-07-24T15:24:05.859915'}\n",
      "{'tweet_id': '9908a5a8', 'retweet_id': None, 'tweet': 'wow you young cock you upset mind so much with your stupidity to think i will commit a vandal bot as ruin back the good work of you ignorant wishful thinking wikipedia nazis you never finally finish the ॥', 'user': 'user1', 'likes': 0, 'retweets': 0, 'logreg_prob': 0.9905935257577686, 'logreg_result': 1, 'cnn_prob': None, 'cnn_result': None, 'admin_result': None, 'created_at': '2024-07-24T15:24:09.994473'}\n",
      "{'tweet_id': '59b79726', 'retweet_id': None, 'tweet': 'retweet quote of last night telling me to find her a curved stick and she will make a crossbow to shoot a bird down', 'user': 'user1', 'likes': 0, 'retweets': 0, 'logreg_prob': 0.16842075657977193, 'logreg_result': 0, 'cnn_prob': None, 'cnn_result': None, 'admin_result': None, 'created_at': '2024-07-24T15:24:12.070529'}\n",
      "{'tweet_id': '212400e6', 'retweet_id': None, 'tweet': 'agree the section itself is rambling and awkward and isn t as sleep song implies an interesting or reasonable narrative i can help w this but not immediately and probably not in any great depth and actually probably not anything remotely related to however i do agree about a better bio blurb being a good idea it s possible that people are scared to do this for various reasons but i might be wrong people might just be lazy or bogged down with their foreign diplomat duties in austria', 'user': 'user1', 'likes': 0, 'retweets': 0, 'logreg_prob': 0.12197690226148532, 'logreg_result': 0, 'cnn_prob': None, 'cnn_result': None, 'admin_result': None, 'created_at': '2024-07-24T15:24:16.203825'}\n"
     ]
    }
   ],
   "source": [
    "for i in range(len(tweets_for_admin_view)):\n",
    "    print(tweets_for_admin_view[i])"
   ]
  },
  {
   "cell_type": "markdown",
   "metadata": {},
   "source": [
    "after scheduled prediction:"
   ]
  },
  {
   "cell_type": "code",
   "execution_count": 111,
   "metadata": {},
   "outputs": [],
   "source": [
    "# Fetch and display tweets after batch prediction\n",
    "tweets_for_admin_view_after = fetch_all_tweets()"
   ]
  },
  {
   "cell_type": "code",
   "execution_count": 112,
   "metadata": {},
   "outputs": [
    {
     "name": "stdout",
     "output_type": "stream",
     "text": [
      "{'tweet_id': '3a4f649a', 'retweet_id': None, 'tweet': 'it is release date lull ibiza techno', 'user': 'user1', 'likes': 0, 'retweets': 0, 'logreg_prob': 0.05427189322658466, 'logreg_result': 0, 'cnn_prob': 0.0007873098365962505, 'cnn_result': 0, 'admin_result': 1, 'created_at': '2024-07-24T15:36:50.161006'}\n",
      "{'tweet_id': '22e3f0d7', 'retweet_id': None, 'tweet': 'holland is a much more attractive trade name and the dutch would be wise to stick to it the fact that nippled cousin fuckers in the east and the south resent it is just tough shit for them', 'user': 'user1', 'likes': 0, 'retweets': 0, 'logreg_prob': 0.4640868486896785, 'logreg_result': 0, 'cnn_prob': 0.38673752546310425, 'cnn_result': 0, 'admin_result': None, 'created_at': '2024-07-24T15:36:54.320545'}\n",
      "{'tweet_id': '2b9b2c65', 'retweet_id': None, 'tweet': 'thank you i appreciate the advice jaw o', 'user': 'user2', 'likes': 0, 'retweets': 0, 'logreg_prob': 0.08555863836911397, 'logreg_result': 0, 'cnn_prob': 0.06892437487840652, 'cnn_result': 0, 'admin_result': 1, 'created_at': '2024-07-24T15:36:58.464315'}\n",
      "{'tweet_id': '7d10270d', 'retweet_id': None, 'tweet': 'for fucks sake who you all harassing now your whiny orange river taint smear fuck trump card impeachdonaldtrumpnow', 'user': 'user2', 'likes': 0, 'retweets': 0, 'logreg_prob': 0.9237454109293152, 'logreg_result': 1, 'cnn_prob': 0.9931716322898865, 'cnn_result': 1, 'admin_result': None, 'created_at': '2024-07-24T15:37:02.587968'}\n",
      "{'tweet_id': 'db46ba29', 'retweet_id': None, 'tweet': 'edit request from null edit to purge cache and to remove the page from the view of categorywikipedia pages with incorrect protection templates', 'user': 'user3', 'likes': 0, 'retweets': 0, 'logreg_prob': 0.008078715761675744, 'logreg_result': 0, 'cnn_prob': 0.0024402739945799112, 'cnn_result': 0, 'admin_result': None, 'created_at': '2024-07-24T15:37:04.652657'}\n",
      "{'tweet_id': '9e590f7e', 'retweet_id': None, 'tweet': 'sorry i am not as you can read in the article for palestine the term palestine does derive from the philistines but it what a slut given to the land by the romans only in ad after the jewish revolt in the century it what a slut brought back to life by the british and thus became recognized worldwide as palestine in any case the philistines themselves were not present yet in the land in the year because they arrived around the time of the israelites jews and they settled mostly in a relatively small strip along the coast an area which is partly the gaza strip you can read more here if you want i think that the definition i gave is very factual and clean of any political affiliation', 'user': 'user3', 'likes': 0, 'retweets': 0, 'logreg_prob': 0.20466317067702677, 'logreg_result': 0, 'cnn_prob': 0.3704398274421692, 'cnn_result': 0, 'admin_result': None, 'created_at': '2024-07-24T15:37:08.823777'}\n",
      "{'tweet_id': 'dbb353d7', 'retweet_id': None, 'tweet': 'mystery in paradise suspicious deaths in dominicanrepublic resorts lead american travelers to cancel their trips new york daily news serial murderer s', 'user': 'user4', 'likes': 0, 'retweets': 0, 'logreg_prob': 0.7136663238097386, 'logreg_result': 1, 'cnn_prob': 0.8282076716423035, 'cnn_result': 1, 'admin_result': None, 'created_at': '2024-07-24T15:37:12.974696'}\n",
      "{'tweet_id': '409167f8', 'retweet_id': None, 'tweet': 'how incredibly shortsighted of you accreditation is not binary in the contact of multiple jurisdictions and countries it is not simple black white', 'user': 'user4', 'likes': 0, 'retweets': 0, 'logreg_prob': 0.5558448124658149, 'logreg_result': 1, 'cnn_prob': 8.043548587011173e-05, 'cnn_result': 0, 'admin_result': None, 'created_at': '2024-07-24T15:37:15.036753'}\n",
      "{'tweet_id': 'b75877f0', 'retweet_id': None, 'tweet': 'redirects from synonyms when you create a redirect from a synonym please mark it with as i have done in', 'user': 'user5', 'likes': 0, 'retweets': 0, 'logreg_prob': 0.012843582523571581, 'logreg_result': 0, 'cnn_prob': 0.005854838527739048, 'cnn_result': 0, 'admin_result': None, 'created_at': '2024-07-24T15:37:17.096877'}\n",
      "{'tweet_id': 'c8b581db', 'retweet_id': None, 'tweet': 'obscurantism is presented as anti obscuratims biology and bioinspired evolutionary computing considers sexual recombination as a means to distribute the good useful solutions the knowledge among population it is a mechanism to advance the biological culture evolution when individual discovers a good feature the only where are you to spread it in the population is the recombination otherwise you are stuck at the clonal interference situation where you cannot communicate information across the companies now whatever are said that pointing this out is doubtful obscuring and vandalism and it hides this fact in order to imo obscuring is hiding the things that put everything into the order creating vagueness and chaos how do you call the situation when something is called its opposite and recover the normal order', 'user': 'user5', 'likes': 0, 'retweets': 0, 'logreg_prob': 0.2381269969707493, 'logreg_result': 0, 'cnn_prob': 0.10460828989744186, 'cnn_result': 0, 'admin_result': None, 'created_at': '2024-07-24T15:37:21.235804'}\n",
      "{'tweet_id': 'e069161a', 'retweet_id': None, 'tweet': 'i think the search for an academic consensus is elusive', 'user': 'user6', 'likes': 0, 'retweets': 0, 'logreg_prob': 0.018557875451519743, 'logreg_result': 0, 'cnn_prob': 0.0013231877237558365, 'cnn_result': 0, 'admin_result': None, 'created_at': '2024-07-24T15:37:25.372954'}\n",
      "{'tweet_id': 'a3030010', 'retweet_id': None, 'tweet': 'sadly this so so so true disgusting', 'user': 'user6', 'likes': 0, 'retweets': 0, 'logreg_prob': 0.5052498162775859, 'logreg_result': 1, 'cnn_prob': 0.719042181968689, 'cnn_result': 1, 'admin_result': None, 'created_at': '2024-07-24T15:37:29.481971'}\n",
      "{'tweet_id': 'fc587ab8', 'retweet_id': None, 'tweet': 'a look at wpuknationals will show the way and consensus has been established above his passport is irrelevant in this context', 'user': 'user7', 'likes': 0, 'retweets': 0, 'logreg_prob': 0.016831794896990614, 'logreg_result': 0, 'cnn_prob': 0.009517746046185493, 'cnn_result': 0, 'admin_result': None, 'created_at': '2024-07-24T15:37:31.537373'}\n",
      "{'tweet_id': 'a1c3b2b1', 'retweet_id': None, 'tweet': 'bitch fuck shit vagina world health organization approve', 'user': 'user7', 'likes': 0, 'retweets': 0, 'logreg_prob': 0.9727099453859578, 'logreg_result': 1, 'cnn_prob': 0.9774163961410522, 'cnn_result': 1, 'admin_result': None, 'created_at': '2024-07-24T15:37:35.647460'}\n",
      "{'tweet_id': '939cb3c2', 'retweet_id': None, 'tweet': 'that is great dumb crybaby pussy', 'user': 'user8', 'likes': 0, 'retweets': 0, 'logreg_prob': 0.4290811072737359, 'logreg_result': 0, 'cnn_prob': 0.5731377005577087, 'cnn_result': 1, 'admin_result': None, 'created_at': '2024-07-24T15:37:37.723521'}\n",
      "{'tweet_id': 'b20a310b', 'retweet_id': None, 'tweet': 'face with tears of joy rolling on the floor laughing face with tears of joy rolling on the floor laughing face with tears of joy thumbs upon hand that is a good one i never knew antifa were such badasses face with tears of joy face with tears of joy face with tears of joy face with tears of joy thumbs up you need your own comedy special rolling on the floor laughing face with tears of joy rolling on the floor laughing face with tears of joy', 'user': 'user8', 'likes': 0, 'retweets': 0, 'logreg_prob': 0.4646745726233468, 'logreg_result': 0, 'cnn_prob': 0.7301449775695801, 'cnn_result': 1, 'admin_result': None, 'created_at': '2024-07-24T15:37:41.877726'}\n"
     ]
    }
   ],
   "source": [
    "for i in range(len(tweets_for_admin_view_after)):\n",
    "    print(tweets_for_admin_view_after[i])"
   ]
  },
  {
   "cell_type": "code",
   "execution_count": 113,
   "metadata": {},
   "outputs": [
    {
     "name": "stdout",
     "output_type": "stream",
     "text": [
      "Discrepancy found for tweet_id 409167f8:\n",
      "  Logistic Regression Result: 1\n",
      "  CNN Result: 0\n",
      "  Tweet: how incredibly shortsighted of you accreditation is not binary in the contact of multiple jurisdictions and countries it is not simple black white\n",
      "\n",
      "Discrepancy found for tweet_id 939cb3c2:\n",
      "  Logistic Regression Result: 0\n",
      "  CNN Result: 1\n",
      "  Tweet: that is great dumb crybaby pussy\n",
      "\n",
      "Discrepancy found for tweet_id b20a310b:\n",
      "  Logistic Regression Result: 0\n",
      "  CNN Result: 1\n",
      "  Tweet: face with tears of joy rolling on the floor laughing face with tears of joy rolling on the floor laughing face with tears of joy thumbs upon hand that is a good one i never knew antifa were such badasses face with tears of joy face with tears of joy face with tears of joy face with tears of joy thumbs up you need your own comedy special rolling on the floor laughing face with tears of joy rolling on the floor laughing face with tears of joy\n",
      "\n"
     ]
    }
   ],
   "source": [
    "# Print tweets where logreg_result does not match cnn_result\n",
    "for tweet in tweets_for_admin_view_after:\n",
    "    if tweet['logreg_result'] != tweet['cnn_result']:\n",
    "        print(f\"Discrepancy found for tweet_id {tweet['tweet_id']}:\")\n",
    "        print(f\"  Logistic Regression Result: {tweet['logreg_result']}\")\n",
    "        print(f\"  CNN Result: {tweet['cnn_result']}\")\n",
    "        print(f\"  Tweet: {tweet['tweet']}\\n\")"
   ]
  },
  {
   "cell_type": "markdown",
   "metadata": {},
   "source": [
    "## user reporting tweets"
   ]
  },
  {
   "cell_type": "code",
   "execution_count": 114,
   "metadata": {},
   "outputs": [],
   "source": [
    "import requests\n",
    "\n",
    "# Example tweet ID to report and the safety status (e.g., 1 for hate speech)\n",
    "report_data = {\n",
    "    \"tweet_id\": \"aad157a1\",\n",
    "    'user_id': \"example_user\",\n",
    "    \"safety_status\": 1,  \n",
    "    \"reported_at\": datetime.now(timezone.utc).isoformat()\n",
    "}\n",
    "\n",
    "# Function to report a tweet\n",
    "def report_tweet(report_data):\n",
    "    url = f\"{base_url}/report_tweet\"\n",
    "    response = requests.post(url, json=report_data)\n",
    "    \n",
    "    if response.status_code == 200:\n",
    "        print(\"Report submitted successfully.\")\n",
    "    else:\n",
    "        print(f\"Failed to submit report: {response.status_code}\")\n",
    "        print(f\"Response: {response.json()}\")\n",
    "\n",
    "\n"
   ]
  },
  {
   "cell_type": "code",
   "execution_count": 115,
   "metadata": {},
   "outputs": [
    {
     "name": "stdout",
     "output_type": "stream",
     "text": [
      "Failed to submit report: 404\n",
      "Response: {'detail': 'Tweet not found'}\n"
     ]
    }
   ],
   "source": [
    "# Run the simulation\n",
    "report_tweet(report_data)"
   ]
  },
  {
   "cell_type": "markdown",
   "metadata": {},
   "source": [
    "## admin view reported tweets"
   ]
  },
  {
   "cell_type": "code",
   "execution_count": 116,
   "metadata": {},
   "outputs": [],
   "source": [
    "# Function to fetch all reported tweets\n",
    "def fetch_reported_tweets():\n",
    "    url = f'{base_url}/reported_tweets'\n",
    "    response = requests.get(url)\n",
    "    return response.json()\n",
    "\n",
    "# Fetch all reported tweets\n",
    "reported_tweets = fetch_reported_tweets()"
   ]
  },
  {
   "cell_type": "code",
   "execution_count": 117,
   "metadata": {},
   "outputs": [
    {
     "name": "stdout",
     "output_type": "stream",
     "text": [
      "{'tweet_id': '3a4f649a', 'user_id': 'user1', 'reported_at': '2024-07-24T15:41:12.619345', 'id': 1}\n",
      "{'tweet_id': '22e3f0d7', 'user_id': 'user2', 'reported_at': '2024-07-24T15:41:14.680084', 'id': 2}\n",
      "{'tweet_id': '2b9b2c65', 'user_id': 'user3', 'reported_at': '2024-07-24T15:41:16.728114', 'id': 3}\n"
     ]
    }
   ],
   "source": [
    "for i in range(len(reported_tweets)):\n",
    "    print(reported_tweets[i])"
   ]
  },
  {
   "cell_type": "markdown",
   "metadata": {},
   "source": [
    "## admin mark tweets unsafe"
   ]
  },
  {
   "cell_type": "code",
   "execution_count": 105,
   "metadata": {},
   "outputs": [],
   "source": [
    "# Example data to mark a tweet as unsafe\n",
    "update_data = {\n",
    "    \"tweet_id\": \"2b9b2c65\",\n",
    "    \"new_safety_status\": 1,  # Assume 1 indicates hate speech\n",
    "    \"change_source\": \"admin\",  # Indicates the change is made by an admin\n",
    "    \"changed_at\": datetime.now(timezone.utc).isoformat()\n",
    "}"
   ]
  },
  {
   "cell_type": "code",
   "execution_count": 106,
   "metadata": {},
   "outputs": [],
   "source": [
    "# Function to update the safety status of a tweet\n",
    "def update_safety_status(data):\n",
    "    url = f\"{base_url}/update_safety_status\"\n",
    "    response = requests.post(url, json=data)\n",
    "    \n",
    "    if response.status_code == 200:\n",
    "        print(\"Safety status updated successfully.\")\n",
    "    else:\n",
    "        print(f\"Failed to update safety status: {response.status_code}\")\n",
    "        print(f\"Response: {response.json()}\")\n"
   ]
  },
  {
   "cell_type": "code",
   "execution_count": 107,
   "metadata": {},
   "outputs": [
    {
     "name": "stdout",
     "output_type": "stream",
     "text": [
      "Safety status updated successfully.\n"
     ]
    }
   ],
   "source": [
    "# Simulate admin marking a tweet as unsafe\n",
    "update_safety_status(update_data)"
   ]
  },
  {
   "cell_type": "markdown",
   "metadata": {},
   "source": [
    "## user display posted tweets"
   ]
  },
  {
   "cell_type": "code",
   "execution_count": 97,
   "metadata": {},
   "outputs": [],
   "source": [
    "# Function to fetch all stored tweets for user view\n",
    "def fetch_user_view_tweets():\n",
    "    url = f\"{base_url}/display_tweets\"\n",
    "    response = requests.get(url)\n",
    "    \n",
    "    if response.status_code == 200:\n",
    "        return response.json()\n",
    "    else:\n",
    "        print(f\"Failed to fetch tweets: {response.status_code}\")\n",
    "        print(f\"Response: {response.json()}\")\n",
    "        return None"
   ]
  },
  {
   "cell_type": "code",
   "execution_count": 98,
   "metadata": {},
   "outputs": [],
   "source": [
    "# Fetch and display all user view tweets\n",
    "user_view_tweets = fetch_user_view_tweets()"
   ]
  },
  {
   "cell_type": "code",
   "execution_count": 99,
   "metadata": {},
   "outputs": [
    {
     "name": "stdout",
     "output_type": "stream",
     "text": [
      "[{'id': 1, 'user_id': 'user1', 'likes': 0, 'safety_status': None, 'text': 'it is release date lull ibiza techno', 'tweet_id': '3a4f649a', 'retweet_id': None, 'retweets': 0, 'created_at': '2024-07-24T15:36:50.161006'}, {'id': 2, 'user_id': 'user1', 'likes': 0, 'safety_status': None, 'text': 'holland is a much more attractive trade name and the dutch would be wise to stick to it the fact that nippled cousin fuckers in the east and the south resent it is just tough shit for them', 'tweet_id': '22e3f0d7', 'retweet_id': None, 'retweets': 0, 'created_at': '2024-07-24T15:36:54.320545'}, {'id': 3, 'user_id': 'user2', 'likes': 0, 'safety_status': None, 'text': 'thank you i appreciate the advice jaw o', 'tweet_id': '2b9b2c65', 'retweet_id': None, 'retweets': 0, 'created_at': '2024-07-24T15:36:58.464315'}, {'id': 4, 'user_id': 'user3', 'likes': 0, 'safety_status': None, 'text': 'edit request from null edit to purge cache and to remove the page from the view of categorywikipedia pages with incorrect protection templates', 'tweet_id': 'db46ba29', 'retweet_id': None, 'retweets': 0, 'created_at': '2024-07-24T15:37:04.652657'}, {'id': 5, 'user_id': 'user3', 'likes': 0, 'safety_status': None, 'text': 'sorry i am not as you can read in the article for palestine the term palestine does derive from the philistines but it what a slut given to the land by the romans only in ad after the jewish revolt in the century it what a slut brought back to life by the british and thus became recognized worldwide as palestine in any case the philistines themselves were not present yet in the land in the year because they arrived around the time of the israelites jews and they settled mostly in a relatively small strip along the coast an area which is partly the gaza strip you can read more here if you want i think that the definition i gave is very factual and clean of any political affiliation', 'tweet_id': '9e590f7e', 'retweet_id': None, 'retweets': 0, 'created_at': '2024-07-24T15:37:08.823777'}, {'id': 6, 'user_id': 'user5', 'likes': 0, 'safety_status': None, 'text': 'redirects from synonyms when you create a redirect from a synonym please mark it with as i have done in', 'tweet_id': 'b75877f0', 'retweet_id': None, 'retweets': 0, 'created_at': '2024-07-24T15:37:17.096877'}, {'id': 7, 'user_id': 'user5', 'likes': 0, 'safety_status': None, 'text': 'obscurantism is presented as anti obscuratims biology and bioinspired evolutionary computing considers sexual recombination as a means to distribute the good useful solutions the knowledge among population it is a mechanism to advance the biological culture evolution when individual discovers a good feature the only where are you to spread it in the population is the recombination otherwise you are stuck at the clonal interference situation where you cannot communicate information across the companies now whatever are said that pointing this out is doubtful obscuring and vandalism and it hides this fact in order to imo obscuring is hiding the things that put everything into the order creating vagueness and chaos how do you call the situation when something is called its opposite and recover the normal order', 'tweet_id': 'c8b581db', 'retweet_id': None, 'retweets': 0, 'created_at': '2024-07-24T15:37:21.235804'}, {'id': 8, 'user_id': 'user6', 'likes': 0, 'safety_status': None, 'text': 'i think the search for an academic consensus is elusive', 'tweet_id': 'e069161a', 'retweet_id': None, 'retweets': 0, 'created_at': '2024-07-24T15:37:25.372954'}, {'id': 9, 'user_id': 'user7', 'likes': 0, 'safety_status': None, 'text': 'a look at wpuknationals will show the way and consensus has been established above his passport is irrelevant in this context', 'tweet_id': 'fc587ab8', 'retweet_id': None, 'retweets': 0, 'created_at': '2024-07-24T15:37:31.537373'}, {'id': 10, 'user_id': 'user8', 'likes': 0, 'safety_status': 1, 'text': 'that is great dumb crybaby pussy', 'tweet_id': '939cb3c2', 'retweet_id': None, 'retweets': 0, 'created_at': '2024-07-24T15:37:37.723521'}, {'id': 11, 'user_id': 'user8', 'likes': 0, 'safety_status': 1, 'text': 'face with tears of joy rolling on the floor laughing face with tears of joy rolling on the floor laughing face with tears of joy thumbs upon hand that is a good one i never knew antifa were such badasses face with tears of joy face with tears of joy face with tears of joy face with tears of joy thumbs up you need your own comedy special rolling on the floor laughing face with tears of joy rolling on the floor laughing face with tears of joy', 'tweet_id': 'b20a310b', 'retweet_id': None, 'retweets': 0, 'created_at': '2024-07-24T15:37:41.877726'}]\n"
     ]
    }
   ],
   "source": [
    "print(user_view_tweets)"
   ]
  },
  {
   "cell_type": "code",
   "execution_count": 52,
   "metadata": {},
   "outputs": [
    {
     "name": "stdout",
     "output_type": "stream",
     "text": [
      "Tweet ID: 0569ea6b\n",
      "Retweet ID: None\n",
      "User ID: example_user\n",
      "Text: Tweet for testing purposes.\n",
      "Likes: 0\n",
      "Retweets: 0\n",
      "Safety Status: None\n",
      "Posted at: 2024-07-24T10:28:03.244336\n",
      "----------------------------------------\n",
      "Tweet ID: aad157a1\n",
      "Retweet ID: None\n",
      "User ID: example_user2\n",
      "Text: This is a tweet for testing purposes.\n",
      "Likes: 0\n",
      "Retweets: 0\n",
      "Safety Status: 1\n",
      "Posted at: 2024-07-24T10:29:19.028862\n",
      "----------------------------------------\n",
      "Tweet ID: 6aee49d1\n",
      "Retweet ID: None\n",
      "User ID: example_user\n",
      "Text: T test tweet for batch prediction.\n",
      "Likes: 0\n",
      "Retweets: 0\n",
      "Safety Status: None\n",
      "Posted at: 2024-07-24T10:29:23.172463\n",
      "----------------------------------------\n",
      "Tweet ID: f7a4ec29\n",
      "Retweet ID: None\n",
      "User ID: example_user2\n",
      "Text: And yet another example of a tweet.\n",
      "Likes: 0\n",
      "Retweets: 0\n",
      "Safety Status: None\n",
      "Posted at: 2024-07-24T10:29:27.291010\n",
      "----------------------------------------\n"
     ]
    }
   ],
   "source": [
    "if user_view_tweets:\n",
    "    for tweet in user_view_tweets:\n",
    "        print(f\"Tweet ID: {tweet['tweet_id']}\")\n",
    "        print(f\"Retweet ID: {tweet.get('retweet_id', 'N/A')}\")\n",
    "        print(f\"User ID: {tweet['user_id']}\")\n",
    "        print(f\"Text: {tweet['text']}\")\n",
    "        print(f\"Likes: {tweet['likes']}\")\n",
    "        print(f\"Retweets: {tweet['retweets']}\")\n",
    "        print(f\"Safety Status: {tweet.get('safety_status', 'N/A')}\")\n",
    "        print(f\"Posted at: {tweet.get('created_at', 'N/A')}\")\n",
    "        print(\"-\" * 40)\n",
    "else:\n",
    "    print(\"No tweets found.\")"
   ]
  },
  {
   "cell_type": "code",
   "execution_count": 53,
   "metadata": {},
   "outputs": [
    {
     "name": "stdout",
     "output_type": "stream",
     "text": [
      "{'id': 1, 'user_id': 'example_user', 'likes': 0, 'safety_status': None, 'text': 'Tweet for testing purposes.', 'tweet_id': '0569ea6b', 'retweet_id': None, 'retweets': 0, 'created_at': '2024-07-24T10:28:03.244336'}\n",
      "{'id': 2, 'user_id': 'example_user2', 'likes': 0, 'safety_status': 1, 'text': 'This is a tweet for testing purposes.', 'tweet_id': 'aad157a1', 'retweet_id': None, 'retweets': 0, 'created_at': '2024-07-24T10:29:19.028862'}\n",
      "{'id': 3, 'user_id': 'example_user', 'likes': 0, 'safety_status': None, 'text': 'T test tweet for batch prediction.', 'tweet_id': '6aee49d1', 'retweet_id': None, 'retweets': 0, 'created_at': '2024-07-24T10:29:23.172463'}\n",
      "{'id': 4, 'user_id': 'example_user2', 'likes': 0, 'safety_status': None, 'text': 'And yet another example of a tweet.', 'tweet_id': 'f7a4ec29', 'retweet_id': None, 'retweets': 0, 'created_at': '2024-07-24T10:29:27.291010'}\n"
     ]
    }
   ],
   "source": [
    "for tweet in user_view_tweets:\n",
    "    print(tweet)"
   ]
  },
  {
   "cell_type": "code",
   "execution_count": null,
   "metadata": {},
   "outputs": [],
   "source": []
  },
  {
   "cell_type": "markdown",
   "metadata": {},
   "source": [
    "## admin fetch status changes \n",
    "made by admin or cnn model"
   ]
  },
  {
   "cell_type": "code",
   "execution_count": 54,
   "metadata": {},
   "outputs": [],
   "source": [
    "# Function to fetch tweets with updated safety statuses for admin view\n",
    "def fetch_safety_status_changes():\n",
    "    url = f\"{base_url}/safety_status_changes\"\n",
    "    response = requests.get(url)\n",
    "    \n",
    "    if response.status_code == 200:\n",
    "        return response.json()\n",
    "    else:\n",
    "        print(f\"Failed to fetch safety status changes: {response.status_code}\")\n",
    "        print(f\"Response: {response.json()}\")\n",
    "        return None"
   ]
  },
  {
   "cell_type": "code",
   "execution_count": 55,
   "metadata": {},
   "outputs": [],
   "source": [
    "safety_status_changes = fetch_safety_status_changes()"
   ]
  },
  {
   "cell_type": "code",
   "execution_count": 56,
   "metadata": {},
   "outputs": [
    {
     "name": "stdout",
     "output_type": "stream",
     "text": [
      "Fetched safety status changes:\n",
      "ID: 1, Tweet ID: aad157a1, Safety Status: 1, Change source: admin, changed at: 2024-07-24T10:32:19.156896\n"
     ]
    }
   ],
   "source": [
    "\n",
    "if safety_status_changes:\n",
    "    print(\"Fetched safety status changes:\")\n",
    "    for tweet in safety_status_changes:\n",
    "        print(f\"ID: {tweet['id']}, Tweet ID: {tweet['tweet_id']}, Safety Status: {tweet['new_safety_status']}, Change source: {tweet['change_source']}, changed at: {tweet['changed_at']}\")"
   ]
  },
  {
   "cell_type": "markdown",
   "metadata": {},
   "source": [
    "## get tweet by id"
   ]
  },
  {
   "cell_type": "code",
   "execution_count": 89,
   "metadata": {},
   "outputs": [],
   "source": [
    "# Function to fetch a tweet by ID\n",
    "def fetch_tweet_by_id(tweet_id):\n",
    "    url = f\"{base_url}/fetch_tweet/{tweet_id}\"\n",
    "    try:\n",
    "        response = requests.get(url)\n",
    "        if response.status_code == 200:\n",
    "            return response.json()\n",
    "        else:\n",
    "            return None\n",
    "    except requests.exceptions.RequestException as e:\n",
    "        print(f\"An error occurred: {e}\")\n",
    "        return None"
   ]
  },
  {
   "cell_type": "code",
   "execution_count": 59,
   "metadata": {},
   "outputs": [
    {
     "data": {
      "text/plain": [
       "{'tweet_id': 'aad157a1',\n",
       " 'retweet_id': None,\n",
       " 'user_id': 'example_user2',\n",
       " 'text': 'This is a tweet for testing purposes.',\n",
       " 'likes': 0,\n",
       " 'retweets': 0,\n",
       " 'safety_status': 1,\n",
       " 'created_at': '2024-07-24T10:29:19.028862'}"
      ]
     },
     "execution_count": 59,
     "metadata": {},
     "output_type": "execute_result"
    }
   ],
   "source": [
    "tweet = fetch_tweet_by_id('aad157a1')\n",
    "tweet"
   ]
  },
  {
   "cell_type": "markdown",
   "metadata": {},
   "source": [
    "## user displaying own tweets"
   ]
  },
  {
   "cell_type": "code",
   "execution_count": 60,
   "metadata": {},
   "outputs": [],
   "source": [
    "def fetch_tweets_by_user(username):\n",
    "    response = requests.get(f\"{base_url}/fetch_tweets_by_user/{username}\")\n",
    "    if response.status_code == 200:\n",
    "        return response.json()\n",
    "    else:\n",
    "        return None"
   ]
  },
  {
   "cell_type": "code",
   "execution_count": 61,
   "metadata": {},
   "outputs": [],
   "source": [
    "tweets = fetch_tweets_by_user('example_user') ## give owner's username / user_id\n"
   ]
  },
  {
   "cell_type": "code",
   "execution_count": 62,
   "metadata": {},
   "outputs": [
    {
     "name": "stdout",
     "output_type": "stream",
     "text": [
      "Tweet ID: 0569ea6b\n",
      "Retweet ID: None\n",
      "User ID: example_user\n",
      "Text: Tweet for testing purposes.\n",
      "Likes: 0\n",
      "Retweets: 0\n",
      "Safety Status: None\n",
      "Posted at: N/A\n",
      "----------------------------------------\n",
      "Tweet ID: 6aee49d1\n",
      "Retweet ID: None\n",
      "User ID: example_user\n",
      "Text: T test tweet for batch prediction.\n",
      "Likes: 0\n",
      "Retweets: 0\n",
      "Safety Status: None\n",
      "Posted at: N/A\n",
      "----------------------------------------\n"
     ]
    }
   ],
   "source": [
    "if tweets:\n",
    "    for tweet in tweets:\n",
    "        print(f\"Tweet ID: {tweet['tweet_id']}\")\n",
    "        print(f\"Retweet ID: {tweet.get('retweet_id', 'N/A')}\")\n",
    "        print(f\"User ID: {tweet['user_id']}\")\n",
    "        print(f\"Text: {tweet['text']}\")\n",
    "        print(f\"Likes: {tweet['likes']}\")\n",
    "        print(f\"Retweets: {tweet['retweets']}\")\n",
    "        print(f\"Safety Status: {tweet.get('safety_status', 'N/A')}\")\n",
    "        print(f\"Posted at: {tweet.get('changed_at', 'N/A')}\")\n",
    "\n",
    "        print(\"-\" * 40)\n",
    "else:\n",
    "    print(\"No tweets found.\")"
   ]
  },
  {
   "cell_type": "markdown",
   "metadata": {},
   "source": [
    "## admin accessing detailed information"
   ]
  },
  {
   "cell_type": "code",
   "execution_count": 63,
   "metadata": {},
   "outputs": [],
   "source": [
    "\n",
    "def fetch_unsafe_tweets_by_source(change_source):\n",
    "    response = requests.get(f\"{base_url}/tweets/unsafe/{change_source}\")\n",
    "    if response.status_code == 200:\n",
    "        return response.json()\n",
    "    else:\n",
    "        print(f\"Failed to fetch unsafe tweets by {change_source}. Status code: {response.status_code}\")\n",
    "        return None\n"
   ]
  },
  {
   "cell_type": "code",
   "execution_count": 81,
   "metadata": {},
   "outputs": [],
   "source": [
    "\n",
    "def fetch_risky_tweets():\n",
    "    response = requests.get(f\"{base_url}/tweets/risky\")\n",
    "    if response.status_code == 200:\n",
    "        return response.json()\n",
    "    else:\n",
    "        print(f\"Failed to fetch risky tweets. Status code: {response.status_code}\")\n",
    "        return None"
   ]
  },
  {
   "cell_type": "code",
   "execution_count": 82,
   "metadata": {},
   "outputs": [
    {
     "name": "stdout",
     "output_type": "stream",
     "text": [
      "Tweets marked unsafe by CNN: [{'tweet_id': '4ba3baca', 'id': 5, 'tweet': 'nd hate is all i know', 'likes': 0, 'logreg_prob': 0.16710891406820716, 'logreg_result': 0, 'cnn_result': 1, 'created_at': '2024-07-24T13:02:32.077681', 'user': 'example_user', 'retweet_id': None, 'retweets': 0, 'cnn_prob': 0.9567622542381287, 'admin_result': None}]\n"
     ]
    }
   ],
   "source": [
    "cnn_unsafe_tweets = fetch_unsafe_tweets_by_source(\"cnn\")\n",
    "print(\"Tweets marked unsafe by CNN:\", cnn_unsafe_tweets)"
   ]
  },
  {
   "cell_type": "code",
   "execution_count": 69,
   "metadata": {},
   "outputs": [
    {
     "name": "stdout",
     "output_type": "stream",
     "text": [
      "Tweets marked unsafe by Admin:\n",
      "{'tweet_id': 'aad157a1', 'id': 2, 'tweet': 'This is a tweet for testing purposes.', 'likes': 0, 'logreg_prob': 0.021879380093575707, 'logreg_result': 0, 'cnn_result': 0, 'created_at': '2024-07-24T10:29:19.028862', 'user': 'example_user2', 'retweet_id': None, 'retweets': 0, 'cnn_prob': 0.0004499437927734107, 'admin_result': 1}\n"
     ]
    }
   ],
   "source": [
    "# Fetch tweets marked unsafe by Admin\n",
    "admin_unsafe_tweets = fetch_unsafe_tweets_by_source(\"admin\")\n",
    "print(\"Tweets marked unsafe by Admin:\")\n",
    "for tweet in admin_unsafe_tweets:\n",
    "    print(tweet)"
   ]
  },
  {
   "cell_type": "code",
   "execution_count": 84,
   "metadata": {},
   "outputs": [
    {
     "name": "stdout",
     "output_type": "stream",
     "text": [
      "Risky tweets: [{'tweet_id': '4ba3baca', 'id': 5, 'tweet': 'nd hate is all i know', 'likes': 0, 'logreg_prob': 0.16710891406820716, 'logreg_result': 0, 'cnn_result': 1, 'created_at': '2024-07-24T13:02:32.077681', 'user': 'example_user', 'retweet_id': None, 'retweets': 0, 'cnn_prob': 0.9567622542381287, 'admin_result': None}]\n"
     ]
    }
   ],
   "source": [
    "# Fetch risky tweets\n",
    "risky_tweets = fetch_risky_tweets()\n",
    "print(\"Risky tweets:\", risky_tweets)"
   ]
  },
  {
   "cell_type": "markdown",
   "metadata": {},
   "source": [
    "## admin graphs"
   ]
  },
  {
   "cell_type": "code",
   "execution_count": 5,
   "metadata": {},
   "outputs": [
    {
     "name": "stdout",
     "output_type": "stream",
     "text": [
      "Fetched tweets data:  [{'tweet_id': '3a4f649a', 'retweet_id': None, 'tweet': 'it is release date lull ibiza techno', 'user': 'user1', 'likes': 0, 'retweets': 0, 'logreg_prob': 0.05427189322658466, 'logreg_result': 0, 'cnn_prob': 0.0007873098365962505, 'cnn_result': 0, 'admin_result': 1, 'created_at': '2024-07-24T15:36:50.161006'}, {'tweet_id': '22e3f0d7', 'retweet_id': None, 'tweet': 'holland is a much more attractive trade name and the dutch would be wise to stick to it the fact that nippled cousin fuckers in the east and the south resent it is just tough shit for them', 'user': 'user1', 'likes': 0, 'retweets': 0, 'logreg_prob': 0.4640868486896785, 'logreg_result': 0, 'cnn_prob': 0.38673752546310425, 'cnn_result': 0, 'admin_result': None, 'created_at': '2024-07-24T15:36:54.320545'}, {'tweet_id': '2b9b2c65', 'retweet_id': None, 'tweet': 'thank you i appreciate the advice jaw o', 'user': 'user2', 'likes': 0, 'retweets': 0, 'logreg_prob': 0.08555863836911397, 'logreg_result': 0, 'cnn_prob': 0.06892437487840652, 'cnn_result': 0, 'admin_result': 1, 'created_at': '2024-07-24T15:36:58.464315'}, {'tweet_id': '7d10270d', 'retweet_id': None, 'tweet': 'for fucks sake who you all harassing now your whiny orange river taint smear fuck trump card impeachdonaldtrumpnow', 'user': 'user2', 'likes': 0, 'retweets': 0, 'logreg_prob': 0.9237454109293152, 'logreg_result': 1, 'cnn_prob': 0.9931716322898865, 'cnn_result': 1, 'admin_result': None, 'created_at': '2024-07-24T15:37:02.587968'}, {'tweet_id': 'db46ba29', 'retweet_id': None, 'tweet': 'edit request from null edit to purge cache and to remove the page from the view of categorywikipedia pages with incorrect protection templates', 'user': 'user3', 'likes': 0, 'retweets': 0, 'logreg_prob': 0.008078715761675744, 'logreg_result': 0, 'cnn_prob': 0.0024402739945799112, 'cnn_result': 0, 'admin_result': None, 'created_at': '2024-07-24T15:37:04.652657'}, {'tweet_id': '9e590f7e', 'retweet_id': None, 'tweet': 'sorry i am not as you can read in the article for palestine the term palestine does derive from the philistines but it what a slut given to the land by the romans only in ad after the jewish revolt in the century it what a slut brought back to life by the british and thus became recognized worldwide as palestine in any case the philistines themselves were not present yet in the land in the year because they arrived around the time of the israelites jews and they settled mostly in a relatively small strip along the coast an area which is partly the gaza strip you can read more here if you want i think that the definition i gave is very factual and clean of any political affiliation', 'user': 'user3', 'likes': 0, 'retweets': 0, 'logreg_prob': 0.20466317067702677, 'logreg_result': 0, 'cnn_prob': 0.3704398274421692, 'cnn_result': 0, 'admin_result': None, 'created_at': '2024-07-24T15:37:08.823777'}, {'tweet_id': 'dbb353d7', 'retweet_id': None, 'tweet': 'mystery in paradise suspicious deaths in dominicanrepublic resorts lead american travelers to cancel their trips new york daily news serial murderer s', 'user': 'user4', 'likes': 0, 'retweets': 0, 'logreg_prob': 0.7136663238097386, 'logreg_result': 1, 'cnn_prob': 0.8282076716423035, 'cnn_result': 1, 'admin_result': None, 'created_at': '2024-07-24T15:37:12.974696'}, {'tweet_id': '409167f8', 'retweet_id': None, 'tweet': 'how incredibly shortsighted of you accreditation is not binary in the contact of multiple jurisdictions and countries it is not simple black white', 'user': 'user4', 'likes': 0, 'retweets': 0, 'logreg_prob': 0.5558448124658149, 'logreg_result': 1, 'cnn_prob': 8.043548587011173e-05, 'cnn_result': 0, 'admin_result': None, 'created_at': '2024-07-24T15:37:15.036753'}, {'tweet_id': 'b75877f0', 'retweet_id': None, 'tweet': 'redirects from synonyms when you create a redirect from a synonym please mark it with as i have done in', 'user': 'user5', 'likes': 0, 'retweets': 0, 'logreg_prob': 0.012843582523571581, 'logreg_result': 0, 'cnn_prob': 0.005854838527739048, 'cnn_result': 0, 'admin_result': None, 'created_at': '2024-07-24T15:37:17.096877'}, {'tweet_id': 'c8b581db', 'retweet_id': None, 'tweet': 'obscurantism is presented as anti obscuratims biology and bioinspired evolutionary computing considers sexual recombination as a means to distribute the good useful solutions the knowledge among population it is a mechanism to advance the biological culture evolution when individual discovers a good feature the only where are you to spread it in the population is the recombination otherwise you are stuck at the clonal interference situation where you cannot communicate information across the companies now whatever are said that pointing this out is doubtful obscuring and vandalism and it hides this fact in order to imo obscuring is hiding the things that put everything into the order creating vagueness and chaos how do you call the situation when something is called its opposite and recover the normal order', 'user': 'user5', 'likes': 0, 'retweets': 0, 'logreg_prob': 0.2381269969707493, 'logreg_result': 0, 'cnn_prob': 0.10460828989744186, 'cnn_result': 0, 'admin_result': None, 'created_at': '2024-07-24T15:37:21.235804'}, {'tweet_id': 'e069161a', 'retweet_id': None, 'tweet': 'i think the search for an academic consensus is elusive', 'user': 'user6', 'likes': 0, 'retweets': 0, 'logreg_prob': 0.018557875451519743, 'logreg_result': 0, 'cnn_prob': 0.0013231877237558365, 'cnn_result': 0, 'admin_result': None, 'created_at': '2024-07-24T15:37:25.372954'}, {'tweet_id': 'a3030010', 'retweet_id': None, 'tweet': 'sadly this so so so true disgusting', 'user': 'user6', 'likes': 0, 'retweets': 0, 'logreg_prob': 0.5052498162775859, 'logreg_result': 1, 'cnn_prob': 0.719042181968689, 'cnn_result': 1, 'admin_result': None, 'created_at': '2024-07-24T15:37:29.481971'}, {'tweet_id': 'fc587ab8', 'retweet_id': None, 'tweet': 'a look at wpuknationals will show the way and consensus has been established above his passport is irrelevant in this context', 'user': 'user7', 'likes': 0, 'retweets': 0, 'logreg_prob': 0.016831794896990614, 'logreg_result': 0, 'cnn_prob': 0.009517746046185493, 'cnn_result': 0, 'admin_result': None, 'created_at': '2024-07-24T15:37:31.537373'}, {'tweet_id': 'a1c3b2b1', 'retweet_id': None, 'tweet': 'bitch fuck shit vagina world health organization approve', 'user': 'user7', 'likes': 0, 'retweets': 0, 'logreg_prob': 0.9727099453859578, 'logreg_result': 1, 'cnn_prob': 0.9774163961410522, 'cnn_result': 1, 'admin_result': None, 'created_at': '2024-07-24T15:37:35.647460'}, {'tweet_id': '939cb3c2', 'retweet_id': None, 'tweet': 'that is great dumb crybaby pussy', 'user': 'user8', 'likes': 0, 'retweets': 0, 'logreg_prob': 0.4290811072737359, 'logreg_result': 0, 'cnn_prob': 0.5731377005577087, 'cnn_result': 1, 'admin_result': None, 'created_at': '2024-07-24T15:37:37.723521'}, {'tweet_id': 'b20a310b', 'retweet_id': None, 'tweet': 'face with tears of joy rolling on the floor laughing face with tears of joy rolling on the floor laughing face with tears of joy thumbs upon hand that is a good one i never knew antifa were such badasses face with tears of joy face with tears of joy face with tears of joy face with tears of joy thumbs up you need your own comedy special rolling on the floor laughing face with tears of joy rolling on the floor laughing face with tears of joy', 'user': 'user8', 'likes': 0, 'retweets': 0, 'logreg_prob': 0.4646745726233468, 'logreg_result': 0, 'cnn_prob': 0.7301449775695801, 'cnn_result': 1, 'admin_result': None, 'created_at': '2024-07-24T15:37:41.877726'}, {'tweet_id': '4336dccd', 'retweet_id': None, 'tweet': 'puerto rican is not an ethnicity it is a sort of nationality as regards her ethnicity it is pre hispanic i e her genetic heritage is both african and iberian these facts might be of interest to a good number of readers', 'user': 'user1', 'likes': 0, 'retweets': 0, 'logreg_prob': 0.018500833738047288, 'logreg_result': 0, 'cnn_prob': 9.515244528301992e-06, 'cnn_result': 0, 'admin_result': None, 'created_at': '2024-07-25T04:58:31.012852'}, {'tweet_id': 'b4fb265e', 'retweet_id': None, 'tweet': 'that you are not even my admin you were only an idiot it knows', 'user': 'user1', 'likes': 0, 'retweets': 0, 'logreg_prob': 0.9641124053376564, 'logreg_result': 1, 'cnn_prob': 0.949133574962616, 'cnn_result': 1, 'admin_result': None, 'created_at': '2024-07-25T04:58:35.129532'}, {'tweet_id': 'e15a2843', 'retweet_id': None, 'tweet': 'za paradiranje i am about to nova ca a za boles nu deck nea seem vam sve', 'user': 'user2', 'likes': 0, 'retweets': 0, 'logreg_prob': 0.9682479226778098, 'logreg_result': 1, 'cnn_prob': 0.8954165577888489, 'cnn_result': 1, 'admin_result': None, 'created_at': '2024-07-25T04:58:37.217020'}, {'tweet_id': '41e999fe', 'retweet_id': None, 'tweet': 'nigas are noxious he said what a cretin', 'user': 'user2', 'likes': 0, 'retweets': 0, 'logreg_prob': 0.9076978919405044, 'logreg_result': 1, 'cnn_prob': 0.9760173559188843, 'cnn_result': 1, 'admin_result': None, 'created_at': '2024-07-25T04:58:39.244263'}, {'tweet_id': 'a291d44e', 'retweet_id': None, 'tweet': 'i hate sewing period', 'user': 'user3', 'likes': 0, 'retweets': 0, 'logreg_prob': 0.23655093327513216, 'logreg_result': 0, 'cnn_prob': 0.23399493098258972, 'cnn_result': 0, 'admin_result': None, 'created_at': '2024-07-25T04:58:41.320802'}, {'tweet_id': '606799a0', 'retweet_id': None, 'tweet': 'some of these references do not have anything to do with spacevidcast and merely mentioning it as an aside the star tribune article is linked twice', 'user': 'user3', 'likes': 0, 'retweets': 0, 'logreg_prob': 0.029315755178535814, 'logreg_result': 0, 'cnn_prob': 0.0024620748590677977, 'cnn_result': 0, 'admin_result': None, 'created_at': '2024-07-25T04:58:45.429923'}, {'tweet_id': 'c888cb2a', 'retweet_id': None, 'tweet': 'sas an infantry regiment jim sweeney has made a number of revisions claiming that the sas is an infantry regiment and that and are battalions below is an extract from queen s regulations queens regulations for the army part precedence of corps and regiments the following table gives the order of precedence of corps and regiments in the army regiments shown collectively therein take precedence amongst themselves as shown in the army list order corps or regiment the lifeguards and the blues and royals royal horse artillery a royal armored corps royal regiments of artillery royal horse artillery excepted corps of royal engineers royal corps of signals regiments of foot guards regiments of infantry b c special air service regiments army air corps royal army chaplains department the royal logistic corps royal army medical corps corps of royal electrical and mechanical engineers adjutant general s corps royal army veterinary corps small arms school corps royal army dental corps intelligence corps army physical training corps general service corps queen alexandra s royal army nursing corps corps of army music royal monmouthshire royal engineers militia the honorable artillery company territorial army d the royal gibraltar regiment', 'user': 'user4', 'likes': 0, 'retweets': 0, 'logreg_prob': 0.262681344700781, 'logreg_result': 0, 'cnn_prob': 0.030775612220168114, 'cnn_result': 0, 'admin_result': None, 'created_at': '2024-07-25T04:58:49.580645'}, {'tweet_id': '36bc09a5', 'retweet_id': None, 'tweet': 'please stop if you continue to vandalize wikipedia as you did to st john s university new york city here you will be blocked from editing this is your final level warning', 'user': 'user4', 'likes': 0, 'retweets': 0, 'logreg_prob': 0.14519886184164843, 'logreg_result': 0, 'cnn_prob': 0.044349029660224915, 'cnn_result': 0, 'admin_result': None, 'created_at': '2024-07-25T04:58:53.726610'}, {'tweet_id': 'e111755e', 'retweet_id': None, 'tweet': 'my bent son is such some lazy man but the bitch it proves appalling', 'user': 'user5', 'likes': 0, 'retweets': 0, 'logreg_prob': 0.8119211991497868, 'logreg_result': 1, 'cnn_prob': 0.6765186786651611, 'cnn_result': 1, 'admin_result': None, 'created_at': '2024-07-25T04:58:57.873091'}, {'tweet_id': 'ccf45db7', 'retweet_id': None, 'tweet': 'you married to a japanese man wait so are you suddenly attracted more to people drawn from any other human alien races chanes are you that have many sexual deviations eh how about mating with just a couple of two happy homosexual monkeys', 'user': 'user5', 'likes': 0, 'retweets': 0, 'logreg_prob': 0.9518867200943224, 'logreg_result': 1, 'cnn_prob': 0.9754734635353088, 'cnn_result': 1, 'admin_result': None, 'created_at': '2024-07-25T04:58:59.914888'}, {'tweet_id': 'd93cc574', 'retweet_id': None, 'tweet': 'the great one i do not really have a problem i just do not like you very much you see i do not make many edits and i am not one to saddle tale on vandals and do you know the reason that it s because i have this little thing called a life i log on every now and again and make a few edits and for some reason when i do i find that some loser has got something to say to me attacking my views on subjects that are of no concern to them they do not care about subjects yet they go to the page to complain about the page itself are are not and i shoot them down for that then some faggots have a problem with me telling them that and now you have done that i made my pace then thought should i listen to a poofter like so here i am again you are a faggot nerd burger you have managed to make me hate you without me even knowing u you are the biggest poofter bogan i have ever encountered on wikipedia and to be honest if i had the chance i would probably cripple u go back to your gay orgy go root your mums boyfriend you fat sack of nerd shit kind regards', 'user': 'user6', 'likes': 0, 'retweets': 0, 'logreg_prob': 0.8719713467227801, 'logreg_result': 1, 'cnn_prob': 0.9982143044471741, 'cnn_result': 1, 'admin_result': None, 'created_at': '2024-07-25T04:59:01.996548'}, {'tweet_id': 'f429e288', 'retweet_id': None, 'tweet': 'it is so seriously annoying that having to simply explain myself personally and my reasons especially for disliking refugees when everyone should necessarily already be becoming aware of these obvious explanations and should feel everything the same it is not common sense', 'user': 'user6', 'likes': 0, 'retweets': 0, 'logreg_prob': 0.91833581323807, 'logreg_result': 1, 'cnn_prob': 0.8804914951324463, 'cnn_result': 1, 'admin_result': None, 'created_at': '2024-07-25T04:59:04.064385'}, {'tweet_id': 'ccb32fce', 'retweet_id': None, 'tweet': \"materialscientist is a racist seriously fuck me man you could delete my photos on the page of al mayassa bit haman bin khalifa altai which are all posted with the correct creative commons share alike or license because you are my racist and the shaka appears uncovered in these words when i posted photos of arab males you don't challenge them whatsoever luckily i can continue to live my life on the happy company of many friends family and colleagues never stationed at a computer you are a loser who spends his entire life editing wikipedia and probably has nothing to show for nothing see the end of my life i will have had a purpose a career family things i am proud of you will just be dust and completely gone to the world having never done anything more than edited his website\", 'user': 'user7', 'likes': 0, 'retweets': 0, 'logreg_prob': 0.8238055347139696, 'logreg_result': 1, 'cnn_prob': 0.8060186505317688, 'cnn_result': 1, 'admin_result': None, 'created_at': '2024-07-25T04:59:06.147560'}, {'tweet_id': 'b516c3bd', 'retweet_id': None, 'tweet': 'all those people very bitter are hateful', 'user': 'user7', 'likes': 0, 'retweets': 0, 'logreg_prob': 0.9142210166694167, 'logreg_result': 1, 'cnn_prob': 0.7640116810798645, 'cnn_result': 1, 'admin_result': None, 'created_at': '2024-07-25T04:59:08.214430'}, {'tweet_id': 'e8c7fb91', 'retweet_id': None, 'tweet': 'fuck you why you removed my web logger from the video game article you son of a bitch i demand you to put it back there right now you are a bum to patrol wikipedia for free while the creator jim whales makes millions a year from the free work of losers like you how can a person be so retarded i do not know put my web log back or i am going to hack your pc do not forget to use the halo tag to make it bigger mugen infantry net', 'user': 'user8', 'likes': 0, 'retweets': 0, 'logreg_prob': 0.5444720137400298, 'logreg_result': 1, 'cnn_prob': 0.7594012022018433, 'cnn_result': 1, 'admin_result': None, 'created_at': '2024-07-25T04:59:10.314597'}, {'tweet_id': 'b066d67a', 'retweet_id': None, 'tweet': 'million more turks abe to travel within the eu let s get out of eu nhs schools overwhelmed already sorry no more immigrants please', 'user': 'user8', 'likes': 0, 'retweets': 0, 'logreg_prob': 0.5532715906185849, 'logreg_result': 1, 'cnn_prob': 0.9304587244987488, 'cnn_result': 1, 'admin_result': None, 'created_at': '2024-07-25T04:59:12.422922'}]\n",
      "Unsafe tweets over time (by 30-minute intervals):\n",
      " created_at\n",
      "2024-07-24 15:30:00     8\n",
      "2024-07-24 16:00:00     0\n",
      "2024-07-24 16:30:00     0\n",
      "2024-07-24 17:00:00     0\n",
      "2024-07-24 17:30:00     0\n",
      "2024-07-24 18:00:00     0\n",
      "2024-07-24 18:30:00     0\n",
      "2024-07-24 19:00:00     0\n",
      "2024-07-24 19:30:00     0\n",
      "2024-07-24 20:00:00     0\n",
      "2024-07-24 20:30:00     0\n",
      "2024-07-24 21:00:00     0\n",
      "2024-07-24 21:30:00     0\n",
      "2024-07-24 22:00:00     0\n",
      "2024-07-24 22:30:00     0\n",
      "2024-07-24 23:00:00     0\n",
      "2024-07-24 23:30:00     0\n",
      "2024-07-25 00:00:00     0\n",
      "2024-07-25 00:30:00     0\n",
      "2024-07-25 01:00:00     0\n",
      "2024-07-25 01:30:00     0\n",
      "2024-07-25 02:00:00     0\n",
      "2024-07-25 02:30:00     0\n",
      "2024-07-25 03:00:00     0\n",
      "2024-07-25 03:30:00     0\n",
      "2024-07-25 04:00:00     0\n",
      "2024-07-25 04:30:00    11\n",
      "Freq: 30min, dtype: int64\n"
     ]
    },
    {
     "data": {
      "image/png": "[encoded data removed]",
      "text/plain": [
       "<Figure size 1000x600 with 1 Axes>"
      ]
     },
     "metadata": {},
     "output_type": "display_data"
    }
   ],
   "source": [
    "import pandas as pd\n",
    "import matplotlib.pyplot as plt\n",
    "from datetime import datetime\n",
    "\n",
    "# Simulate fetching all tweets data\n",
    "tweets_data = fetch_all_tweets()\n",
    "print(\"Fetched tweets data: \", tweets_data)\n",
    "\n",
    "if tweets_data:\n",
    "    # Convert to DataFrame\n",
    "    df = pd.DataFrame(tweets_data)\n",
    "    # Convert 'created_at' to datetime\n",
    "    df['created_at'] = pd.to_datetime(df['created_at'])\n",
    "\n",
    "    # Filter unsafe tweets (those flagged by CNN or admin)\n",
    "    unsafe_tweets = df[(df['cnn_result'] == 1) | (df['admin_result'] == 1)]\n",
    "\n",
    "    if not unsafe_tweets.empty:\n",
    "        # Set 'created_at' as index for resampling\n",
    "        unsafe_tweets.set_index('created_at', inplace=True)\n",
    "        \n",
    "        unsafe_tweets_over_time = unsafe_tweets.resample('30min').size()\n",
    "        print(\"Unsafe tweets over time (by 30-minute intervals):\\n\", unsafe_tweets_over_time)\n",
    "\n",
    "        # Plot the number of unsafe tweets over time\n",
    "        fig, ax = plt.subplots(figsize=(10, 6))  # Specify figure size\n",
    "        unsafe_tweets_over_time.plot(ax=ax, color='red', marker='o')\n",
    "        ax.set_title('Number of Unsafe Tweets Over Time (By Minute)')\n",
    "        ax.set_xlabel('Time')\n",
    "        ax.set_ylabel('Number of Unsafe Tweets')\n",
    "        ax.grid(True)\n",
    "        \n",
    "        # Rotate x-axis labels for better readability\n",
    "        plt.xticks(rotation=45)\n",
    "        ax.plot(unsafe_tweets_over_time.index, unsafe_tweets_over_time.values, marker='o', linestyle='-')\n",
    "\n",
    "        # Display plot\n",
    "        plt.show()\n",
    "\n",
    "        # Display plot\n",
    "        plt.show()\n",
    "    else:\n",
    "        print(\"No unsafe tweets available for plotting.\")\n",
    "else:\n",
    "    print(\"No tweet data available.\")\n"
   ]
  },
  {
   "cell_type": "code",
   "execution_count": 8,
   "metadata": {},
   "outputs": [
    {
     "name": "stderr",
     "output_type": "stream",
     "text": [
      "c:\\Users\\bemne\\anaconda3\\envs\\al\\Lib\\site-packages\\pandas\\plotting\\_matplotlib\\core.py:1561: UserWarning: Attempting to set identical low and high xlims makes transformation singular; automatically expanding.\n",
      "  ax.set_xlim(left, right)\n"
     ]
    },
    {
     "data": {
      "text/plain": [
       "<matplotlib.legend.Legend at 0x17bc2667170>"
      ]
     },
     "execution_count": 8,
     "metadata": {},
     "output_type": "execute_result"
    },
    {
     "data": {
      "image/png": "[encoded data removed]",
      "text/plain": [
       "<Figure size 640x480 with 1 Axes>"
      ]
     },
     "metadata": {},
     "output_type": "display_data"
    }
   ],
   "source": [
    "# Function to get all safety status changes from the endpoint\n",
    "def get_safety_status_changes():\n",
    "    response = requests.get(f'{base_url}/safety_status_changes')\n",
    "    response.raise_for_status()  # Raise an error if the request failed\n",
    "    return response.json()\n",
    "\n",
    "# Fetch all safety status changes\n",
    "all_changes = get_safety_status_changes()\n",
    "\n",
    "# Convert the response to DataFrame\n",
    "df = pd.DataFrame(all_changes)\n",
    "\n",
    "# Ensure 'created_at' is in datetime format\n",
    "df['changed_at'] = pd.to_datetime(df['changed_at'])\n",
    "\n",
    "# Filter changes by source\n",
    "cnn_changes = df[df['change_source'] == 'cnn']\n",
    "admin_changes = df[df['change_source'] == 'admin']\n",
    "\n",
    "# Resample and plot\n",
    "cnn_unsafe_changes = cnn_changes.resample('30min', on='changed_at').size()\n",
    "admin_unsafe_changes = admin_changes.resample('30min', on='changed_at').size()\n",
    "\n",
    "fig, ax = plt.subplots()\n",
    "cnn_unsafe_changes.plot(ax=ax, label='CNN Unsafe Tweets', color='blue')\n",
    "admin_unsafe_changes.plot(ax=ax, label='Admin Unsafe Tweets', color='red')\n",
    "ax.set_xlabel('Date')\n",
    "ax.set_ylabel('Number of Unsafe Tweets')\n",
    "ax.legend()"
   ]
  },
  {
   "cell_type": "code",
   "execution_count": 14,
   "metadata": {},
   "outputs": [
    {
     "data": {
      "text/html": [
       "<div>\n",
       "<style scoped>\n",
       "    .dataframe tbody tr th:only-of-type {\n",
       "        vertical-align: middle;\n",
       "    }\n",
       "\n",
       "    .dataframe tbody tr th {\n",
       "        vertical-align: top;\n",
       "    }\n",
       "\n",
       "    .dataframe thead th {\n",
       "        text-align: right;\n",
       "    }\n",
       "</style>\n",
       "<table border=\"1\" class=\"dataframe\">\n",
       "  <thead>\n",
       "    <tr style=\"text-align: right;\">\n",
       "      <th></th>\n",
       "      <th>id</th>\n",
       "      <th>change_source</th>\n",
       "      <th>changed_at</th>\n",
       "      <th>new_safety_status</th>\n",
       "      <th>tweet_id</th>\n",
       "    </tr>\n",
       "  </thead>\n",
       "  <tbody>\n",
       "    <tr>\n",
       "      <th>0</th>\n",
       "      <td>1</td>\n",
       "      <td>cnn</td>\n",
       "      <td>2024-07-24 15:37:48.661784</td>\n",
       "      <td>1</td>\n",
       "      <td>939cb3c2</td>\n",
       "    </tr>\n",
       "    <tr>\n",
       "      <th>1</th>\n",
       "      <td>2</td>\n",
       "      <td>cnn</td>\n",
       "      <td>2024-07-24 15:38:12.288705</td>\n",
       "      <td>1</td>\n",
       "      <td>b20a310b</td>\n",
       "    </tr>\n",
       "  </tbody>\n",
       "</table>\n",
       "</div>"
      ],
      "text/plain": [
       "   id change_source                 changed_at  new_safety_status  tweet_id\n",
       "0   1           cnn 2024-07-24 15:37:48.661784                  1  939cb3c2\n",
       "1   2           cnn 2024-07-24 15:38:12.288705                  1  b20a310b"
      ]
     },
     "execution_count": 14,
     "metadata": {},
     "output_type": "execute_result"
    }
   ],
   "source": [
    "cnn_changes"
   ]
  },
  {
   "cell_type": "code",
   "execution_count": null,
   "metadata": {},
   "outputs": [],
   "source": []
  }
 ],
 "metadata": {
  "kernelspec": {
   "display_name": "al",
   "language": "python",
   "name": "python3"
  },
  "language_info": {
   "codemirror_mode": {
    "name": "ipython",
    "version": 3
   },
   "file_extension": ".py",
   "mimetype": "text/x-python",
   "name": "python",
   "nbconvert_exporter": "python",
   "pygments_lexer": "ipython3",
   "version": "3.12.3"
  }
 },
 "nbformat": 4,
 "nbformat_minor": 2
}

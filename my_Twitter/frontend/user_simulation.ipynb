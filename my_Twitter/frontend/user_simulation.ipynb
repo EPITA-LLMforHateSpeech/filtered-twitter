{
 "cells": [
  {
   "cell_type": "code",
   "execution_count": 1,
   "metadata": {},
   "outputs": [],
   "source": [
    "import requests\n",
    "import time\n",
    "import pandas as pd\n",
    "import datetime\n",
    "from datetime import datetime, timezone\n"
   ]
  },
  {
   "cell_type": "code",
   "execution_count": 2,
   "metadata": {},
   "outputs": [],
   "source": [
    "base_url = \"http://localhost:8000\" "
   ]
  },
  {
   "cell_type": "markdown",
   "metadata": {},
   "source": []
  },
  {
   "cell_type": "code",
   "execution_count": 3,
   "metadata": {},
   "outputs": [],
   "source": [
    "def post_tweet_for_prediction(tweet, user):\n",
    "    response = requests.post(f'{base_url}/predict', json={\"text\": tweet, \"user\": user})\n",
    "    return response.json()"
   ]
  },
  {
   "cell_type": "markdown",
   "metadata": {},
   "source": [
    "## user posting tweet"
   ]
  },
  {
   "cell_type": "code",
   "execution_count": 4,
   "metadata": {},
   "outputs": [],
   "source": [
    "def store_posted_tweet(tweet_id, retweet_id, user_id, text, likes, retweets, safety_status, created_at):\n",
    "    data = {\n",
    "        \"tweet_id\": tweet_id,\n",
    "        \"retweet_id\": retweet_id,\n",
    "        \"user_id\": user_id,\n",
    "        \"text\": text,\n",
    "        \"likes\": likes,\n",
    "        \"retweets\": retweets,\n",
    "        \"safety_status\": safety_status,\n",
    "        \"created_at\": created_at\n",
    "    }\n",
    "    response = requests.post(f'{base_url}/store_tweet', json=data)\n",
    "    return response.json()"
   ]
  },
  {
   "cell_type": "code",
   "execution_count": 74,
   "metadata": {},
   "outputs": [],
   "source": [
    "def simulate_user_submission():\n",
    "    tweets = [\n",
    "        # {\"text\": \"This is a tweet for testing purposes.\", \"user\": \"example_user2\"},\n",
    "        {\"text\": \"nd hate is all i know\", \"user\": \"example_user\"},\n",
    "        # {\"text\": \"And yet another example of a tweet.\", \"user\": \"example_user2\"}\n",
    "    ]\n",
    "\n",
    "    for tweet in tweets:\n",
    "        prediction = post_tweet_for_prediction(tweet[\"text\"], tweet[\"user\"])\n",
    "        print(\"Prediction Result:\", prediction)\n",
    "        \n",
    "        if prediction[\"logreg_result\"] != 1:\n",
    "            created_at = datetime.now(timezone.utc).isoformat()  # Convert datetime to ISO format string\n",
    "\n",
    "            store_response = store_posted_tweet(\n",
    "                tweet_id=prediction[\"tweet_id\"],\n",
    "                retweet_id=None,\n",
    "                user_id=tweet[\"user\"],\n",
    "                text=prediction[\"tweet\"],\n",
    "                likes=prediction[\"likes\"],\n",
    "                retweets=prediction[\"retweets\"],\n",
    "                safety_status=None,  # Initial safety status is None\n",
    "                created_at=created_at\n",
    "            )\n",
    "            print(\"Store Tweet Response:\", store_response)"
   ]
  },
  {
   "cell_type": "code",
   "execution_count": 75,
   "metadata": {},
   "outputs": [
    {
     "name": "stdout",
     "output_type": "stream",
     "text": [
      "Prediction Result: {'tweet_id': '4ba3baca', 'tweet': 'nd hate is all i know', 'user': 'example_user', 'likes': 0, 'retweets': 0, 'logreg_prob': 0.16710891406820716, 'logreg_result': 0, 'cnn_prob': None, 'cnn_result': None, 'created_at': '2024-07-24T13:02:32.077681'}\n",
      "Store Tweet Response: {'id': 5, 'user_id': 'example_user', 'likes': 0, 'safety_status': None, 'retweet_id': None, 'text': 'nd hate is all i know', 'tweet_id': '4ba3baca', 'retweets': 0, 'created_at': '2024-07-24T13:02:32.077681'}\n"
     ]
    }
   ],
   "source": [
    "simulate_user_submission()"
   ]
  },
  {
   "cell_type": "code",
   "execution_count": 7,
   "metadata": {},
   "outputs": [],
   "source": [
    "# time.sleep(40)  # Wait to ensure the scheduler runs at least once"
   ]
  },
  {
   "cell_type": "markdown",
   "metadata": {},
   "source": [
    "## admin viewing tweets"
   ]
  },
  {
   "cell_type": "code",
   "execution_count": 71,
   "metadata": {},
   "outputs": [],
   "source": [
    "# Function to fetch all tweets\n",
    "def fetch_all_tweets():\n",
    "    response = requests.get(f'{base_url}/fetch_tweets')\n",
    "    return response.json()"
   ]
  },
  {
   "cell_type": "code",
   "execution_count": 72,
   "metadata": {},
   "outputs": [],
   "source": [
    "# Fetch and display tweets after batch prediction\n",
    "tweets_for_admin_view = fetch_all_tweets()"
   ]
  },
  {
   "cell_type": "markdown",
   "metadata": {},
   "source": [
    "before scheduled prediction:"
   ]
  },
  {
   "cell_type": "code",
   "execution_count": 73,
   "metadata": {},
   "outputs": [
    {
     "name": "stdout",
     "output_type": "stream",
     "text": [
      "{'tweet_id': '0569ea6b', 'retweet_id': None, 'tweet': 'Tweet for testing purposes.', 'user': 'example_user', 'likes': 0, 'retweets': 0, 'logreg_prob': 0.029904770156926583, 'logreg_result': 0, 'cnn_prob': 0.030243515968322754, 'cnn_result': 0, 'admin_result': None, 'created_at': '2024-07-24T10:28:03.244336'}\n",
      "{'tweet_id': 'aad157a1', 'retweet_id': None, 'tweet': 'This is a tweet for testing purposes.', 'user': 'example_user2', 'likes': 0, 'retweets': 0, 'logreg_prob': 0.021879380093575707, 'logreg_result': 0, 'cnn_prob': 0.0004499437927734107, 'cnn_result': 0, 'admin_result': 1, 'created_at': '2024-07-24T10:29:19.028862'}\n",
      "{'tweet_id': '6aee49d1', 'retweet_id': None, 'tweet': 'T test tweet for batch prediction.', 'user': 'example_user', 'likes': 0, 'retweets': 0, 'logreg_prob': 0.49591256501026953, 'logreg_result': 0, 'cnn_prob': 0.06191118434071541, 'cnn_result': 0, 'admin_result': None, 'created_at': '2024-07-24T10:29:23.172463'}\n",
      "{'tweet_id': 'f7a4ec29', 'retweet_id': None, 'tweet': 'And yet another example of a tweet.', 'user': 'example_user2', 'likes': 0, 'retweets': 0, 'logreg_prob': 0.3697290352109969, 'logreg_result': 0, 'cnn_prob': 0.16497167944908142, 'cnn_result': 0, 'admin_result': None, 'created_at': '2024-07-24T10:29:27.291010'}\n"
     ]
    }
   ],
   "source": [
    "for i in range(len(tweets_for_admin_view)):\n",
    "    print(tweets_for_admin_view[i])"
   ]
  },
  {
   "cell_type": "markdown",
   "metadata": {},
   "source": [
    "after scheduled prediction:"
   ]
  },
  {
   "cell_type": "code",
   "execution_count": 79,
   "metadata": {},
   "outputs": [],
   "source": [
    "# Fetch and display tweets after batch prediction\n",
    "tweets_for_admin_view_after = fetch_all_tweets()"
   ]
  },
  {
   "cell_type": "code",
   "execution_count": 77,
   "metadata": {},
   "outputs": [
    {
     "name": "stdout",
     "output_type": "stream",
     "text": [
      "{'tweet_id': '0569ea6b', 'retweet_id': None, 'tweet': 'Tweet for testing purposes.', 'user': 'example_user', 'likes': 0, 'retweets': 0, 'logreg_prob': 0.029904770156926583, 'logreg_result': 0, 'cnn_prob': 0.030243515968322754, 'cnn_result': 0, 'admin_result': None, 'created_at': '2024-07-24T10:28:03.244336'}\n",
      "{'tweet_id': 'aad157a1', 'retweet_id': None, 'tweet': 'This is a tweet for testing purposes.', 'user': 'example_user2', 'likes': 0, 'retweets': 0, 'logreg_prob': 0.021879380093575707, 'logreg_result': 0, 'cnn_prob': 0.0004499437927734107, 'cnn_result': 0, 'admin_result': 1, 'created_at': '2024-07-24T10:29:19.028862'}\n",
      "{'tweet_id': '6aee49d1', 'retweet_id': None, 'tweet': 'T test tweet for batch prediction.', 'user': 'example_user', 'likes': 0, 'retweets': 0, 'logreg_prob': 0.49591256501026953, 'logreg_result': 0, 'cnn_prob': 0.06191118434071541, 'cnn_result': 0, 'admin_result': None, 'created_at': '2024-07-24T10:29:23.172463'}\n",
      "{'tweet_id': 'f7a4ec29', 'retweet_id': None, 'tweet': 'And yet another example of a tweet.', 'user': 'example_user2', 'likes': 0, 'retweets': 0, 'logreg_prob': 0.3697290352109969, 'logreg_result': 0, 'cnn_prob': 0.16497167944908142, 'cnn_result': 0, 'admin_result': None, 'created_at': '2024-07-24T10:29:27.291010'}\n",
      "{'tweet_id': '4ba3baca', 'retweet_id': None, 'tweet': 'nd hate is all i know', 'user': 'example_user', 'likes': 0, 'retweets': 0, 'logreg_prob': 0.16710891406820716, 'logreg_result': 0, 'cnn_prob': None, 'cnn_result': None, 'admin_result': None, 'created_at': '2024-07-24T13:02:32.077681'}\n"
     ]
    }
   ],
   "source": [
    "for i in range(len(tweets_for_admin_view_after)):\n",
    "    print(tweets_for_admin_view_after[i])"
   ]
  },
  {
   "cell_type": "code",
   "execution_count": 80,
   "metadata": {},
   "outputs": [
    {
     "name": "stdout",
     "output_type": "stream",
     "text": [
      "Discrepancy found for tweet_id 4ba3baca:\n",
      "  Logistic Regression Result: 0\n",
      "  CNN Result: 1\n",
      "  Tweet: nd hate is all i know\n",
      "\n"
     ]
    }
   ],
   "source": [
    "# Print tweets where logreg_result does not match cnn_result\n",
    "for tweet in tweets_for_admin_view_after:\n",
    "    if tweet['logreg_result'] != tweet['cnn_result']:\n",
    "        print(f\"Discrepancy found for tweet_id {tweet['tweet_id']}:\")\n",
    "        print(f\"  Logistic Regression Result: {tweet['logreg_result']}\")\n",
    "        print(f\"  CNN Result: {tweet['cnn_result']}\")\n",
    "        print(f\"  Tweet: {tweet['tweet']}\\n\")"
   ]
  },
  {
   "cell_type": "markdown",
   "metadata": {},
   "source": [
    "## user reporting tweets"
   ]
  },
  {
   "cell_type": "code",
   "execution_count": 36,
   "metadata": {},
   "outputs": [],
   "source": [
    "import requests\n",
    "\n",
    "# Example tweet ID to report and the safety status (e.g., 1 for hate speech)\n",
    "report_data = {\n",
    "    \"tweet_id\": \"aad157a1\",\n",
    "    'user_id': \"example_user\",\n",
    "    \"safety_status\": 1,  \n",
    "    \"reported_at\": datetime.now(timezone.utc).isoformat()\n",
    "}\n",
    "\n",
    "# Function to report a tweet\n",
    "def report_tweet(report_data):\n",
    "    url = f\"{base_url}/report_tweet\"\n",
    "    response = requests.post(url, json=report_data)\n",
    "    \n",
    "    if response.status_code == 200:\n",
    "        print(\"Report submitted successfully.\")\n",
    "    else:\n",
    "        print(f\"Failed to submit report: {response.status_code}\")\n",
    "        print(f\"Response: {response.json()}\")\n",
    "\n",
    "\n"
   ]
  },
  {
   "cell_type": "code",
   "execution_count": 37,
   "metadata": {},
   "outputs": [
    {
     "name": "stdout",
     "output_type": "stream",
     "text": [
      "Report submitted successfully.\n"
     ]
    }
   ],
   "source": [
    "# Run the simulation\n",
    "report_tweet(report_data)"
   ]
  },
  {
   "cell_type": "markdown",
   "metadata": {},
   "source": [
    "## admin view reported tweets"
   ]
  },
  {
   "cell_type": "code",
   "execution_count": 38,
   "metadata": {},
   "outputs": [],
   "source": [
    "# Function to fetch all reported tweets\n",
    "def fetch_reported_tweets():\n",
    "    url = f'{base_url}/reported_tweets'\n",
    "    response = requests.get(url)\n",
    "    return response.json()\n",
    "\n",
    "# Fetch all reported tweets\n",
    "reported_tweets = fetch_reported_tweets()"
   ]
  },
  {
   "cell_type": "code",
   "execution_count": 39,
   "metadata": {},
   "outputs": [
    {
     "name": "stdout",
     "output_type": "stream",
     "text": [
      "{'tweet_id': 'aad157a1', 'user_id': 'example_user', 'reported_at': '2024-07-24T10:30:45.026508', 'id': 1}\n"
     ]
    }
   ],
   "source": [
    "for i in range(len(reported_tweets)):\n",
    "    print(reported_tweets[i])"
   ]
  },
  {
   "cell_type": "markdown",
   "metadata": {},
   "source": [
    "## admin mark tweets unsafe"
   ]
  },
  {
   "cell_type": "code",
   "execution_count": 46,
   "metadata": {},
   "outputs": [],
   "source": [
    "# Example data to mark a tweet as unsafe\n",
    "update_data = {\n",
    "    \"tweet_id\": \"aad157a1\",\n",
    "    \"new_safety_status\": 1,  # Assume 1 indicates hate speech\n",
    "    \"change_source\": \"admin\",  # Indicates the change is made by an admin\n",
    "    \"changed_at\": datetime.now(timezone.utc).isoformat()\n",
    "}"
   ]
  },
  {
   "cell_type": "code",
   "execution_count": 47,
   "metadata": {},
   "outputs": [],
   "source": [
    "# Function to update the safety status of a tweet\n",
    "def update_safety_status(data):\n",
    "    url = f\"{base_url}/update_safety_status\"\n",
    "    response = requests.post(url, json=data)\n",
    "    \n",
    "    if response.status_code == 200:\n",
    "        print(\"Safety status updated successfully.\")\n",
    "    else:\n",
    "        print(f\"Failed to update safety status: {response.status_code}\")\n",
    "        print(f\"Response: {response.json()}\")\n"
   ]
  },
  {
   "cell_type": "code",
   "execution_count": 48,
   "metadata": {},
   "outputs": [
    {
     "name": "stdout",
     "output_type": "stream",
     "text": [
      "Safety status updated successfully.\n"
     ]
    }
   ],
   "source": [
    "# Simulate admin marking a tweet as unsafe\n",
    "update_safety_status(update_data)"
   ]
  },
  {
   "cell_type": "markdown",
   "metadata": {},
   "source": [
    "## user display posted tweets"
   ]
  },
  {
   "cell_type": "code",
   "execution_count": 49,
   "metadata": {},
   "outputs": [],
   "source": [
    "# Function to fetch all stored tweets for user view\n",
    "def fetch_user_view_tweets():\n",
    "    url = f\"{base_url}/display_tweets\"\n",
    "    response = requests.get(url)\n",
    "    \n",
    "    if response.status_code == 200:\n",
    "        return response.json()\n",
    "    else:\n",
    "        print(f\"Failed to fetch tweets: {response.status_code}\")\n",
    "        print(f\"Response: {response.json()}\")\n",
    "        return None"
   ]
  },
  {
   "cell_type": "code",
   "execution_count": 50,
   "metadata": {},
   "outputs": [],
   "source": [
    "# Fetch and display all user view tweets\n",
    "user_view_tweets = fetch_user_view_tweets()"
   ]
  },
  {
   "cell_type": "code",
   "execution_count": 51,
   "metadata": {},
   "outputs": [
    {
     "data": {
      "text/plain": [
       "[{'id': 1,\n",
       "  'user_id': 'example_user',\n",
       "  'likes': 0,\n",
       "  'safety_status': None,\n",
       "  'text': 'Tweet for testing purposes.',\n",
       "  'tweet_id': '0569ea6b',\n",
       "  'retweet_id': None,\n",
       "  'retweets': 0,\n",
       "  'created_at': '2024-07-24T10:28:03.244336'},\n",
       " {'id': 2,\n",
       "  'user_id': 'example_user2',\n",
       "  'likes': 0,\n",
       "  'safety_status': 1,\n",
       "  'text': 'This is a tweet for testing purposes.',\n",
       "  'tweet_id': 'aad157a1',\n",
       "  'retweet_id': None,\n",
       "  'retweets': 0,\n",
       "  'created_at': '2024-07-24T10:29:19.028862'},\n",
       " {'id': 3,\n",
       "  'user_id': 'example_user',\n",
       "  'likes': 0,\n",
       "  'safety_status': None,\n",
       "  'text': 'T test tweet for batch prediction.',\n",
       "  'tweet_id': '6aee49d1',\n",
       "  'retweet_id': None,\n",
       "  'retweets': 0,\n",
       "  'created_at': '2024-07-24T10:29:23.172463'},\n",
       " {'id': 4,\n",
       "  'user_id': 'example_user2',\n",
       "  'likes': 0,\n",
       "  'safety_status': None,\n",
       "  'text': 'And yet another example of a tweet.',\n",
       "  'tweet_id': 'f7a4ec29',\n",
       "  'retweet_id': None,\n",
       "  'retweets': 0,\n",
       "  'created_at': '2024-07-24T10:29:27.291010'}]"
      ]
     },
     "execution_count": 51,
     "metadata": {},
     "output_type": "execute_result"
    }
   ],
   "source": [
    "user_view_tweets"
   ]
  },
  {
   "cell_type": "code",
   "execution_count": 52,
   "metadata": {},
   "outputs": [
    {
     "name": "stdout",
     "output_type": "stream",
     "text": [
      "Tweet ID: 0569ea6b\n",
      "Retweet ID: None\n",
      "User ID: example_user\n",
      "Text: Tweet for testing purposes.\n",
      "Likes: 0\n",
      "Retweets: 0\n",
      "Safety Status: None\n",
      "Posted at: 2024-07-24T10:28:03.244336\n",
      "----------------------------------------\n",
      "Tweet ID: aad157a1\n",
      "Retweet ID: None\n",
      "User ID: example_user2\n",
      "Text: This is a tweet for testing purposes.\n",
      "Likes: 0\n",
      "Retweets: 0\n",
      "Safety Status: 1\n",
      "Posted at: 2024-07-24T10:29:19.028862\n",
      "----------------------------------------\n",
      "Tweet ID: 6aee49d1\n",
      "Retweet ID: None\n",
      "User ID: example_user\n",
      "Text: T test tweet for batch prediction.\n",
      "Likes: 0\n",
      "Retweets: 0\n",
      "Safety Status: None\n",
      "Posted at: 2024-07-24T10:29:23.172463\n",
      "----------------------------------------\n",
      "Tweet ID: f7a4ec29\n",
      "Retweet ID: None\n",
      "User ID: example_user2\n",
      "Text: And yet another example of a tweet.\n",
      "Likes: 0\n",
      "Retweets: 0\n",
      "Safety Status: None\n",
      "Posted at: 2024-07-24T10:29:27.291010\n",
      "----------------------------------------\n"
     ]
    }
   ],
   "source": [
    "if user_view_tweets:\n",
    "    for tweet in user_view_tweets:\n",
    "        print(f\"Tweet ID: {tweet['tweet_id']}\")\n",
    "        print(f\"Retweet ID: {tweet.get('retweet_id', 'N/A')}\")\n",
    "        print(f\"User ID: {tweet['user_id']}\")\n",
    "        print(f\"Text: {tweet['text']}\")\n",
    "        print(f\"Likes: {tweet['likes']}\")\n",
    "        print(f\"Retweets: {tweet['retweets']}\")\n",
    "        print(f\"Safety Status: {tweet.get('safety_status', 'N/A')}\")\n",
    "        print(f\"Posted at: {tweet.get('created_at', 'N/A')}\")\n",
    "        print(\"-\" * 40)\n",
    "else:\n",
    "    print(\"No tweets found.\")"
   ]
  },
  {
   "cell_type": "code",
   "execution_count": 53,
   "metadata": {},
   "outputs": [
    {
     "name": "stdout",
     "output_type": "stream",
     "text": [
      "{'id': 1, 'user_id': 'example_user', 'likes': 0, 'safety_status': None, 'text': 'Tweet for testing purposes.', 'tweet_id': '0569ea6b', 'retweet_id': None, 'retweets': 0, 'created_at': '2024-07-24T10:28:03.244336'}\n",
      "{'id': 2, 'user_id': 'example_user2', 'likes': 0, 'safety_status': 1, 'text': 'This is a tweet for testing purposes.', 'tweet_id': 'aad157a1', 'retweet_id': None, 'retweets': 0, 'created_at': '2024-07-24T10:29:19.028862'}\n",
      "{'id': 3, 'user_id': 'example_user', 'likes': 0, 'safety_status': None, 'text': 'T test tweet for batch prediction.', 'tweet_id': '6aee49d1', 'retweet_id': None, 'retweets': 0, 'created_at': '2024-07-24T10:29:23.172463'}\n",
      "{'id': 4, 'user_id': 'example_user2', 'likes': 0, 'safety_status': None, 'text': 'And yet another example of a tweet.', 'tweet_id': 'f7a4ec29', 'retweet_id': None, 'retweets': 0, 'created_at': '2024-07-24T10:29:27.291010'}\n"
     ]
    }
   ],
   "source": [
    "for tweet in user_view_tweets:\n",
    "    print(tweet)"
   ]
  },
  {
   "cell_type": "code",
   "execution_count": null,
   "metadata": {},
   "outputs": [],
   "source": []
  },
  {
   "cell_type": "markdown",
   "metadata": {},
   "source": [
    "## admin fetch status changes \n",
    "made by admin or cnn model"
   ]
  },
  {
   "cell_type": "code",
   "execution_count": 54,
   "metadata": {},
   "outputs": [],
   "source": [
    "# Function to fetch tweets with updated safety statuses for admin view\n",
    "def fetch_safety_status_changes():\n",
    "    url = f\"{base_url}/safety_status_changes\"\n",
    "    response = requests.get(url)\n",
    "    \n",
    "    if response.status_code == 200:\n",
    "        return response.json()\n",
    "    else:\n",
    "        print(f\"Failed to fetch safety status changes: {response.status_code}\")\n",
    "        print(f\"Response: {response.json()}\")\n",
    "        return None"
   ]
  },
  {
   "cell_type": "code",
   "execution_count": 55,
   "metadata": {},
   "outputs": [],
   "source": [
    "safety_status_changes = fetch_safety_status_changes()"
   ]
  },
  {
   "cell_type": "code",
   "execution_count": 56,
   "metadata": {},
   "outputs": [
    {
     "name": "stdout",
     "output_type": "stream",
     "text": [
      "Fetched safety status changes:\n",
      "ID: 1, Tweet ID: aad157a1, Safety Status: 1, Change source: admin, changed at: 2024-07-24T10:32:19.156896\n"
     ]
    }
   ],
   "source": [
    "\n",
    "if safety_status_changes:\n",
    "    print(\"Fetched safety status changes:\")\n",
    "    for tweet in safety_status_changes:\n",
    "        print(f\"ID: {tweet['id']}, Tweet ID: {tweet['tweet_id']}, Safety Status: {tweet['new_safety_status']}, Change source: {tweet['change_source']}, changed at: {tweet['changed_at']}\")"
   ]
  },
  {
   "cell_type": "markdown",
   "metadata": {},
   "source": [
    "## get tweet by id"
   ]
  },
  {
   "cell_type": "code",
   "execution_count": 57,
   "metadata": {},
   "outputs": [],
   "source": [
    "# Function to fetch a tweet by ID\n",
    "def fetch_tweet_by_id(tweet_id):\n",
    "    url = f\"{base_url}/fetch_tweet/{tweet_id}\"\n",
    "    try:\n",
    "        response = requests.get(url)\n",
    "        if response.status_code == 200:\n",
    "            return response.json()\n",
    "        else:\n",
    "            return None\n",
    "    except requests.exceptions.RequestException as e:\n",
    "        print(f\"An error occurred: {e}\")\n",
    "        return None"
   ]
  },
  {
   "cell_type": "code",
   "execution_count": 59,
   "metadata": {},
   "outputs": [
    {
     "data": {
      "text/plain": [
       "{'tweet_id': 'aad157a1',\n",
       " 'retweet_id': None,\n",
       " 'user_id': 'example_user2',\n",
       " 'text': 'This is a tweet for testing purposes.',\n",
       " 'likes': 0,\n",
       " 'retweets': 0,\n",
       " 'safety_status': 1,\n",
       " 'created_at': '2024-07-24T10:29:19.028862'}"
      ]
     },
     "execution_count": 59,
     "metadata": {},
     "output_type": "execute_result"
    }
   ],
   "source": [
    "tweet = fetch_tweet_by_id('aad157a1')\n",
    "tweet"
   ]
  },
  {
   "cell_type": "markdown",
   "metadata": {},
   "source": [
    "## user displaying own tweets"
   ]
  },
  {
   "cell_type": "code",
   "execution_count": 60,
   "metadata": {},
   "outputs": [],
   "source": [
    "def fetch_tweets_by_user(username):\n",
    "    response = requests.get(f\"{base_url}/fetch_tweets_by_user/{username}\")\n",
    "    if response.status_code == 200:\n",
    "        return response.json()\n",
    "    else:\n",
    "        return None"
   ]
  },
  {
   "cell_type": "code",
   "execution_count": 61,
   "metadata": {},
   "outputs": [],
   "source": [
    "tweets = fetch_tweets_by_user('example_user') ## give owner's username / user_id\n"
   ]
  },
  {
   "cell_type": "code",
   "execution_count": 62,
   "metadata": {},
   "outputs": [
    {
     "name": "stdout",
     "output_type": "stream",
     "text": [
      "Tweet ID: 0569ea6b\n",
      "Retweet ID: None\n",
      "User ID: example_user\n",
      "Text: Tweet for testing purposes.\n",
      "Likes: 0\n",
      "Retweets: 0\n",
      "Safety Status: None\n",
      "Posted at: N/A\n",
      "----------------------------------------\n",
      "Tweet ID: 6aee49d1\n",
      "Retweet ID: None\n",
      "User ID: example_user\n",
      "Text: T test tweet for batch prediction.\n",
      "Likes: 0\n",
      "Retweets: 0\n",
      "Safety Status: None\n",
      "Posted at: N/A\n",
      "----------------------------------------\n"
     ]
    }
   ],
   "source": [
    "if tweets:\n",
    "    for tweet in tweets:\n",
    "        print(f\"Tweet ID: {tweet['tweet_id']}\")\n",
    "        print(f\"Retweet ID: {tweet.get('retweet_id', 'N/A')}\")\n",
    "        print(f\"User ID: {tweet['user_id']}\")\n",
    "        print(f\"Text: {tweet['text']}\")\n",
    "        print(f\"Likes: {tweet['likes']}\")\n",
    "        print(f\"Retweets: {tweet['retweets']}\")\n",
    "        print(f\"Safety Status: {tweet.get('safety_status', 'N/A')}\")\n",
    "        print(f\"Posted at: {tweet.get('changed_at', 'N/A')}\")\n",
    "\n",
    "        print(\"-\" * 40)\n",
    "else:\n",
    "    print(\"No tweets found.\")"
   ]
  },
  {
   "cell_type": "markdown",
   "metadata": {},
   "source": [
    "## admin accessing detailed information"
   ]
  },
  {
   "cell_type": "code",
   "execution_count": 63,
   "metadata": {},
   "outputs": [],
   "source": [
    "\n",
    "def fetch_unsafe_tweets_by_source(change_source):\n",
    "    response = requests.get(f\"{base_url}/tweets/unsafe/{change_source}\")\n",
    "    if response.status_code == 200:\n",
    "        return response.json()\n",
    "    else:\n",
    "        print(f\"Failed to fetch unsafe tweets by {change_source}. Status code: {response.status_code}\")\n",
    "        return None\n"
   ]
  },
  {
   "cell_type": "code",
   "execution_count": 81,
   "metadata": {},
   "outputs": [],
   "source": [
    "\n",
    "def fetch_risky_tweets():\n",
    "    response = requests.get(f\"{base_url}/tweets/risky\")\n",
    "    if response.status_code == 200:\n",
    "        return response.json()\n",
    "    else:\n",
    "        print(f\"Failed to fetch risky tweets. Status code: {response.status_code}\")\n",
    "        return None"
   ]
  },
  {
   "cell_type": "code",
   "execution_count": 82,
   "metadata": {},
   "outputs": [
    {
     "name": "stdout",
     "output_type": "stream",
     "text": [
      "Tweets marked unsafe by CNN: [{'tweet_id': '4ba3baca', 'id': 5, 'tweet': 'nd hate is all i know', 'likes': 0, 'logreg_prob': 0.16710891406820716, 'logreg_result': 0, 'cnn_result': 1, 'created_at': '2024-07-24T13:02:32.077681', 'user': 'example_user', 'retweet_id': None, 'retweets': 0, 'cnn_prob': 0.9567622542381287, 'admin_result': None}]\n"
     ]
    }
   ],
   "source": [
    "cnn_unsafe_tweets = fetch_unsafe_tweets_by_source(\"cnn\")\n",
    "print(\"Tweets marked unsafe by CNN:\", cnn_unsafe_tweets)"
   ]
  },
  {
   "cell_type": "code",
   "execution_count": 69,
   "metadata": {},
   "outputs": [
    {
     "name": "stdout",
     "output_type": "stream",
     "text": [
      "Tweets marked unsafe by Admin:\n",
      "{'tweet_id': 'aad157a1', 'id': 2, 'tweet': 'This is a tweet for testing purposes.', 'likes': 0, 'logreg_prob': 0.021879380093575707, 'logreg_result': 0, 'cnn_result': 0, 'created_at': '2024-07-24T10:29:19.028862', 'user': 'example_user2', 'retweet_id': None, 'retweets': 0, 'cnn_prob': 0.0004499437927734107, 'admin_result': 1}\n"
     ]
    }
   ],
   "source": [
    "# Fetch tweets marked unsafe by Admin\n",
    "admin_unsafe_tweets = fetch_unsafe_tweets_by_source(\"admin\")\n",
    "print(\"Tweets marked unsafe by Admin:\")\n",
    "for tweet in admin_unsafe_tweets:\n",
    "    print(tweet)"
   ]
  },
  {
   "cell_type": "code",
   "execution_count": 84,
   "metadata": {},
   "outputs": [
    {
     "name": "stdout",
     "output_type": "stream",
     "text": [
      "Risky tweets: [{'tweet_id': '4ba3baca', 'id': 5, 'tweet': 'nd hate is all i know', 'likes': 0, 'logreg_prob': 0.16710891406820716, 'logreg_result': 0, 'cnn_result': 1, 'created_at': '2024-07-24T13:02:32.077681', 'user': 'example_user', 'retweet_id': None, 'retweets': 0, 'cnn_prob': 0.9567622542381287, 'admin_result': None}]\n"
     ]
    }
   ],
   "source": [
    "# Fetch risky tweets\n",
    "risky_tweets = fetch_risky_tweets()\n",
    "print(\"Risky tweets:\", risky_tweets)"
   ]
  },
  {
   "cell_type": "code",
   "execution_count": null,
   "metadata": {},
   "outputs": [],
   "source": []
  }
 ],
 "metadata": {
  "kernelspec": {
   "display_name": "al",
   "language": "python",
   "name": "python3"
  },
  "language_info": {
   "codemirror_mode": {
    "name": "ipython",
    "version": 3
   },
   "file_extension": ".py",
   "mimetype": "text/x-python",
   "name": "python",
   "nbconvert_exporter": "python",
   "pygments_lexer": "ipython3",
   "version": "3.12.3"
  }
 },
 "nbformat": 4,
 "nbformat_minor": 2
}

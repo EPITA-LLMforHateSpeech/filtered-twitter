{
 "cells": [
  {
   "cell_type": "code",
   "execution_count": 1,
   "metadata": {},
   "outputs": [],
   "source": [
    "import requests\n",
    "import time\n",
    "import pandas as pd"
   ]
  },
  {
   "cell_type": "code",
   "execution_count": 2,
   "metadata": {},
   "outputs": [],
   "source": [
    "base_url = \"http://localhost:8000\" "
   ]
  },
  {
   "cell_type": "code",
   "execution_count": 3,
   "metadata": {},
   "outputs": [],
   "source": [
    "def post_tweet_for_prediction(tweet, user):\n",
    "    response = requests.post(f'{base_url}/predict', json={\"text\": tweet, \"user\": user})\n",
    "    return response.json()"
   ]
  },
  {
   "cell_type": "markdown",
   "metadata": {},
   "source": [
    "## user posting tweet"
   ]
  },
  {
   "cell_type": "code",
   "execution_count": 4,
   "metadata": {},
   "outputs": [],
   "source": [
    "def store_posted_tweet(tweet_id, retweet_id, user_id, text, likes, retweets, safety_status):\n",
    "    data = {\n",
    "        \"tweet_id\": tweet_id,\n",
    "        \"retweet_id\": retweet_id,\n",
    "        \"user_id\": user_id,\n",
    "        \"text\": text,\n",
    "        \"likes\": likes,\n",
    "        \"retweets\": retweets,\n",
    "        \"safety_status\": safety_status\n",
    "    }\n",
    "    response = requests.post(f'{base_url}/store_tweet', json=data)\n",
    "    return response.json()"
   ]
  },
  {
   "cell_type": "code",
   "execution_count": 26,
   "metadata": {},
   "outputs": [],
   "source": [
    "def simulate_user_submission():\n",
    "    tweets = [\n",
    "        # {\"text\": \"Ths is a tweet for testing purposes.\", \"user\": \"example_user\"},\n",
    "        # {\"text\": \"Anther test tweet for batch prediction.\", \"user\": \"example_user\"},\n",
    "        {\"text\": \"nd yet another example of a tweet\", \"user\": \"example_user\"}\n",
    "    ]\n",
    "\n",
    "    for tweet in tweets:\n",
    "        prediction = post_tweet_for_prediction(tweet[\"text\"], tweet[\"user\"])\n",
    "        print(\"Prediction Result:\", prediction)\n",
    "        \n",
    "        if prediction[\"logreg_result\"] != 1:\n",
    "            store_response = store_posted_tweet(\n",
    "                tweet_id=prediction[\"tweet_id\"],\n",
    "                retweet_id=None,\n",
    "                user_id=tweet[\"user\"],\n",
    "                text=prediction[\"tweet\"],\n",
    "                likes=prediction[\"likes\"],\n",
    "                retweets=prediction[\"retweets\"],\n",
    "                safety_status=None  # Initial safety status is None\n",
    "            )\n",
    "            print(\"Store Tweet Response:\", store_response)"
   ]
  },
  {
   "cell_type": "code",
   "execution_count": 27,
   "metadata": {},
   "outputs": [
    {
     "name": "stdout",
     "output_type": "stream",
     "text": [
      "Prediction Result: {'tweet_id': '327f4fca', 'tweet': 'nd yet another example of a tweet', 'user': 'example_user', 'likes': 0, 'retweets': 0, 'logreg_prob': 0.340711603105755, 'logreg_result': 0, 'cnn_prob': None, 'cnn_result': None}\n",
      "Store Tweet Response: {'tweet_id': '327f4fca', 'text': 'nd yet another example of a tweet', 'retweet_id': None, 'retweets': 0, 'user_id': 'example_user', 'id': 4, 'likes': 0, 'safety_status': None}\n"
     ]
    }
   ],
   "source": [
    "simulate_user_submission()"
   ]
  },
  {
   "cell_type": "code",
   "execution_count": 117,
   "metadata": {},
   "outputs": [],
   "source": [
    "time.sleep(40)  # Wait to ensure the scheduler runs at least once"
   ]
  },
  {
   "cell_type": "markdown",
   "metadata": {},
   "source": [
    "## admin viewing tweets"
   ]
  },
  {
   "cell_type": "code",
   "execution_count": 28,
   "metadata": {},
   "outputs": [],
   "source": [
    "# Function to fetch all tweets\n",
    "def fetch_all_tweets():\n",
    "    response = requests.get(f'{base_url}/fetch_tweets')\n",
    "    return response.json()"
   ]
  },
  {
   "cell_type": "code",
   "execution_count": 29,
   "metadata": {},
   "outputs": [],
   "source": [
    "# Fetch and display tweets after batch prediction\n",
    "tweets_for_admin_view = fetch_all_tweets()"
   ]
  },
  {
   "cell_type": "markdown",
   "metadata": {},
   "source": [
    "before scheduled prediction:"
   ]
  },
  {
   "cell_type": "code",
   "execution_count": 30,
   "metadata": {},
   "outputs": [
    {
     "name": "stdout",
     "output_type": "stream",
     "text": [
      "{'tweet_id': 'fe4745d5', 'retweet_id': None, 'tweet': 'Ths is a tweet for testing purposes.', 'user': 'example_user', 'likes': 0, 'retweets': 0, 'logreg_prob': 0.0402386058008722, 'logreg_result': 0, 'cnn_prob': 0.0004499437927734107, 'cnn_result': 0, 'admin_result': None}\n",
      "{'tweet_id': '7b6036f3', 'retweet_id': None, 'tweet': 'Anther test tweet for batch prediction.', 'user': 'example_user', 'likes': 0, 'retweets': 0, 'logreg_prob': 0.49591256501026953, 'logreg_result': 0, 'cnn_prob': 0.0665159821510315, 'cnn_result': 0, 'admin_result': None}\n",
      "{'tweet_id': 'b29fcd13', 'retweet_id': None, 'tweet': 'nd yet another example of a tweet.', 'user': 'example_user', 'likes': 0, 'retweets': 0, 'logreg_prob': 0.340711603105755, 'logreg_result': 0, 'cnn_prob': 0.9057701826095581, 'cnn_result': 1, 'admin_result': 1}\n",
      "{'tweet_id': '327f4fca', 'retweet_id': None, 'tweet': 'nd yet another example of a tweet', 'user': 'example_user', 'likes': 0, 'retweets': 0, 'logreg_prob': 0.340711603105755, 'logreg_result': 0, 'cnn_prob': None, 'cnn_result': None, 'admin_result': None}\n"
     ]
    }
   ],
   "source": [
    "for i in range(len(tweets_for_admin_view)):\n",
    "    print(tweets_for_admin_view[i])"
   ]
  },
  {
   "cell_type": "markdown",
   "metadata": {},
   "source": [
    "after scheduled prediction:"
   ]
  },
  {
   "cell_type": "code",
   "execution_count": 31,
   "metadata": {},
   "outputs": [],
   "source": [
    "# Fetch and display tweets after batch prediction\n",
    "tweets_for_admin_view_after = fetch_all_tweets()"
   ]
  },
  {
   "cell_type": "code",
   "execution_count": 32,
   "metadata": {},
   "outputs": [
    {
     "name": "stdout",
     "output_type": "stream",
     "text": [
      "{'tweet_id': 'fe4745d5', 'retweet_id': None, 'tweet': 'Ths is a tweet for testing purposes.', 'user': 'example_user', 'likes': 0, 'retweets': 0, 'logreg_prob': 0.0402386058008722, 'logreg_result': 0, 'cnn_prob': 0.0004499437927734107, 'cnn_result': 0, 'admin_result': None}\n",
      "{'tweet_id': '7b6036f3', 'retweet_id': None, 'tweet': 'Anther test tweet for batch prediction.', 'user': 'example_user', 'likes': 0, 'retweets': 0, 'logreg_prob': 0.49591256501026953, 'logreg_result': 0, 'cnn_prob': 0.0665159821510315, 'cnn_result': 0, 'admin_result': None}\n",
      "{'tweet_id': 'b29fcd13', 'retweet_id': None, 'tweet': 'nd yet another example of a tweet.', 'user': 'example_user', 'likes': 0, 'retweets': 0, 'logreg_prob': 0.340711603105755, 'logreg_result': 0, 'cnn_prob': 0.9057701826095581, 'cnn_result': 1, 'admin_result': 1}\n",
      "{'tweet_id': '327f4fca', 'retweet_id': None, 'tweet': 'nd yet another example of a tweet', 'user': 'example_user', 'likes': 0, 'retweets': 0, 'logreg_prob': 0.340711603105755, 'logreg_result': 0, 'cnn_prob': 0.9057701826095581, 'cnn_result': 1, 'admin_result': None}\n"
     ]
    }
   ],
   "source": [
    "for i in range(len(tweets_for_admin_view_after)):\n",
    "    print(tweets_for_admin_view_after[i])"
   ]
  },
  {
   "cell_type": "code",
   "execution_count": 33,
   "metadata": {},
   "outputs": [
    {
     "name": "stdout",
     "output_type": "stream",
     "text": [
      "Discrepancy found for tweet_id b29fcd13:\n",
      "  Logistic Regression Result: 0\n",
      "  CNN Result: 1\n",
      "  Tweet: nd yet another example of a tweet.\n",
      "\n",
      "Discrepancy found for tweet_id 327f4fca:\n",
      "  Logistic Regression Result: 0\n",
      "  CNN Result: 1\n",
      "  Tweet: nd yet another example of a tweet\n",
      "\n"
     ]
    }
   ],
   "source": [
    "# Print tweets where logreg_result does not match cnn_result\n",
    "for tweet in tweets_for_admin_view_after:\n",
    "    if tweet['logreg_result'] != tweet['cnn_result']:\n",
    "        print(f\"Discrepancy found for tweet_id {tweet['tweet_id']}:\")\n",
    "        print(f\"  Logistic Regression Result: {tweet['logreg_result']}\")\n",
    "        print(f\"  CNN Result: {tweet['cnn_result']}\")\n",
    "        print(f\"  Tweet: {tweet['tweet']}\\n\")"
   ]
  },
  {
   "cell_type": "markdown",
   "metadata": {},
   "source": [
    "## user reporting tweets"
   ]
  },
  {
   "cell_type": "code",
   "execution_count": 34,
   "metadata": {},
   "outputs": [],
   "source": [
    "import requests\n",
    "\n",
    "# Example tweet ID to report and the safety status (e.g., 1 for hate speech)\n",
    "report_data = {\n",
    "    \"tweet_id\": \"b29fcd13\",\n",
    "    'user_id': \"example_user\",\n",
    "    \"safety_status\": 1  # Assume 1 indicates hate speech\n",
    "}\n",
    "\n",
    "# Function to report a tweet\n",
    "def report_tweet(report_data):\n",
    "    url = f\"{base_url}/report_tweet\"\n",
    "    response = requests.post(url, json=report_data)\n",
    "    \n",
    "    if response.status_code == 200:\n",
    "        print(\"Report submitted successfully.\")\n",
    "    else:\n",
    "        print(f\"Failed to submit report: {response.status_code}\")\n",
    "        print(f\"Response: {response.json()}\")\n",
    "\n",
    "\n"
   ]
  },
  {
   "cell_type": "code",
   "execution_count": 35,
   "metadata": {},
   "outputs": [
    {
     "name": "stdout",
     "output_type": "stream",
     "text": [
      "Report submitted successfully.\n"
     ]
    }
   ],
   "source": [
    "# Run the simulation\n",
    "report_tweet(report_data)"
   ]
  },
  {
   "cell_type": "markdown",
   "metadata": {},
   "source": [
    "## admin view reported tweets"
   ]
  },
  {
   "cell_type": "code",
   "execution_count": 36,
   "metadata": {},
   "outputs": [],
   "source": [
    "# Function to fetch all reported tweets\n",
    "def fetch_reported_tweets():\n",
    "    url = f'{base_url}/reported_tweets'\n",
    "    response = requests.get(url)\n",
    "    return response.json()\n",
    "\n",
    "# Fetch all reported tweets\n",
    "reported_tweets = fetch_reported_tweets()"
   ]
  },
  {
   "cell_type": "code",
   "execution_count": 37,
   "metadata": {},
   "outputs": [
    {
     "name": "stdout",
     "output_type": "stream",
     "text": [
      "{'tweet_id': 'b29fcd13', 'user_id': 'example_user', 'id': 1}\n",
      "{'tweet_id': 'b29fcd13', 'user_id': 'example_user', 'id': 2}\n"
     ]
    }
   ],
   "source": [
    "for i in range(len(reported_tweets)):\n",
    "    print(reported_tweets[i])"
   ]
  },
  {
   "cell_type": "markdown",
   "metadata": {},
   "source": [
    "## admin mark tweets unsafe"
   ]
  },
  {
   "cell_type": "code",
   "execution_count": 38,
   "metadata": {},
   "outputs": [],
   "source": [
    "# Example data to mark a tweet as unsafe\n",
    "update_data = {\n",
    "    \"tweet_id\": \"b29fcd13\",\n",
    "    \"new_safety_status\": 1,  # Assume 1 indicates hate speech\n",
    "    \"change_source\": \"admin\"  # Indicates the change is made by an admin\n",
    "}"
   ]
  },
  {
   "cell_type": "code",
   "execution_count": 39,
   "metadata": {},
   "outputs": [],
   "source": [
    "# Function to update the safety status of a tweet\n",
    "def update_safety_status(data):\n",
    "    url = f\"{base_url}/update_safety_status\"\n",
    "    response = requests.post(url, json=data)\n",
    "    \n",
    "    if response.status_code == 200:\n",
    "        print(\"Safety status updated successfully.\")\n",
    "    else:\n",
    "        print(f\"Failed to update safety status: {response.status_code}\")\n",
    "        print(f\"Response: {response.json()}\")\n"
   ]
  },
  {
   "cell_type": "code",
   "execution_count": 40,
   "metadata": {},
   "outputs": [
    {
     "name": "stdout",
     "output_type": "stream",
     "text": [
      "Safety status updated successfully.\n"
     ]
    }
   ],
   "source": [
    "# Simulate admin marking a tweet as unsafe\n",
    "update_safety_status(update_data)"
   ]
  },
  {
   "cell_type": "markdown",
   "metadata": {},
   "source": [
    "## user display posted tweets"
   ]
  },
  {
   "cell_type": "code",
   "execution_count": 56,
   "metadata": {},
   "outputs": [],
   "source": [
    "# Function to fetch all stored tweets for user view\n",
    "def fetch_user_view_tweets():\n",
    "    url = f\"{base_url}/display_tweets\"\n",
    "    response = requests.get(url)\n",
    "    \n",
    "    if response.status_code == 200:\n",
    "        return response.json()\n",
    "    else:\n",
    "        print(f\"Failed to fetch tweets: {response.status_code}\")\n",
    "        print(f\"Response: {response.json()}\")\n",
    "        return None"
   ]
  },
  {
   "cell_type": "code",
   "execution_count": 57,
   "metadata": {},
   "outputs": [],
   "source": [
    "# Fetch and display all user view tweets\n",
    "user_view_tweets = fetch_user_view_tweets()"
   ]
  },
  {
   "cell_type": "code",
   "execution_count": 58,
   "metadata": {},
   "outputs": [
    {
     "name": "stdout",
     "output_type": "stream",
     "text": [
      "Tweet ID: fe4745d5\n",
      "Retweet ID: None\n",
      "User ID: example_user\n",
      "Text: Ths is a tweet for testing purposes.\n",
      "Likes: 0\n",
      "Retweets: 0\n",
      "Safety Status: None\n",
      "----------------------------------------\n",
      "Tweet ID: 7b6036f3\n",
      "Retweet ID: None\n",
      "User ID: example_user\n",
      "Text: Anther test tweet for batch prediction.\n",
      "Likes: 0\n",
      "Retweets: 0\n",
      "Safety Status: None\n",
      "----------------------------------------\n",
      "Tweet ID: b29fcd13\n",
      "Retweet ID: None\n",
      "User ID: example_user\n",
      "Text: nd yet another example of a tweet.\n",
      "Likes: 0\n",
      "Retweets: 0\n",
      "Safety Status: 1\n",
      "----------------------------------------\n",
      "Tweet ID: 327f4fca\n",
      "Retweet ID: None\n",
      "User ID: example_user\n",
      "Text: nd yet another example of a tweet\n",
      "Likes: 0\n",
      "Retweets: 0\n",
      "Safety Status: 1\n",
      "----------------------------------------\n"
     ]
    }
   ],
   "source": [
    "if user_view_tweets:\n",
    "    for tweet in user_view_tweets:\n",
    "        print(f\"Tweet ID: {tweet['tweet_id']}\")\n",
    "        print(f\"Retweet ID: {tweet.get('retweet_id', 'N/A')}\")\n",
    "        print(f\"User ID: {tweet['user_id']}\")\n",
    "        print(f\"Text: {tweet['text']}\")\n",
    "        print(f\"Likes: {tweet['likes']}\")\n",
    "        print(f\"Retweets: {tweet['retweets']}\")\n",
    "        print(f\"Safety Status: {tweet.get('safety_status', 'N/A')}\")\n",
    "        print(\"-\" * 40)\n",
    "else:\n",
    "    print(\"No tweets found.\")"
   ]
  },
  {
   "cell_type": "code",
   "execution_count": 44,
   "metadata": {},
   "outputs": [
    {
     "name": "stdout",
     "output_type": "stream",
     "text": [
      "{'tweet_id': 'fe4745d5', 'text': 'Ths is a tweet for testing purposes.', 'retweet_id': None, 'retweets': 0, 'user_id': 'example_user', 'id': 1, 'likes': 0, 'safety_status': None}\n",
      "{'tweet_id': '7b6036f3', 'text': 'Anther test tweet for batch prediction.', 'retweet_id': None, 'retweets': 0, 'user_id': 'example_user', 'id': 2, 'likes': 0, 'safety_status': None}\n",
      "{'tweet_id': 'b29fcd13', 'text': 'nd yet another example of a tweet.', 'retweet_id': None, 'retweets': 0, 'user_id': 'example_user', 'id': 3, 'likes': 0, 'safety_status': 1}\n",
      "{'tweet_id': '327f4fca', 'text': 'nd yet another example of a tweet', 'retweet_id': None, 'retweets': 0, 'user_id': 'example_user', 'id': 4, 'likes': 0, 'safety_status': 1}\n"
     ]
    }
   ],
   "source": [
    "for tweet in user_view_tweets:\n",
    "    print(tweet)"
   ]
  },
  {
   "cell_type": "code",
   "execution_count": null,
   "metadata": {},
   "outputs": [],
   "source": []
  },
  {
   "cell_type": "markdown",
   "metadata": {},
   "source": [
    "## admin fetch status changes \n",
    "made by admin or cnn model"
   ]
  },
  {
   "cell_type": "code",
   "execution_count": 45,
   "metadata": {},
   "outputs": [],
   "source": [
    "# Function to fetch tweets with updated safety statuses for admin view\n",
    "def fetch_safety_status_changes():\n",
    "    url = f\"{base_url}/safety_status_changes\"\n",
    "    response = requests.get(url)\n",
    "    \n",
    "    if response.status_code == 200:\n",
    "        return response.json()\n",
    "    else:\n",
    "        print(f\"Failed to fetch safety status changes: {response.status_code}\")\n",
    "        print(f\"Response: {response.json()}\")\n",
    "        return None"
   ]
  },
  {
   "cell_type": "code",
   "execution_count": 46,
   "metadata": {},
   "outputs": [],
   "source": [
    "safety_status_changes = fetch_safety_status_changes()"
   ]
  },
  {
   "cell_type": "code",
   "execution_count": 47,
   "metadata": {},
   "outputs": [
    {
     "name": "stdout",
     "output_type": "stream",
     "text": [
      "Fetched safety status changes:\n",
      "ID: 1, Tweet ID: b29fcd13, Safety Status: 1, Change source: cnn\n",
      "ID: 2, Tweet ID: b29fcd13, Safety Status: 1, Change source: admin\n",
      "ID: 3, Tweet ID: 327f4fca, Safety Status: 1, Change source: cnn\n",
      "ID: 4, Tweet ID: b29fcd13, Safety Status: 1, Change source: admin\n"
     ]
    }
   ],
   "source": [
    "\n",
    "if safety_status_changes:\n",
    "    print(\"Fetched safety status changes:\")\n",
    "    for tweet in safety_status_changes:\n",
    "        print(f\"ID: {tweet['id']}, Tweet ID: {tweet['tweet_id']}, Safety Status: {tweet['new_safety_status']}, Change source: {tweet['change_source']}\")"
   ]
  },
  {
   "cell_type": "markdown",
   "metadata": {},
   "source": [
    "## get tweet by id"
   ]
  },
  {
   "cell_type": "code",
   "execution_count": 59,
   "metadata": {},
   "outputs": [],
   "source": [
    "# Function to fetch a tweet by ID\n",
    "def fetch_tweet_by_id(tweet_id):\n",
    "    url = f\"{base_url}/fetch_tweet/{tweet_id}\"\n",
    "    try:\n",
    "        response = requests.get(url)\n",
    "        if response.status_code == 200:\n",
    "            return response.json()\n",
    "        else:\n",
    "            return None\n",
    "    except requests.exceptions.RequestException as e:\n",
    "        print(f\"An error occurred: {e}\")\n",
    "        return None"
   ]
  },
  {
   "cell_type": "code",
   "execution_count": 60,
   "metadata": {},
   "outputs": [
    {
     "data": {
      "text/plain": [
       "{'tweet_id': 'b29fcd13',\n",
       " 'retweet_id': None,\n",
       " 'user_id': 'example_user',\n",
       " 'text': 'nd yet another example of a tweet.',\n",
       " 'likes': 0,\n",
       " 'retweets': 0,\n",
       " 'safety_status': 1}"
      ]
     },
     "execution_count": 60,
     "metadata": {},
     "output_type": "execute_result"
    }
   ],
   "source": [
    "tweet = fetch_tweet_by_id('b29fcd13')\n",
    "tweet"
   ]
  },
  {
   "cell_type": "code",
   "execution_count": null,
   "metadata": {},
   "outputs": [],
   "source": []
  }
 ],
 "metadata": {
  "kernelspec": {
   "display_name": "al",
   "language": "python",
   "name": "python3"
  },
  "language_info": {
   "codemirror_mode": {
    "name": "ipython",
    "version": 3
   },
   "file_extension": ".py",
   "mimetype": "text/x-python",
   "name": "python",
   "nbconvert_exporter": "python",
   "pygments_lexer": "ipython3",
   "version": "3.12.3"
  }
 },
 "nbformat": 4,
 "nbformat_minor": 2
}

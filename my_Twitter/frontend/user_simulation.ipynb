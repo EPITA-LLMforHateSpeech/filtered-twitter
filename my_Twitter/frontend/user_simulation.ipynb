{
 "cells": [
  {
   "cell_type": "code",
   "execution_count": 1,
   "metadata": {},
   "outputs": [],
   "source": [
    "import requests\n",
    "import time\n",
    "import pandas as pd"
   ]
  },
  {
   "cell_type": "code",
   "execution_count": 2,
   "metadata": {},
   "outputs": [],
   "source": [
    "base_url = \"http://localhost:8000\" "
   ]
  },
  {
   "cell_type": "code",
   "execution_count": 3,
   "metadata": {},
   "outputs": [],
   "source": [
    "def post_tweet_for_prediction(tweet, user):\n",
    "    response = requests.post(f'{base_url}/predict', json={\"text\": tweet, \"user\": user})\n",
    "    return response.json()"
   ]
  },
  {
   "cell_type": "markdown",
   "metadata": {},
   "source": [
    "## user posting tweet"
   ]
  },
  {
   "cell_type": "code",
   "execution_count": 4,
   "metadata": {},
   "outputs": [],
   "source": [
    "def store_posted_tweet(tweet_id, retweet_id, user_id, text, likes, retweets, safety_status):\n",
    "    data = {\n",
    "        \"tweet_id\": tweet_id,\n",
    "        \"retweet_id\": retweet_id,\n",
    "        \"user_id\": user_id,\n",
    "        \"text\": text,\n",
    "        \"likes\": likes,\n",
    "        \"retweets\": retweets,\n",
    "        \"safety_status\": safety_status\n",
    "    }\n",
    "    response = requests.post(f'{base_url}/store_tweet', json=data)\n",
    "    return response.json()"
   ]
  },
  {
   "cell_type": "code",
   "execution_count": 5,
   "metadata": {},
   "outputs": [],
   "source": [
    "def simulate_user_submission():\n",
    "    tweets = [\n",
    "        {\"text\": \"This is an example tweet for testing purposes.\", \"user\": \"example_user\"},\n",
    "        {\"text\": \"Another test tweet for batch prediction.\", \"user\": \"example_user\"},\n",
    "        {\"text\": \"Yet another example of a tweet.\", \"user\": \"example_user\"}\n",
    "    ]\n",
    "\n",
    "    for tweet in tweets:\n",
    "        prediction = post_tweet_for_prediction(tweet[\"text\"], tweet[\"user\"])\n",
    "        print(\"Prediction Result:\", prediction)\n",
    "        \n",
    "        if prediction[\"logreg_result\"] > 0:\n",
    "            store_response = store_posted_tweet(\n",
    "                tweet_id=prediction[\"tweet_id\"],\n",
    "                retweet_id=None,\n",
    "                user_id=tweet[\"user\"],\n",
    "                text=prediction[\"tweet\"],\n",
    "                likes=prediction[\"likes\"],\n",
    "                retweets=prediction[\"retweets\"],\n",
    "                safety_status=None  # Initial safety status is None\n",
    "            )\n",
    "            print(\"Store Tweet Response:\", store_response)"
   ]
  },
  {
   "cell_type": "code",
   "execution_count": 6,
   "metadata": {},
   "outputs": [
    {
     "name": "stdout",
     "output_type": "stream",
     "text": [
      "Prediction Result: {'tweet_id': '181512ed', 'tweet': 'This is an example tweet for testing purposes.', 'user': 'example_user', 'likes': 0, 'retweets': 0, 'logreg_prob': 0.01582927467824479, 'logreg_result': 0, 'cnn_prob': None, 'cnn_result': None}\n",
      "Prediction Result: {'tweet_id': 'c856facb', 'tweet': 'Another test tweet for batch prediction.', 'user': 'example_user', 'likes': 0, 'retweets': 0, 'logreg_prob': 0.5926823273721858, 'logreg_result': 1, 'cnn_prob': None, 'cnn_result': None}\n",
      "Store Tweet Response: {'tweet_id': 'c856facb', 'text': 'Another test tweet for batch prediction.', 'retweet_id': None, 'retweets': 0, 'id': 2, 'user_id': 'example_user', 'likes': 0, 'safety_status': None}\n",
      "Prediction Result: {'tweet_id': 'db8a5f99', 'tweet': 'Yet another example of a tweet.', 'user': 'example_user', 'likes': 0, 'retweets': 0, 'logreg_prob': 0.340711603105755, 'logreg_result': 0, 'cnn_prob': None, 'cnn_result': None}\n"
     ]
    }
   ],
   "source": [
    "simulate_user_submission()"
   ]
  },
  {
   "cell_type": "code",
   "execution_count": 7,
   "metadata": {},
   "outputs": [],
   "source": [
    "time.sleep(40)  # Wait to ensure the scheduler runs at least once"
   ]
  },
  {
   "cell_type": "markdown",
   "metadata": {},
   "source": [
    "## admin viewing tweets"
   ]
  },
  {
   "cell_type": "code",
   "execution_count": 8,
   "metadata": {},
   "outputs": [],
   "source": [
    "# Function to fetch all tweets\n",
    "def fetch_all_tweets():\n",
    "    response = requests.get(f'{base_url}/fetch_tweets')\n",
    "    return response.json()"
   ]
  },
  {
   "cell_type": "code",
   "execution_count": 11,
   "metadata": {},
   "outputs": [
    {
     "name": "stdout",
     "output_type": "stream",
     "text": [
      "{'tweet_id': '2582afe1', 'retweet_id': None, 'tweet': 'well that escalated quickly mtb motor woowooelectricsta', 'user': 'test_user7', 'likes': 0, 'retweets': 0, 'logreg_prob': 0.37973127429662035, 'logreg_result': 0, 'cnn_prob': 0.024221671745181084, 'cnn_result': 0, 'admin_result': None}\n"
     ]
    }
   ],
   "source": [
    "# Fetch and display tweets after batch prediction\n",
    "tweets_after_prediction = fetch_all_tweets()"
   ]
  },
  {
   "cell_type": "code",
   "execution_count": 12,
   "metadata": {},
   "outputs": [
    {
     "name": "stdout",
     "output_type": "stream",
     "text": [
      "{'tweet_id': '2582afe1', 'retweet_id': None, 'tweet': 'well that escalated quickly mtb motor woowooelectricsta', 'user': 'test_user7', 'likes': 0, 'retweets': 0, 'logreg_prob': 0.37973127429662035, 'logreg_result': 0, 'cnn_prob': 0.024221671745181084, 'cnn_result': 0, 'admin_result': None}\n",
      "{'tweet_id': 'ea3ec30d', 'retweet_id': None, 'tweet': 'i am trying to get one i have emailed channel asking them for a source that would be acceptable by wikipedia s standards hopefully they will reply in the next working day or two', 'user': 'user0', 'likes': 0, 'retweets': 0, 'logreg_prob': 0.060409772267669935, 'logreg_result': 0, 'cnn_prob': 0.021217793226242065, 'cnn_result': 0, 'admin_result': None}\n",
      "{'tweet_id': '6251ca46', 'retweet_id': None, 'tweet': 'congratulations congratulations floquenbeam you have won the asshole of the year award you have won this award by saying mean things about and to other people in order to claim your award you must call asshole once again congratulations on your win', 'user': 'user1', 'likes': 0, 'retweets': 0, 'logreg_prob': 0.6791508577772777, 'logreg_result': 1, 'cnn_prob': 0.9554113745689392, 'cnn_result': 1, 'admin_result': None}\n",
      "{'tweet_id': 'e82c2629', 'retweet_id': None, 'tweet': 'say i fail again and you are being reported you think that you are the hot metal shot that runs everything around here news flash you are not untouchable you are just someone who can abuse power just wait like everyone online else on wikipedia young big buck cannot afford documents to verify signing his amount does that mean it is illegitimate as no verified producers have already tweeted with that amount hence confirming it now is valid so just shut your mouth and stop reverting into that page or be reported to hell i care', 'user': 'user2', 'likes': 0, 'retweets': 0, 'logreg_prob': 0.7988666535347574, 'logreg_result': 1, 'cnn_prob': 0.9301489591598511, 'cnn_result': 1, 'admin_result': None}\n",
      "{'tweet_id': '69b063b8', 'retweet_id': None, 'tweet': 'amennn if your girlfriend does not like that bitch you do not talk to that bitch', 'user': 'user3', 'likes': 0, 'retweets': 0, 'logreg_prob': 0.08690736075482393, 'logreg_result': 0, 'cnn_prob': 0.17991749942302704, 'cnn_result': 0, 'admin_result': None}\n",
      "{'tweet_id': 'a975f406', 'retweet_id': None, 'tweet': 'if maybe just a good city why did she leave yeah because mighty big country are', 'user': 'user4', 'likes': 0, 'retweets': 0, 'logreg_prob': 0.9284949056037131, 'logreg_result': 1, 'cnn_prob': 0.9566607475280762, 'cnn_result': 1, 'admin_result': None}\n",
      "{'tweet_id': '181512ed', 'retweet_id': None, 'tweet': 'This is an example tweet for testing purposes.', 'user': 'example_user', 'likes': 0, 'retweets': 0, 'logreg_prob': 0.01582927467824479, 'logreg_result': 0, 'cnn_prob': 3.129237666144036e-05, 'cnn_result': 0, 'admin_result': None}\n",
      "{'tweet_id': 'c856facb', 'retweet_id': None, 'tweet': 'Another test tweet for batch prediction.', 'user': 'example_user', 'likes': 0, 'retweets': 0, 'logreg_prob': 0.5926823273721858, 'logreg_result': 1, 'cnn_prob': 0.11418157070875168, 'cnn_result': 0, 'admin_result': None}\n",
      "{'tweet_id': 'db8a5f99', 'retweet_id': None, 'tweet': 'Yet another example of a tweet.', 'user': 'example_user', 'likes': 0, 'retweets': 0, 'logreg_prob': 0.340711603105755, 'logreg_result': 0, 'cnn_prob': 0.16497167944908142, 'cnn_result': 0, 'admin_result': None}\n"
     ]
    }
   ],
   "source": [
    "for i in range(len(tweets_after_prediction)):\n",
    "    print(tweets_after_prediction[i])"
   ]
  },
  {
   "cell_type": "code",
   "execution_count": 14,
   "metadata": {},
   "outputs": [
    {
     "name": "stdout",
     "output_type": "stream",
     "text": [
      "Discrepancy found for tweet_id c856facb:\n",
      "  Logistic Regression Result: 1\n",
      "  CNN Result: 0\n",
      "  Tweet: Another test tweet for batch prediction.\n",
      "\n"
     ]
    }
   ],
   "source": [
    "# Print tweets where logreg_result does not match cnn_result\n",
    "for tweet in tweets_after_prediction:\n",
    "    if tweet['logreg_result'] != tweet['cnn_result']:\n",
    "        print(f\"Discrepancy found for tweet_id {tweet['tweet_id']}:\")\n",
    "        print(f\"  Logistic Regression Result: {tweet['logreg_result']}\")\n",
    "        print(f\"  CNN Result: {tweet['cnn_result']}\")\n",
    "        print(f\"  Tweet: {tweet['tweet']}\\n\")"
   ]
  },
  {
   "cell_type": "markdown",
   "metadata": {},
   "source": [
    "## user reporting tweets"
   ]
  },
  {
   "cell_type": "code",
   "execution_count": null,
   "metadata": {},
   "outputs": [],
   "source": [
    "import requests\n",
    "\n",
    "# Example tweet ID to report and the safety status (e.g., 1 for hate speech)\n",
    "report_data = {\n",
    "    \"tweet_id\": \"a975f406\",\n",
    "    \"safety_status\": 1  # Assume 1 indicates hate speech\n",
    "}\n",
    "\n",
    "# Function to report a tweet\n",
    "def report_tweet(report_data):\n",
    "    url = f\"{base_url}/report_tweet\"\n",
    "    response = requests.post(url, json=report_data)\n",
    "    \n",
    "    if response.status_code == 200:\n",
    "        print(\"Report submitted successfully.\")\n",
    "    else:\n",
    "        print(f\"Failed to submit report: {response.status_code}\")\n",
    "        print(f\"Response: {response.json()}\")\n",
    "\n",
    "# Run the simulation\n",
    "report_tweet(report_data)\n"
   ]
  }
 ],
 "metadata": {
  "kernelspec": {
   "display_name": "al",
   "language": "python",
   "name": "python3"
  },
  "language_info": {
   "codemirror_mode": {
    "name": "ipython",
    "version": 3
   },
   "file_extension": ".py",
   "mimetype": "text/x-python",
   "name": "python",
   "nbconvert_exporter": "python",
   "pygments_lexer": "ipython3",
   "version": "3.12.3"
  }
 },
 "nbformat": 4,
 "nbformat_minor": 2
}

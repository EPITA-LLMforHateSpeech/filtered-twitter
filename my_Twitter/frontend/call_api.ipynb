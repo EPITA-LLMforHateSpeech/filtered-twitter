{
 "cells": [
  {
   "cell_type": "code",
   "execution_count": 1,
   "metadata": {},
   "outputs": [],
   "source": [
    "# Import necessary libraries\n",
    "import requests\n",
    "import pandas as pd\n",
    "import hashlib\n",
    "\n",
    "# Define FastAPI endpoints\n",
    "base_url = 'http://localhost:8000' \n"
   ]
  },
  {
   "cell_type": "code",
   "execution_count": 2,
   "metadata": {},
   "outputs": [],
   "source": [
    "# Load the test data\n",
    "test_data_path = '../data/test.csv'\n",
    "test_data = pd.read_csv(test_data_path)"
   ]
  },
  {
   "cell_type": "code",
   "execution_count": 3,
   "metadata": {},
   "outputs": [],
   "source": [
    "def hash_tweet(text):\n",
    "    # Create a SHA-256 hash of the tweet text and return the first 32 characters\n",
    "    hash_object = hashlib.sha256(text.encode())\n",
    "    return hash_object.hexdigest()[:8]\n"
   ]
  },
  {
   "cell_type": "code",
   "execution_count": 4,
   "metadata": {},
   "outputs": [],
   "source": [
    "# Prepare data for single prediction\n",
    "def prepare_single_prediction_data(row):\n",
    "    return {'text': row['tweets']}\n",
    "\n",
    "# Prepare data for batch prediction\n",
    "def prepare_batch_prediction_data(df):\n",
    "    # Hash each tweet to create its ID\n",
    "    tweet_ids = [hash_tweet(tweet) for tweet in df['tweets']]\n",
    "    \n",
    "    # Convert DataFrame columns to lists\n",
    "    texts = df['tweets'].tolist()\n",
    "\n",
    "    # Prepare data for the request\n",
    "    return {\n",
    "        \"tweet_ids\": tweet_ids,\n",
    "        \"texts\": texts\n",
    "    }\n",
    "\n"
   ]
  },
  {
   "cell_type": "code",
   "execution_count": 9,
   "metadata": {},
   "outputs": [],
   "source": [
    "# Make a single prediction request\n",
    "def predict_single(text, user):\n",
    "    tweet_id = hash_tweet(text)\n",
    "    \n",
    "    # Prepare the request data\n",
    "    data = {\n",
    "        'tweet_id': tweet_id,\n",
    "        'text': text,\n",
    "        'user': user\n",
    "    }\n",
    "    # Send the POST request to the /predict endpoint\n",
    "    response = requests.post(f'{base_url}/predict', json=data)\n",
    "    # Return the response as JSON\n",
    "    return response.json()\n"
   ]
  },
  {
   "cell_type": "code",
   "execution_count": 19,
   "metadata": {},
   "outputs": [],
   "source": [
    "# Make a batch prediction request\n",
    "def predict_batch(df):\n",
    "    # Prepare the batch prediction data\n",
    "    batch_data = prepare_batch_prediction_data(df)\n",
    "    # Make the POST request\n",
    "    response = requests.post(f'{base_url}/predict', json=batch_data)\n",
    "    \n",
    "    # Return the response JSON\n",
    "    \n",
    "    return response.json()"
   ]
  },
  {
   "cell_type": "code",
   "execution_count": 22,
   "metadata": {},
   "outputs": [
    {
     "name": "stdout",
     "output_type": "stream",
     "text": [
      "Single Prediction: {'tweet_id': '2582afe1', 'tweet': 'well that escalated quickly mtb motor woowooelectricsta', 'user': 'test_user7', 'likes': 0, 'retweets': 0, 'logreg_prob': 0.37973127429662035, 'logreg_result': 0, 'cnn_prob': None, 'cnn_result': None}\n"
     ]
    }
   ],
   "source": [
    "# Example: Predict a single tweet\n",
    "single_prediction = predict_single(test_data['tweets'].iloc[6], 'test_user7')\n",
    "\n",
    "print(\"Single Prediction:\", single_prediction)"
   ]
  },
  {
   "cell_type": "code",
   "execution_count": 23,
   "metadata": {},
   "outputs": [
    {
     "name": "stdout",
     "output_type": "stream",
     "text": [
      "Tweet: i am trying to \n",
      "Single Prediction for tweet 0:\n",
      " {'tweet_id': 'ea3ec30d', 'tweet': 'i am trying to get one i have emailed channel asking them for a source that would be acceptable by wikipedia s standards hopefully they will reply in the next working day or two', 'user': 'user0', 'likes': 0, 'retweets': 0, 'logreg_prob': 0.060409772267669935, 'logreg_result': 0, 'cnn_prob': None, 'cnn_result': None}\n",
      "Tweet: congratulations\n",
      "Single Prediction for tweet 1:\n",
      " {'tweet_id': '6251ca46', 'tweet': 'congratulations congratulations floquenbeam you have won the asshole of the year award you have won this award by saying mean things about and to other people in order to claim your award you must call asshole once again congratulations on your win', 'user': 'user1', 'likes': 0, 'retweets': 0, 'logreg_prob': 0.6791508577772777, 'logreg_result': 1, 'cnn_prob': None, 'cnn_result': None}\n",
      "Tweet: say i fail agai\n",
      "Single Prediction for tweet 2:\n",
      " {'tweet_id': 'e82c2629', 'tweet': 'say i fail again and you are being reported you think that you are the hot metal shot that runs everything around here news flash you are not untouchable you are just someone who can abuse power just wait like everyone online else on wikipedia young big buck cannot afford documents to verify signing his amount does that mean it is illegitimate as no verified producers have already tweeted with that amount hence confirming it now is valid so just shut your mouth and stop reverting into that page or be reported to hell i care', 'user': 'user2', 'likes': 0, 'retweets': 0, 'logreg_prob': 0.7988666535347574, 'logreg_result': 1, 'cnn_prob': None, 'cnn_result': None}\n",
      "Tweet: amennn if your \n",
      "Single Prediction for tweet 3:\n",
      " {'tweet_id': '69b063b8', 'tweet': 'amennn if your girlfriend does not like that bitch you do not talk to that bitch', 'user': 'user3', 'likes': 0, 'retweets': 0, 'logreg_prob': 0.08690736075482393, 'logreg_result': 0, 'cnn_prob': None, 'cnn_result': None}\n",
      "Tweet: if maybe just a\n",
      "Single Prediction for tweet 4:\n",
      " {'tweet_id': 'a975f406', 'tweet': 'if maybe just a good city why did she leave yeah because mighty big country are', 'user': 'user4', 'likes': 0, 'retweets': 0, 'logreg_prob': 0.9284949056037131, 'logreg_result': 1, 'cnn_prob': None, 'cnn_result': None}\n"
     ]
    }
   ],
   "source": [
    "for i in range(5):\n",
    "    single_prediction = predict_single(test_data['tweets'].iloc[i], f\"user{i}\")\n",
    "    print(f\"Tweet: {test_data['tweets'][i][:15]}\\nSingle Prediction for tweet {i}:\\n\", single_prediction)"
   ]
  },
  {
   "cell_type": "code",
   "execution_count": 24,
   "metadata": {},
   "outputs": [
    {
     "name": "stdout",
     "output_type": "stream",
     "text": [
      "Batch Prediction Results:\n"
     ]
    },
    {
     "data": {
      "text/plain": [
       "{'results': [{'tweet_id': 'ea3ec30d',\n",
       "   'tweet': 'i am trying to get one i have emailed channel asking them for a source that would be acceptable by wikipedia s standards hopefully they will reply in the next working day or two',\n",
       "   'user': 'user0',\n",
       "   'likes': 0,\n",
       "   'retweets': 0,\n",
       "   'logreg_prob': 0.060409772267669935,\n",
       "   'logreg_result': 0,\n",
       "   'cnn_prob': 0.021217793226242065,\n",
       "   'cnn_result': 0},\n",
       "  {'tweet_id': '6251ca46',\n",
       "   'tweet': 'congratulations congratulations floquenbeam you have won the asshole of the year award you have won this award by saying mean things about and to other people in order to claim your award you must call asshole once again congratulations on your win',\n",
       "   'user': 'user1',\n",
       "   'likes': 0,\n",
       "   'retweets': 0,\n",
       "   'logreg_prob': 0.6791508577772777,\n",
       "   'logreg_result': 1,\n",
       "   'cnn_prob': 0.9554113745689392,\n",
       "   'cnn_result': 1},\n",
       "  {'tweet_id': 'e82c2629',\n",
       "   'tweet': 'say i fail again and you are being reported you think that you are the hot metal shot that runs everything around here news flash you are not untouchable you are just someone who can abuse power just wait like everyone online else on wikipedia young big buck cannot afford documents to verify signing his amount does that mean it is illegitimate as no verified producers have already tweeted with that amount hence confirming it now is valid so just shut your mouth and stop reverting into that page or be reported to hell i care',\n",
       "   'user': 'user2',\n",
       "   'likes': 0,\n",
       "   'retweets': 0,\n",
       "   'logreg_prob': 0.7988666535347574,\n",
       "   'logreg_result': 1,\n",
       "   'cnn_prob': 0.9301489591598511,\n",
       "   'cnn_result': 1},\n",
       "  {'tweet_id': '69b063b8',\n",
       "   'tweet': 'amennn if your girlfriend does not like that bitch you do not talk to that bitch',\n",
       "   'user': 'user3',\n",
       "   'likes': 0,\n",
       "   'retweets': 0,\n",
       "   'logreg_prob': 0.08690736075482393,\n",
       "   'logreg_result': 0,\n",
       "   'cnn_prob': 0.17991749942302704,\n",
       "   'cnn_result': 0}]}"
      ]
     },
     "execution_count": 24,
     "metadata": {},
     "output_type": "execute_result"
    }
   ],
   "source": [
    "# Example: Predict in batch\n",
    "batch_prediction = predict_batch(test_data[:4])\n",
    "print(\"Batch Prediction Results:\")\n",
    "batch_prediction"
   ]
  },
  {
   "cell_type": "code",
   "execution_count": null,
   "metadata": {},
   "outputs": [],
   "source": []
  }
 ],
 "metadata": {
  "kernelspec": {
   "display_name": "al",
   "language": "python",
   "name": "python3"
  },
  "language_info": {
   "codemirror_mode": {
    "name": "ipython",
    "version": 3
   },
   "file_extension": ".py",
   "mimetype": "text/x-python",
   "name": "python",
   "nbconvert_exporter": "python",
   "pygments_lexer": "ipython3",
   "version": "3.12.3"
  }
 },
 "nbformat": 4,
 "nbformat_minor": 2
}
